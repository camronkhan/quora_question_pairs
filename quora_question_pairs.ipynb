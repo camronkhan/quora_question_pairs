{
 "cells": [
  {
   "cell_type": "markdown",
   "metadata": {},
   "source": [
    "# Quora Quesiton Pairs"
   ]
  },
  {
   "cell_type": "markdown",
   "metadata": {},
   "source": [
    "[Competition Homepage](https://www.kaggle.com/c/quora-question-pairs)\n",
    "\n",
    "Currently, Quora uses a Random Forest model to identify duplicate questions. In this competition, Kagglers are challenged to tackle this natural language processing problem by applying advanced techniques to classify whether question pairs are duplicates or not. Doing so will make it easier to find high quality answers to questions resulting in an improved experience for Quora writers, seekers, and readers.\n",
    "\n",
    "For each ID in the test set, Kagglers must predict the probability that the questions are duplicates (a number between 0 and 1).  Submissions are evaluated on the log loss between the predicted values and the ground truth."
   ]
  },
  {
   "cell_type": "markdown",
   "metadata": {},
   "source": [
    "## IMPORTS"
   ]
  },
  {
   "cell_type": "code",
   "execution_count": 3,
   "metadata": {
    "collapsed": false
   },
   "outputs": [
    {
     "name": "stdout",
     "output_type": "stream",
     "text": [
      "Once deleted, variables cannot be recovered. Proceed (y/[n])? y\n"
     ]
    }
   ],
   "source": [
    "%reset"
   ]
  },
  {
   "cell_type": "code",
   "execution_count": 4,
   "metadata": {
    "collapsed": false
   },
   "outputs": [
    {
     "name": "stderr",
     "output_type": "stream",
     "text": [
      "C:\\Users\\CKhan\\AppData\\Local\\Continuum\\Anaconda3\\lib\\site-packages\\gensim\\utils.py:855: UserWarning: detected Windows; aliasing chunkize to chunkize_serial\n",
      "  warnings.warn(\"detected Windows; aliasing chunkize to chunkize_serial\")\n"
     ]
    }
   ],
   "source": [
    "import numpy as np\n",
    "import pandas as pd\n",
    "import multiprocessing as mp\n",
    "import datetime as dt\n",
    "import math\n",
    "import os\n",
    "import gc\n",
    "import pickle\n",
    "\n",
    "from sklearn.feature_extraction.text import TfidfVectorizer\n",
    "from sklearn.metrics import log_loss\n",
    "from sklearn.metrics import roc_auc_score\n",
    "from sklearn.model_selection import train_test_split\n",
    "\n",
    "import matplotlib.pyplot as plt\n",
    "%matplotlib inline\n",
    "\n",
    "from nltk.tokenize import RegexpTokenizer\n",
    "from nltk.stem import SnowballStemmer\n",
    "from nltk.stem import WordNetLemmatizer\n",
    "from nltk.corpus import stopwords\n",
    "\n",
    "from imblearn.over_sampling import SMOTE\n",
    "\n",
    "import xgboost as xgb\n",
    "\n",
    "import gensim.models.doc2vec as d2v"
   ]
  },
  {
   "cell_type": "code",
   "execution_count": 5,
   "metadata": {
    "collapsed": false
   },
   "outputs": [
    {
     "data": {
      "text/plain": [
       "171"
      ]
     },
     "execution_count": 5,
     "metadata": {},
     "output_type": "execute_result"
    }
   ],
   "source": [
    "gc.collect()"
   ]
  },
  {
   "cell_type": "markdown",
   "metadata": {},
   "source": [
    "## EDA"
   ]
  },
  {
   "cell_type": "markdown",
   "metadata": {},
   "source": [
    "### Raw Data Analysis"
   ]
  },
  {
   "cell_type": "code",
   "execution_count": 35,
   "metadata": {
    "collapsed": false
   },
   "outputs": [
    {
     "name": "stdout",
     "output_type": "stream",
     "text": [
      ".ipynb_checkpoints            0.0 MB\n",
      "test.csv                      314.02 MB\n",
      "train.csv                     63.4 MB\n"
     ]
    }
   ],
   "source": [
    "for f in os.listdir('./data.gi'):\n",
    "    if 'zip' not in f:\n",
    "        print(f.ljust(30) + str(round(os.path.getsize('./data.gi/' + f) / 1000000, 2)) + ' MB')"
   ]
  },
  {
   "cell_type": "markdown",
   "metadata": {},
   "source": [
    "The competition provides 3 .csv files - training set, testing set, and sample submission.  It is interesting to note that the testing set is approximately 5x the size of the training set.  The [Data](https://www.kaggle.com/c/quora-question-pairs/data) section of the competition homepage states the following: \n",
    "\n",
    "*\"As an anti-cheating measure, Kaggle has supplemented the test set with computer-generated question pairs. Those rows do not come from Quora, and are not counted in the scoring. All of the questions in the training set are genuine examples from Quora.\"*\n",
    "\n",
    "The sample submission file can be ignored as it is just an example for Kagglers to follow when preparing their .csv files for submission."
   ]
  },
  {
   "cell_type": "markdown",
   "metadata": {},
   "source": [
    "### Training Set Analysis"
   ]
  },
  {
   "cell_type": "markdown",
   "metadata": {},
   "source": [
    "**Train Columns:**\n",
    "- **id:** (int) question pair identifier\n",
    "- **qid1:** (int) single question identifer (first in pair)\n",
    "- **qid2:** (int) single question identfier (second in pair)\n",
    "- **question1:** (string) first question text\n",
    "- **question2:** (string) second question text\n",
    "- **is_duplicate:** (int) binary duplicate indicator - this is our label for supervised training"
   ]
  },
  {
   "cell_type": "code",
   "execution_count": 14,
   "metadata": {
    "collapsed": false
   },
   "outputs": [
    {
     "data": {
      "text/html": [
       "<div>\n",
       "<table border=\"1\" class=\"dataframe\">\n",
       "  <thead>\n",
       "    <tr style=\"text-align: right;\">\n",
       "      <th></th>\n",
       "      <th>id</th>\n",
       "      <th>qid1</th>\n",
       "      <th>qid2</th>\n",
       "      <th>question1</th>\n",
       "      <th>question2</th>\n",
       "      <th>is_duplicate</th>\n",
       "    </tr>\n",
       "  </thead>\n",
       "  <tbody>\n",
       "    <tr>\n",
       "      <th>0</th>\n",
       "      <td>0</td>\n",
       "      <td>1</td>\n",
       "      <td>2</td>\n",
       "      <td>What is the step by step guide to invest in sh...</td>\n",
       "      <td>What is the step by step guide to invest in sh...</td>\n",
       "      <td>0</td>\n",
       "    </tr>\n",
       "    <tr>\n",
       "      <th>1</th>\n",
       "      <td>1</td>\n",
       "      <td>3</td>\n",
       "      <td>4</td>\n",
       "      <td>What is the story of Kohinoor (Koh-i-Noor) Dia...</td>\n",
       "      <td>What would happen if the Indian government sto...</td>\n",
       "      <td>0</td>\n",
       "    </tr>\n",
       "    <tr>\n",
       "      <th>2</th>\n",
       "      <td>2</td>\n",
       "      <td>5</td>\n",
       "      <td>6</td>\n",
       "      <td>How can I increase the speed of my internet co...</td>\n",
       "      <td>How can Internet speed be increased by hacking...</td>\n",
       "      <td>0</td>\n",
       "    </tr>\n",
       "    <tr>\n",
       "      <th>3</th>\n",
       "      <td>3</td>\n",
       "      <td>7</td>\n",
       "      <td>8</td>\n",
       "      <td>Why am I mentally very lonely? How can I solve...</td>\n",
       "      <td>Find the remainder when [math]23^{24}[/math] i...</td>\n",
       "      <td>0</td>\n",
       "    </tr>\n",
       "    <tr>\n",
       "      <th>4</th>\n",
       "      <td>4</td>\n",
       "      <td>9</td>\n",
       "      <td>10</td>\n",
       "      <td>Which one dissolve in water quikly sugar, salt...</td>\n",
       "      <td>Which fish would survive in salt water?</td>\n",
       "      <td>0</td>\n",
       "    </tr>\n",
       "  </tbody>\n",
       "</table>\n",
       "</div>"
      ],
      "text/plain": [
       "   id  qid1  qid2                                          question1  \\\n",
       "0   0     1     2  What is the step by step guide to invest in sh...   \n",
       "1   1     3     4  What is the story of Kohinoor (Koh-i-Noor) Dia...   \n",
       "2   2     5     6  How can I increase the speed of my internet co...   \n",
       "3   3     7     8  Why am I mentally very lonely? How can I solve...   \n",
       "4   4     9    10  Which one dissolve in water quikly sugar, salt...   \n",
       "\n",
       "                                           question2  is_duplicate  \n",
       "0  What is the step by step guide to invest in sh...             0  \n",
       "1  What would happen if the Indian government sto...             0  \n",
       "2  How can Internet speed be increased by hacking...             0  \n",
       "3  Find the remainder when [math]23^{24}[/math] i...             0  \n",
       "4            Which fish would survive in salt water?             0  "
      ]
     },
     "execution_count": 14,
     "metadata": {},
     "output_type": "execute_result"
    }
   ],
   "source": [
    "TRAIN = pd.read_csv('./data.gi/train.csv')\n",
    "TRAIN.head()"
   ]
  },
  {
   "cell_type": "code",
   "execution_count": 37,
   "metadata": {
    "collapsed": false
   },
   "outputs": [
    {
     "data": {
      "text/html": [
       "<div>\n",
       "<table border=\"1\" class=\"dataframe\">\n",
       "  <thead>\n",
       "    <tr style=\"text-align: right;\">\n",
       "      <th></th>\n",
       "      <th>id</th>\n",
       "      <th>qid1</th>\n",
       "      <th>qid2</th>\n",
       "      <th>question1</th>\n",
       "      <th>question2</th>\n",
       "      <th>is_duplicate</th>\n",
       "    </tr>\n",
       "  </thead>\n",
       "  <tbody>\n",
       "    <tr>\n",
       "      <th>404285</th>\n",
       "      <td>404285</td>\n",
       "      <td>433578</td>\n",
       "      <td>379845</td>\n",
       "      <td>How many keywords are there in the Racket prog...</td>\n",
       "      <td>How many keywords are there in PERL Programmin...</td>\n",
       "      <td>0</td>\n",
       "    </tr>\n",
       "    <tr>\n",
       "      <th>404286</th>\n",
       "      <td>404286</td>\n",
       "      <td>18840</td>\n",
       "      <td>155606</td>\n",
       "      <td>Do you believe there is life after death?</td>\n",
       "      <td>Is it true that there is life after death?</td>\n",
       "      <td>1</td>\n",
       "    </tr>\n",
       "    <tr>\n",
       "      <th>404287</th>\n",
       "      <td>404287</td>\n",
       "      <td>537928</td>\n",
       "      <td>537929</td>\n",
       "      <td>What is one coin?</td>\n",
       "      <td>What's this coin?</td>\n",
       "      <td>0</td>\n",
       "    </tr>\n",
       "    <tr>\n",
       "      <th>404288</th>\n",
       "      <td>404288</td>\n",
       "      <td>537930</td>\n",
       "      <td>537931</td>\n",
       "      <td>What is the approx annual cost of living while...</td>\n",
       "      <td>I am having little hairfall problem but I want...</td>\n",
       "      <td>0</td>\n",
       "    </tr>\n",
       "    <tr>\n",
       "      <th>404289</th>\n",
       "      <td>404289</td>\n",
       "      <td>537932</td>\n",
       "      <td>537933</td>\n",
       "      <td>What is like to have sex with cousin?</td>\n",
       "      <td>What is it like to have sex with your cousin?</td>\n",
       "      <td>0</td>\n",
       "    </tr>\n",
       "  </tbody>\n",
       "</table>\n",
       "</div>"
      ],
      "text/plain": [
       "            id    qid1    qid2  \\\n",
       "404285  404285  433578  379845   \n",
       "404286  404286   18840  155606   \n",
       "404287  404287  537928  537929   \n",
       "404288  404288  537930  537931   \n",
       "404289  404289  537932  537933   \n",
       "\n",
       "                                                question1  \\\n",
       "404285  How many keywords are there in the Racket prog...   \n",
       "404286          Do you believe there is life after death?   \n",
       "404287                                  What is one coin?   \n",
       "404288  What is the approx annual cost of living while...   \n",
       "404289              What is like to have sex with cousin?   \n",
       "\n",
       "                                                question2  is_duplicate  \n",
       "404285  How many keywords are there in PERL Programmin...             0  \n",
       "404286         Is it true that there is life after death?             1  \n",
       "404287                                  What's this coin?             0  \n",
       "404288  I am having little hairfall problem but I want...             0  \n",
       "404289      What is it like to have sex with your cousin?             0  "
      ]
     },
     "execution_count": 37,
     "metadata": {},
     "output_type": "execute_result"
    }
   ],
   "source": [
    "TRAIN.tail()"
   ]
  },
  {
   "cell_type": "markdown",
   "metadata": {},
   "source": [
    "The last value in the *id* column matches the last row index value, indicating there are no jumps in ID.  The individual question IDs, however, do not appear to increase consistently.  Otherwise, we would expect *qid2* in row 404289 to be 808578.  Therefore, we will need to determine if the same questions are being used across pairs."
   ]
  },
  {
   "cell_type": "markdown",
   "metadata": {},
   "source": [
    "#### Duplicate Questions Across Pairs"
   ]
  },
  {
   "cell_type": "code",
   "execution_count": 38,
   "metadata": {
    "collapsed": false
   },
   "outputs": [
    {
     "name": "stdout",
     "output_type": "stream",
     "text": [
      "Number of total questions:    537933\n",
      "Number of unique questions:   426153\n",
      "Number of repeated questions: 111780\n",
      "\n",
      "Percent unique: 0.79%\n"
     ]
    },
    {
     "data": {
      "image/png": "[encoded data removed]",
      "text/plain": [
       "<matplotlib.figure.Figure at 0x13936a90>"
      ]
     },
     "metadata": {},
     "output_type": "display_data"
    }
   ],
   "source": [
    "qid = TRAIN.qid1.tolist() + TRAIN.qid2.tolist()\n",
    "qid_dict = dict.fromkeys(qid, 0)\n",
    "\n",
    "for x in qid:\n",
    "    qid_dict[x] += 1\n",
    "\n",
    "unique = 0\n",
    "for x in qid_dict:\n",
    "    if qid_dict[x] == 1:\n",
    "        unique += 1\n",
    "\n",
    "total = len(qid_dict)\n",
    "non_unique = total - unique\n",
    "\n",
    "print('Number of total questions: '.ljust(30) + str(total))\n",
    "print('Number of unique questions: '.ljust(30) + str(unique))\n",
    "print('Number of repeated questions: '.ljust(30) + str(non_unique))\n",
    "print('\\nPercent unique: ' + '{0:.2f}%'.format(unique / total))\n",
    "\n",
    "plt.figure(figsize=(12, 6))\n",
    "plt.hist(pd.Series(qid).value_counts(), bins=40, log=True, color='lightcoral', label='train')\n",
    "plt.xlabel('Number of Uses')\n",
    "plt.ylabel('Number of Questions')\n",
    "plt.title('Log of Number of Question Uses')\n",
    "plt.show()\n",
    "\n",
    "del qid, qid_dict, unique, total, non_unique"
   ]
  },
  {
   "cell_type": "markdown",
   "metadata": {},
   "source": [
    "About 80% of questions are used only once, however, there are a number of quetions that are used many times.  There are also a few cases of outliers that are used 100+ times."
   ]
  },
  {
   "cell_type": "markdown",
   "metadata": {},
   "source": [
    "#### Class Imbalance of Pairs Labeled as Duplicate"
   ]
  },
  {
   "cell_type": "code",
   "execution_count": 39,
   "metadata": {
    "collapsed": false
   },
   "outputs": [
    {
     "name": "stdout",
     "output_type": "stream",
     "text": [
      "Number of question pairs:     404290\n",
      "Number of duplicates:         149263\n",
      "Number of non-duplicates:     255027\n"
     ]
    },
    {
     "data": {
      "image/png": "[encoded data removed]",
      "text/plain": [
       "<matplotlib.figure.Figure at 0x1a0de6a0>"
      ]
     },
     "metadata": {},
     "output_type": "display_data"
    }
   ],
   "source": [
    "print('Number of question pairs: '.ljust(30) + str(len(TRAIN)))\n",
    "print('Number of duplicates: '.ljust(30) + str(len(TRAIN[TRAIN.is_duplicate == 1])))\n",
    "print('Number of non-duplicates: '.ljust(30) + str(len(TRAIN[TRAIN.is_duplicate == 0])))\n",
    "\n",
    "plt.figure(figsize=(4, 4))\n",
    "plt.pie(TRAIN.is_duplicate.value_counts(), explode=(0.1, 0), labels=('Non-duplicate', 'Duplicate'), colors=('yellowgreen', 'lightskyblue'), autopct='%1.2f%%', shadow=True, startangle=140)\n",
    "plt.axis('equal')\n",
    "plt.show()"
   ]
  },
  {
   "cell_type": "markdown",
   "metadata": {},
   "source": [
    "There is about a 2:1 class imbalance in favor of non-duplicate question pairs.  As a result, it will make sense to evaluate models on roc auc along with the log loss metric."
   ]
  },
  {
   "cell_type": "markdown",
   "metadata": {},
   "source": [
    "### Test Set Analysis"
   ]
  },
  {
   "cell_type": "markdown",
   "metadata": {},
   "source": [
    "**Test Columns:**\n",
    "- **test_id:** (int) question pair identifier\n",
    "- **question1:** (string) first question text\n",
    "- **question2:** (string) second question text"
   ]
  },
  {
   "cell_type": "code",
   "execution_count": 15,
   "metadata": {
    "collapsed": false
   },
   "outputs": [
    {
     "data": {
      "text/html": [
       "<div>\n",
       "<table border=\"1\" class=\"dataframe\">\n",
       "  <thead>\n",
       "    <tr style=\"text-align: right;\">\n",
       "      <th></th>\n",
       "      <th>test_id</th>\n",
       "      <th>question1</th>\n",
       "      <th>question2</th>\n",
       "    </tr>\n",
       "  </thead>\n",
       "  <tbody>\n",
       "    <tr>\n",
       "      <th>0</th>\n",
       "      <td>0</td>\n",
       "      <td>How does the Surface Pro himself 4 compare wit...</td>\n",
       "      <td>Why did Microsoft choose core m3 and not core ...</td>\n",
       "    </tr>\n",
       "    <tr>\n",
       "      <th>1</th>\n",
       "      <td>1</td>\n",
       "      <td>Should I have a hair transplant at age 24? How...</td>\n",
       "      <td>How much cost does hair transplant require?</td>\n",
       "    </tr>\n",
       "    <tr>\n",
       "      <th>2</th>\n",
       "      <td>2</td>\n",
       "      <td>What but is the best way to send money from Ch...</td>\n",
       "      <td>What you send money to China?</td>\n",
       "    </tr>\n",
       "    <tr>\n",
       "      <th>3</th>\n",
       "      <td>3</td>\n",
       "      <td>Which food not emulsifiers?</td>\n",
       "      <td>What foods fibre?</td>\n",
       "    </tr>\n",
       "    <tr>\n",
       "      <th>4</th>\n",
       "      <td>4</td>\n",
       "      <td>How \"aberystwyth\" start reading?</td>\n",
       "      <td>How their can I start reading?</td>\n",
       "    </tr>\n",
       "  </tbody>\n",
       "</table>\n",
       "</div>"
      ],
      "text/plain": [
       "   test_id                                          question1  \\\n",
       "0        0  How does the Surface Pro himself 4 compare wit...   \n",
       "1        1  Should I have a hair transplant at age 24? How...   \n",
       "2        2  What but is the best way to send money from Ch...   \n",
       "3        3                        Which food not emulsifiers?   \n",
       "4        4                   How \"aberystwyth\" start reading?   \n",
       "\n",
       "                                           question2  \n",
       "0  Why did Microsoft choose core m3 and not core ...  \n",
       "1        How much cost does hair transplant require?  \n",
       "2                      What you send money to China?  \n",
       "3                                  What foods fibre?  \n",
       "4                     How their can I start reading?  "
      ]
     },
     "execution_count": 15,
     "metadata": {},
     "output_type": "execute_result"
    }
   ],
   "source": [
    "TEST = pd.read_csv('./data.gi/test.csv')\n",
    "TEST.head()"
   ]
  },
  {
   "cell_type": "code",
   "execution_count": 41,
   "metadata": {
    "collapsed": false
   },
   "outputs": [
    {
     "data": {
      "text/html": [
       "<div>\n",
       "<table border=\"1\" class=\"dataframe\">\n",
       "  <thead>\n",
       "    <tr style=\"text-align: right;\">\n",
       "      <th></th>\n",
       "      <th>test_id</th>\n",
       "      <th>question1</th>\n",
       "      <th>question2</th>\n",
       "    </tr>\n",
       "  </thead>\n",
       "  <tbody>\n",
       "    <tr>\n",
       "      <th>2345791</th>\n",
       "      <td>2345791</td>\n",
       "      <td>How do Peaks (TV series): Why did Leland kill ...</td>\n",
       "      <td>What is the most study scene in twin peaks?</td>\n",
       "    </tr>\n",
       "    <tr>\n",
       "      <th>2345792</th>\n",
       "      <td>2345792</td>\n",
       "      <td>What does be \"in transit\" mean on FedEx tracking?</td>\n",
       "      <td>How question FedEx packages delivered?</td>\n",
       "    </tr>\n",
       "    <tr>\n",
       "      <th>2345793</th>\n",
       "      <td>2345793</td>\n",
       "      <td>What are some famous Romanian drinks (alcoholi...</td>\n",
       "      <td>Can a non-alcoholic restaurant be a huge success?</td>\n",
       "    </tr>\n",
       "    <tr>\n",
       "      <th>2345794</th>\n",
       "      <td>2345794</td>\n",
       "      <td>What were the best and worst things about publ...</td>\n",
       "      <td>What are the best and worst things examination...</td>\n",
       "    </tr>\n",
       "    <tr>\n",
       "      <th>2345795</th>\n",
       "      <td>2345795</td>\n",
       "      <td>What is the best medication equation erectile ...</td>\n",
       "      <td>How do I out get rid of Erectile Dysfunction?</td>\n",
       "    </tr>\n",
       "  </tbody>\n",
       "</table>\n",
       "</div>"
      ],
      "text/plain": [
       "         test_id                                          question1  \\\n",
       "2345791  2345791  How do Peaks (TV series): Why did Leland kill ...   \n",
       "2345792  2345792  What does be \"in transit\" mean on FedEx tracking?   \n",
       "2345793  2345793  What are some famous Romanian drinks (alcoholi...   \n",
       "2345794  2345794  What were the best and worst things about publ...   \n",
       "2345795  2345795  What is the best medication equation erectile ...   \n",
       "\n",
       "                                                 question2  \n",
       "2345791        What is the most study scene in twin peaks?  \n",
       "2345792             How question FedEx packages delivered?  \n",
       "2345793  Can a non-alcoholic restaurant be a huge success?  \n",
       "2345794  What are the best and worst things examination...  \n",
       "2345795      How do I out get rid of Erectile Dysfunction?  "
      ]
     },
     "execution_count": 41,
     "metadata": {},
     "output_type": "execute_result"
    }
   ],
   "source": [
    "TEST.tail()"
   ]
  },
  {
   "cell_type": "markdown",
   "metadata": {},
   "source": [
    "There are no apparent incongruities in the *test_id* column as its final value matches the final index value.  Regarding computer-generated question pairs, test_id[4] appears to be an example with the two questions:\n",
    "1. How \"aberystwyth\" start reading?\n",
    "2. How their can I start reading?\n",
    "\n",
    "It is also worthwhile pointing out that there is no straightforward way to determine if any questions are reused in the test set."
   ]
  },
  {
   "cell_type": "markdown",
   "metadata": {
    "collapsed": true
   },
   "source": [
    "### Question Analysis"
   ]
  },
  {
   "cell_type": "code",
   "execution_count": 42,
   "metadata": {
    "collapsed": false
   },
   "outputs": [],
   "source": [
    "train_questions = TRAIN.question1.tolist() + TRAIN.question2.tolist()\n",
    "test_questions = TEST.question1.tolist() + TEST.question2.tolist()"
   ]
  },
  {
   "cell_type": "markdown",
   "metadata": {},
   "source": [
    "#### Missing Values"
   ]
  },
  {
   "cell_type": "code",
   "execution_count": 43,
   "metadata": {
    "collapsed": false
   },
   "outputs": [
    {
     "name": "stdout",
     "output_type": "stream",
     "text": [
      "Train\n",
      "-----\n",
      "Question 1:                   0\n",
      "Question 2:                   2\n",
      "\n",
      "Test\n",
      "----\n",
      "Question 1:                   2\n",
      "Question 2:                   4\n"
     ]
    }
   ],
   "source": [
    "print('Train')\n",
    "print('-----')\n",
    "print('Question 1:'.ljust(30) + str(TRAIN.question1.isnull().sum()))\n",
    "print('Question 2:'.ljust(30) + str(TRAIN.question2.isnull().sum()))\n",
    "print('\\nTest')\n",
    "print('----')\n",
    "print('Question 1:'.ljust(30) + str(TEST.question1.isnull().sum()))\n",
    "print('Question 2:'.ljust(30) + str(TEST.question2.isnull().sum()))"
   ]
  },
  {
   "cell_type": "markdown",
   "metadata": {},
   "source": [
    "#### Word Count"
   ]
  },
  {
   "cell_type": "code",
   "execution_count": 44,
   "metadata": {
    "collapsed": false
   },
   "outputs": [
    {
     "name": "stdout",
     "output_type": "stream",
     "text": [
      "\n",
      "Train Statistics\n",
      "----------------\n",
      "count    808580.000000\n",
      "mean         11.064856\n",
      "std           5.889168\n",
      "min           1.000000\n",
      "25%           7.000000\n",
      "50%          10.000000\n",
      "75%          13.000000\n",
      "max         237.000000\n",
      "dtype: float64\n",
      "\n",
      "Test Statistics\n",
      "---------------\n",
      "count    4.691592e+06\n",
      "mean     1.102431e+01\n",
      "std      5.839925e+00\n",
      "min      1.000000e+00\n",
      "25%      7.000000e+00\n",
      "50%      1.000000e+01\n",
      "75%      1.300000e+01\n",
      "max      2.380000e+02\n",
      "dtype: float64\n"
     ]
    },
    {
     "data": {
      "image/png": "[encoded data removed]",
      "text/plain": [
       "<matplotlib.figure.Figure at 0x407e92b0>"
      ]
     },
     "metadata": {},
     "output_type": "display_data"
    },
    {
     "data": {
      "image/png": "[encoded data removed]",
      "text/plain": [
       "<matplotlib.figure.Figure at 0x1300b6a0>"
      ]
     },
     "metadata": {},
     "output_type": "display_data"
    }
   ],
   "source": [
    "train_word_counts = pd.Series([len(str(x).split(' ')) for x in train_questions])\n",
    "test_word_counts = pd.Series([len(str(x).split(' ')) for x in test_questions])\n",
    "\n",
    "print('\\nTrain Statistics')\n",
    "print('----------------')\n",
    "print(train_word_counts.describe())\n",
    "print('\\nTest Statistics')\n",
    "print('---------------')\n",
    "print(test_word_counts.describe())\n",
    "\n",
    "plt.figure(figsize=(12,6))\n",
    "plt.hist(train_word_counts, bins=50, range=[0, 50], color=('deeppink'), normed=True, alpha=0.6, label='Train')\n",
    "plt.hist(test_word_counts, bins=50, range=[0, 50], color=('mediumturquoise'), normed=True, alpha=0.6, label='Test')\n",
    "plt.xlabel('Word Count')\n",
    "plt.ylabel('Probability')\n",
    "plt.title('Historgram of Normalized Word Count Per Question')\n",
    "plt.legend()\n",
    "plt.show()\n",
    "\n",
    "plt.figure(figsize=(15, 5))\n",
    "plt.boxplot([train_word_counts, test_word_counts], True, 'bD', vert=False, labels=('Train', 'Test'))\n",
    "plt.xlabel('Word Count')\n",
    "plt.ylabel('Data Set')\n",
    "plt.title('Boxplots of Word Count Per Data Set')\n",
    "plt.show()"
   ]
  },
  {
   "cell_type": "markdown",
   "metadata": {},
   "source": [
    "#### Character Count"
   ]
  },
  {
   "cell_type": "code",
   "execution_count": 45,
   "metadata": {
    "collapsed": false
   },
   "outputs": [
    {
     "name": "stdout",
     "output_type": "stream",
     "text": [
      "\n",
      "TRAIN Statistics:\n",
      "-----------------\n",
      "count    808580.000000\n",
      "mean         59.822548\n",
      "std          31.963751\n",
      "min           1.000000\n",
      "25%          39.000000\n",
      "50%          51.000000\n",
      "75%          72.000000\n",
      "max        1169.000000\n",
      "dtype: float64\n",
      "\n",
      "TEST Statistics:\n",
      "----------------\n",
      "count    4.691592e+06\n",
      "mean     6.007010e+01\n",
      "std      3.162463e+01\n",
      "min      1.000000e+00\n",
      "25%      4.000000e+01\n",
      "50%      5.300000e+01\n",
      "75%      7.200000e+01\n",
      "max      1.176000e+03\n",
      "dtype: float64\n"
     ]
    },
    {
     "data": {
      "image/png": "[encoded data removed]",
      "text/plain": [
       "<matplotlib.figure.Figure at 0xebe57b8>"
      ]
     },
     "metadata": {},
     "output_type": "display_data"
    },
    {
     "data": {
      "image/png": "[encoded data removed]",
      "text/plain": [
       "<matplotlib.figure.Figure at 0xee7dd30>"
      ]
     },
     "metadata": {},
     "output_type": "display_data"
    }
   ],
   "source": [
    "train_char_counts = pd.Series([len(str(x))for x in train_questions])\n",
    "test_char_counts = pd.Series([len(str(x)) for x in test_questions])\n",
    "\n",
    "print('\\nTRAIN Statistics:')\n",
    "print('-----------------')\n",
    "print(train_char_counts.describe())\n",
    "print('\\nTEST Statistics:')\n",
    "print('----------------')\n",
    "print(test_char_counts.describe())\n",
    "\n",
    "plt.figure(figsize=(12,6))\n",
    "plt.hist(train_char_counts, bins=200, range=[0, 200], color=('royalblue'), normed=True, alpha=0.6, label='Train')\n",
    "plt.hist(test_char_counts, bins=200, range=[0, 200], color=('gold'), normed=True, alpha=0.6, label='Test')\n",
    "plt.xlabel('Character Count')\n",
    "plt.ylabel('Probability')\n",
    "plt.title('Historgram of Normalized Character Count Per Question')\n",
    "plt.legend()\n",
    "plt.show()\n",
    "\n",
    "plt.figure(figsize=(15, 5))\n",
    "plt.boxplot([train_char_counts, test_char_counts], True, 'gD', vert=False, labels=('Train', 'Test'))\n",
    "plt.xlabel('Character Count')\n",
    "plt.ylabel('Data Set')\n",
    "plt.title('Boxplots of Character Count Per Data Set')\n",
    "plt.show()"
   ]
  },
  {
   "cell_type": "code",
   "execution_count": 46,
   "metadata": {
    "collapsed": false
   },
   "outputs": [
    {
     "data": {
      "text/plain": [
       "64454"
      ]
     },
     "execution_count": 46,
     "metadata": {},
     "output_type": "execute_result"
    }
   ],
   "source": [
    "del train_questions, test_questions, train_word_counts, test_word_counts, train_char_counts, test_char_counts\n",
    "gc.collect()"
   ]
  },
  {
   "cell_type": "markdown",
   "metadata": {},
   "source": [
    "### Feature Analysis"
   ]
  },
  {
   "cell_type": "code",
   "execution_count": 16,
   "metadata": {
    "collapsed": true
   },
   "outputs": [],
   "source": [
    "TRAIN_questions = TRAIN.question1.append(TRAIN.question2)\n",
    "TEST_questions = TEST.question1.append(TEST.question2)"
   ]
  },
  {
   "cell_type": "markdown",
   "metadata": {},
   "source": [
    "#### Text Preprocessing"
   ]
  },
  {
   "cell_type": "code",
   "execution_count": 56,
   "metadata": {
    "collapsed": false
   },
   "outputs": [],
   "source": [
    "# Tokenizing\n",
    "tokenizer = RegexpTokenizer(r'\\w+')\n",
    "TRAIN_tokenized = TRAIN_questions.apply(lambda x: tokenizer.tokenize(str(x).lower()))\n",
    "TRAIN_tokenized.to_pickle('./pickles.gi/TRAIN_tokenized.pkl')\n",
    "TEST_tokenized = TEST_questions.apply(lambda x: tokenizer.tokenize(str(x).lower()))\n",
    "TEST_tokenized.to_pickle('./pickles.gi/TEST_tokenized.pkl')\n",
    "del tokenizer, TRAIN_tokenized, TEST_tokenized"
   ]
  },
  {
   "cell_type": "code",
   "execution_count": 58,
   "metadata": {
    "collapsed": true
   },
   "outputs": [],
   "source": [
    "# Stopword filtering\n",
    "stopset = set(stopwords.words('english'))\n",
    "TRAIN_tokenized = pd.read_pickle('./pickles.gi/TRAIN_tokenized.pkl')\n",
    "TRAIN_filtered = TRAIN_tokenized.apply(lambda x: [w for w in x if w not in stopset])\n",
    "TRAIN_filtered.to_pickle('./pickles.gi/TRAIN_filtered.pkl')\n",
    "TEST_tokenized = pd.read_pickle('./pickles.gi/TEST_tokenized.pkl')\n",
    "TEST_filtered = TEST_tokenized.apply(lambda x: [w for w in x if w not in stopset])\n",
    "TEST_filtered.to_pickle('./pickles.gi/TEST_filtered.pkl')\n",
    "del stopset, TRAIN_tokenized, TRAIN_filtered, TEST_tokenized, TEST_filtered"
   ]
  },
  {
   "cell_type": "code",
   "execution_count": 59,
   "metadata": {
    "collapsed": true
   },
   "outputs": [],
   "source": [
    "# Stemming (with and without stopword filtering)\n",
    "stemmer = SnowballStemmer('english')\n",
    "\n",
    "TRAIN_tokenized = pd.read_pickle('./pickles.gi/TRAIN_tokenized.pkl')\n",
    "TRAIN_stemmed = TRAIN_tokenized.apply(lambda x: [stemmer.stem(w) for w in x])\n",
    "TRAIN_stemmed.to_pickle('./pickles.gi/TRAIN_stemmed.pkl')\n",
    "del TRAIN_tokenized, TRAIN_stemmed\n",
    "\n",
    "TRAIN_filtered = pd.read_pickle('./pickles.gi/TRAIN_filtered.pkl')\n",
    "TRAIN_stemmed_filtered = TRAIN_filtered.apply(lambda x: [stemmer.stem(w) for w in x])\n",
    "TRAIN_stemmed_filtered.to_pickle('./pickles.gi/TRAIN_stemmed_filtered.pkl')\n",
    "del TRAIN_filtered, TRAIN_stemmed_filtered\n",
    "\n",
    "TEST_tokenized = pd.read_pickle('./pickles.gi/TEST_tokenized.pkl')\n",
    "TEST_stemmed = TEST_tokenized.apply(lambda x: [stemmer.stem(w) for w in x])\n",
    "TEST_stemmed.to_pickle('./pickles.gi/TEST_stemmed.pkl')\n",
    "del TEST_tokenized, TEST_stemmed\n",
    "\n",
    "TEST_filtered = pd.read_pickle('./pickles.gi/TEST_filtered.pkl')\n",
    "TEST_stemmed_filtered = TEST_filtered.apply(lambda x: [stemmer.stem(w) for w in x])\n",
    "TEST_stemmed_filtered.to_pickle('./pickles.gi/TEST_stemmed_filtered.pkl')\n",
    "del TEST_filtered, TEST_stemmed_filtered, stemmer"
   ]
  },
  {
   "cell_type": "code",
   "execution_count": 61,
   "metadata": {
    "collapsed": true
   },
   "outputs": [],
   "source": [
    "# Lemmatizing (with and without stopword filtering)\n",
    "lemmatizer = WordNetLemmatizer()\n",
    "\n",
    "TRAIN_tokenized = pd.read_pickle('./pickles.gi/TRAIN_tokenized.pkl')\n",
    "TRAIN_lemmatized = TRAIN_tokenized.apply(lambda x: [lemmatizer.lemmatize(w) for w in x])\n",
    "TRAIN_lemmatized.to_pickle('./pickles.gi/TRAIN_lemmatized.pkl')\n",
    "del TRAIN_tokenized, TRAIN_lemmatized\n",
    "\n",
    "TRAIN_filtered = pd.read_pickle('./pickles.gi/TRAIN_filtered.pkl')\n",
    "TRAIN_lemmatized_filtered = TRAIN_filtered.apply(lambda x: [lemmatizer.lemmatize(w) for w in x])\n",
    "TRAIN_lemmatized_filtered.to_pickle('./pickles.gi/TRAIN_lemmatized_filtered.pkl')\n",
    "del TRAIN_filtered, TRAIN_lemmatized_filtered\n",
    "\n",
    "TEST_tokenized = pd.read_pickle('./pickles.gi/TEST_tokenized.pkl')\n",
    "TEST_lemmatized = TEST_tokenized.apply(lambda x: [lemmatizer.lemmatize(w) for w in x])\n",
    "TEST_lemmatized.to_pickle('./pickles.gi/TEST_lemmatized.pkl')\n",
    "del TEST_tokenized, TEST_lemmatized\n",
    "\n",
    "TEST_filtered = pd.read_pickle('./pickles.gi/TEST_filtered.pkl')\n",
    "TEST_lemmatized_filtered = TEST_filtered.apply(lambda x: [lemmatizer.lemmatize(w) for w in x])\n",
    "TEST_lemmatized_filtered.to_pickle('./pickles.gi/TEST_lemmatized_filtered.pkl')\n",
    "del TEST_filtered, TEST_lemmatized_filtered, lemmatizer"
   ]
  },
  {
   "cell_type": "code",
   "execution_count": 17,
   "metadata": {
    "collapsed": false
   },
   "outputs": [],
   "source": [
    "# Combine preprocessed text into one dataframe\n",
    "TRAIN_preprocessed_stacked = pd.DataFrame()\n",
    "TRAIN_preprocessed_stacked['pid'] = TRAIN.id.append(TRAIN.id)\n",
    "TRAIN_preprocessed_stacked['qid'] = TRAIN.qid1.append(TRAIN.qid2)\n",
    "TRAIN_preprocessed_stacked['pos'] = pd.Series(np.full(len(TRAIN), 1)).append(pd.Series(np.full(len(TRAIN), 2))).reset_index(drop=True)\n",
    "TRAIN_preprocessed_stacked['base'] = pd.read_pickle('./pickles.gi/TRAIN_tokenized.pkl')\n",
    "TRAIN_preprocessed_stacked['filtered'] = pd.read_pickle('./pickles.gi/TRAIN_filtered.pkl')\n",
    "TRAIN_preprocessed_stacked['stemmed'] = pd.read_pickle('./pickles.gi/TRAIN_stemmed.pkl')\n",
    "TRAIN_preprocessed_stacked['stemmed_filtered'] = pd.read_pickle('./pickles.gi/TRAIN_stemmed_filtered.pkl')\n",
    "TRAIN_preprocessed_stacked['lemmatized'] = pd.read_pickle('./pickles.gi/TRAIN_lemmatized.pkl')\n",
    "TRAIN_preprocessed_stacked['lemmatized_filtered'] = pd.read_pickle('./pickles.gi/TRAIN_lemmatized_filtered.pkl')\n",
    "TRAIN_preprocessed_stacked.reset_index(drop=True, inplace=True)\n",
    "TRAIN_preprocessed_stacked.to_pickle('./pickles.gi/TRAIN_preprocessed_stacked.pkl')\n",
    "del TRAIN_preprocessed_stacked"
   ]
  },
  {
   "cell_type": "code",
   "execution_count": 18,
   "metadata": {
    "collapsed": false
   },
   "outputs": [],
   "source": [
    "# Tagging for Doc2Vec processing\n",
    "TRAIN_preprocessed_stacked = pd.read_pickle('./pickles.gi/TRAIN_preprocessed_stacked.pkl')\n",
    "TRAIN_tagged = pd.DataFrame()\n",
    "TRAIN_tagged['pid'] = TRAIN_preprocessed_stacked.pid\n",
    "TRAIN_tagged['qid'] = TRAIN_preprocessed_stacked.qid\n",
    "TRAIN_tagged['pos'] = TRAIN_preprocessed_stacked.pos\n",
    "TRAIN_tagged['base'] = TRAIN_preprocessed_stacked.apply(lambda x: d2v.TaggedDocument(x['base'], x['qid']), axis=1)\n",
    "TRAIN_tagged['filtered'] = TRAIN_preprocessed_stacked.apply(lambda x: d2v.TaggedDocument(x['filtered'], x['qid']), axis=1)\n",
    "TRAIN_tagged['stemmed'] = TRAIN_preprocessed_stacked.apply(lambda x: d2v.TaggedDocument(x['stemmed'], x['qid']), axis=1)\n",
    "TRAIN_tagged['stemmed_filtered'] = TRAIN_preprocessed_stacked.apply(lambda x: d2v.TaggedDocument(x['stemmed_filtered'], x['qid']), axis=1)\n",
    "TRAIN_tagged['lemmatized'] = TRAIN_preprocessed_stacked.apply(lambda x: d2v.TaggedDocument(x['lemmatized'], x['qid']), axis=1)\n",
    "TRAIN_tagged['lemmatized_filtered'] = TRAIN_preprocessed_stacked.apply(lambda x: d2v.TaggedDocument(x['lemmatized_filtered'], x['qid']), axis=1)\n",
    "TRAIN_tagged.reset_index(drop=True, inplace=True)\n",
    "TRAIN_tagged.to_pickle('./pickles.gi/TRAIN_tagged.pkl')\n",
    "del TRAIN_preprocessed_stacked, TRAIN_tagged"
   ]
  },
  {
   "cell_type": "code",
   "execution_count": 19,
   "metadata": {
    "collapsed": false
   },
   "outputs": [
    {
     "name": "stdout",
     "output_type": "stream",
     "text": [
      "DONE\n"
     ]
    }
   ],
   "source": [
    "print('DONE')"
   ]
  },
  {
   "cell_type": "code",
   "execution_count": 20,
   "metadata": {
    "collapsed": false,
    "scrolled": true
   },
   "outputs": [
    {
     "data": {
      "text/html": [
       "<div>\n",
       "<table border=\"1\" class=\"dataframe\">\n",
       "  <thead>\n",
       "    <tr style=\"text-align: right;\">\n",
       "      <th></th>\n",
       "      <th>pid</th>\n",
       "      <th>qid_1</th>\n",
       "      <th>base_1</th>\n",
       "      <th>filtered_1</th>\n",
       "      <th>stemmed_1</th>\n",
       "      <th>stemmed_filtered_1</th>\n",
       "      <th>lemmatized_1</th>\n",
       "      <th>lemmatized_filtered_1</th>\n",
       "      <th>qid_2</th>\n",
       "      <th>base_2</th>\n",
       "      <th>filtered_2</th>\n",
       "      <th>stemmed_2</th>\n",
       "      <th>stemmed_filtered_2</th>\n",
       "      <th>lemmatized_2</th>\n",
       "      <th>lemmatized_filtered_2</th>\n",
       "    </tr>\n",
       "  </thead>\n",
       "  <tbody>\n",
       "    <tr>\n",
       "      <th>0</th>\n",
       "      <td>0</td>\n",
       "      <td>1</td>\n",
       "      <td>[what, is, the, step, by, step, guide, to, inv...</td>\n",
       "      <td>[step, step, guide, invest, share, market, india]</td>\n",
       "      <td>[what, is, the, step, by, step, guid, to, inve...</td>\n",
       "      <td>[step, step, guid, invest, share, market, india]</td>\n",
       "      <td>[what, is, the, step, by, step, guide, to, inv...</td>\n",
       "      <td>[step, step, guide, invest, share, market, india]</td>\n",
       "      <td>1</td>\n",
       "      <td>[what, is, the, step, by, step, guide, to, inv...</td>\n",
       "      <td>[step, step, guide, invest, share, market, india]</td>\n",
       "      <td>[what, is, the, step, by, step, guid, to, inve...</td>\n",
       "      <td>[step, step, guid, invest, share, market, india]</td>\n",
       "      <td>[what, is, the, step, by, step, guide, to, inv...</td>\n",
       "      <td>[step, step, guide, invest, share, market, india]</td>\n",
       "    </tr>\n",
       "    <tr>\n",
       "      <th>1</th>\n",
       "      <td>0</td>\n",
       "      <td>1</td>\n",
       "      <td>[what, is, the, step, by, step, guide, to, inv...</td>\n",
       "      <td>[step, step, guide, invest, share, market, india]</td>\n",
       "      <td>[what, is, the, step, by, step, guid, to, inve...</td>\n",
       "      <td>[step, step, guid, invest, share, market, india]</td>\n",
       "      <td>[what, is, the, step, by, step, guide, to, inv...</td>\n",
       "      <td>[step, step, guide, invest, share, market, india]</td>\n",
       "      <td>2</td>\n",
       "      <td>[what, is, the, step, by, step, guide, to, inv...</td>\n",
       "      <td>[step, step, guide, invest, share, market]</td>\n",
       "      <td>[what, is, the, step, by, step, guid, to, inve...</td>\n",
       "      <td>[step, step, guid, invest, share, market]</td>\n",
       "      <td>[what, is, the, step, by, step, guide, to, inv...</td>\n",
       "      <td>[step, step, guide, invest, share, market]</td>\n",
       "    </tr>\n",
       "    <tr>\n",
       "      <th>2</th>\n",
       "      <td>0</td>\n",
       "      <td>2</td>\n",
       "      <td>[what, is, the, step, by, step, guide, to, inv...</td>\n",
       "      <td>[step, step, guide, invest, share, market]</td>\n",
       "      <td>[what, is, the, step, by, step, guid, to, inve...</td>\n",
       "      <td>[step, step, guid, invest, share, market]</td>\n",
       "      <td>[what, is, the, step, by, step, guide, to, inv...</td>\n",
       "      <td>[step, step, guide, invest, share, market]</td>\n",
       "      <td>1</td>\n",
       "      <td>[what, is, the, step, by, step, guide, to, inv...</td>\n",
       "      <td>[step, step, guide, invest, share, market, india]</td>\n",
       "      <td>[what, is, the, step, by, step, guid, to, inve...</td>\n",
       "      <td>[step, step, guid, invest, share, market, india]</td>\n",
       "      <td>[what, is, the, step, by, step, guide, to, inv...</td>\n",
       "      <td>[step, step, guide, invest, share, market, india]</td>\n",
       "    </tr>\n",
       "    <tr>\n",
       "      <th>3</th>\n",
       "      <td>0</td>\n",
       "      <td>2</td>\n",
       "      <td>[what, is, the, step, by, step, guide, to, inv...</td>\n",
       "      <td>[step, step, guide, invest, share, market]</td>\n",
       "      <td>[what, is, the, step, by, step, guid, to, inve...</td>\n",
       "      <td>[step, step, guid, invest, share, market]</td>\n",
       "      <td>[what, is, the, step, by, step, guide, to, inv...</td>\n",
       "      <td>[step, step, guide, invest, share, market]</td>\n",
       "      <td>2</td>\n",
       "      <td>[what, is, the, step, by, step, guide, to, inv...</td>\n",
       "      <td>[step, step, guide, invest, share, market]</td>\n",
       "      <td>[what, is, the, step, by, step, guid, to, inve...</td>\n",
       "      <td>[step, step, guid, invest, share, market]</td>\n",
       "      <td>[what, is, the, step, by, step, guide, to, inv...</td>\n",
       "      <td>[step, step, guide, invest, share, market]</td>\n",
       "    </tr>\n",
       "    <tr>\n",
       "      <th>4</th>\n",
       "      <td>1</td>\n",
       "      <td>3</td>\n",
       "      <td>[what, is, the, story, of, kohinoor, koh, i, n...</td>\n",
       "      <td>[story, kohinoor, koh, noor, diamond]</td>\n",
       "      <td>[what, is, the, stori, of, kohinoor, koh, i, n...</td>\n",
       "      <td>[stori, kohinoor, koh, noor, diamond]</td>\n",
       "      <td>[what, is, the, story, of, kohinoor, koh, i, n...</td>\n",
       "      <td>[story, kohinoor, koh, noor, diamond]</td>\n",
       "      <td>3</td>\n",
       "      <td>[what, is, the, story, of, kohinoor, koh, i, n...</td>\n",
       "      <td>[story, kohinoor, koh, noor, diamond]</td>\n",
       "      <td>[what, is, the, stori, of, kohinoor, koh, i, n...</td>\n",
       "      <td>[stori, kohinoor, koh, noor, diamond]</td>\n",
       "      <td>[what, is, the, story, of, kohinoor, koh, i, n...</td>\n",
       "      <td>[story, kohinoor, koh, noor, diamond]</td>\n",
       "    </tr>\n",
       "  </tbody>\n",
       "</table>\n",
       "</div>"
      ],
      "text/plain": [
       "   pid  qid_1                                             base_1  \\\n",
       "0    0      1  [what, is, the, step, by, step, guide, to, inv...   \n",
       "1    0      1  [what, is, the, step, by, step, guide, to, inv...   \n",
       "2    0      2  [what, is, the, step, by, step, guide, to, inv...   \n",
       "3    0      2  [what, is, the, step, by, step, guide, to, inv...   \n",
       "4    1      3  [what, is, the, story, of, kohinoor, koh, i, n...   \n",
       "\n",
       "                                          filtered_1  \\\n",
       "0  [step, step, guide, invest, share, market, india]   \n",
       "1  [step, step, guide, invest, share, market, india]   \n",
       "2         [step, step, guide, invest, share, market]   \n",
       "3         [step, step, guide, invest, share, market]   \n",
       "4              [story, kohinoor, koh, noor, diamond]   \n",
       "\n",
       "                                           stemmed_1  \\\n",
       "0  [what, is, the, step, by, step, guid, to, inve...   \n",
       "1  [what, is, the, step, by, step, guid, to, inve...   \n",
       "2  [what, is, the, step, by, step, guid, to, inve...   \n",
       "3  [what, is, the, step, by, step, guid, to, inve...   \n",
       "4  [what, is, the, stori, of, kohinoor, koh, i, n...   \n",
       "\n",
       "                                 stemmed_filtered_1  \\\n",
       "0  [step, step, guid, invest, share, market, india]   \n",
       "1  [step, step, guid, invest, share, market, india]   \n",
       "2         [step, step, guid, invest, share, market]   \n",
       "3         [step, step, guid, invest, share, market]   \n",
       "4             [stori, kohinoor, koh, noor, diamond]   \n",
       "\n",
       "                                        lemmatized_1  \\\n",
       "0  [what, is, the, step, by, step, guide, to, inv...   \n",
       "1  [what, is, the, step, by, step, guide, to, inv...   \n",
       "2  [what, is, the, step, by, step, guide, to, inv...   \n",
       "3  [what, is, the, step, by, step, guide, to, inv...   \n",
       "4  [what, is, the, story, of, kohinoor, koh, i, n...   \n",
       "\n",
       "                               lemmatized_filtered_1  qid_2  \\\n",
       "0  [step, step, guide, invest, share, market, india]      1   \n",
       "1  [step, step, guide, invest, share, market, india]      2   \n",
       "2         [step, step, guide, invest, share, market]      1   \n",
       "3         [step, step, guide, invest, share, market]      2   \n",
       "4              [story, kohinoor, koh, noor, diamond]      3   \n",
       "\n",
       "                                              base_2  \\\n",
       "0  [what, is, the, step, by, step, guide, to, inv...   \n",
       "1  [what, is, the, step, by, step, guide, to, inv...   \n",
       "2  [what, is, the, step, by, step, guide, to, inv...   \n",
       "3  [what, is, the, step, by, step, guide, to, inv...   \n",
       "4  [what, is, the, story, of, kohinoor, koh, i, n...   \n",
       "\n",
       "                                          filtered_2  \\\n",
       "0  [step, step, guide, invest, share, market, india]   \n",
       "1         [step, step, guide, invest, share, market]   \n",
       "2  [step, step, guide, invest, share, market, india]   \n",
       "3         [step, step, guide, invest, share, market]   \n",
       "4              [story, kohinoor, koh, noor, diamond]   \n",
       "\n",
       "                                           stemmed_2  \\\n",
       "0  [what, is, the, step, by, step, guid, to, inve...   \n",
       "1  [what, is, the, step, by, step, guid, to, inve...   \n",
       "2  [what, is, the, step, by, step, guid, to, inve...   \n",
       "3  [what, is, the, step, by, step, guid, to, inve...   \n",
       "4  [what, is, the, stori, of, kohinoor, koh, i, n...   \n",
       "\n",
       "                                 stemmed_filtered_2  \\\n",
       "0  [step, step, guid, invest, share, market, india]   \n",
       "1         [step, step, guid, invest, share, market]   \n",
       "2  [step, step, guid, invest, share, market, india]   \n",
       "3         [step, step, guid, invest, share, market]   \n",
       "4             [stori, kohinoor, koh, noor, diamond]   \n",
       "\n",
       "                                        lemmatized_2  \\\n",
       "0  [what, is, the, step, by, step, guide, to, inv...   \n",
       "1  [what, is, the, step, by, step, guide, to, inv...   \n",
       "2  [what, is, the, step, by, step, guide, to, inv...   \n",
       "3  [what, is, the, step, by, step, guide, to, inv...   \n",
       "4  [what, is, the, story, of, kohinoor, koh, i, n...   \n",
       "\n",
       "                               lemmatized_filtered_2  \n",
       "0  [step, step, guide, invest, share, market, india]  \n",
       "1         [step, step, guide, invest, share, market]  \n",
       "2  [step, step, guide, invest, share, market, india]  \n",
       "3         [step, step, guide, invest, share, market]  \n",
       "4              [story, kohinoor, koh, noor, diamond]  "
      ]
     },
     "execution_count": 20,
     "metadata": {},
     "output_type": "execute_result"
    }
   ],
   "source": [
    "# Create unstacked version of TRAIN_preprocessed\n",
    "stacked = pd.read_pickle('./pickles.gi/TRAIN_preprocessed_stacked.pkl')"
   ]
  },
  {
   "cell_type": "code",
   "execution_count": 21,
   "metadata": {
    "collapsed": false
   },
   "outputs": [],
   "source": [
    "TRAIN_preprocessed_unstacked = stacked.merge(stacked, how='inner', on='pid', suffixes=('_1','_2'))"
   ]
  },
  {
   "cell_type": "code",
   "execution_count": 30,
   "metadata": {
    "collapsed": true
   },
   "outputs": [],
   "source": [
    "unstacked = TRAIN_preprocessed_unstacked"
   ]
  },
  {
   "cell_type": "code",
   "execution_count": null,
   "metadata": {
    "collapsed": false
   },
   "outputs": [],
   "source": [
    "unstacked = unstacked[(TRAIN_preprocessed_unstacked['qid_1'] != TRAIN_preprocessed_unstacked['qid_2]) & (documents_train['qid_x'] < documents_train['qid_y'])]"
   ]
  },
  {
   "cell_type": "markdown",
   "metadata": {},
   "source": [
    "#### Word Share"
   ]
  },
  {
   "cell_type": "code",
   "execution_count": null,
   "metadata": {
    "collapsed": false
   },
   "outputs": [],
   "source": [
    "def calculate_word_share(q1, q2, tfidf_weights={}):\n",
    "    if tfidf_weights:\n",
    "        q1_shared = np.sum([tfidf_weights.get(x, 0) for x in q1 if x in q2])\n",
    "        q2_shared = np.sum([tfidf_weights.get(x, 0) for x in q2 if x in q1])\n",
    "        total = np.sum([tfidf_weights.get(x, 0) for x in q1]) + np.sum([tfidf_weights.get(x, 0) for x in q2])\n",
    "    else:\n",
    "        q1_shared = len([x for x in q1 if x in q2])\n",
    "        q2_shared = len([x for x in q2 if x in q1])\n",
    "        total = len(q1) + len(q2)\n",
    "    if total == 0:\n",
    "        return 0\n",
    "    else:\n",
    "        return (q1_shared + q2_shared) / total"
   ]
  },
  {
   "cell_type": "code",
   "execution_count": null,
   "metadata": {
    "collapsed": false
   },
   "outputs": [],
   "source": [
    "# Complete sentence\n",
    "train_word_share = TRAIN.apply(calculate_word_share, axis=1, raw=True)\n",
    "\n",
    "plt.figure(figsize=(15, 5))\n",
    "plt.hist(train_word_share[TRAIN.is_duplicate == 1], bins=20, color=('forestgreen'), normed=True, alpha=0.6, label='Duplicate')\n",
    "plt.hist(train_word_share[TRAIN.is_duplicate == 0], bins=20, color=('violet'), normed=True, alpha=0.6, label='Non-Duplicate')\n",
    "plt.xlabel('Word Share')\n",
    "plt.ylabel('Number of Question Pairs')\n",
    "plt.title('Distribution of Question Pair Word Share')\n",
    "plt.legend()\n",
    "plt.show()"
   ]
  },
  {
   "cell_type": "code",
   "execution_count": null,
   "metadata": {
    "collapsed": false
   },
   "outputs": [],
   "source": [
    "# Stopword filtering\n",
    "train_word_share_no_stopwords = TRAIN.apply(lambda x: calculate_word_share(x, stopwords.words('english')), axis=1, raw=True)\n",
    "\n",
    "plt.figure(figsize=(15, 5))\n",
    "plt.hist(train_word_share_no_stopwords[TRAIN.is_duplicate == 1], bins=20, color=('teal'), normed=True, alpha=0.6, label='Duplicate')\n",
    "plt.hist(train_word_share_no_stopwords[TRAIN.is_duplicate == 0], bins=20, color=('orange'), normed=True, alpha=0.6, label='Non-Duplicate')\n",
    "plt.xlabel('Word Share')\n",
    "plt.ylabel('Number of Question Pairs')\n",
    "plt.title('Distribution of Question Pair Word Share With Stopwords Excluded')\n",
    "plt.legend()\n",
    "plt.show()"
   ]
  },
  {
   "cell_type": "code",
   "execution_count": null,
   "metadata": {
    "collapsed": false
   },
   "outputs": [],
   "source": [
    "# Stemming\n",
    "train_word_share_stemmed = TRAIN.apply(lambda x: calculate_word_share(x, stem=True), axis=1, raw=True)\n",
    "\n",
    "plt.figure(figsize=(15, 5))\n",
    "plt.hist(train_word_share_stemmed[TRAIN.is_duplicate == 1], bins=20, color=('teal'), normed=True, alpha=0.6, label='Duplicate')\n",
    "plt.hist(train_word_share_stemmed[TRAIN.is_duplicate == 0], bins=20, color=('orange'), normed=True, alpha=0.6, label='Non-Duplicate')\n",
    "plt.xlabel('Word Share')\n",
    "plt.ylabel('Number of Question Pairs')\n",
    "plt.title('Distribution of Question Pair Word Share with Stemming')\n",
    "plt.legend()\n",
    "plt.show()"
   ]
  },
  {
   "cell_type": "code",
   "execution_count": null,
   "metadata": {
    "collapsed": false
   },
   "outputs": [],
   "source": [
    "# Stopword filtering and stemming\n",
    "train_word_share_no_stopwords_stemmed = TRAIN.apply(lambda x: calculate_word_share(x, stopwords.words('english'), True), axis=1, raw=True)\n",
    "\n",
    "plt.figure(figsize=(15, 5))\n",
    "plt.hist(train_word_share_no_stopwords_stemmed[TRAIN.is_duplicate == 1], bins=20, color=('teal'), normed=True, alpha=0.6, label='Duplicate')\n",
    "plt.hist(train_word_share_no_stopwords_stemmed[TRAIN.is_duplicate == 0], bins=20, color=('orange'), normed=True, alpha=0.6, label='Non-Duplicate')\n",
    "plt.xlabel('Word Share')\n",
    "plt.ylabel('Number of Question Pairs')\n",
    "plt.title('Distribution of Question Pair Word Share with Stopwords Excluded and Stemming')\n",
    "plt.legend()\n",
    "plt.show()"
   ]
  },
  {
   "cell_type": "markdown",
   "metadata": {},
   "source": [
    "#### TF-IDF"
   ]
  },
  {
   "cell_type": "code",
   "execution_count": null,
   "metadata": {
    "collapsed": false
   },
   "outputs": [],
   "source": [
    "vectorizer = TfidfVectorizer()\n",
    "TDX = vectorizer.fit_transform(TRAIN.question1.append(TRAIN.question2).fillna(''))"
   ]
  },
  {
   "cell_type": "code",
   "execution_count": null,
   "metadata": {
    "collapsed": false,
    "scrolled": false
   },
   "outputs": [],
   "source": [
    "weights_dict = dict(zip(vectorizer.get_feature_names(), vectorizer.idf_))\n",
    "weights_tuplst = list(zip(vectorizer.get_feature_names(), vectorizer.idf_))\n",
    "weights_tuplst.sort(key=lambda x: x[1])\n",
    "\n",
    "print('10 Most Frequent Terms')\n",
    "print('----------------------')\n",
    "print(weights_tuplst[:20])\n",
    "print('\\n10 Least Frequent Terms')\n",
    "print('-----------------------')\n",
    "print(weights_tuplst[len(weights_tuplst)-10:])"
   ]
  },
  {
   "cell_type": "code",
   "execution_count": null,
   "metadata": {
    "collapsed": false
   },
   "outputs": [],
   "source": [
    "print('Start: ', str(dt.datetime.now()))\n",
    "\n",
    "tfidf_train_word_share = TRAIN.apply(lambda x: calculate_word_share(x, tfidf_weights=weights_dict), axis=1, raw=True)\n",
    "\n",
    "plt.figure(figsize=(15, 5))\n",
    "plt.hist(tfidf_train_word_share[TRAIN.is_duplicate == 1], bins=20, color=('teal'), normed=True, alpha=0.6, label='Duplicate')\n",
    "plt.hist(tfidf_train_word_share[TRAIN.is_duplicate == 0], bins=20, color=('orange'), normed=True, alpha=0.6, label='Non-Duplicate')\n",
    "plt.xlabel('Word Share (TF-IDF)')\n",
    "plt.ylabel('Number of Question Pairs')\n",
    "plt.title('Distribution of Question Pair Word Share (TF-IDF)')\n",
    "plt.legend()\n",
    "plt.show()\n",
    "\n",
    "print('End: ', str(dt.datetime.now()))"
   ]
  },
  {
   "cell_type": "markdown",
   "metadata": {},
   "source": [
    "#### Preprocess Test Data"
   ]
  },
  {
   "cell_type": "code",
   "execution_count": null,
   "metadata": {
    "collapsed": true
   },
   "outputs": [],
   "source": [
    "test_word_share_no_stopwords = TEST.apply(lambda x: calculate_word_share(x, stopwords.words('english')), axis=1, raw=True)\n",
    "test_word_share_stemmed = TEST.apply(lambda x: calculate_word_share(x, stem=True), axis=1, raw=True)\n",
    "test_word_share_no_stopwords_stemmed = TEST.apply(lambda x: calculate_word_share(x, stopwords.words('english'), True), axis=1, raw=True)"
   ]
  },
  {
   "cell_type": "code",
   "execution_count": null,
   "metadata": {
    "collapsed": false
   },
   "outputs": [],
   "source": [
    "test_vectorizer = TfidfVectorizer()\n",
    "test_TDX = test_vectorizer.fit_transform(TEST.question1.append(TEST.question2).fillna(''))\n",
    "\n",
    "test_weights_dict = dict(zip(test_vectorizer.get_feature_names(), test_vectorizer.idf_))\n",
    "test_weights_tuplst = list(zip(test_vectorizer.get_feature_names(), test_vectorizer.idf_))\n",
    "test_weights_tuplst.sort(key=lambda x: x[1])\n",
    "\n",
    "print('10 Most Frequent Terms')\n",
    "print('----------------------')\n",
    "print(test_weights_tuplst[:20])\n",
    "print('\\n10 Least Frequent Terms')\n",
    "print('-----------------------')\n",
    "print(test_weights_tuplst[len(test_weights_tuplst)-10:])\n",
    "\n",
    "tfidf_test_word_share = TEST.apply(lambda x: calculate_word_share(x, tfidf_weights=test_weights_dict), axis=1, raw=True)"
   ]
  },
  {
   "cell_type": "markdown",
   "metadata": {},
   "source": [
    "#### ROC AUC Comparison"
   ]
  },
  {
   "cell_type": "code",
   "execution_count": null,
   "metadata": {
    "collapsed": false
   },
   "outputs": [],
   "source": [
    "print('Word Share Proportion')\n",
    "print('---------------------')\n",
    "print('Base:'.ljust(30), roc_auc_score(TRAIN.is_duplicate, train_word_share))\n",
    "print('Filtered:'.ljust(30), roc_auc_score(TRAIN.is_duplicate, train_word_share_no_stopwords))\n",
    "print('Stemmed:'.ljust(30), roc_auc_score(TRAIN.is_duplicate, train_word_share_stemmed))\n",
    "print('Filtered & Stemmed:'.ljust(30), roc_auc_score(TRAIN.is_duplicate, train_word_share_no_stopwords_stemmed))\n",
    "print('\\nTF-IDF Weighting')\n",
    "print('----------------')\n",
    "print('Base:'.ljust(30), roc_auc_score(TRAIN.is_duplicate, tfidf_train_word_share))"
   ]
  },
  {
   "cell_type": "markdown",
   "metadata": {},
   "source": [
    "## TRAINING"
   ]
  },
  {
   "cell_type": "markdown",
   "metadata": {},
   "source": [
    "### Train-Test  Split"
   ]
  },
  {
   "cell_type": "code",
   "execution_count": null,
   "metadata": {
    "collapsed": false
   },
   "outputs": [],
   "source": [
    "X_train = pd.DataFrame()\n",
    "X_test = pd.DataFrame()\n",
    "\n",
    "X_train['word_share_base'] = train_word_share\n",
    "X_train['word_share_no_stopwords'] = train_word_share_no_stopwords\n",
    "X_train['word_share_stemmed'] = train_word_share_stemmed\n",
    "X_train['word_share_no_stopwords_stemmed'] = train_word_share_no_stopwords_stemmed\n",
    "X_train['word_share_tfidf'] = tfidf_train_word_share\n",
    "\n",
    "X_test['word_share_base'] = TEST.apply(calculate_word_share, axis=1, raw=True)\n",
    "X_test['word_share_no_stopwords'] = test_word_share_no_stopwords\n",
    "X_test['word_share_stemmed'] = test_word_share_stemmed\n",
    "X_test['word_share_no_stopwords_stemmed'] = test_word_share_no_stopwords_stemmed\n",
    "X_test['word_share_tfidf'] = tfidf_test_word_share\n",
    "\n",
    "y_train = TRAIN.is_duplicate.values"
   ]
  },
  {
   "cell_type": "markdown",
   "metadata": {},
   "source": [
    "### Minority Class Over-Sampling"
   ]
  },
  {
   "cell_type": "code",
   "execution_count": null,
   "metadata": {
    "collapsed": false
   },
   "outputs": [],
   "source": [
    "# https://github.com/scikit-learn-contrib/imbalanced-learn\n",
    "# https://beckernick.github.io/oversampling-modeling/\n",
    "\n",
    "sm = SMOTE(random_state=12, ratio = 1.0)\n",
    "X_train_smote, y_train_smote = sm.fit_sample(X_train, y_train)\n",
    "print('Number of added samples: ', str(X_train_smote.shape[0] - X_train.shape[0]))"
   ]
  },
  {
   "cell_type": "markdown",
   "metadata": {},
   "source": [
    "### Validation Set"
   ]
  },
  {
   "cell_type": "code",
   "execution_count": null,
   "metadata": {
    "collapsed": false
   },
   "outputs": [],
   "source": [
    "# Validation Set\n",
    "X_training, X_validation, y_training, y_validation = train_test_split(X_train_smote, y_train_smote, test_size=0.2, random_state=42)"
   ]
  },
  {
   "cell_type": "markdown",
   "metadata": {},
   "source": [
    "### XGBoost"
   ]
  },
  {
   "cell_type": "code",
   "execution_count": null,
   "metadata": {
    "collapsed": true
   },
   "outputs": [],
   "source": [
    "cores = mp.cpu_count() / 2"
   ]
  },
  {
   "cell_type": "code",
   "execution_count": null,
   "metadata": {
    "collapsed": false
   },
   "outputs": [],
   "source": [
    "params = {}\n",
    "params['objective'] = 'binary:logistic'\n",
    "params['eval_metric'] = 'logloss'\n",
    "params['eta'] = 0.02\n",
    "params['max_depth'] = 4\n",
    "params['updater'] = 'grow_gpu'\n",
    "params['nthread'] = cores\n",
    "\n",
    "D_training = xgb.DMatrix(X_training, label=y_training)\n",
    "D_validation = xgb.DMatrix(X_validation, label=y_validation)\n",
    "watchlist = [(D_training, 'training'), (D_validation, 'validation')]\n",
    "\n",
    "bst = xgb.train(params, D_training, 1000, watchlist, early_stopping_rounds=100, verbose_eval=50)"
   ]
  },
  {
   "cell_type": "markdown",
   "metadata": {
    "collapsed": true
   },
   "source": [
    "### Doc2Vec"
   ]
  },
  {
   "cell_type": "code",
   "execution_count": null,
   "metadata": {
    "collapsed": true
   },
   "outputs": [],
   "source": []
  }
 ],
 "metadata": {
  "kernelspec": {
   "display_name": "Python 3",
   "language": "python",
   "name": "python3"
  },
  "language_info": {
   "codemirror_mode": {
    "name": "ipython",
    "version": 3
   },
   "file_extension": ".py",
   "mimetype": "text/x-python",
   "name": "python",
   "nbconvert_exporter": "python",
   "pygments_lexer": "ipython3",
   "version": "3.6.0"
  }
 },
 "nbformat": 4,
 "nbformat_minor": 2
}
