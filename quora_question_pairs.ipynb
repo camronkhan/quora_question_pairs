{
 "cells": [
  {
   "cell_type": "markdown",
   "metadata": {},
   "source": [
    "# Quora Quesiton Pairs"
   ]
  },
  {
   "cell_type": "markdown",
   "metadata": {},
   "source": [
    "[Competition Homepage](https://www.kaggle.com/c/quora-question-pairs)\n",
    "\n",
    "Currently, Quora uses a Random Forest model to identify duplicate questions. In this competition, Kagglers are challenged to tackle this natural language processing problem by applying advanced techniques to classify whether question pairs are duplicates or not. Doing so will make it easier to find high quality answers to questions resulting in an improved experience for Quora writers, seekers, and readers.\n",
    "\n",
    "For each ID in the test set, Kagglers must predict the probability that the questions are duplicates (a number between 0 and 1).  Submissions are evaluated on the log loss between the predicted values and the ground truth."
   ]
  },
  {
   "cell_type": "markdown",
   "metadata": {},
   "source": [
    "## IMPORTS"
   ]
  },
  {
   "cell_type": "code",
   "execution_count": 2,
   "metadata": {
    "collapsed": false
   },
   "outputs": [
    {
     "name": "stdout",
     "output_type": "stream",
     "text": [
      "Once deleted, variables cannot be recovered. Proceed (y/[n])? y\n"
     ]
    }
   ],
   "source": [
    "%reset"
   ]
  },
  {
   "cell_type": "code",
   "execution_count": 72,
   "metadata": {
    "collapsed": false
   },
   "outputs": [],
   "source": [
    "import numpy as np\n",
    "import pandas as pd\n",
    "import multiprocessing as mp\n",
    "import datetime as dt\n",
    "import math\n",
    "import os\n",
    "import gc\n",
    "import pickle\n",
    "\n",
    "from sklearn.feature_extraction.text import TfidfVectorizer\n",
    "from sklearn.metrics import log_loss\n",
    "from sklearn.metrics import roc_auc_score\n",
    "from sklearn.model_selection import train_test_split\n",
    "from sklearn.model_selection import GridSearchCV\n",
    "\n",
    "import matplotlib.pyplot as plt\n",
    "%matplotlib inline\n",
    "\n",
    "from nltk.tokenize import RegexpTokenizer\n",
    "from nltk.stem import SnowballStemmer\n",
    "from nltk.stem import WordNetLemmatizer\n",
    "from nltk.corpus import stopwords\n",
    "\n",
    "from imblearn.over_sampling import SMOTE\n",
    "\n",
    "import xgboost as xgb\n",
    "\n",
    "import gensim.models.doc2vec as d2v\n",
    "\n",
    "from random import shuffle\n",
    "\n",
    "from scipy.spatial.distance import cosine"
   ]
  },
  {
   "cell_type": "code",
   "execution_count": 4,
   "metadata": {
    "collapsed": false
   },
   "outputs": [
    {
     "data": {
      "text/plain": [
       "176"
      ]
     },
     "execution_count": 4,
     "metadata": {},
     "output_type": "execute_result"
    }
   ],
   "source": [
    "gc.collect()"
   ]
  },
  {
   "cell_type": "markdown",
   "metadata": {},
   "source": [
    "## EDA"
   ]
  },
  {
   "cell_type": "markdown",
   "metadata": {},
   "source": [
    "### Raw Data Analysis"
   ]
  },
  {
   "cell_type": "code",
   "execution_count": 5,
   "metadata": {
    "collapsed": false
   },
   "outputs": [
    {
     "name": "stdout",
     "output_type": "stream",
     "text": [
      "sample_submission.csv         22.35 MB\n",
      "test.csv                      314.02 MB\n",
      "train.csv                     63.4 MB\n"
     ]
    }
   ],
   "source": [
    "for f in os.listdir('./data.gi'):\n",
    "    if 'zip' not in f:\n",
    "        print(f.ljust(30) + str(round(os.path.getsize('./data.gi/' + f) / 1000000, 2)) + ' MB')"
   ]
  },
  {
   "cell_type": "markdown",
   "metadata": {},
   "source": [
    "The competition provides 3 .csv files - training set, testing set, and sample submission.  It is interesting to note that the testing set is approximately 5x the size of the training set.  The [Data](https://www.kaggle.com/c/quora-question-pairs/data) section of the competition homepage states the following: \n",
    "\n",
    "*\"As an anti-cheating measure, Kaggle has supplemented the test set with computer-generated question pairs. Those rows do not come from Quora, and are not counted in the scoring. All of the questions in the training set are genuine examples from Quora.\"*\n",
    "\n",
    "The sample submission file can be ignored as it is just an example for Kagglers to follow when preparing their .csv files for submission."
   ]
  },
  {
   "cell_type": "markdown",
   "metadata": {},
   "source": [
    "### Training Set Analysis"
   ]
  },
  {
   "cell_type": "markdown",
   "metadata": {},
   "source": [
    "**Train Columns:**\n",
    "- **id:** (int) question pair identifier\n",
    "- **qid1:** (int) single question identifer (first in pair)\n",
    "- **qid2:** (int) single question identfier (second in pair)\n",
    "- **question1:** (string) first question text\n",
    "- **question2:** (string) second question text\n",
    "- **is_duplicate:** (int) binary duplicate indicator - this is our label for supervised training"
   ]
  },
  {
   "cell_type": "code",
   "execution_count": 6,
   "metadata": {
    "collapsed": false
   },
   "outputs": [
    {
     "data": {
      "text/html": [
       "<div>\n",
       "<table border=\"1\" class=\"dataframe\">\n",
       "  <thead>\n",
       "    <tr style=\"text-align: right;\">\n",
       "      <th></th>\n",
       "      <th>id</th>\n",
       "      <th>qid1</th>\n",
       "      <th>qid2</th>\n",
       "      <th>question1</th>\n",
       "      <th>question2</th>\n",
       "      <th>is_duplicate</th>\n",
       "    </tr>\n",
       "  </thead>\n",
       "  <tbody>\n",
       "    <tr>\n",
       "      <th>0</th>\n",
       "      <td>0</td>\n",
       "      <td>1</td>\n",
       "      <td>2</td>\n",
       "      <td>What is the step by step guide to invest in sh...</td>\n",
       "      <td>What is the step by step guide to invest in sh...</td>\n",
       "      <td>0</td>\n",
       "    </tr>\n",
       "    <tr>\n",
       "      <th>1</th>\n",
       "      <td>1</td>\n",
       "      <td>3</td>\n",
       "      <td>4</td>\n",
       "      <td>What is the story of Kohinoor (Koh-i-Noor) Dia...</td>\n",
       "      <td>What would happen if the Indian government sto...</td>\n",
       "      <td>0</td>\n",
       "    </tr>\n",
       "    <tr>\n",
       "      <th>2</th>\n",
       "      <td>2</td>\n",
       "      <td>5</td>\n",
       "      <td>6</td>\n",
       "      <td>How can I increase the speed of my internet co...</td>\n",
       "      <td>How can Internet speed be increased by hacking...</td>\n",
       "      <td>0</td>\n",
       "    </tr>\n",
       "    <tr>\n",
       "      <th>3</th>\n",
       "      <td>3</td>\n",
       "      <td>7</td>\n",
       "      <td>8</td>\n",
       "      <td>Why am I mentally very lonely? How can I solve...</td>\n",
       "      <td>Find the remainder when [math]23^{24}[/math] i...</td>\n",
       "      <td>0</td>\n",
       "    </tr>\n",
       "    <tr>\n",
       "      <th>4</th>\n",
       "      <td>4</td>\n",
       "      <td>9</td>\n",
       "      <td>10</td>\n",
       "      <td>Which one dissolve in water quikly sugar, salt...</td>\n",
       "      <td>Which fish would survive in salt water?</td>\n",
       "      <td>0</td>\n",
       "    </tr>\n",
       "  </tbody>\n",
       "</table>\n",
       "</div>"
      ],
      "text/plain": [
       "   id  qid1  qid2                                          question1  \\\n",
       "0   0     1     2  What is the step by step guide to invest in sh...   \n",
       "1   1     3     4  What is the story of Kohinoor (Koh-i-Noor) Dia...   \n",
       "2   2     5     6  How can I increase the speed of my internet co...   \n",
       "3   3     7     8  Why am I mentally very lonely? How can I solve...   \n",
       "4   4     9    10  Which one dissolve in water quikly sugar, salt...   \n",
       "\n",
       "                                           question2  is_duplicate  \n",
       "0  What is the step by step guide to invest in sh...             0  \n",
       "1  What would happen if the Indian government sto...             0  \n",
       "2  How can Internet speed be increased by hacking...             0  \n",
       "3  Find the remainder when [math]23^{24}[/math] i...             0  \n",
       "4            Which fish would survive in salt water?             0  "
      ]
     },
     "execution_count": 6,
     "metadata": {},
     "output_type": "execute_result"
    }
   ],
   "source": [
    "TRAIN = pd.read_csv('./data.gi/train.csv')\n",
    "TRAIN.head()"
   ]
  },
  {
   "cell_type": "code",
   "execution_count": 7,
   "metadata": {
    "collapsed": false
   },
   "outputs": [
    {
     "data": {
      "text/html": [
       "<div>\n",
       "<table border=\"1\" class=\"dataframe\">\n",
       "  <thead>\n",
       "    <tr style=\"text-align: right;\">\n",
       "      <th></th>\n",
       "      <th>id</th>\n",
       "      <th>qid1</th>\n",
       "      <th>qid2</th>\n",
       "      <th>question1</th>\n",
       "      <th>question2</th>\n",
       "      <th>is_duplicate</th>\n",
       "    </tr>\n",
       "  </thead>\n",
       "  <tbody>\n",
       "    <tr>\n",
       "      <th>404285</th>\n",
       "      <td>404285</td>\n",
       "      <td>433578</td>\n",
       "      <td>379845</td>\n",
       "      <td>How many keywords are there in the Racket prog...</td>\n",
       "      <td>How many keywords are there in PERL Programmin...</td>\n",
       "      <td>0</td>\n",
       "    </tr>\n",
       "    <tr>\n",
       "      <th>404286</th>\n",
       "      <td>404286</td>\n",
       "      <td>18840</td>\n",
       "      <td>155606</td>\n",
       "      <td>Do you believe there is life after death?</td>\n",
       "      <td>Is it true that there is life after death?</td>\n",
       "      <td>1</td>\n",
       "    </tr>\n",
       "    <tr>\n",
       "      <th>404287</th>\n",
       "      <td>404287</td>\n",
       "      <td>537928</td>\n",
       "      <td>537929</td>\n",
       "      <td>What is one coin?</td>\n",
       "      <td>What's this coin?</td>\n",
       "      <td>0</td>\n",
       "    </tr>\n",
       "    <tr>\n",
       "      <th>404288</th>\n",
       "      <td>404288</td>\n",
       "      <td>537930</td>\n",
       "      <td>537931</td>\n",
       "      <td>What is the approx annual cost of living while...</td>\n",
       "      <td>I am having little hairfall problem but I want...</td>\n",
       "      <td>0</td>\n",
       "    </tr>\n",
       "    <tr>\n",
       "      <th>404289</th>\n",
       "      <td>404289</td>\n",
       "      <td>537932</td>\n",
       "      <td>537933</td>\n",
       "      <td>What is like to have sex with cousin?</td>\n",
       "      <td>What is it like to have sex with your cousin?</td>\n",
       "      <td>0</td>\n",
       "    </tr>\n",
       "  </tbody>\n",
       "</table>\n",
       "</div>"
      ],
      "text/plain": [
       "            id    qid1    qid2  \\\n",
       "404285  404285  433578  379845   \n",
       "404286  404286   18840  155606   \n",
       "404287  404287  537928  537929   \n",
       "404288  404288  537930  537931   \n",
       "404289  404289  537932  537933   \n",
       "\n",
       "                                                question1  \\\n",
       "404285  How many keywords are there in the Racket prog...   \n",
       "404286          Do you believe there is life after death?   \n",
       "404287                                  What is one coin?   \n",
       "404288  What is the approx annual cost of living while...   \n",
       "404289              What is like to have sex with cousin?   \n",
       "\n",
       "                                                question2  is_duplicate  \n",
       "404285  How many keywords are there in PERL Programmin...             0  \n",
       "404286         Is it true that there is life after death?             1  \n",
       "404287                                  What's this coin?             0  \n",
       "404288  I am having little hairfall problem but I want...             0  \n",
       "404289      What is it like to have sex with your cousin?             0  "
      ]
     },
     "execution_count": 7,
     "metadata": {},
     "output_type": "execute_result"
    }
   ],
   "source": [
    "TRAIN.tail()"
   ]
  },
  {
   "cell_type": "markdown",
   "metadata": {},
   "source": [
    "The last value in the *id* column matches the last row index value, indicating there are no jumps in ID.  The individual question IDs, however, do not appear to increase consistently.  Otherwise, we would expect *qid2* in row 404289 to be 808578.  Therefore, we will need to determine if the same questions are being used across pairs."
   ]
  },
  {
   "cell_type": "markdown",
   "metadata": {},
   "source": [
    "#### Duplicate Questions Across Pairs"
   ]
  },
  {
   "cell_type": "code",
   "execution_count": 8,
   "metadata": {
    "collapsed": false
   },
   "outputs": [
    {
     "name": "stdout",
     "output_type": "stream",
     "text": [
      "Number of total questions:    537933\n",
      "Number of unique questions:   426153\n",
      "Number of repeated questions: 111780\n",
      "\n",
      "Percent unique: 0.79%\n"
     ]
    },
    {
     "data": {
      "image/png": "[encoded data removed]",
      "text/plain": [
       "<matplotlib.figure.Figure at 0x12bd0419240>"
      ]
     },
     "metadata": {},
     "output_type": "display_data"
    }
   ],
   "source": [
    "qid = TRAIN.qid1.tolist() + TRAIN.qid2.tolist()\n",
    "qid_dict = dict.fromkeys(qid, 0)\n",
    "\n",
    "for x in qid:\n",
    "    qid_dict[x] += 1\n",
    "\n",
    "unique = 0\n",
    "for x in qid_dict:\n",
    "    if qid_dict[x] == 1:\n",
    "        unique += 1\n",
    "\n",
    "total = len(qid_dict)\n",
    "non_unique = total - unique\n",
    "\n",
    "print('Number of total questions: '.ljust(30) + str(total))\n",
    "print('Number of unique questions: '.ljust(30) + str(unique))\n",
    "print('Number of repeated questions: '.ljust(30) + str(non_unique))\n",
    "print('\\nPercent unique: ' + '{0:.2f}%'.format(unique / total))\n",
    "\n",
    "plt.figure(figsize=(12, 6))\n",
    "plt.hist(pd.Series(qid).value_counts(), bins=40, log=True, color='lightcoral', label='train')\n",
    "plt.xlabel('Number of Uses')\n",
    "plt.ylabel('Number of Questions')\n",
    "plt.title('Log of Number of Question Uses')\n",
    "plt.show()\n",
    "\n",
    "del qid, qid_dict, unique, total, non_unique"
   ]
  },
  {
   "cell_type": "markdown",
   "metadata": {},
   "source": [
    "About 80% of questions are used only once, however, there are a number of quetions that are used many times.  There are also a few cases of outliers that are used 100+ times."
   ]
  },
  {
   "cell_type": "markdown",
   "metadata": {},
   "source": [
    "#### Class Imbalance of Pairs Labeled as Duplicate"
   ]
  },
  {
   "cell_type": "code",
   "execution_count": 9,
   "metadata": {
    "collapsed": false
   },
   "outputs": [
    {
     "name": "stdout",
     "output_type": "stream",
     "text": [
      "Number of question pairs:     404290\n",
      "Number of duplicates:         149263\n",
      "Number of non-duplicates:     255027\n"
     ]
    },
    {
     "data": {
      "image/png": "[encoded data removed]",
      "text/plain": [
       "<matplotlib.figure.Figure at 0x12bcb39cb38>"
      ]
     },
     "metadata": {},
     "output_type": "display_data"
    }
   ],
   "source": [
    "print('Number of question pairs: '.ljust(30) + str(len(TRAIN)))\n",
    "print('Number of duplicates: '.ljust(30) + str(len(TRAIN[TRAIN.is_duplicate == 1])))\n",
    "print('Number of non-duplicates: '.ljust(30) + str(len(TRAIN[TRAIN.is_duplicate == 0])))\n",
    "\n",
    "plt.figure(figsize=(4, 4))\n",
    "plt.pie(TRAIN.is_duplicate.value_counts(), explode=(0.1, 0), labels=('Non-duplicate', 'Duplicate'), colors=('yellowgreen', 'lightskyblue'), autopct='%1.2f%%', shadow=True, startangle=140)\n",
    "plt.axis('equal')\n",
    "plt.show()"
   ]
  },
  {
   "cell_type": "markdown",
   "metadata": {},
   "source": [
    "There is about a 2:1 class imbalance in favor of non-duplicate question pairs.  As a result, it will make sense to evaluate models on roc auc along with the log loss metric.  We will also have to address the class imbalance when we construct our training and validation sets, so they are representative of the whole set."
   ]
  },
  {
   "cell_type": "markdown",
   "metadata": {},
   "source": [
    "### Test Set Analysis"
   ]
  },
  {
   "cell_type": "markdown",
   "metadata": {},
   "source": [
    "**Test Columns:**\n",
    "- **test_id:** (int) question pair identifier\n",
    "- **question1:** (string) first question text\n",
    "- **question2:** (string) second question text"
   ]
  },
  {
   "cell_type": "code",
   "execution_count": 10,
   "metadata": {
    "collapsed": false
   },
   "outputs": [
    {
     "data": {
      "text/html": [
       "<div>\n",
       "<table border=\"1\" class=\"dataframe\">\n",
       "  <thead>\n",
       "    <tr style=\"text-align: right;\">\n",
       "      <th></th>\n",
       "      <th>test_id</th>\n",
       "      <th>question1</th>\n",
       "      <th>question2</th>\n",
       "    </tr>\n",
       "  </thead>\n",
       "  <tbody>\n",
       "    <tr>\n",
       "      <th>0</th>\n",
       "      <td>0</td>\n",
       "      <td>How does the Surface Pro himself 4 compare wit...</td>\n",
       "      <td>Why did Microsoft choose core m3 and not core ...</td>\n",
       "    </tr>\n",
       "    <tr>\n",
       "      <th>1</th>\n",
       "      <td>1</td>\n",
       "      <td>Should I have a hair transplant at age 24? How...</td>\n",
       "      <td>How much cost does hair transplant require?</td>\n",
       "    </tr>\n",
       "    <tr>\n",
       "      <th>2</th>\n",
       "      <td>2</td>\n",
       "      <td>What but is the best way to send money from Ch...</td>\n",
       "      <td>What you send money to China?</td>\n",
       "    </tr>\n",
       "    <tr>\n",
       "      <th>3</th>\n",
       "      <td>3</td>\n",
       "      <td>Which food not emulsifiers?</td>\n",
       "      <td>What foods fibre?</td>\n",
       "    </tr>\n",
       "    <tr>\n",
       "      <th>4</th>\n",
       "      <td>4</td>\n",
       "      <td>How \"aberystwyth\" start reading?</td>\n",
       "      <td>How their can I start reading?</td>\n",
       "    </tr>\n",
       "  </tbody>\n",
       "</table>\n",
       "</div>"
      ],
      "text/plain": [
       "   test_id                                          question1  \\\n",
       "0        0  How does the Surface Pro himself 4 compare wit...   \n",
       "1        1  Should I have a hair transplant at age 24? How...   \n",
       "2        2  What but is the best way to send money from Ch...   \n",
       "3        3                        Which food not emulsifiers?   \n",
       "4        4                   How \"aberystwyth\" start reading?   \n",
       "\n",
       "                                           question2  \n",
       "0  Why did Microsoft choose core m3 and not core ...  \n",
       "1        How much cost does hair transplant require?  \n",
       "2                      What you send money to China?  \n",
       "3                                  What foods fibre?  \n",
       "4                     How their can I start reading?  "
      ]
     },
     "execution_count": 10,
     "metadata": {},
     "output_type": "execute_result"
    }
   ],
   "source": [
    "TEST = pd.read_csv('./data.gi/test.csv')\n",
    "TEST.head()"
   ]
  },
  {
   "cell_type": "code",
   "execution_count": 11,
   "metadata": {
    "collapsed": false
   },
   "outputs": [
    {
     "data": {
      "text/html": [
       "<div>\n",
       "<table border=\"1\" class=\"dataframe\">\n",
       "  <thead>\n",
       "    <tr style=\"text-align: right;\">\n",
       "      <th></th>\n",
       "      <th>test_id</th>\n",
       "      <th>question1</th>\n",
       "      <th>question2</th>\n",
       "    </tr>\n",
       "  </thead>\n",
       "  <tbody>\n",
       "    <tr>\n",
       "      <th>2345791</th>\n",
       "      <td>2345791</td>\n",
       "      <td>How do Peaks (TV series): Why did Leland kill ...</td>\n",
       "      <td>What is the most study scene in twin peaks?</td>\n",
       "    </tr>\n",
       "    <tr>\n",
       "      <th>2345792</th>\n",
       "      <td>2345792</td>\n",
       "      <td>What does be \"in transit\" mean on FedEx tracking?</td>\n",
       "      <td>How question FedEx packages delivered?</td>\n",
       "    </tr>\n",
       "    <tr>\n",
       "      <th>2345793</th>\n",
       "      <td>2345793</td>\n",
       "      <td>What are some famous Romanian drinks (alcoholi...</td>\n",
       "      <td>Can a non-alcoholic restaurant be a huge success?</td>\n",
       "    </tr>\n",
       "    <tr>\n",
       "      <th>2345794</th>\n",
       "      <td>2345794</td>\n",
       "      <td>What were the best and worst things about publ...</td>\n",
       "      <td>What are the best and worst things examination...</td>\n",
       "    </tr>\n",
       "    <tr>\n",
       "      <th>2345795</th>\n",
       "      <td>2345795</td>\n",
       "      <td>What is the best medication equation erectile ...</td>\n",
       "      <td>How do I out get rid of Erectile Dysfunction?</td>\n",
       "    </tr>\n",
       "  </tbody>\n",
       "</table>\n",
       "</div>"
      ],
      "text/plain": [
       "         test_id                                          question1  \\\n",
       "2345791  2345791  How do Peaks (TV series): Why did Leland kill ...   \n",
       "2345792  2345792  What does be \"in transit\" mean on FedEx tracking?   \n",
       "2345793  2345793  What are some famous Romanian drinks (alcoholi...   \n",
       "2345794  2345794  What were the best and worst things about publ...   \n",
       "2345795  2345795  What is the best medication equation erectile ...   \n",
       "\n",
       "                                                 question2  \n",
       "2345791        What is the most study scene in twin peaks?  \n",
       "2345792             How question FedEx packages delivered?  \n",
       "2345793  Can a non-alcoholic restaurant be a huge success?  \n",
       "2345794  What are the best and worst things examination...  \n",
       "2345795      How do I out get rid of Erectile Dysfunction?  "
      ]
     },
     "execution_count": 11,
     "metadata": {},
     "output_type": "execute_result"
    }
   ],
   "source": [
    "TEST.tail()"
   ]
  },
  {
   "cell_type": "markdown",
   "metadata": {},
   "source": [
    "There are no apparent incongruities in the *test_id* column as its final value matches the final index value.  Regarding computer-generated question pairs, test_id[4] appears to be an example with the two questions:\n",
    "1. How \"aberystwyth\" start reading?\n",
    "2. How their can I start reading?\n",
    "\n",
    "It is also worthwhile pointing out that there is no straightforward way to determine if any questions are reused in the test set."
   ]
  },
  {
   "cell_type": "markdown",
   "metadata": {
    "collapsed": true
   },
   "source": [
    "### Question Analysis"
   ]
  },
  {
   "cell_type": "code",
   "execution_count": 12,
   "metadata": {
    "collapsed": false
   },
   "outputs": [],
   "source": [
    "train_questions = TRAIN.question1.tolist() + TRAIN.question2.tolist()\n",
    "test_questions = TEST.question1.tolist() + TEST.question2.tolist()"
   ]
  },
  {
   "cell_type": "markdown",
   "metadata": {},
   "source": [
    "#### Missing Values"
   ]
  },
  {
   "cell_type": "code",
   "execution_count": 13,
   "metadata": {
    "collapsed": false
   },
   "outputs": [
    {
     "name": "stdout",
     "output_type": "stream",
     "text": [
      "Train\n",
      "-----\n",
      "Question 1:                   0\n",
      "Question 2:                   2\n",
      "\n",
      "Test\n",
      "----\n",
      "Question 1:                   2\n",
      "Question 2:                   4\n"
     ]
    }
   ],
   "source": [
    "print('Train')\n",
    "print('-----')\n",
    "print('Question 1:'.ljust(30) + str(TRAIN.question1.isnull().sum()))\n",
    "print('Question 2:'.ljust(30) + str(TRAIN.question2.isnull().sum()))\n",
    "print('\\nTest')\n",
    "print('----')\n",
    "print('Question 1:'.ljust(30) + str(TEST.question1.isnull().sum()))\n",
    "print('Question 2:'.ljust(30) + str(TEST.question2.isnull().sum()))"
   ]
  },
  {
   "cell_type": "markdown",
   "metadata": {},
   "source": [
    "There are very very few missing values, which is great news.  We will have to return empty arrays in these few cases when we tokenize our string."
   ]
  },
  {
   "cell_type": "markdown",
   "metadata": {},
   "source": [
    "#### Word Count"
   ]
  },
  {
   "cell_type": "code",
   "execution_count": 14,
   "metadata": {
    "collapsed": false
   },
   "outputs": [
    {
     "name": "stdout",
     "output_type": "stream",
     "text": [
      "\n",
      "Train Statistics\n",
      "----------------\n",
      "count    808580.000000\n",
      "mean         11.064856\n",
      "std           5.889168\n",
      "min           1.000000\n",
      "25%           7.000000\n",
      "50%          10.000000\n",
      "75%          13.000000\n",
      "max         237.000000\n",
      "dtype: float64\n",
      "\n",
      "Test Statistics\n",
      "---------------\n",
      "count    4.691592e+06\n",
      "mean     1.102431e+01\n",
      "std      5.839925e+00\n",
      "min      1.000000e+00\n",
      "25%      7.000000e+00\n",
      "50%      1.000000e+01\n",
      "75%      1.300000e+01\n",
      "max      2.380000e+02\n",
      "dtype: float64\n"
     ]
    },
    {
     "data": {
      "image/png": "[encoded data removed]",
      "text/plain": [
       "<matplotlib.figure.Figure at 0x12bca818630>"
      ]
     },
     "metadata": {},
     "output_type": "display_data"
    },
    {
     "data": {
      "image/png": "[encoded data removed]",
      "text/plain": [
       "<matplotlib.figure.Figure at 0x12bf6d07a20>"
      ]
     },
     "metadata": {},
     "output_type": "display_data"
    }
   ],
   "source": [
    "train_word_counts = pd.Series([len(str(x).split(' ')) for x in train_questions])\n",
    "test_word_counts = pd.Series([len(str(x).split(' ')) for x in test_questions])\n",
    "\n",
    "print('\\nTrain Statistics')\n",
    "print('----------------')\n",
    "print(train_word_counts.describe())\n",
    "print('\\nTest Statistics')\n",
    "print('---------------')\n",
    "print(test_word_counts.describe())\n",
    "\n",
    "plt.figure(figsize=(12,6))\n",
    "plt.hist(train_word_counts, bins=50, range=[0, 50], color=('deeppink'), normed=True, alpha=0.6, label='Train')\n",
    "plt.hist(test_word_counts, bins=50, range=[0, 50], color=('mediumturquoise'), normed=True, alpha=0.6, label='Test')\n",
    "plt.xlabel('Word Count')\n",
    "plt.ylabel('Probability')\n",
    "plt.title('Historgram of Normalized Word Count Per Question')\n",
    "plt.legend()\n",
    "plt.show()\n",
    "\n",
    "plt.figure(figsize=(15, 5))\n",
    "plt.boxplot([train_word_counts, test_word_counts], True, 'bD', vert=False, labels=('Train', 'Test'))\n",
    "plt.xlabel('Word Count')\n",
    "plt.ylabel('Data Set')\n",
    "plt.title('Boxplots of Word Count Per Data Set')\n",
    "plt.show()"
   ]
  },
  {
   "cell_type": "markdown",
   "metadata": {},
   "source": [
    "#### Character Count"
   ]
  },
  {
   "cell_type": "code",
   "execution_count": 15,
   "metadata": {
    "collapsed": false
   },
   "outputs": [
    {
     "name": "stdout",
     "output_type": "stream",
     "text": [
      "\n",
      "TRAIN Statistics:\n",
      "-----------------\n",
      "count    808580.000000\n",
      "mean         59.822548\n",
      "std          31.963751\n",
      "min           1.000000\n",
      "25%          39.000000\n",
      "50%          51.000000\n",
      "75%          72.000000\n",
      "max        1169.000000\n",
      "dtype: float64\n",
      "\n",
      "TEST Statistics:\n",
      "----------------\n",
      "count    4.691592e+06\n",
      "mean     6.007010e+01\n",
      "std      3.162463e+01\n",
      "min      1.000000e+00\n",
      "25%      4.000000e+01\n",
      "50%      5.300000e+01\n",
      "75%      7.200000e+01\n",
      "max      1.176000e+03\n",
      "dtype: float64\n"
     ]
    },
    {
     "data": {
      "image/png": "[encoded data removed]",
      "text/plain": [
       "<matplotlib.figure.Figure at 0x12bcab99898>"
      ]
     },
     "metadata": {},
     "output_type": "display_data"
    },
    {
     "data": {
      "image/png": "[encoded data removed]",
      "text/plain": [
       "<matplotlib.figure.Figure at 0x12bf7d9ac88>"
      ]
     },
     "metadata": {},
     "output_type": "display_data"
    }
   ],
   "source": [
    "train_char_counts = pd.Series([len(str(x))for x in train_questions])\n",
    "test_char_counts = pd.Series([len(str(x)) for x in test_questions])\n",
    "\n",
    "print('\\nTRAIN Statistics:')\n",
    "print('-----------------')\n",
    "print(train_char_counts.describe())\n",
    "print('\\nTEST Statistics:')\n",
    "print('----------------')\n",
    "print(test_char_counts.describe())\n",
    "\n",
    "plt.figure(figsize=(12,6))\n",
    "plt.hist(train_char_counts, bins=200, range=[0, 200], color=('royalblue'), normed=True, alpha=0.6, label='Train')\n",
    "plt.hist(test_char_counts, bins=200, range=[0, 200], color=('gold'), normed=True, alpha=0.6, label='Test')\n",
    "plt.xlabel('Character Count')\n",
    "plt.ylabel('Probability')\n",
    "plt.title('Historgram of Normalized Character Count Per Question')\n",
    "plt.legend()\n",
    "plt.show()\n",
    "\n",
    "plt.figure(figsize=(15, 5))\n",
    "plt.boxplot([train_char_counts, test_char_counts], True, 'gD', vert=False, labels=('Train', 'Test'))\n",
    "plt.xlabel('Character Count')\n",
    "plt.ylabel('Data Set')\n",
    "plt.title('Boxplots of Character Count Per Data Set')\n",
    "plt.show()"
   ]
  },
  {
   "cell_type": "code",
   "execution_count": 16,
   "metadata": {
    "collapsed": false
   },
   "outputs": [
    {
     "data": {
      "text/plain": [
       "64528"
      ]
     },
     "execution_count": 16,
     "metadata": {},
     "output_type": "execute_result"
    }
   ],
   "source": [
    "del train_questions, test_questions, train_word_counts, test_word_counts, train_char_counts, test_char_counts\n",
    "gc.collect()"
   ]
  },
  {
   "cell_type": "markdown",
   "metadata": {},
   "source": [
    "### Feature Analysis"
   ]
  },
  {
   "cell_type": "markdown",
   "metadata": {},
   "source": [
    "#### Text Preprocessing"
   ]
  },
  {
   "cell_type": "code",
   "execution_count": 39,
   "metadata": {
    "collapsed": false
   },
   "outputs": [],
   "source": [
    "# Tokenizing\n",
    "tokenizer = RegexpTokenizer(r'\\w+')\n",
    "\n",
    "# Train\n",
    "df = TRAIN.question1.append(TRAIN.question2).apply(lambda x: tokenizer.tokenize(str(x).lower()))\n",
    "df.to_pickle('./pickles.gi/TRAIN_tokenized.pkl')\n",
    "\n",
    "# Test\n",
    "#df = TEST.question1.append(TEST.question2).apply(lambda x: tokenizer.tokenize(str(x).lower()))\n",
    "#df.to_pickle('./pickles.gi/TEST_tokenized.pkl')\n",
    "\n",
    "del tokenizer, df"
   ]
  },
  {
   "cell_type": "code",
   "execution_count": 40,
   "metadata": {
    "collapsed": false
   },
   "outputs": [],
   "source": [
    "# Stopword filtering\n",
    "stopset = set(stopwords.words('english'))\n",
    "\n",
    "# Train\n",
    "df = pd.read_pickle('./pickles.gi/TRAIN_tokenized.pkl')\n",
    "df = df.apply(lambda x: [w for w in x if w not in stopset])\n",
    "df.to_pickle('./pickles.gi/TRAIN_filtered.pkl')\n",
    "\n",
    "# Test\n",
    "#df = pd.read_pickle('./pickles.gi/TEST_tokenized.pkl')\n",
    "#df = df.apply(lambda x: [w for w in x if w not in stopset])\n",
    "#df.to_pickle('./pickles.gi/TEST_filtered.pkl')\n",
    "\n",
    "del stopset, df"
   ]
  },
  {
   "cell_type": "code",
   "execution_count": 41,
   "metadata": {
    "collapsed": false
   },
   "outputs": [],
   "source": [
    "# Stemming (with and without stopword filtering)\n",
    "stemmer = SnowballStemmer('english')\n",
    "\n",
    "# Train - No filtering\n",
    "df = pd.read_pickle('./pickles.gi/TRAIN_tokenized.pkl')\n",
    "df = df.apply(lambda x: [stemmer.stem(w) for w in x])\n",
    "df.to_pickle('./pickles.gi/TRAIN_stemmed.pkl')\n",
    "\n",
    "# Train - Filtering\n",
    "df = pd.read_pickle('./pickles.gi/TRAIN_filtered.pkl')\n",
    "df = df.apply(lambda x: [stemmer.stem(w) for w in x])\n",
    "df.to_pickle('./pickles.gi/TRAIN_stemmed_filtered.pkl')\n",
    "\n",
    "# Test - No filtering\n",
    "#df = pd.read_pickle('./pickles.gi/TEST_tokenized.pkl')\n",
    "#df = df.apply(lambda x: [stemmer.stem(w) for w in x])\n",
    "#df.to_pickle('./pickles.gi/TEST_stemmed.pkl')\n",
    "\n",
    "# Test - Filtering\n",
    "#df = pd.read_pickle('./pickles.gi/TEST_filtered.pkl')\n",
    "#df = df.apply(lambda x: [stemmer.stem(w) for w in x])\n",
    "#df.to_pickle('./pickles.gi/TEST_stemmed_filtered.pkl')\n",
    "\n",
    "del df, stemmer"
   ]
  },
  {
   "cell_type": "code",
   "execution_count": 42,
   "metadata": {
    "collapsed": true
   },
   "outputs": [],
   "source": [
    "# Lemmatizing (with and without stopword filtering)\n",
    "lemmatizer = WordNetLemmatizer()\n",
    "\n",
    "# Train - No filtering\n",
    "df = pd.read_pickle('./pickles.gi/TRAIN_tokenized.pkl')\n",
    "df = df.apply(lambda x: [lemmatizer.lemmatize(w) for w in x])\n",
    "df.to_pickle('./pickles.gi/TRAIN_lemmatized.pkl')\n",
    "\n",
    "# Train - Filtering\n",
    "df = pd.read_pickle('./pickles.gi/TRAIN_filtered.pkl')\n",
    "df = df.apply(lambda x: [lemmatizer.lemmatize(w) for w in x])\n",
    "df.to_pickle('./pickles.gi/TRAIN_lemmatized_filtered.pkl')\n",
    "\n",
    "# Test - No filtering\n",
    "#df = pd.read_pickle('./pickles.gi/TEST_tokenized.pkl')\n",
    "#df = df.apply(lambda x: [lemmatizer.lemmatize(w) for w in x])\n",
    "#df.to_pickle('./pickles.gi/TEST_lemmatized.pkl')\n",
    "\n",
    "# Test - Filtering\n",
    "#df = pd.read_pickle('./pickles.gi/TEST_filtered.pkl')\n",
    "#df = df.apply(lambda x: [lemmatizer.lemmatize(w) for w in x])\n",
    "#df.to_pickle('./pickles.gi/TEST_lemmatized_filtered.pkl')\n",
    "\n",
    "del df, lemmatizer"
   ]
  },
  {
   "cell_type": "code",
   "execution_count": 19,
   "metadata": {
    "collapsed": false
   },
   "outputs": [],
   "source": [
    "# Combine preprocessed text into a stacked dataframe\n",
    "df = pd.DataFrame()\n",
    "\n",
    "# Train\n",
    "df['pid'] = TRAIN.id.append(TRAIN.id)\n",
    "df['qid'] = TRAIN.qid1.append(TRAIN.qid2)\n",
    "df['base'] = pd.read_pickle('./pickles.gi/TRAIN_tokenized.pkl')\n",
    "df['filtered'] = pd.read_pickle('./pickles.gi/TRAIN_filtered.pkl')\n",
    "df['stemmed'] = pd.read_pickle('./pickles.gi/TRAIN_stemmed.pkl')\n",
    "df['stemmed_filtered'] = pd.read_pickle('./pickles.gi/TRAIN_stemmed_filtered.pkl')\n",
    "df['lemmatized'] = pd.read_pickle('./pickles.gi/TRAIN_lemmatized.pkl')\n",
    "df['lemmatized_filtered'] = pd.read_pickle('./pickles.gi/TRAIN_lemmatized_filtered.pkl')\n",
    "df.reset_index(drop=True, inplace=True)\n",
    "df.to_pickle('./pickles.gi/TRAIN_preprocessed_stacked.pkl')\n",
    "\n",
    "# Test\n",
    "#df['pid'] = TEST.test_id.append(TEST.test_id)\n",
    "#df['qid'] = pd.Series(np.arange(len(TEST) * 2))\n",
    "#df['base'] = pd.read_pickle('./pickles.gi/TEST_tokenized.pkl')\n",
    "#df['filtered'] = pd.read_pickle('./pickles.gi/TEST_filtered.pkl')\n",
    "#df['stemmed'] = pd.read_pickle('./pickles.gi/TEST_stemmed.pkl')\n",
    "#df['stemmed_filtered'] = pd.read_pickle('./pickles.gi/TEST_stemmed_filtered.pkl')\n",
    "#df['lemmatized'] = pd.read_pickle('./pickles.gi/TEST_lemmatized.pkl')\n",
    "#df['lemmatized_filtered'] = pd.read_pickle('./pickles.gi/TEST_lemmatized_filtered.pkl')\n",
    "#df.to_pickle('./pickles.gi/TEST_preprocessed_stacked.pkl')\n",
    "\n",
    "del df"
   ]
  },
  {
   "cell_type": "code",
   "execution_count": null,
   "metadata": {
    "collapsed": false
   },
   "outputs": [],
   "source": [
    "# Create unstacked version of preprocessed dataframe\n",
    "\n",
    "# Train\n",
    "df = pd.read_pickle('./pickles.gi/TRAIN_preprocessed_stacked.pkl')\n",
    "df = df.merge(df, how='inner', on='pid', suffixes=('_1','_2'))\n",
    "df = df[(df['qid_1'] != df['qid_2']) & (df['qid_1'] < df['qid_2'])]\n",
    "df.reset_index(drop=True, inplace=True)\n",
    "df.to_pickle('./pickles.gi/TRAIN_preprocessed_unstacked.pkl')\n",
    "\n",
    "# Test\n",
    "#df = pd.read_pickle('./pickles.gi/TEST_preprocessed_stacked.pkl')\n",
    "#df = df.merge(df, how='inner', on='pid', suffixes=('_1','_2'))\n",
    "#df = df[(df['qid_1'] != df['qid_2']) & (df['qid_1'] < df['qid_1'])]\n",
    "#df.reset_index(drop=True, inplace=True)\n",
    "#df.to_pickle('./pickles.gi/TEST_preprocessed_unstacked.pkl')\n",
    "\n",
    "del df"
   ]
  },
  {
   "cell_type": "code",
   "execution_count": 93,
   "metadata": {
    "collapsed": false
   },
   "outputs": [],
   "source": [
    "# Tagging for Doc2Vec processing\n",
    "df = pd.DataFrame()\n",
    "\n",
    "# Train\n",
    "preprocessed_stacked = pd.read_pickle('./pickles.gi/TRAIN_preprocessed_stacked.pkl')\n",
    "df['pid'] = preprocessed_stacked.pid\n",
    "df['qid'] = preprocessed_stacked.qid\n",
    "df['base'] = preprocessed_stacked.apply(lambda x: d2v.TaggedDocument(x['base'], [x['qid']]), axis=1)\n",
    "df['filtered'] = preprocessed_stacked.apply(lambda x: d2v.TaggedDocument(x['filtered'], [x['qid']]), axis=1)\n",
    "df['stemmed'] = preprocessed_stacked.apply(lambda x: d2v.TaggedDocument(x['stemmed'], [x['qid']]), axis=1)\n",
    "df['stemmed_filtered'] = preprocessed_stacked.apply(lambda x: d2v.TaggedDocument(x['stemmed_filtered'], [x['qid']]), axis=1)\n",
    "df['lemmatized'] = preprocessed_stacked.apply(lambda x: d2v.TaggedDocument(x['lemmatized'], [x['qid']]), axis=1)\n",
    "df['lemmatized_filtered'] = preprocessed_stacked.apply(lambda x: d2v.TaggedDocument(x['lemmatized_filtered'], [x['qid']]), axis=1)\n",
    "df.reset_index(drop=True, inplace=True)\n",
    "df.to_pickle('./pickles.gi/TRAIN_tagged.pkl')\n",
    "\n",
    "# Train\n",
    "#preprocessed_stacked = pd.read_pickle('./pickles.gi/TEST_preprocessed_unstacked.pkl')\n",
    "#df['pid'] = preprocessed_stacked.pid\n",
    "#df['qid'] = preprocessed_stacked.qid\n",
    "#df['base'] = preprocessed_stacked.apply(lambda x: d2v.TaggedDocument(x['base'], [x['qid']]), axis=1)\n",
    "#df['filtered'] = preprocessed_stacked.apply(lambda x: d2v.TaggedDocument(x['filtered'], [x['qid']]), axis=1)\n",
    "#df['stemmed'] = preprocessed_stacked.apply(lambda x: d2v.TaggedDocument(x['stemmed'], [x['qid']]), axis=1)\n",
    "#df['stemmed_filtered'] = preprocessed_stacked.apply(lambda x: d2v.TaggedDocument(x['stemmed_filtered'], [x['qid']]), axis=1)\n",
    "#df['lemmatized'] = preprocessed_stacked.apply(lambda x: d2v.TaggedDocument(x['lemmatized'], [x['qid']]), axis=1)\n",
    "#df['lemmatized_filtered'] = preprocessed_stacked.apply(lambda x: d2v.TaggedDocument(x['lemmatized_filtered'], [x['qid']]), axis=1)\n",
    "#df.reset_index(drop=True, inplace=True)\n",
    "#df.to_pickle('./pickles.gi/TEST_tagged.pkl')\n",
    "\n",
    "del df, preprocessed_stacked"
   ]
  },
  {
   "cell_type": "markdown",
   "metadata": {},
   "source": [
    "#### Word Share"
   ]
  },
  {
   "cell_type": "code",
   "execution_count": 32,
   "metadata": {
    "collapsed": false
   },
   "outputs": [],
   "source": [
    "def calculate_word_share(q1, q2, tfidf_weights={}):\n",
    "    if tfidf_weights:\n",
    "        q1_shared = np.sum([tfidf_weights.get(x, 0) for x in q1 if x in q2])\n",
    "        q2_shared = np.sum([tfidf_weights.get(x, 0) for x in q2 if x in q1])\n",
    "        total = np.sum([tfidf_weights.get(x, 0) for x in q1]) + np.sum([tfidf_weights.get(x, 0) for x in q2])\n",
    "    else:\n",
    "        q1_shared = len([x for x in q1 if x in q2])\n",
    "        q2_shared = len([x for x in q2 if x in q1])\n",
    "        total = len(q1) + len(q2)\n",
    "    if total == 0:\n",
    "        return 0\n",
    "    else:\n",
    "        return (q1_shared + q2_shared) / total"
   ]
  },
  {
   "cell_type": "code",
   "execution_count": 42,
   "metadata": {
    "collapsed": false
   },
   "outputs": [],
   "source": [
    "TRAIN_preprocessed = pd.read_pickle('./pickles.gi/TRAIN_preprocessed_unstacked.pkl')"
   ]
  },
  {
   "cell_type": "code",
   "execution_count": 47,
   "metadata": {
    "collapsed": false
   },
   "outputs": [
    {
     "data": {
      "image/png": "[encoded data removed]",
      "text/plain": [
       "<matplotlib.figure.Figure at 0x28240572358>"
      ]
     },
     "metadata": {},
     "output_type": "display_data"
    }
   ],
   "source": [
    "# Base\n",
    "TRAIN_word_share_base = TRAIN_preprocessed.apply(lambda x: calculate_word_share(x['base_1'], x['base_2']), axis=1, raw=True)\n",
    "\n",
    "plt.figure(figsize=(15, 5))\n",
    "plt.hist(TRAIN_word_share_base[TRAIN.is_duplicate == 1], bins=20, color=('forestgreen'), normed=True, alpha=0.6, label='Duplicate')\n",
    "plt.hist(TRAIN_word_share_base[TRAIN.is_duplicate == 0], bins=20, color=('violet'), normed=True, alpha=0.6, label='Non-Duplicate')\n",
    "plt.xlabel('Word Share')\n",
    "plt.ylabel('Number of Question Pairs')\n",
    "plt.title('Distribution of Question Pair Word Share')\n",
    "plt.legend()\n",
    "plt.show()\n",
    "\n",
    "TRAIN_word_share_base.to_pickle('./pickles.gi/TRAIN_word_share_base.pkl')\n",
    "\n",
    "del TRAIN_word_share_base"
   ]
  },
  {
   "cell_type": "code",
   "execution_count": 48,
   "metadata": {
    "collapsed": false
   },
   "outputs": [
    {
     "data": {
      "image/png": "[encoded data removed]",
      "text/plain": [
       "<matplotlib.figure.Figure at 0x28240562f28>"
      ]
     },
     "metadata": {},
     "output_type": "display_data"
    }
   ],
   "source": [
    "# Stopword filtering\n",
    "TRAIN_word_share_filtered = TRAIN_preprocessed.apply(lambda x: calculate_word_share(x['filtered_1'], x['filtered_2']), axis=1, raw=True)\n",
    "\n",
    "plt.figure(figsize=(15, 5))\n",
    "plt.hist(TRAIN_word_share_filtered[TRAIN.is_duplicate == 1], bins=20, color=('teal'), normed=True, alpha=0.6, label='Duplicate')\n",
    "plt.hist(TRAIN_word_share_filtered[TRAIN.is_duplicate == 0], bins=20, color=('orange'), normed=True, alpha=0.6, label='Non-Duplicate')\n",
    "plt.xlabel('Word Share')\n",
    "plt.ylabel('Number of Question Pairs')\n",
    "plt.title('Distribution of Question Pair Word Share With Stopword Filtering')\n",
    "plt.legend()\n",
    "plt.show()\n",
    "\n",
    "TRAIN_word_share_filtered.to_pickle('./pickles.gi/TRAIN_word_share_filtered.pkl')\n",
    "\n",
    "del TRAIN_word_share_filtered"
   ]
  },
  {
   "cell_type": "code",
   "execution_count": 50,
   "metadata": {
    "collapsed": false
   },
   "outputs": [
    {
     "data": {
      "image/png": "[encoded data removed]",
      "text/plain": [
       "<matplotlib.figure.Figure at 0x28240944748>"
      ]
     },
     "metadata": {},
     "output_type": "display_data"
    }
   ],
   "source": [
    "# Stemming\n",
    "TRAIN_word_share_stemmed = TRAIN_preprocessed.apply(lambda x: calculate_word_share(x['stemmed_1'], x['stemmed_2']), axis=1, raw=True)\n",
    "\n",
    "plt.figure(figsize=(15, 5))\n",
    "plt.hist(TRAIN_word_share_stemmed[TRAIN.is_duplicate == 1], bins=20, color=('indigo'), normed=True, alpha=0.6, label='Duplicate')\n",
    "plt.hist(TRAIN_word_share_stemmed[TRAIN.is_duplicate == 0], bins=20, color=('lawngreen'), normed=True, alpha=0.6, label='Non-Duplicate')\n",
    "plt.xlabel('Word Share')\n",
    "plt.ylabel('Number of Question Pairs')\n",
    "plt.title('Distribution of Question Pair Word Share with Stemming')\n",
    "plt.legend()\n",
    "plt.show()\n",
    "\n",
    "TRAIN_word_share_stemmed.to_pickle('./pickles.gi/TRAIN_word_share_stemmed.pkl')\n",
    "\n",
    "del TRAIN_word_share_stemmed"
   ]
  },
  {
   "cell_type": "code",
   "execution_count": 51,
   "metadata": {
    "collapsed": false
   },
   "outputs": [
    {
     "data": {
      "image/png": "[encoded data removed]",
      "text/plain": [
       "<matplotlib.figure.Figure at 0x282577fd6a0>"
      ]
     },
     "metadata": {},
     "output_type": "display_data"
    }
   ],
   "source": [
    "# Stopword filtering and stemming\n",
    "TRAIN_word_share_stemmed_filtered = TRAIN_preprocessed.apply(lambda x: calculate_word_share(x['stemmed_filtered_1'], x['stemmed_filtered_2']), axis=1, raw=True)\n",
    "\n",
    "plt.figure(figsize=(15, 5))\n",
    "plt.hist(TRAIN_word_share_stemmed_filtered[TRAIN.is_duplicate == 1], bins=20, color=('saddlebrown'), normed=True, alpha=0.6, label='Duplicate')\n",
    "plt.hist(TRAIN_word_share_stemmed_filtered[TRAIN.is_duplicate == 0], bins=20, color=('cyan'), normed=True, alpha=0.6, label='Non-Duplicate')\n",
    "plt.xlabel('Word Share')\n",
    "plt.ylabel('Number of Question Pairs')\n",
    "plt.title('Distribution of Question Pair Word Share with Stopword Filtering and Stemming')\n",
    "plt.legend()\n",
    "plt.show()\n",
    "\n",
    "TRAIN_word_share_stemmed_filtered.to_pickle('./pickles.gi/TRAIN_word_share_stemmed_filtered.pkl')\n",
    "\n",
    "del TRAIN_word_share_stemmed_filtered"
   ]
  },
  {
   "cell_type": "code",
   "execution_count": 52,
   "metadata": {
    "collapsed": false
   },
   "outputs": [
    {
     "data": {
      "image/png": "[encoded data removed]",
      "text/plain": [
       "<matplotlib.figure.Figure at 0x28251eafc50>"
      ]
     },
     "metadata": {},
     "output_type": "display_data"
    }
   ],
   "source": [
    "# Lemmatizing\n",
    "TRAIN_word_share_lemmatized = TRAIN_preprocessed.apply(lambda x: calculate_word_share(x['lemmatized_1'], x['lemmatized_2']), axis=1, raw=True)\n",
    "\n",
    "plt.figure(figsize=(15, 5))\n",
    "plt.hist(TRAIN_word_share_lemmatized[TRAIN.is_duplicate == 1], bins=20, color=('darkorange'), normed=True, alpha=0.6, label='Duplicate')\n",
    "plt.hist(TRAIN_word_share_lemmatized[TRAIN.is_duplicate == 0], bins=20, color=('springgreen'), normed=True, alpha=0.6, label='Non-Duplicate')\n",
    "plt.xlabel('Word Share')\n",
    "plt.ylabel('Number of Question Pairs')\n",
    "plt.title('Distribution of Question Pair Word Share with Stemming')\n",
    "plt.legend()\n",
    "plt.show()\n",
    "\n",
    "TRAIN_word_share_lemmatized.to_pickle('./pickles.gi/TRAIN_word_share_lemmatized.pkl')\n",
    "\n",
    "del TRAIN_word_share_lemmatized"
   ]
  },
  {
   "cell_type": "code",
   "execution_count": 53,
   "metadata": {
    "collapsed": false
   },
   "outputs": [
    {
     "data": {
      "image/png": "[encoded data removed]",
      "text/plain": [
       "<matplotlib.figure.Figure at 0x282408d6d30>"
      ]
     },
     "metadata": {},
     "output_type": "display_data"
    }
   ],
   "source": [
    "# Stopword filtering and lemmatizing\n",
    "TRAIN_word_share_lemmatized_filtered = TRAIN_preprocessed.apply(lambda x: calculate_word_share(x['lemmatized_filtered_1'], x['lemmatized_filtered_2']), axis=1, raw=True)\n",
    "\n",
    "plt.figure(figsize=(15, 5))\n",
    "plt.hist(TRAIN_word_share_lemmatized_filtered[TRAIN.is_duplicate == 1], bins=20, color=('maroon'), normed=True, alpha=0.6, label='Duplicate')\n",
    "plt.hist(TRAIN_word_share_lemmatized_filtered[TRAIN.is_duplicate == 0], bins=20, color=('yellow'), normed=True, alpha=0.6, label='Non-Duplicate')\n",
    "plt.xlabel('Word Share')\n",
    "plt.ylabel('Number of Question Pairs')\n",
    "plt.title('Distribution of Question Pair Word Share with Stopword Filtering and Lemmatizing')\n",
    "plt.legend()\n",
    "plt.show()\n",
    "\n",
    "TRAIN_word_share_lemmatized_filtered.to_pickle('./pickles.gi/TRAIN_word_share_lemmatized_filtered.pkl')\n",
    "\n",
    "del TRAIN_word_share_lemmatized_filtered"
   ]
  },
  {
   "cell_type": "code",
   "execution_count": 55,
   "metadata": {
    "collapsed": true
   },
   "outputs": [],
   "source": [
    "# Combine metrics into single dataframe\n",
    "df = pd.DataFrame()\n",
    "df['pid'] = TRAIN_preprocessed.pid\n",
    "df['base'] = pd.read_pickle('./pickles.gi/TRAIN_word_share_base.pkl')\n",
    "df['filtered'] = pd.read_pickle('./pickles.gi/TRAIN_word_share_filtered.pkl')\n",
    "df['stemmed'] = pd.read_pickle('./pickles.gi/TRAIN_word_share_stemmed.pkl')\n",
    "df['stemmed_filtered'] = pd.read_pickle('./pickles.gi/TRAIN_word_share_stemmed_filtered.pkl')\n",
    "df['lemmatized'] = pd.read_pickle('./pickles.gi/TRAIN_word_share_lemmatized.pkl')\n",
    "df['lemmatized_filtered'] = pd.read_pickle('./pickles.gi/TRAIN_word_share_lemmatized_filtered.pkl')\n",
    "df.to_pickle('./pickles.gi/TRAIN_word_share.pkl')\n",
    "\n",
    "del df, TRAIN_preprocessed"
   ]
  },
  {
   "cell_type": "markdown",
   "metadata": {},
   "source": [
    "#### TF-IDF"
   ]
  },
  {
   "cell_type": "code",
   "execution_count": 84,
   "metadata": {
    "collapsed": false,
    "scrolled": false
   },
   "outputs": [],
   "source": [
    "TRAIN_preprocessed_stacked = pd.read_pickle('./pickles.gi/TRAIN_preprocessed_stacked.pkl')\n",
    "vectorizer = TfidfVectorizer()\n",
    "\n",
    "# Base\n",
    "TDX = vectorizer.fit_transform(TRAIN_preprocessed_stacked.base.fillna('').apply(lambda x: ' '.join(x)))\n",
    "weights = dict(zip(vectorizer.get_feature_names(), vectorizer.idf_))\n",
    "pickle.dump(weights, open('./pickles.gi/TRAIN_tfidf_weights_base.pkl', 'wb'))\n",
    "\n",
    "# Filtered\n",
    "TDX = vectorizer.fit_transform(TRAIN_preprocessed_stacked.filtered.fillna('').apply(lambda x: ' '.join(x)))\n",
    "weights = dict(zip(vectorizer.get_feature_names(), vectorizer.idf_))\n",
    "pickle.dump(weights, open('./pickles.gi/TRAIN_tfidf_weights_filtered.pkl', 'wb'))\n",
    "\n",
    "# Stemmed\n",
    "TDX = vectorizer.fit_transform(TRAIN_preprocessed_stacked.stemmed.fillna('').apply(lambda x: ' '.join(x)))\n",
    "weights = dict(zip(vectorizer.get_feature_names(), vectorizer.idf_))\n",
    "pickle.dump(weights, open('./pickles.gi/TRAIN_tfidf_weights_stemmed.pkl', 'wb'))\n",
    "\n",
    "# Stemmed & Filtered\n",
    "TDX = vectorizer.fit_transform(TRAIN_preprocessed_stacked.stemmed_filtered.fillna('').apply(lambda x: ' '.join(x)))\n",
    "weights = dict(zip(vectorizer.get_feature_names(), vectorizer.idf_))\n",
    "pickle.dump(weights, open('./pickles.gi/TRAIN_tfidf_weights_stemmed_filtered.pkl', 'wb'))\n",
    "\n",
    "# Lemmatized\n",
    "TDX = vectorizer.fit_transform(TRAIN_preprocessed_stacked.lemmatized.fillna('').apply(lambda x: ' '.join(x)))\n",
    "weights = dict(zip(vectorizer.get_feature_names(), vectorizer.idf_))\n",
    "pickle.dump(weights, open('./pickles.gi/TRAIN_tfidf_weights_lemmatized.pkl', 'wb'))\n",
    "\n",
    "# Lemmatized & Filtered\n",
    "TDX = vectorizer.fit_transform(TRAIN_preprocessed_stacked.lemmatized_filtered.fillna('').apply(lambda x: ' '.join(x)))\n",
    "weights = dict(zip(vectorizer.get_feature_names(), vectorizer.idf_))\n",
    "pickle.dump(weights, open('./pickles.gi/TRAIN_tfidf_weights_lemmatized_filtered.pkl', 'wb'))\n",
    "\n",
    "del TRAIN_preprocessed_stacked, vectorizer, TDX, weights"
   ]
  },
  {
   "cell_type": "code",
   "execution_count": 75,
   "metadata": {
    "collapsed": true
   },
   "outputs": [],
   "source": [
    "TRAIN_preprocessed_unstacked = pd.read_pickle('./pickles.gi/TRAIN_preprocessed_unstacked.pkl')"
   ]
  },
  {
   "cell_type": "code",
   "execution_count": 76,
   "metadata": {
    "collapsed": false
   },
   "outputs": [
    {
     "data": {
      "image/png": "[encoded data removed]",
      "text/plain": [
       "<matplotlib.figure.Figure at 0x284bcfc45f8>"
      ]
     },
     "metadata": {},
     "output_type": "display_data"
    }
   ],
   "source": [
    "weights = pickle.load(open('./pickles.gi/TRAIN_tfidf_weights_base.pkl', 'rb'))\n",
    "TRAIN_tfidf_word_share_base = TRAIN_preprocessed_unstacked.apply(lambda x: calculate_word_share(x['base_1'], x['base_2'], weights), axis=1, raw=True)\n",
    "\n",
    "plt.figure(figsize=(15, 5))\n",
    "plt.hist(TRAIN_tfidf_word_share_base[TRAIN.is_duplicate == 1], bins=20, color=('gray'), normed=True, alpha=0.6, label='Duplicate')\n",
    "plt.hist(TRAIN_tfidf_word_share_base[TRAIN.is_duplicate == 0], bins=20, color=('orchid'), normed=True, alpha=0.6, label='Non-Duplicate')\n",
    "plt.xlabel('Word Share (TF-IDF)')\n",
    "plt.ylabel('Number of Question Pairs')\n",
    "plt.title('Distribution of Question Pair Word Share (TF-IDF)')\n",
    "plt.legend()\n",
    "plt.show()\n",
    "\n",
    "TRAIN_tfidf_word_share_base.to_pickle('./pickles.gi/TRAIN_tfidf_word_share_base.pkl')\n",
    "\n",
    "del weights, TRAIN_tfidf_word_share_base"
   ]
  },
  {
   "cell_type": "code",
   "execution_count": 80,
   "metadata": {
    "collapsed": false
   },
   "outputs": [
    {
     "data": {
      "image/png": "[encoded data removed]",
      "text/plain": [
       "<matplotlib.figure.Figure at 0x284bcfbbdd8>"
      ]
     },
     "metadata": {},
     "output_type": "display_data"
    }
   ],
   "source": [
    "weights = pickle.load(open('./pickles.gi/TRAIN_tfidf_weights_filtered.pkl', 'rb'))\n",
    "TRAIN_tfidf_word_share_filtered = TRAIN_preprocessed_unstacked.apply(lambda x: calculate_word_share(x['filtered_1'], x['filtered_2'], weights), axis=1, raw=True)\n",
    "\n",
    "plt.figure(figsize=(15, 5))\n",
    "plt.hist(TRAIN_tfidf_word_share_filtered[TRAIN.is_duplicate == 1], bins=20, color=('midnightblue'), normed=True, alpha=0.6, label='Duplicate')\n",
    "plt.hist(TRAIN_tfidf_word_share_filtered[TRAIN.is_duplicate == 0], bins=20, color=('burlywood'), normed=True, alpha=0.6, label='Non-Duplicate')\n",
    "plt.xlabel('Word Share (TF-IDF)')\n",
    "plt.ylabel('Number of Question Pairs')\n",
    "plt.title('Distribution of Question Pair Word Share (TF-IDF)')\n",
    "plt.legend()\n",
    "plt.show()\n",
    "\n",
    "TRAIN_tfidf_word_share_filtered.to_pickle('./pickles.gi/TRAIN_tfidf_word_share_filtered.pkl')\n",
    "\n",
    "del weights, TRAIN_tfidf_word_share_filtered"
   ]
  },
  {
   "cell_type": "code",
   "execution_count": 81,
   "metadata": {
    "collapsed": false
   },
   "outputs": [
    {
     "data": {
      "image/png": "[encoded data removed]",
      "text/plain": [
       "<matplotlib.figure.Figure at 0x283ea439a58>"
      ]
     },
     "metadata": {},
     "output_type": "display_data"
    }
   ],
   "source": [
    "weights = pickle.load(open('./pickles.gi/TRAIN_tfidf_weights_stemmed.pkl', 'rb'))\n",
    "TRAIN_tfidf_word_share_stemmed = TRAIN_preprocessed_unstacked.apply(lambda x: calculate_word_share(x['stemmed_1'], x['stemmed_2'], weights), axis=1, raw=True)\n",
    "\n",
    "plt.figure(figsize=(15, 5))\n",
    "plt.hist(TRAIN_tfidf_word_share_stemmed[TRAIN.is_duplicate == 1], bins=20, color=('slategray'), normed=True, alpha=0.6, label='Duplicate')\n",
    "plt.hist(TRAIN_tfidf_word_share_stemmed[TRAIN.is_duplicate == 0], bins=20, color=('dodgerblue'), normed=True, alpha=0.6, label='Non-Duplicate')\n",
    "plt.xlabel('Word Share (TF-IDF)')\n",
    "plt.ylabel('Number of Question Pairs')\n",
    "plt.title('Distribution of Question Pair Word Share (TF-IDF)')\n",
    "plt.legend()\n",
    "plt.show()\n",
    "\n",
    "TRAIN_tfidf_word_share_stemmed.to_pickle('./pickles.gi/TRAIN_tfidf_word_share_stemmed.pkl')\n",
    "\n",
    "del weights, TRAIN_tfidf_word_share_stemmed"
   ]
  },
  {
   "cell_type": "code",
   "execution_count": 82,
   "metadata": {
    "collapsed": false
   },
   "outputs": [
    {
     "data": {
      "image/png": "[encoded data removed]",
      "text/plain": [
       "<matplotlib.figure.Figure at 0x284951327f0>"
      ]
     },
     "metadata": {},
     "output_type": "display_data"
    }
   ],
   "source": [
    "weights = pickle.load(open('./pickles.gi/TRAIN_tfidf_weights_stemmed_filtered.pkl', 'rb'))\n",
    "TRAIN_tfidf_word_share_stemmed_filtered = TRAIN_preprocessed_unstacked.apply(lambda x: calculate_word_share(x['stemmed_filtered_1'], x['stemmed_filtered_2'], weights), axis=1, raw=True)\n",
    "\n",
    "plt.figure(figsize=(15, 5))\n",
    "plt.hist(TRAIN_tfidf_word_share_stemmed_filtered[TRAIN.is_duplicate == 1], bins=20, color=('darkolivegreen'), normed=True, alpha=0.6, label='Duplicate')\n",
    "plt.hist(TRAIN_tfidf_word_share_stemmed_filtered[TRAIN.is_duplicate == 0], bins=20, color=('lightskyblue'), normed=True, alpha=0.6, label='Non-Duplicate')\n",
    "plt.xlabel('Word Share (TF-IDF)')\n",
    "plt.ylabel('Number of Question Pairs')\n",
    "plt.title('Distribution of Question Pair Word Share (TF-IDF)')\n",
    "plt.legend()\n",
    "plt.show()\n",
    "\n",
    "TRAIN_tfidf_word_share_stemmed_filtered.to_pickle('./pickles.gi/TRAIN_tfidf_word_share_stemmed_filtered.pkl')\n",
    "\n",
    "del weights, TRAIN_tfidf_word_share_stemmed_filtered"
   ]
  },
  {
   "cell_type": "code",
   "execution_count": 85,
   "metadata": {
    "collapsed": false
   },
   "outputs": [
    {
     "data": {
      "image/png": "[encoded data removed]",
      "text/plain": [
       "<matplotlib.figure.Figure at 0x28231aa2e10>"
      ]
     },
     "metadata": {},
     "output_type": "display_data"
    }
   ],
   "source": [
    "weights = pickle.load(open('./pickles.gi/TRAIN_tfidf_weights_lemmatized.pkl', 'rb'))\n",
    "TRAIN_tfidf_word_share_lemmatized = TRAIN_preprocessed_unstacked.apply(lambda x: calculate_word_share(x['lemmatized_1'], x['lemmatized_2'], weights), axis=1, raw=True)\n",
    "\n",
    "plt.figure(figsize=(15, 5))\n",
    "plt.hist(TRAIN_tfidf_word_share_lemmatized[TRAIN.is_duplicate == 1], bins=20, color=('navy'), normed=True, alpha=0.6, label='Duplicate')\n",
    "plt.hist(TRAIN_tfidf_word_share_lemmatized[TRAIN.is_duplicate == 0], bins=20, color=('tomato'), normed=True, alpha=0.6, label='Non-Duplicate')\n",
    "plt.xlabel('Word Share (TF-IDF)')\n",
    "plt.ylabel('Number of Question Pairs')\n",
    "plt.title('Distribution of Question Pair Word Share (TF-IDF)')\n",
    "plt.legend()\n",
    "plt.show()\n",
    "\n",
    "TRAIN_tfidf_word_share_lemmatized.to_pickle('./pickles.gi/TRAIN_tfidf_word_share_lemmatized.pkl')\n",
    "\n",
    "del weights, TRAIN_tfidf_word_share_lemmatized"
   ]
  },
  {
   "cell_type": "code",
   "execution_count": 86,
   "metadata": {
    "collapsed": false
   },
   "outputs": [
    {
     "data": {
      "image/png": "[encoded data removed]",
      "text/plain": [
       "<matplotlib.figure.Figure at 0x2821774c6d8>"
      ]
     },
     "metadata": {},
     "output_type": "display_data"
    }
   ],
   "source": [
    "weights = pickle.load(open('./pickles.gi/TRAIN_tfidf_weights_lemmatized_filtered.pkl', 'rb'))\n",
    "TRAIN_tfidf_word_share_lemmatized_filtered = TRAIN_preprocessed_unstacked.apply(lambda x: calculate_word_share(x['lemmatized_filtered_1'], x['lemmatized_filtered_2'], weights), axis=1, raw=True)\n",
    "\n",
    "plt.figure(figsize=(15, 5))\n",
    "plt.hist(TRAIN_tfidf_word_share_lemmatized_filtered[TRAIN.is_duplicate == 1], bins=20, color=('firebrick'), normed=True, alpha=0.6, label='Duplicate')\n",
    "plt.hist(TRAIN_tfidf_word_share_lemmatized_filtered[TRAIN.is_duplicate == 0], bins=20, color=('aquamarine'), normed=True, alpha=0.6, label='Non-Duplicate')\n",
    "plt.xlabel('Word Share (TF-IDF)')\n",
    "plt.ylabel('Number of Question Pairs')\n",
    "plt.title('Distribution of Question Pair Word Share (TF-IDF)')\n",
    "plt.legend()\n",
    "plt.show()\n",
    "\n",
    "TRAIN_tfidf_word_share_lemmatized_filtered.to_pickle('./pickles.gi/TRAIN_tfidf_word_share_lemmatized_filtered.pkl')\n",
    "\n",
    "del weights, TRAIN_tfidf_word_share_lemmatized_filtered"
   ]
  },
  {
   "cell_type": "code",
   "execution_count": 87,
   "metadata": {
    "collapsed": true
   },
   "outputs": [],
   "source": [
    "# Combine metrics into single dataframe\n",
    "df = pd.DataFrame()\n",
    "df['pid'] = TRAIN_preprocessed_unstacked.pid\n",
    "df['base'] = pd.read_pickle('./pickles.gi/TRAIN_tfidf_word_share_base.pkl')\n",
    "df['filtered'] = pd.read_pickle('./pickles.gi/TRAIN_tfidf_word_share_filtered.pkl')\n",
    "df['stemmed'] = pd.read_pickle('./pickles.gi/TRAIN_tfidf_word_share_stemmed.pkl')\n",
    "df['stemmed_filtered'] = pd.read_pickle('./pickles.gi/TRAIN_tfidf_word_share_stemmed_filtered.pkl')\n",
    "df['lemmatized'] = pd.read_pickle('./pickles.gi/TRAIN_tfidf_word_share_lemmatized.pkl')\n",
    "df['lemmatized_filtered'] = pd.read_pickle('./pickles.gi/TRAIN_tfidf_word_share_lemmatized_filtered.pkl')\n",
    "df.to_pickle('./pickles.gi/TRAIN_tfidf_word_share.pkl')\n",
    "\n",
    "del df, TRAIN_preprocessed_unstacked"
   ]
  },
  {
   "cell_type": "markdown",
   "metadata": {},
   "source": [
    "#### ROC AUC Comparison"
   ]
  },
  {
   "cell_type": "code",
   "execution_count": 88,
   "metadata": {
    "collapsed": false
   },
   "outputs": [
    {
     "name": "stdout",
     "output_type": "stream",
     "text": [
      "Word Share Proportion\n",
      "---------------------\n",
      "Base:                          0.717529896461\n",
      "Filtered:                      0.743939809911\n",
      "Stemmed:                       0.713523771993\n",
      "Stemmed & Filtered:            0.737908827868\n",
      "Lemmatized:                    0.716489894896\n",
      "Lemmatized & Filtered:         0.743030404891\n",
      "\n",
      "TF-IDF Weighting\n",
      "----------------\n",
      "Base:                          0.740072079517\n",
      "Filtered:                      0.73889172313\n",
      "Stemmed:                       0.735719806883\n",
      "Stemmed & Filtered:            0.739308876228\n",
      "Lemmatized:                    0.739323070552\n",
      "Lemmatized & Filtered:         0.742681743386\n"
     ]
    }
   ],
   "source": [
    "TRAIN_word_share = pd.read_pickle('./pickles.gi/TRAIN_word_share.pkl')\n",
    "TRAIN_tfidf_word_share = pd.read_pickle('./pickles.gi/TRAIN_tfidf_word_share.pkl')\n",
    "\n",
    "print('Word Share Proportion')\n",
    "print('---------------------')\n",
    "print('Base:'.ljust(30), roc_auc_score(TRAIN.is_duplicate, TRAIN_word_share.base))\n",
    "print('Filtered:'.ljust(30), roc_auc_score(TRAIN.is_duplicate, TRAIN_word_share.filtered))\n",
    "print('Stemmed:'.ljust(30), roc_auc_score(TRAIN.is_duplicate, TRAIN_word_share.stemmed))\n",
    "print('Stemmed & Filtered:'.ljust(30), roc_auc_score(TRAIN.is_duplicate, TRAIN_word_share.stemmed_filtered))\n",
    "print('Lemmatized:'.ljust(30), roc_auc_score(TRAIN.is_duplicate, TRAIN_word_share.lemmatized))\n",
    "print('Lemmatized & Filtered:'.ljust(30), roc_auc_score(TRAIN.is_duplicate, TRAIN_word_share.lemmatized_filtered))\n",
    "print('\\nTF-IDF Weighting')\n",
    "print('----------------')\n",
    "print('Base:'.ljust(30), roc_auc_score(TRAIN.is_duplicate, TRAIN_tfidf_word_share.base))\n",
    "print('Filtered:'.ljust(30), roc_auc_score(TRAIN.is_duplicate, TRAIN_tfidf_word_share.filtered))\n",
    "print('Stemmed:'.ljust(30), roc_auc_score(TRAIN.is_duplicate, TRAIN_tfidf_word_share.stemmed))\n",
    "print('Stemmed & Filtered:'.ljust(30), roc_auc_score(TRAIN.is_duplicate, TRAIN_tfidf_word_share.stemmed_filtered))\n",
    "print('Lemmatized:'.ljust(30), roc_auc_score(TRAIN.is_duplicate, TRAIN_tfidf_word_share.lemmatized))\n",
    "print('Lemmatized & Filtered:'.ljust(30), roc_auc_score(TRAIN.is_duplicate, TRAIN_tfidf_word_share.lemmatized_filtered))\n",
    "\n",
    "del TRAIN_word_share, TRAIN_tfidf_word_share"
   ]
  },
  {
   "cell_type": "markdown",
   "metadata": {},
   "source": [
    "#### Doc2Vec"
   ]
  },
  {
   "cell_type": "code",
   "execution_count": 22,
   "metadata": {
    "collapsed": false,
    "scrolled": true
   },
   "outputs": [
    {
     "name": "stdout",
     "output_type": "stream",
     "text": [
      "START 2017-05-10 19:28:13.491662\n",
      "Training epoch 0\n",
      "completed pass 1 at alpha 0.025000\n",
      "2017-05-10 19:31:41.657485\n",
      "Training epoch 1\n",
      "completed pass 2 at alpha 0.022600\n",
      "2017-05-10 19:35:08.918684\n",
      "Training epoch 2\n",
      "completed pass 3 at alpha 0.020200\n",
      "2017-05-10 19:38:55.357011\n",
      "Training epoch 3\n",
      "completed pass 4 at alpha 0.017800\n",
      "2017-05-10 19:42:14.659196\n",
      "Training epoch 4\n",
      "completed pass 5 at alpha 0.015400\n",
      "2017-05-10 19:45:27.056608\n",
      "Training epoch 5\n",
      "completed pass 6 at alpha 0.013000\n",
      "2017-05-10 19:49:02.592320\n",
      "Training epoch 6\n",
      "completed pass 7 at alpha 0.010600\n",
      "2017-05-10 19:52:01.502830\n",
      "Training epoch 7\n",
      "completed pass 8 at alpha 0.008200\n",
      "2017-05-10 19:55:36.078428\n",
      "Training epoch 8\n",
      "completed pass 9 at alpha 0.005800\n",
      "2017-05-10 19:58:53.397738\n",
      "Training epoch 9\n",
      "completed pass 10 at alpha 0.003400\n",
      "2017-05-10 20:02:00.884797\n",
      "END 2017-05-10 20:02:02.222802\n"
     ]
    }
   ],
   "source": [
    "# Multicore\n",
    "cores = mp.cpu_count() - 1\n",
    "assert d2v.FAST_VERSION > -1, \"Doc2Vec will run painfully slow otherwise\"\n",
    "\n",
    "# Get doc list\n",
    "tagged_docs = pd.read_pickle('./pickles.gi/TRAIN_tagged.pkl')\n",
    "doc_list = tagged_docs.lemmatized_filtered.tolist()\n",
    "\n",
    "# Build Model: PV-DM w/average\n",
    "dmm_model = d2v.Doc2Vec(dm=1, dm_mean=1, size=300, window=5, negative=5, hs=0, min_count=2, workers=cores)\n",
    "\n",
    "train_model = dmm_model\n",
    "\n",
    "# Train model\n",
    "alpha, min_alpha, passes = (0.025, 0.001, 10)\n",
    "alpha_delta = (alpha - min_alpha) / passes\n",
    "\n",
    "# Build vocab table\n",
    "train_model.build_vocab(sentences=doc_list)\n",
    "\n",
    "# Get pretrained word2vec weights where possible\n",
    "train_model.intersect_word2vec_format('./word2vec.gi/GoogleNews-vectors-negative300.bin', binary=True)\n",
    "\n",
    "print(\"START %s\" % dt.datetime.now())\n",
    "\n",
    "for epoch in range(passes):\n",
    "    # shuffling gets best results\n",
    "    shuffle(doc_list)\n",
    "\n",
    "    print ('Training epoch %s' % epoch)\n",
    "\n",
    "    # train\n",
    "    train_model.alpha, train_model.min_alpha = alpha, alpha\n",
    "    train_model.train(doc_list)\n",
    "\n",
    "    print('completed pass %i at alpha %f' % (epoch + 1, alpha))\n",
    "    print(str(dt.datetime.now()))\n",
    "    \n",
    "    alpha -= alpha_delta\n",
    "\n",
    "train_model.save('./models.gi/dmm_model_lemmatized_filtered_word2vec_size300_iter10')\n",
    "\n",
    "print(\"END %s\" % str(dt.datetime.now()))\n",
    "\n",
    "del cores, tagged_docs, dmm_model, doc_list, alpha, min_alpha, passes, alpha_delta, train_model"
   ]
  },
  {
   "cell_type": "code",
   "execution_count": 44,
   "metadata": {
    "collapsed": false
   },
   "outputs": [],
   "source": [
    "dmm_model = d2v.Doc2Vec.load('./models.gi/dmm_model_lemmatized_filtered_word2vec_size300_iter10')\n",
    "\n",
    "TRAIN_preprocessed_unstacked = pd.read_pickle('./pickles.gi/TRAIN_preprocessed_unstacked.pkl')\n",
    "\n",
    "df = pd.DataFrame()\n",
    "df['vect_1'] = [dmm_model.infer_vector(x) for x in TRAIN_preprocessed_unstacked.lemmatized_filtered_1]\n",
    "df['vect_2'] = [dmm_model.infer_vector(x) for x in TRAIN_preprocessed_unstacked.lemmatized_filtered_2]\n",
    "\n",
    "TRAIN_d2v_cos_sim = pd.DataFrame()\n",
    "TRAIN_d2v_cos_sim['lemmatized_filtered'] = df.apply(lambda x: 1 - cosine(x.vect_1, x.vect_2), axis=1)\n",
    "TRAIN_d2v_cos_sim.to_pickle('./pickles.gi/TRAIN_d2v_cos_sim.pkl')\n",
    "\n",
    "del dmm_model, TRAIN_preprocessed_unstacked, df, TRAIN_d2v_cos_sim"
   ]
  },
  {
   "cell_type": "markdown",
   "metadata": {},
   "source": [
    "## TRAINING"
   ]
  },
  {
   "cell_type": "markdown",
   "metadata": {},
   "source": [
    "### Train-Validate-Test  Split"
   ]
  },
  {
   "cell_type": "code",
   "execution_count": 45,
   "metadata": {
    "collapsed": false
   },
   "outputs": [],
   "source": [
    "TRAIN_word_share = pd.read_pickle('./pickles.gi/TRAIN_word_share.pkl')\n",
    "TRAIN_tfidf_word_share = pd.read_pickle('./pickles.gi/TRAIN_tfidf_word_share.pkl')\n",
    "TRAIN_d2v_cos_sim = pd.read_pickle('./pickles.gi/TRAIN_d2v_cos_sim.pkl')\n",
    "\n",
    "X_train = pd.DataFrame()\n",
    "X_train['word_share_base'] = TRAIN_word_share.base\n",
    "X_train['word_share_filtered'] = TRAIN_word_share.filtered\n",
    "X_train['word_share_stemmed'] = TRAIN_word_share.stemmed\n",
    "X_train['word_share_stemmed_filtered'] = TRAIN_word_share.stemmed_filtered\n",
    "X_train['word_share_lemmatized'] = TRAIN_word_share.lemmatized\n",
    "X_train['word_share_lemmatized_filtered'] = TRAIN_word_share.lemmatized\n",
    "X_train['tfidf_word_share_base'] = TRAIN_tfidf_word_share.base\n",
    "X_train['tfidf_word_share_filtered'] = TRAIN_tfidf_word_share.filtered\n",
    "X_train['tfidf_word_share_stemmed'] = TRAIN_tfidf_word_share.stemmed\n",
    "X_train['tfidf_word_share_stemmed_filtered'] = TRAIN_tfidf_word_share.stemmed_filtered\n",
    "X_train['tfidf_word_share_lemmatized'] = TRAIN_tfidf_word_share.lemmatized\n",
    "X_train['tfidf_word_share_lemmatized_filtered'] = TRAIN_tfidf_word_share.lemmatized_filtered\n",
    "X_train['d2v_cos_sim_lemmatized_filtered'] = TRAIN_d2v_cos_sim.lemmatized_filtered\n",
    "\n",
    "#X_test = pd.DataFrame()\n",
    "#X_test['word_share_base'] = TEST.apply(calculate_word_share, axis=1, raw=True)\n",
    "#X_test['word_share_no_stopwords'] = test_word_share_no_stopwords\n",
    "#X_test['word_share_stemmed'] = test_word_share_stemmed\n",
    "#X_test['word_share_no_stopwords_stemmed'] = test_word_share_no_stopwords_stemmed\n",
    "#X_test['word_share_tfidf'] = tfidf_test_word_share\n",
    "\n",
    "y_train = TRAIN.is_duplicate.values\n",
    "\n",
    "del TRAIN_word_share, TRAIN_tfidf_word_share, TRAIN_d2v_cos_sim"
   ]
  },
  {
   "cell_type": "code",
   "execution_count": 91,
   "metadata": {
    "collapsed": true
   },
   "outputs": [],
   "source": [
    "del df"
   ]
  },
  {
   "cell_type": "markdown",
   "metadata": {},
   "source": [
    "### Minority Class Over-Sampling"
   ]
  },
  {
   "cell_type": "code",
   "execution_count": 48,
   "metadata": {
    "collapsed": false
   },
   "outputs": [
    {
     "name": "stdout",
     "output_type": "stream",
     "text": [
      "Number of added samples:  105764\n"
     ]
    }
   ],
   "source": [
    "# https://github.com/scikit-learn-contrib/imbalanced-learn\n",
    "# https://beckernick.github.io/oversampling-modeling/\n",
    "\n",
    "sm = SMOTE(random_state=12, ratio = 1.0)\n",
    "X_train_smote, y_train_smote = sm.fit_sample(X_train, y_train)\n",
    "print('Number of added samples: ', str(X_train_smote.shape[0] - X_train.shape[0]))"
   ]
  },
  {
   "cell_type": "markdown",
   "metadata": {},
   "source": [
    "### Validation Set"
   ]
  },
  {
   "cell_type": "code",
   "execution_count": 49,
   "metadata": {
    "collapsed": false
   },
   "outputs": [],
   "source": [
    "# Validation Set\n",
    "X_training, X_validation, y_training, y_validation = train_test_split(X_train_smote, y_train_smote, test_size=0.2, random_state=42)"
   ]
  },
  {
   "cell_type": "markdown",
   "metadata": {},
   "source": [
    "### XGBoost"
   ]
  },
  {
   "cell_type": "markdown",
   "metadata": {},
   "source": [
    "#### Initial Training with Grid Search and Cross Validation"
   ]
  },
  {
   "cell_type": "code",
   "execution_count": 79,
   "metadata": {
    "collapsed": false,
    "scrolled": true
   },
   "outputs": [
    {
     "name": "stdout",
     "output_type": "stream",
     "text": [
      "Fitting 4 folds for each of 20 candidates, totalling 80 fits\n",
      "[CV] max_depth=3, min_child_weight=1 .................................\n",
      "[CV] . max_depth=3, min_child_weight=1, score=-0.463556, total= 1.3min\n",
      "[CV] max_depth=3, min_child_weight=1 .................................\n"
     ]
    },
    {
     "name": "stderr",
     "output_type": "stream",
     "text": [
      "[Parallel(n_jobs=1)]: Done   1 out of   1 | elapsed:  1.3min remaining:    0.0s\n"
     ]
    },
    {
     "name": "stdout",
     "output_type": "stream",
     "text": [
      "[CV] . max_depth=3, min_child_weight=1, score=-0.460754, total= 1.3min\n",
      "[CV] max_depth=3, min_child_weight=1 .................................\n"
     ]
    },
    {
     "name": "stderr",
     "output_type": "stream",
     "text": [
      "[Parallel(n_jobs=1)]: Done   2 out of   2 | elapsed:  2.6min remaining:    0.0s\n"
     ]
    },
    {
     "name": "stdout",
     "output_type": "stream",
     "text": [
      "[CV] . max_depth=3, min_child_weight=1, score=-0.460443, total= 1.3min\n",
      "[CV] max_depth=3, min_child_weight=1 .................................\n"
     ]
    },
    {
     "name": "stderr",
     "output_type": "stream",
     "text": [
      "[Parallel(n_jobs=1)]: Done   3 out of   3 | elapsed:  4.0min remaining:    0.0s\n"
     ]
    },
    {
     "name": "stdout",
     "output_type": "stream",
     "text": [
      "[CV] . max_depth=3, min_child_weight=1, score=-0.458892, total= 1.3min\n",
      "[CV] max_depth=3, min_child_weight=3 .................................\n"
     ]
    },
    {
     "name": "stderr",
     "output_type": "stream",
     "text": [
      "[Parallel(n_jobs=1)]: Done   4 out of   4 | elapsed:  5.3min remaining:    0.0s\n"
     ]
    },
    {
     "name": "stdout",
     "output_type": "stream",
     "text": [
      "[CV] . max_depth=3, min_child_weight=3, score=-0.463522, total= 1.3min\n",
      "[CV] max_depth=3, min_child_weight=3 .................................\n"
     ]
    },
    {
     "name": "stderr",
     "output_type": "stream",
     "text": [
      "[Parallel(n_jobs=1)]: Done   5 out of   5 | elapsed:  6.6min remaining:    0.0s\n"
     ]
    },
    {
     "name": "stdout",
     "output_type": "stream",
     "text": [
      "[CV] . max_depth=3, min_child_weight=3, score=-0.460502, total= 1.3min\n",
      "[CV] max_depth=3, min_child_weight=3 .................................\n"
     ]
    },
    {
     "name": "stderr",
     "output_type": "stream",
     "text": [
      "[Parallel(n_jobs=1)]: Done   6 out of   6 | elapsed:  7.9min remaining:    0.0s\n"
     ]
    },
    {
     "name": "stdout",
     "output_type": "stream",
     "text": [
      "[CV] . max_depth=3, min_child_weight=3, score=-0.460091, total= 1.3min\n",
      "[CV] max_depth=3, min_child_weight=3 .................................\n"
     ]
    },
    {
     "name": "stderr",
     "output_type": "stream",
     "text": [
      "[Parallel(n_jobs=1)]: Done   7 out of   7 | elapsed:  9.3min remaining:    0.0s\n"
     ]
    },
    {
     "name": "stdout",
     "output_type": "stream",
     "text": [
      "[CV] . max_depth=3, min_child_weight=3, score=-0.459325, total= 1.3min\n",
      "[CV] max_depth=3, min_child_weight=5 .................................\n"
     ]
    },
    {
     "name": "stderr",
     "output_type": "stream",
     "text": [
      "[Parallel(n_jobs=1)]: Done   8 out of   8 | elapsed: 10.5min remaining:    0.0s\n"
     ]
    },
    {
     "name": "stdout",
     "output_type": "stream",
     "text": [
      "[CV] . max_depth=3, min_child_weight=5, score=-0.463901, total= 1.3min\n",
      "[CV] max_depth=3, min_child_weight=5 .................................\n"
     ]
    },
    {
     "name": "stderr",
     "output_type": "stream",
     "text": [
      "[Parallel(n_jobs=1)]: Done   9 out of   9 | elapsed: 11.9min remaining:    0.0s\n"
     ]
    },
    {
     "name": "stdout",
     "output_type": "stream",
     "text": [
      "[CV] . max_depth=3, min_child_weight=5, score=-0.460330, total= 1.3min\n",
      "[CV] max_depth=3, min_child_weight=5 .................................\n",
      "[CV] . max_depth=3, min_child_weight=5, score=-0.460492, total= 1.3min\n",
      "[CV] max_depth=3, min_child_weight=5 .................................\n",
      "[CV] . max_depth=3, min_child_weight=5, score=-0.459002, total= 1.3min\n",
      "[CV] max_depth=3, min_child_weight=7 .................................\n",
      "[CV] . max_depth=3, min_child_weight=7, score=-0.463878, total= 1.3min\n",
      "[CV] max_depth=3, min_child_weight=7 .................................\n",
      "[CV] . max_depth=3, min_child_weight=7, score=-0.460947, total= 1.3min\n",
      "[CV] max_depth=3, min_child_weight=7 .................................\n",
      "[CV] . max_depth=3, min_child_weight=7, score=-0.460133, total= 1.3min\n",
      "[CV] max_depth=3, min_child_weight=7 .................................\n",
      "[CV] . max_depth=3, min_child_weight=7, score=-0.459067, total= 1.3min\n",
      "[CV] max_depth=3, min_child_weight=9 .................................\n",
      "[CV] . max_depth=3, min_child_weight=9, score=-0.463393, total= 1.3min\n",
      "[CV] max_depth=3, min_child_weight=9 .................................\n",
      "[CV] . max_depth=3, min_child_weight=9, score=-0.461488, total= 1.3min\n",
      "[CV] max_depth=3, min_child_weight=9 .................................\n",
      "[CV] . max_depth=3, min_child_weight=9, score=-0.460057, total= 1.3min\n",
      "[CV] max_depth=3, min_child_weight=9 .................................\n",
      "[CV] . max_depth=3, min_child_weight=9, score=-0.459010, total= 1.3min\n",
      "[CV] max_depth=5, min_child_weight=1 .................................\n",
      "[CV] . max_depth=5, min_child_weight=1, score=-0.443053, total= 2.1min\n",
      "[CV] max_depth=5, min_child_weight=1 .................................\n",
      "[CV] . max_depth=5, min_child_weight=1, score=-0.440149, total= 2.1min\n",
      "[CV] max_depth=5, min_child_weight=1 .................................\n",
      "[CV] . max_depth=5, min_child_weight=1, score=-0.438634, total= 2.1min\n",
      "[CV] max_depth=5, min_child_weight=1 .................................\n",
      "[CV] . max_depth=5, min_child_weight=1, score=-0.437916, total= 2.1min\n",
      "[CV] max_depth=5, min_child_weight=3 .................................\n",
      "[CV] . max_depth=5, min_child_weight=3, score=-0.442653, total= 2.1min\n",
      "[CV] max_depth=5, min_child_weight=3 .................................\n",
      "[CV] . max_depth=5, min_child_weight=3, score=-0.439541, total= 2.1min\n",
      "[CV] max_depth=5, min_child_weight=3 .................................\n",
      "[CV] . max_depth=5, min_child_weight=3, score=-0.439108, total= 2.1min\n",
      "[CV] max_depth=5, min_child_weight=3 .................................\n",
      "[CV] . max_depth=5, min_child_weight=3, score=-0.438037, total= 2.1min\n",
      "[CV] max_depth=5, min_child_weight=5 .................................\n",
      "[CV] . max_depth=5, min_child_weight=5, score=-0.442477, total= 2.2min\n",
      "[CV] max_depth=5, min_child_weight=5 .................................\n",
      "[CV] . max_depth=5, min_child_weight=5, score=-0.438954, total= 2.1min\n",
      "[CV] max_depth=5, min_child_weight=5 .................................\n",
      "[CV] . max_depth=5, min_child_weight=5, score=-0.439077, total= 2.1min\n",
      "[CV] max_depth=5, min_child_weight=5 .................................\n",
      "[CV] . max_depth=5, min_child_weight=5, score=-0.438192, total= 2.1min\n",
      "[CV] max_depth=5, min_child_weight=7 .................................\n",
      "[CV] . max_depth=5, min_child_weight=7, score=-0.443672, total= 2.1min\n",
      "[CV] max_depth=5, min_child_weight=7 .................................\n",
      "[CV] . max_depth=5, min_child_weight=7, score=-0.439784, total= 2.1min\n",
      "[CV] max_depth=5, min_child_weight=7 .................................\n",
      "[CV] . max_depth=5, min_child_weight=7, score=-0.438007, total= 2.1min\n",
      "[CV] max_depth=5, min_child_weight=7 .................................\n",
      "[CV] . max_depth=5, min_child_weight=7, score=-0.438097, total= 2.1min\n",
      "[CV] max_depth=5, min_child_weight=9 .................................\n",
      "[CV] . max_depth=5, min_child_weight=9, score=-0.443316, total= 2.1min\n",
      "[CV] max_depth=5, min_child_weight=9 .................................\n",
      "[CV] . max_depth=5, min_child_weight=9, score=-0.440417, total= 2.1min\n",
      "[CV] max_depth=5, min_child_weight=9 .................................\n",
      "[CV] . max_depth=5, min_child_weight=9, score=-0.438946, total= 2.1min\n",
      "[CV] max_depth=5, min_child_weight=9 .................................\n",
      "[CV] . max_depth=5, min_child_weight=9, score=-0.438714, total= 2.1min\n",
      "[CV] max_depth=7, min_child_weight=1 .................................\n",
      "[CV] . max_depth=7, min_child_weight=1, score=-0.431509, total= 2.9min\n",
      "[CV] max_depth=7, min_child_weight=1 .................................\n",
      "[CV] . max_depth=7, min_child_weight=1, score=-0.428693, total= 3.0min\n",
      "[CV] max_depth=7, min_child_weight=1 .................................\n",
      "[CV] . max_depth=7, min_child_weight=1, score=-0.426969, total= 3.0min\n",
      "[CV] max_depth=7, min_child_weight=1 .................................\n",
      "[CV] . max_depth=7, min_child_weight=1, score=-0.428598, total= 3.0min\n",
      "[CV] max_depth=7, min_child_weight=3 .................................\n",
      "[CV] . max_depth=7, min_child_weight=3, score=-0.431429, total= 2.9min\n",
      "[CV] max_depth=7, min_child_weight=3 .................................\n",
      "[CV] . max_depth=7, min_child_weight=3, score=-0.428550, total= 2.9min\n",
      "[CV] max_depth=7, min_child_weight=3 .................................\n",
      "[CV] . max_depth=7, min_child_weight=3, score=-0.427847, total= 2.9min\n",
      "[CV] max_depth=7, min_child_weight=3 .................................\n",
      "[CV] . max_depth=7, min_child_weight=3, score=-0.427698, total= 2.9min\n",
      "[CV] max_depth=7, min_child_weight=5 .................................\n",
      "[CV] . max_depth=7, min_child_weight=5, score=-0.432088, total= 2.9min\n",
      "[CV] max_depth=7, min_child_weight=5 .................................\n",
      "[CV] . max_depth=7, min_child_weight=5, score=-0.429480, total= 2.9min\n",
      "[CV] max_depth=7, min_child_weight=5 .................................\n",
      "[CV] . max_depth=7, min_child_weight=5, score=-0.428418, total= 2.9min\n",
      "[CV] max_depth=7, min_child_weight=5 .................................\n",
      "[CV] . max_depth=7, min_child_weight=5, score=-0.429364, total= 2.9min\n",
      "[CV] max_depth=7, min_child_weight=7 .................................\n",
      "[CV] . max_depth=7, min_child_weight=7, score=-0.432728, total= 2.9min\n",
      "[CV] max_depth=7, min_child_weight=7 .................................\n",
      "[CV] . max_depth=7, min_child_weight=7, score=-0.429254, total= 3.0min\n",
      "[CV] max_depth=7, min_child_weight=7 .................................\n",
      "[CV] . max_depth=7, min_child_weight=7, score=-0.428969, total= 2.9min\n",
      "[CV] max_depth=7, min_child_weight=7 .................................\n",
      "[CV] . max_depth=7, min_child_weight=7, score=-0.428764, total= 2.9min\n",
      "[CV] max_depth=7, min_child_weight=9 .................................\n",
      "[CV] . max_depth=7, min_child_weight=9, score=-0.433460, total= 2.9min\n",
      "[CV] max_depth=7, min_child_weight=9 .................................\n",
      "[CV] . max_depth=7, min_child_weight=9, score=-0.430046, total= 2.9min\n",
      "[CV] max_depth=7, min_child_weight=9 .................................\n",
      "[CV] . max_depth=7, min_child_weight=9, score=-0.429229, total= 2.9min\n",
      "[CV] max_depth=7, min_child_weight=9 .................................\n",
      "[CV] . max_depth=7, min_child_weight=9, score=-0.429669, total= 2.9min\n",
      "[CV] max_depth=9, min_child_weight=1 .................................\n",
      "[CV] . max_depth=9, min_child_weight=1, score=-0.426165, total= 3.8min\n",
      "[CV] max_depth=9, min_child_weight=1 .................................\n",
      "[CV] . max_depth=9, min_child_weight=1, score=-0.422536, total= 3.8min\n",
      "[CV] max_depth=9, min_child_weight=1 .................................\n",
      "[CV] . max_depth=9, min_child_weight=1, score=-0.421811, total= 3.8min\n",
      "[CV] max_depth=9, min_child_weight=1 .................................\n",
      "[CV] . max_depth=9, min_child_weight=1, score=-0.422214, total= 3.8min\n",
      "[CV] max_depth=9, min_child_weight=3 .................................\n",
      "[CV] . max_depth=9, min_child_weight=3, score=-0.426812, total= 3.8min\n",
      "[CV] max_depth=9, min_child_weight=3 .................................\n",
      "[CV] . max_depth=9, min_child_weight=3, score=-0.423203, total= 3.8min\n",
      "[CV] max_depth=9, min_child_weight=3 .................................\n",
      "[CV] . max_depth=9, min_child_weight=3, score=-0.421466, total= 3.8min\n",
      "[CV] max_depth=9, min_child_weight=3 .................................\n",
      "[CV] . max_depth=9, min_child_weight=3, score=-0.422983, total= 3.8min\n",
      "[CV] max_depth=9, min_child_weight=5 .................................\n",
      "[CV] . max_depth=9, min_child_weight=5, score=-0.427175, total= 3.8min\n",
      "[CV] max_depth=9, min_child_weight=5 .................................\n",
      "[CV] . max_depth=9, min_child_weight=5, score=-0.423267, total= 3.8min\n",
      "[CV] max_depth=9, min_child_weight=5 .................................\n",
      "[CV] . max_depth=9, min_child_weight=5, score=-0.422853, total= 3.8min\n",
      "[CV] max_depth=9, min_child_weight=5 .................................\n",
      "[CV] . max_depth=9, min_child_weight=5, score=-0.423872, total= 3.7min\n",
      "[CV] max_depth=9, min_child_weight=7 .................................\n",
      "[CV] . max_depth=9, min_child_weight=7, score=-0.427902, total= 3.8min\n",
      "[CV] max_depth=9, min_child_weight=7 .................................\n",
      "[CV] . max_depth=9, min_child_weight=7, score=-0.424418, total= 3.8min\n",
      "[CV] max_depth=9, min_child_weight=7 .................................\n",
      "[CV] . max_depth=9, min_child_weight=7, score=-0.423853, total= 3.8min\n",
      "[CV] max_depth=9, min_child_weight=7 .................................\n",
      "[CV] . max_depth=9, min_child_weight=7, score=-0.424136, total= 3.7min\n",
      "[CV] max_depth=9, min_child_weight=9 .................................\n",
      "[CV] . max_depth=9, min_child_weight=9, score=-0.428936, total= 3.8min\n",
      "[CV] max_depth=9, min_child_weight=9 .................................\n",
      "[CV] . max_depth=9, min_child_weight=9, score=-0.425032, total= 3.7min\n",
      "[CV] max_depth=9, min_child_weight=9 .................................\n",
      "[CV] . max_depth=9, min_child_weight=9, score=-0.424012, total= 3.8min\n",
      "[CV] max_depth=9, min_child_weight=9 .................................\n",
      "[CV] . max_depth=9, min_child_weight=9, score=-0.425808, total= 3.7min\n"
     ]
    },
    {
     "name": "stderr",
     "output_type": "stream",
     "text": [
      "[Parallel(n_jobs=1)]: Done  80 out of  80 | elapsed: 206.0min finished\n",
      "C:\\Users\\camro\\Anaconda3\\lib\\site-packages\\sklearn\\model_selection\\_search.py:667: DeprecationWarning: The grid_scores_ attribute was deprecated in version 0.18 in favor of the more elaborate cv_results_ attribute. The grid_scores_ attribute will not be available from 0.20\n",
      "  DeprecationWarning)\n"
     ]
    },
    {
     "data": {
      "text/plain": [
       "([mean: -0.46091, std: 0.00168, params: {'max_depth': 3, 'min_child_weight': 1},\n",
       "  mean: -0.46086, std: 0.00159, params: {'max_depth': 3, 'min_child_weight': 3},\n",
       "  mean: -0.46093, std: 0.00181, params: {'max_depth': 3, 'min_child_weight': 5},\n",
       "  mean: -0.46101, std: 0.00179, params: {'max_depth': 3, 'min_child_weight': 7},\n",
       "  mean: -0.46099, std: 0.00164, params: {'max_depth': 3, 'min_child_weight': 9},\n",
       "  mean: -0.43994, std: 0.00197, params: {'max_depth': 5, 'min_child_weight': 1},\n",
       "  mean: -0.43983, std: 0.00172, params: {'max_depth': 5, 'min_child_weight': 3},\n",
       "  mean: -0.43968, std: 0.00165, params: {'max_depth': 5, 'min_child_weight': 5},\n",
       "  mean: -0.43989, std: 0.00230, params: {'max_depth': 5, 'min_child_weight': 7},\n",
       "  mean: -0.44035, std: 0.00183, params: {'max_depth': 5, 'min_child_weight': 9},\n",
       "  mean: -0.42894, std: 0.00163, params: {'max_depth': 7, 'min_child_weight': 1},\n",
       "  mean: -0.42888, std: 0.00151, params: {'max_depth': 7, 'min_child_weight': 3},\n",
       "  mean: -0.42984, std: 0.00136, params: {'max_depth': 7, 'min_child_weight': 5},\n",
       "  mean: -0.42993, std: 0.00163, params: {'max_depth': 7, 'min_child_weight': 7},\n",
       "  mean: -0.43060, std: 0.00168, params: {'max_depth': 7, 'min_child_weight': 9},\n",
       "  mean: -0.42318, std: 0.00174, params: {'max_depth': 9, 'min_child_weight': 1},\n",
       "  mean: -0.42362, std: 0.00196, params: {'max_depth': 9, 'min_child_weight': 3},\n",
       "  mean: -0.42429, std: 0.00170, params: {'max_depth': 9, 'min_child_weight': 5},\n",
       "  mean: -0.42508, std: 0.00164, params: {'max_depth': 9, 'min_child_weight': 7},\n",
       "  mean: -0.42595, std: 0.00184, params: {'max_depth': 9, 'min_child_weight': 9}],\n",
       " {'max_depth': 9, 'min_child_weight': 1},\n",
       " -0.42318143814217912)"
      ]
     },
     "execution_count": 79,
     "metadata": {},
     "output_type": "execute_result"
    }
   ],
   "source": [
    "cores = mp.cpu_count() - 1\n",
    "\n",
    "params = {\n",
    "    'max_depth':range(3,10,2),\n",
    "    'min_child_weight':range(1,10,2)\n",
    "}\n",
    "\n",
    "xgb_model = xgb.XGBClassifier(\n",
    " learning_rate=0.1,\n",
    " n_estimators=1000,\n",
    " objective= 'binary:logistic',\n",
    " scale_pos_weight=1,\n",
    " seed=27)\n",
    "\n",
    "grid_search = GridSearchCV(estimator=xgb_model, param_grid=params, scoring='neg_log_loss', cv=4, verbose=10)\n",
    "\n",
    "grid_search.fit(X_training, y_training)\n",
    "\n",
    "grid_search.grid_scores_, grid_search.best_params_, grid_search.best_score_"
   ]
  },
  {
   "cell_type": "markdown",
   "metadata": {},
   "source": [
    "A max_depth=9 and a min_child_weight=1 performed the best at a 0.42318143814217912 log loss, which unfortunately, is still not a very good score."
   ]
  },
  {
   "cell_type": "markdown",
   "metadata": {},
   "source": [
    "#### Feature Importance & Pruning"
   ]
  },
  {
   "cell_type": "code",
   "execution_count": 81,
   "metadata": {
    "collapsed": false
   },
   "outputs": [
    {
     "data": {
      "text/plain": [
       "<matplotlib.axes._subplots.AxesSubplot at 0x12ca67baba8>"
      ]
     },
     "execution_count": 81,
     "metadata": {},
     "output_type": "execute_result"
    },
    {
     "data": {
      "image/png": "[encoded data removed]",
      "text/plain": [
       "<matplotlib.figure.Figure at 0x12d0b14e128>"
      ]
     },
     "metadata": {},
     "output_type": "display_data"
    }
   ],
   "source": [
    "xgb.plot_importance(grid_search.best_estimator_)"
   ]
  },
  {
   "cell_type": "markdown",
   "metadata": {},
   "source": [
    "Features 3 (word_share_stemmed_filtered) and 4 (word_share_lemmatized) were identified as least important.  Could this be because the lemmatized_filtered token list was used to train Doc2Vec, and therefore, are highly colinear?"
   ]
  },
  {
   "cell_type": "code",
   "execution_count": 87,
   "metadata": {
    "collapsed": true
   },
   "outputs": [],
   "source": [
    "X_training_pruned = pd.DataFrame(X_training).drop(pd.DataFrame(X_training).columns[[3, 4]], axis=1)\n",
    "X_validation_pruned = pd.DataFrame(X_validation).drop(pd.DataFrame(X_validation).columns[[3, 4]], axis=1)"
   ]
  },
  {
   "cell_type": "markdown",
   "metadata": {},
   "source": [
    "#### GPU Training"
   ]
  },
  {
   "cell_type": "code",
   "execution_count": 88,
   "metadata": {
    "collapsed": false
   },
   "outputs": [
    {
     "name": "stdout",
     "output_type": "stream",
     "text": [
      "[0]\ttraining-logloss:0.792638\tvalidation-logloss:0.790627\n",
      "Multiple eval metrics have been passed: 'validation-logloss' will be used for early stopping.\n",
      "\n",
      "Will train until validation-logloss hasn't improved in 10000 rounds.\n",
      "[50]\ttraining-logloss:0.632802\tvalidation-logloss:0.639164\n",
      "[100]\ttraining-logloss:0.57865\tvalidation-logloss:0.587273\n",
      "[150]\ttraining-logloss:0.554303\tvalidation-logloss:0.564753\n",
      "[200]\ttraining-logloss:0.541251\tvalidation-logloss:0.552906\n",
      "[250]\ttraining-logloss:0.535135\tvalidation-logloss:0.547597\n",
      "[300]\ttraining-logloss:0.528552\tvalidation-logloss:0.542395\n",
      "[350]\ttraining-logloss:0.524566\tvalidation-logloss:0.539959\n",
      "[400]\ttraining-logloss:0.521451\tvalidation-logloss:0.537629\n",
      "[450]\ttraining-logloss:0.546862\tvalidation-logloss:0.564089\n",
      "[500]\ttraining-logloss:0.519946\tvalidation-logloss:0.539806\n",
      "[550]\ttraining-logloss:0.509957\tvalidation-logloss:0.531529\n",
      "[600]\ttraining-logloss:0.527174\tvalidation-logloss:0.550245\n",
      "[650]\ttraining-logloss:0.506143\tvalidation-logloss:0.530967\n",
      "[700]\ttraining-logloss:0.499244\tvalidation-logloss:0.525194\n",
      "[750]\ttraining-logloss:0.494429\tvalidation-logloss:0.521669\n",
      "[800]\ttraining-logloss:0.490128\tvalidation-logloss:0.518651\n",
      "[850]\ttraining-logloss:0.619002\tvalidation-logloss:0.650401\n",
      "[900]\ttraining-logloss:0.579799\tvalidation-logloss:0.611668\n",
      "[950]\ttraining-logloss:0.527247\tvalidation-logloss:0.561177\n",
      "[1000]\ttraining-logloss:0.531974\tvalidation-logloss:0.568695\n",
      "[1050]\ttraining-logloss:0.499738\tvalidation-logloss:0.537645\n",
      "[1100]\ttraining-logloss:0.497783\tvalidation-logloss:0.538284\n",
      "[1150]\ttraining-logloss:0.485127\tvalidation-logloss:0.52712\n",
      "[1200]\ttraining-logloss:0.504989\tvalidation-logloss:0.548762\n",
      "[1250]\ttraining-logloss:0.519673\tvalidation-logloss:0.565922\n",
      "[1300]\ttraining-logloss:0.492115\tvalidation-logloss:0.539115\n",
      "[1350]\ttraining-logloss:0.512827\tvalidation-logloss:0.56002\n",
      "[1400]\ttraining-logloss:0.486844\tvalidation-logloss:0.535868\n",
      "[1450]\ttraining-logloss:0.478792\tvalidation-logloss:0.529046\n",
      "[1500]\ttraining-logloss:0.480848\tvalidation-logloss:0.532372\n",
      "[1550]\ttraining-logloss:0.490753\tvalidation-logloss:0.545008\n",
      "[1600]\ttraining-logloss:0.474109\tvalidation-logloss:0.529547\n",
      "[1650]\ttraining-logloss:0.467292\tvalidation-logloss:0.523356\n",
      "[1700]\ttraining-logloss:0.464434\tvalidation-logloss:0.521076\n",
      "[1750]\ttraining-logloss:0.700371\tvalidation-logloss:0.763716\n",
      "[1800]\ttraining-logloss:0.498022\tvalidation-logloss:0.558595\n",
      "[1850]\ttraining-logloss:0.470434\tvalidation-logloss:0.531963\n",
      "[1900]\ttraining-logloss:0.501911\tvalidation-logloss:0.564623\n",
      "[1950]\ttraining-logloss:0.493675\tvalidation-logloss:0.55642\n",
      "[2000]\ttraining-logloss:0.461277\tvalidation-logloss:0.526733\n",
      "[2050]\ttraining-logloss:0.451307\tvalidation-logloss:0.518548\n",
      "[2100]\ttraining-logloss:0.44747\tvalidation-logloss:0.516659\n",
      "[2150]\ttraining-logloss:0.472461\tvalidation-logloss:0.543029\n",
      "[2200]\ttraining-logloss:0.455589\tvalidation-logloss:0.527714\n",
      "[2250]\ttraining-logloss:0.462096\tvalidation-logloss:0.536415\n",
      "[2300]\ttraining-logloss:0.451261\tvalidation-logloss:0.526116\n",
      "[2350]\ttraining-logloss:0.445703\tvalidation-logloss:0.521365\n",
      "[2400]\ttraining-logloss:0.445226\tvalidation-logloss:0.522338\n",
      "[2450]\ttraining-logloss:0.443654\tvalidation-logloss:0.521609\n",
      "[2500]\ttraining-logloss:0.437698\tvalidation-logloss:0.516692\n",
      "[2550]\ttraining-logloss:0.441237\tvalidation-logloss:0.520472\n",
      "[2600]\ttraining-logloss:0.436273\tvalidation-logloss:0.517021\n",
      "[2650]\ttraining-logloss:0.432958\tvalidation-logloss:0.51578\n",
      "[2700]\ttraining-logloss:0.43013\tvalidation-logloss:0.513899\n",
      "[2750]\ttraining-logloss:0.428225\tvalidation-logloss:0.513092\n",
      "[2800]\ttraining-logloss:0.531262\tvalidation-logloss:0.618905\n",
      "[2850]\ttraining-logloss:0.460048\tvalidation-logloss:0.547741\n",
      "[2900]\ttraining-logloss:0.439079\tvalidation-logloss:0.527166\n",
      "[2950]\ttraining-logloss:0.431086\tvalidation-logloss:0.519605\n",
      "[3000]\ttraining-logloss:0.42935\tvalidation-logloss:0.5181\n",
      "[3050]\ttraining-logloss:0.425455\tvalidation-logloss:0.514655\n",
      "[3100]\ttraining-logloss:0.423439\tvalidation-logloss:0.513023\n",
      "[3150]\ttraining-logloss:0.462427\tvalidation-logloss:0.553078\n",
      "[3200]\ttraining-logloss:0.445445\tvalidation-logloss:0.538512\n",
      "[3250]\ttraining-logloss:0.43207\tvalidation-logloss:0.52594\n",
      "[3300]\ttraining-logloss:0.468041\tvalidation-logloss:0.561564\n",
      "[3350]\ttraining-logloss:0.443058\tvalidation-logloss:0.539109\n",
      "[3400]\ttraining-logloss:0.432694\tvalidation-logloss:0.53003\n",
      "[3450]\ttraining-logloss:0.420664\tvalidation-logloss:0.519575\n",
      "[3500]\ttraining-logloss:0.419626\tvalidation-logloss:0.520273\n",
      "[3550]\ttraining-logloss:0.412148\tvalidation-logloss:0.513887\n",
      "[3600]\ttraining-logloss:0.414368\tvalidation-logloss:0.516891\n",
      "[3650]\ttraining-logloss:0.412186\tvalidation-logloss:0.515562\n",
      "[3700]\ttraining-logloss:0.406605\tvalidation-logloss:0.511335\n",
      "[3750]\ttraining-logloss:0.407174\tvalidation-logloss:0.513327\n",
      "[3800]\ttraining-logloss:0.40881\tvalidation-logloss:0.515883\n",
      "[3850]\ttraining-logloss:0.403077\tvalidation-logloss:0.510918\n",
      "[3900]\ttraining-logloss:0.400298\tvalidation-logloss:0.508882\n",
      "[3950]\ttraining-logloss:0.400471\tvalidation-logloss:0.510221\n",
      "[4000]\ttraining-logloss:0.399966\tvalidation-logloss:0.511037\n",
      "[4050]\ttraining-logloss:0.39724\tvalidation-logloss:0.509241\n",
      "[4100]\ttraining-logloss:0.396734\tvalidation-logloss:0.509711\n",
      "[4150]\ttraining-logloss:0.393688\tvalidation-logloss:0.507288\n",
      "[4200]\ttraining-logloss:0.391846\tvalidation-logloss:0.506122\n",
      "[4250]\ttraining-logloss:0.391338\tvalidation-logloss:0.506462\n",
      "[4300]\ttraining-logloss:0.423062\tvalidation-logloss:0.540823\n",
      "[4350]\ttraining-logloss:0.403493\tvalidation-logloss:0.521722\n",
      "[4400]\ttraining-logloss:0.399078\tvalidation-logloss:0.517288\n",
      "[4450]\ttraining-logloss:0.390283\tvalidation-logloss:0.509571\n",
      "[4500]\ttraining-logloss:0.385723\tvalidation-logloss:0.505964\n",
      "[4550]\ttraining-logloss:0.384827\tvalidation-logloss:0.506218\n",
      "[4600]\ttraining-logloss:0.384762\tvalidation-logloss:0.507357\n",
      "[4650]\ttraining-logloss:0.380847\tvalidation-logloss:0.504128\n",
      "[4700]\ttraining-logloss:0.380724\tvalidation-logloss:0.50465\n",
      "[4750]\ttraining-logloss:0.417939\tvalidation-logloss:0.544879\n",
      "[4800]\ttraining-logloss:0.392654\tvalidation-logloss:0.520121\n",
      "[4850]\ttraining-logloss:0.379206\tvalidation-logloss:0.507694\n",
      "[4900]\ttraining-logloss:0.373992\tvalidation-logloss:0.503307\n",
      "[4950]\ttraining-logloss:0.37061\tvalidation-logloss:0.500476\n",
      "[5000]\ttraining-logloss:0.371099\tvalidation-logloss:0.501694\n",
      "[5050]\ttraining-logloss:0.368093\tvalidation-logloss:0.499457\n",
      "[5100]\ttraining-logloss:0.366545\tvalidation-logloss:0.49878\n",
      "[5150]\ttraining-logloss:0.367782\tvalidation-logloss:0.500999\n",
      "[5200]\ttraining-logloss:0.368337\tvalidation-logloss:0.502689\n",
      "[5250]\ttraining-logloss:0.368865\tvalidation-logloss:0.50399\n",
      "[5300]\ttraining-logloss:0.365568\tvalidation-logloss:0.501181\n",
      "[5350]\ttraining-logloss:0.364111\tvalidation-logloss:0.500283\n",
      "[5400]\ttraining-logloss:0.363818\tvalidation-logloss:0.501025\n",
      "[5450]\ttraining-logloss:0.362604\tvalidation-logloss:0.500214\n",
      "[5500]\ttraining-logloss:0.359152\tvalidation-logloss:0.497208\n",
      "[5550]\ttraining-logloss:0.357308\tvalidation-logloss:0.49565\n",
      "[5600]\ttraining-logloss:0.356301\tvalidation-logloss:0.495103\n",
      "[5650]\ttraining-logloss:0.355493\tvalidation-logloss:0.494729\n",
      "[5700]\ttraining-logloss:0.355053\tvalidation-logloss:0.495071\n",
      "[5750]\ttraining-logloss:0.353959\tvalidation-logloss:0.494628\n",
      "[5800]\ttraining-logloss:0.353096\tvalidation-logloss:0.49431\n",
      "[5850]\ttraining-logloss:0.352277\tvalidation-logloss:0.494108\n",
      "[5900]\ttraining-logloss:0.351629\tvalidation-logloss:0.493917\n",
      "[5950]\ttraining-logloss:0.351002\tvalidation-logloss:0.493727\n",
      "[6000]\ttraining-logloss:0.351124\tvalidation-logloss:0.494573\n",
      "[6050]\ttraining-logloss:0.349738\tvalidation-logloss:0.493752\n",
      "[6100]\ttraining-logloss:0.348807\tvalidation-logloss:0.493267\n",
      "[6150]\ttraining-logloss:0.348656\tvalidation-logloss:0.493566\n",
      "[6200]\ttraining-logloss:0.347583\tvalidation-logloss:0.492997\n",
      "[6250]\ttraining-logloss:0.346957\tvalidation-logloss:0.492773\n",
      "[6300]\ttraining-logloss:0.355362\tvalidation-logloss:0.503411\n",
      "[6350]\ttraining-logloss:0.35004\tvalidation-logloss:0.498655\n",
      "[6400]\ttraining-logloss:0.34853\tvalidation-logloss:0.497868\n",
      "[6450]\ttraining-logloss:0.344963\tvalidation-logloss:0.494601\n",
      "[6500]\ttraining-logloss:0.347728\tvalidation-logloss:0.498429\n",
      "[6550]\ttraining-logloss:0.343875\tvalidation-logloss:0.494811\n",
      "[6600]\ttraining-logloss:0.342517\tvalidation-logloss:0.493896\n",
      "[6650]\ttraining-logloss:0.340648\tvalidation-logloss:0.492973\n",
      "[6700]\ttraining-logloss:0.339319\tvalidation-logloss:0.491902\n",
      "[6750]\ttraining-logloss:0.338374\tvalidation-logloss:0.491406\n",
      "[6800]\ttraining-logloss:0.407632\tvalidation-logloss:0.562567\n",
      "[6850]\ttraining-logloss:0.358103\tvalidation-logloss:0.512917\n",
      "[6900]\ttraining-logloss:0.343378\tvalidation-logloss:0.498317\n",
      "[6950]\ttraining-logloss:0.337796\tvalidation-logloss:0.493361\n",
      "[7000]\ttraining-logloss:0.336954\tvalidation-logloss:0.493076\n",
      "[7050]\ttraining-logloss:0.336511\tvalidation-logloss:0.493481\n",
      "[7100]\ttraining-logloss:0.333852\tvalidation-logloss:0.491312\n",
      "[7150]\ttraining-logloss:0.33405\tvalidation-logloss:0.492344\n",
      "[7200]\ttraining-logloss:0.333883\tvalidation-logloss:0.492985\n",
      "[7250]\ttraining-logloss:0.331596\tvalidation-logloss:0.491191\n",
      "[7300]\ttraining-logloss:0.329894\tvalidation-logloss:0.490128\n",
      "[7350]\ttraining-logloss:0.329072\tvalidation-logloss:0.489887\n",
      "[7400]\ttraining-logloss:0.329875\tvalidation-logloss:0.491223\n",
      "[7450]\ttraining-logloss:0.331483\tvalidation-logloss:0.49296\n",
      "[7500]\ttraining-logloss:0.33078\tvalidation-logloss:0.494082\n",
      "[7550]\ttraining-logloss:0.327016\tvalidation-logloss:0.490617\n",
      "[7600]\ttraining-logloss:0.325123\tvalidation-logloss:0.48898\n",
      "[7650]\ttraining-logloss:0.324065\tvalidation-logloss:0.488307\n",
      "[7700]\ttraining-logloss:0.323405\tvalidation-logloss:0.487943\n",
      "[7750]\ttraining-logloss:0.323098\tvalidation-logloss:0.487829\n",
      "[7800]\ttraining-logloss:0.322572\tvalidation-logloss:0.487693\n",
      "[7850]\ttraining-logloss:0.322213\tvalidation-logloss:0.487602\n",
      "[7900]\ttraining-logloss:0.321961\tvalidation-logloss:0.487574\n",
      "[7950]\ttraining-logloss:0.32176\tvalidation-logloss:0.487519\n",
      "[8000]\ttraining-logloss:0.321541\tvalidation-logloss:0.487456\n",
      "[8050]\ttraining-logloss:0.32095\tvalidation-logloss:0.487154\n",
      "[8100]\ttraining-logloss:0.320674\tvalidation-logloss:0.487085\n",
      "[8150]\ttraining-logloss:0.320439\tvalidation-logloss:0.486978\n",
      "[8200]\ttraining-logloss:0.320233\tvalidation-logloss:0.486949\n",
      "[8250]\ttraining-logloss:0.320049\tvalidation-logloss:0.486915\n",
      "[8300]\ttraining-logloss:0.319807\tvalidation-logloss:0.486874\n",
      "[8350]\ttraining-logloss:0.319809\tvalidation-logloss:0.486922\n",
      "[8400]\ttraining-logloss:0.319921\tvalidation-logloss:0.487071\n",
      "[8450]\ttraining-logloss:0.320033\tvalidation-logloss:0.487285\n",
      "[8500]\ttraining-logloss:0.319607\tvalidation-logloss:0.487049\n",
      "[8550]\ttraining-logloss:0.319243\tvalidation-logloss:0.486902\n",
      "[8600]\ttraining-logloss:0.319873\tvalidation-logloss:0.487659\n",
      "[8650]\ttraining-logloss:0.320439\tvalidation-logloss:0.488416\n",
      "[8700]\ttraining-logloss:0.321118\tvalidation-logloss:0.489276\n",
      "[8750]\ttraining-logloss:0.320949\tvalidation-logloss:0.489271\n",
      "[8800]\ttraining-logloss:0.319837\tvalidation-logloss:0.488574\n",
      "[8850]\ttraining-logloss:0.319744\tvalidation-logloss:0.488747\n",
      "[8900]\ttraining-logloss:0.318345\tvalidation-logloss:0.48757\n",
      "[8950]\ttraining-logloss:0.317636\tvalidation-logloss:0.487124\n",
      "[9000]\ttraining-logloss:0.317171\tvalidation-logloss:0.486959\n",
      "[9050]\ttraining-logloss:0.316679\tvalidation-logloss:0.486835\n",
      "[9100]\ttraining-logloss:0.316343\tvalidation-logloss:0.486748\n",
      "[9150]\ttraining-logloss:0.315873\tvalidation-logloss:0.486559\n",
      "[9200]\ttraining-logloss:0.315537\tvalidation-logloss:0.486439\n",
      "[9250]\ttraining-logloss:0.316976\tvalidation-logloss:0.488542\n",
      "[9300]\ttraining-logloss:0.316573\tvalidation-logloss:0.48838\n",
      "[9350]\ttraining-logloss:0.315237\tvalidation-logloss:0.487335\n",
      "[9400]\ttraining-logloss:0.31415\tvalidation-logloss:0.486498\n",
      "[9450]\ttraining-logloss:0.313069\tvalidation-logloss:0.485795\n",
      "[9500]\ttraining-logloss:0.31244\tvalidation-logloss:0.485485\n",
      "[9550]\ttraining-logloss:0.311982\tvalidation-logloss:0.485348\n",
      "[9600]\ttraining-logloss:0.313626\tvalidation-logloss:0.487422\n",
      "[9650]\ttraining-logloss:0.311163\tvalidation-logloss:0.485737\n",
      "[9700]\ttraining-logloss:0.30986\tvalidation-logloss:0.484901\n",
      "[9750]\ttraining-logloss:0.309375\tvalidation-logloss:0.48503\n",
      "[9800]\ttraining-logloss:0.308907\tvalidation-logloss:0.48513\n",
      "[9850]\ttraining-logloss:0.308234\tvalidation-logloss:0.484919\n",
      "[9900]\ttraining-logloss:0.307311\tvalidation-logloss:0.484458\n",
      "[9950]\ttraining-logloss:0.30692\tvalidation-logloss:0.484228\n",
      "[10000]\ttraining-logloss:0.306295\tvalidation-logloss:0.484051\n",
      "[10050]\ttraining-logloss:0.305846\tvalidation-logloss:0.483874\n",
      "[10100]\ttraining-logloss:0.305306\tvalidation-logloss:0.4838\n",
      "[10150]\ttraining-logloss:0.314915\tvalidation-logloss:0.495008\n",
      "[10200]\ttraining-logloss:0.31657\tvalidation-logloss:0.497202\n",
      "[10250]\ttraining-logloss:0.308021\tvalidation-logloss:0.488977\n",
      "[10300]\ttraining-logloss:0.304282\tvalidation-logloss:0.485582\n",
      "[10350]\ttraining-logloss:0.302597\tvalidation-logloss:0.484362\n",
      "[10400]\ttraining-logloss:0.301588\tvalidation-logloss:0.48389\n",
      "[10450]\ttraining-logloss:0.30956\tvalidation-logloss:0.493988\n",
      "[10500]\ttraining-logloss:0.305467\tvalidation-logloss:0.490557\n",
      "[10550]\ttraining-logloss:0.301129\tvalidation-logloss:0.486458\n",
      "[10600]\ttraining-logloss:0.299718\tvalidation-logloss:0.485272\n",
      "[10650]\ttraining-logloss:0.298402\tvalidation-logloss:0.484503\n",
      "[10700]\ttraining-logloss:0.297267\tvalidation-logloss:0.483743\n",
      "[10750]\ttraining-logloss:0.29654\tvalidation-logloss:0.483451\n",
      "[10800]\ttraining-logloss:0.296041\tvalidation-logloss:0.482841\n",
      "[10850]\ttraining-logloss:0.295331\tvalidation-logloss:0.482556\n",
      "[10900]\ttraining-logloss:0.29492\tvalidation-logloss:0.4825\n",
      "[10950]\ttraining-logloss:0.294594\tvalidation-logloss:0.482447\n",
      "[11000]\ttraining-logloss:0.294189\tvalidation-logloss:0.482401\n",
      "[11050]\ttraining-logloss:0.2939\tvalidation-logloss:0.482377\n",
      "[11100]\ttraining-logloss:0.293691\tvalidation-logloss:0.482301\n",
      "[11150]\ttraining-logloss:0.293421\tvalidation-logloss:0.482342\n",
      "[11200]\ttraining-logloss:0.293223\tvalidation-logloss:0.481894\n",
      "[11250]\ttraining-logloss:0.292895\tvalidation-logloss:0.481802\n",
      "[11300]\ttraining-logloss:0.292638\tvalidation-logloss:0.481772\n",
      "[11350]\ttraining-logloss:0.292548\tvalidation-logloss:0.482059\n",
      "[11400]\ttraining-logloss:0.295377\tvalidation-logloss:0.486003\n",
      "[11450]\ttraining-logloss:0.293728\tvalidation-logloss:0.485255\n",
      "[11500]\ttraining-logloss:0.291535\tvalidation-logloss:0.483753\n",
      "[11550]\ttraining-logloss:0.290002\tvalidation-logloss:0.482822\n",
      "[11600]\ttraining-logloss:0.288967\tvalidation-logloss:0.482059\n",
      "[11650]\ttraining-logloss:0.288701\tvalidation-logloss:0.482425\n",
      "[11700]\ttraining-logloss:0.287705\tvalidation-logloss:0.482012\n",
      "[11750]\ttraining-logloss:0.287461\tvalidation-logloss:0.48225\n",
      "[11800]\ttraining-logloss:0.286546\tvalidation-logloss:0.481777\n",
      "[11850]\ttraining-logloss:0.285908\tvalidation-logloss:0.481711\n",
      "[11900]\ttraining-logloss:0.286056\tvalidation-logloss:0.482441\n",
      "[11950]\ttraining-logloss:0.285378\tvalidation-logloss:0.482285\n",
      "[12000]\ttraining-logloss:0.284456\tvalidation-logloss:0.48181\n",
      "[12050]\ttraining-logloss:0.283934\tvalidation-logloss:0.481649\n",
      "[12100]\ttraining-logloss:0.283318\tvalidation-logloss:0.481391\n",
      "[12150]\ttraining-logloss:0.283974\tvalidation-logloss:0.482937\n",
      "[12200]\ttraining-logloss:0.282941\tvalidation-logloss:0.482178\n",
      "[12250]\ttraining-logloss:0.282109\tvalidation-logloss:0.481485\n",
      "[12300]\ttraining-logloss:0.281583\tvalidation-logloss:0.481103\n",
      "[12350]\ttraining-logloss:0.281906\tvalidation-logloss:0.481837\n",
      "[12400]\ttraining-logloss:0.280884\tvalidation-logloss:0.481177\n",
      "[12450]\ttraining-logloss:0.280264\tvalidation-logloss:0.480952\n",
      "[12500]\ttraining-logloss:0.279879\tvalidation-logloss:0.480852\n",
      "[12550]\ttraining-logloss:0.279532\tvalidation-logloss:0.480782\n",
      "[12600]\ttraining-logloss:0.279296\tvalidation-logloss:0.480668\n",
      "[12650]\ttraining-logloss:0.279047\tvalidation-logloss:0.480529\n",
      "[12700]\ttraining-logloss:0.278675\tvalidation-logloss:0.480541\n",
      "[12750]\ttraining-logloss:0.278396\tvalidation-logloss:0.480537\n",
      "[12800]\ttraining-logloss:0.278155\tvalidation-logloss:0.480482\n",
      "[12850]\ttraining-logloss:0.277949\tvalidation-logloss:0.480462\n",
      "[12900]\ttraining-logloss:0.27775\tvalidation-logloss:0.480443\n",
      "[12950]\ttraining-logloss:0.277259\tvalidation-logloss:0.480375\n",
      "[13000]\ttraining-logloss:0.276811\tvalidation-logloss:0.480332\n",
      "[13050]\ttraining-logloss:0.276505\tvalidation-logloss:0.48033\n",
      "[13100]\ttraining-logloss:0.276426\tvalidation-logloss:0.480692\n",
      "[13150]\ttraining-logloss:0.276165\tvalidation-logloss:0.480764\n",
      "[13200]\ttraining-logloss:0.276904\tvalidation-logloss:0.481656\n",
      "[13250]\ttraining-logloss:0.276311\tvalidation-logloss:0.481516\n",
      "[13300]\ttraining-logloss:0.275773\tvalidation-logloss:0.481304\n",
      "[13350]\ttraining-logloss:0.275443\tvalidation-logloss:0.481329\n",
      "[13400]\ttraining-logloss:0.27456\tvalidation-logloss:0.480728\n",
      "[13450]\ttraining-logloss:0.274035\tvalidation-logloss:0.480515\n",
      "[13500]\ttraining-logloss:0.273822\tvalidation-logloss:0.481061\n",
      "[13550]\ttraining-logloss:0.273056\tvalidation-logloss:0.480677\n",
      "[13600]\ttraining-logloss:0.272448\tvalidation-logloss:0.480408\n",
      "[13650]\ttraining-logloss:0.272031\tvalidation-logloss:0.480204\n",
      "[13700]\ttraining-logloss:0.271643\tvalidation-logloss:0.479989\n",
      "[13750]\ttraining-logloss:0.271269\tvalidation-logloss:0.479743\n",
      "[13800]\ttraining-logloss:0.271011\tvalidation-logloss:0.479638\n",
      "[13850]\ttraining-logloss:0.270802\tvalidation-logloss:0.479569\n",
      "[13900]\ttraining-logloss:0.270568\tvalidation-logloss:0.479591\n",
      "[13950]\ttraining-logloss:0.270535\tvalidation-logloss:0.48003\n",
      "[14000]\ttraining-logloss:0.270113\tvalidation-logloss:0.47984\n",
      "[14050]\ttraining-logloss:0.269812\tvalidation-logloss:0.480001\n",
      "[14100]\ttraining-logloss:0.269389\tvalidation-logloss:0.480064\n",
      "[14150]\ttraining-logloss:0.269009\tvalidation-logloss:0.479959\n",
      "[14200]\ttraining-logloss:0.268769\tvalidation-logloss:0.480033\n",
      "[14250]\ttraining-logloss:0.268438\tvalidation-logloss:0.479836\n",
      "[14300]\ttraining-logloss:0.268085\tvalidation-logloss:0.479694\n",
      "[14350]\ttraining-logloss:0.267722\tvalidation-logloss:0.479477\n",
      "[14400]\ttraining-logloss:0.267491\tvalidation-logloss:0.479493\n",
      "[14450]\ttraining-logloss:0.267156\tvalidation-logloss:0.479649\n",
      "[14500]\ttraining-logloss:0.266665\tvalidation-logloss:0.479779\n",
      "[14550]\ttraining-logloss:0.266253\tvalidation-logloss:0.479578\n",
      "[14600]\ttraining-logloss:0.265768\tvalidation-logloss:0.479382\n",
      "[14650]\ttraining-logloss:0.265324\tvalidation-logloss:0.479171\n",
      "[14700]\ttraining-logloss:0.264776\tvalidation-logloss:0.479107\n",
      "[14750]\ttraining-logloss:0.264492\tvalidation-logloss:0.479053\n",
      "[14800]\ttraining-logloss:0.264294\tvalidation-logloss:0.479027\n",
      "[14850]\ttraining-logloss:0.264131\tvalidation-logloss:0.479174\n",
      "[14900]\ttraining-logloss:0.26373\tvalidation-logloss:0.479092\n",
      "[14950]\ttraining-logloss:0.263526\tvalidation-logloss:0.479143\n",
      "[15000]\ttraining-logloss:0.263233\tvalidation-logloss:0.479219\n",
      "[15050]\ttraining-logloss:0.262956\tvalidation-logloss:0.479108\n",
      "[15100]\ttraining-logloss:0.262726\tvalidation-logloss:0.479219\n",
      "[15150]\ttraining-logloss:0.262786\tvalidation-logloss:0.479619\n",
      "[15200]\ttraining-logloss:0.262038\tvalidation-logloss:0.479177\n",
      "[15250]\ttraining-logloss:0.261568\tvalidation-logloss:0.479015\n",
      "[15300]\ttraining-logloss:0.261534\tvalidation-logloss:0.479449\n",
      "[15350]\ttraining-logloss:0.260821\tvalidation-logloss:0.47915\n",
      "[15400]\ttraining-logloss:0.260417\tvalidation-logloss:0.478929\n",
      "[15450]\ttraining-logloss:0.260125\tvalidation-logloss:0.478845\n",
      "[15500]\ttraining-logloss:0.259912\tvalidation-logloss:0.478982\n",
      "[15550]\ttraining-logloss:0.25965\tvalidation-logloss:0.479412\n",
      "[15600]\ttraining-logloss:0.259138\tvalidation-logloss:0.479121\n",
      "[15650]\ttraining-logloss:0.259214\tvalidation-logloss:0.479457\n",
      "[15700]\ttraining-logloss:0.258457\tvalidation-logloss:0.478918\n",
      "[15750]\ttraining-logloss:0.257985\tvalidation-logloss:0.478682\n",
      "[15800]\ttraining-logloss:0.25765\tvalidation-logloss:0.47861\n",
      "[15850]\ttraining-logloss:0.265665\tvalidation-logloss:0.489456\n",
      "[15900]\ttraining-logloss:0.259694\tvalidation-logloss:0.482678\n",
      "[15950]\ttraining-logloss:0.258197\tvalidation-logloss:0.481145\n",
      "[16000]\ttraining-logloss:0.256674\tvalidation-logloss:0.479882\n",
      "[16050]\ttraining-logloss:0.255558\tvalidation-logloss:0.479145\n",
      "[16100]\ttraining-logloss:0.255603\tvalidation-logloss:0.479545\n",
      "[16150]\ttraining-logloss:0.254787\tvalidation-logloss:0.478854\n",
      "[16200]\ttraining-logloss:0.254356\tvalidation-logloss:0.478548\n",
      "[16250]\ttraining-logloss:0.254089\tvalidation-logloss:0.478441\n",
      "[16300]\ttraining-logloss:0.253902\tvalidation-logloss:0.478407\n",
      "[16350]\ttraining-logloss:0.253764\tvalidation-logloss:0.47839\n",
      "[16400]\ttraining-logloss:0.25366\tvalidation-logloss:0.478274\n",
      "[16450]\ttraining-logloss:0.25753\tvalidation-logloss:0.483731\n",
      "[16500]\ttraining-logloss:0.254254\tvalidation-logloss:0.480422\n",
      "[16550]\ttraining-logloss:0.252843\tvalidation-logloss:0.479174\n",
      "[16600]\ttraining-logloss:0.252091\tvalidation-logloss:0.478688\n",
      "[16650]\ttraining-logloss:0.251697\tvalidation-logloss:0.478477\n",
      "[16700]\ttraining-logloss:0.251384\tvalidation-logloss:0.47838\n",
      "[16750]\ttraining-logloss:0.251103\tvalidation-logloss:0.478432\n",
      "[16800]\ttraining-logloss:0.250827\tvalidation-logloss:0.478646\n",
      "[16850]\ttraining-logloss:0.250407\tvalidation-logloss:0.47854\n",
      "[16900]\ttraining-logloss:0.250116\tvalidation-logloss:0.478414\n",
      "[16950]\ttraining-logloss:0.250118\tvalidation-logloss:0.478883\n",
      "[17000]\ttraining-logloss:0.249629\tvalidation-logloss:0.478579\n",
      "[17050]\ttraining-logloss:0.24942\tvalidation-logloss:0.47857\n",
      "[17100]\ttraining-logloss:0.249072\tvalidation-logloss:0.478348\n",
      "[17150]\ttraining-logloss:0.248803\tvalidation-logloss:0.478208\n",
      "[17200]\ttraining-logloss:0.248845\tvalidation-logloss:0.478616\n",
      "[17250]\ttraining-logloss:0.248401\tvalidation-logloss:0.478524\n",
      "[17300]\ttraining-logloss:0.248929\tvalidation-logloss:0.480053\n",
      "[17350]\ttraining-logloss:0.247824\tvalidation-logloss:0.478926\n",
      "[17400]\ttraining-logloss:0.247288\tvalidation-logloss:0.478432\n",
      "[17450]\ttraining-logloss:0.246889\tvalidation-logloss:0.478276\n",
      "[17500]\ttraining-logloss:0.246587\tvalidation-logloss:0.478224\n",
      "[17550]\ttraining-logloss:0.246302\tvalidation-logloss:0.47821\n",
      "[17600]\ttraining-logloss:0.246077\tvalidation-logloss:0.478172\n",
      "[17650]\ttraining-logloss:0.24595\tvalidation-logloss:0.478157\n",
      "[17700]\ttraining-logloss:0.245852\tvalidation-logloss:0.478136\n",
      "[17750]\ttraining-logloss:0.245705\tvalidation-logloss:0.478165\n",
      "[17800]\ttraining-logloss:0.245563\tvalidation-logloss:0.47816\n",
      "[17850]\ttraining-logloss:0.26676\tvalidation-logloss:0.503404\n",
      "[17900]\ttraining-logloss:0.254152\tvalidation-logloss:0.489289\n",
      "[17950]\ttraining-logloss:0.248098\tvalidation-logloss:0.482823\n",
      "[18000]\ttraining-logloss:0.246096\tvalidation-logloss:0.48091\n",
      "[18050]\ttraining-logloss:0.244309\tvalidation-logloss:0.478922\n",
      "[18100]\ttraining-logloss:0.246338\tvalidation-logloss:0.482288\n",
      "[18150]\ttraining-logloss:0.243616\tvalidation-logloss:0.479519\n",
      "[18200]\ttraining-logloss:0.242346\tvalidation-logloss:0.478498\n",
      "[18250]\ttraining-logloss:0.241674\tvalidation-logloss:0.477974\n",
      "[18300]\ttraining-logloss:0.241164\tvalidation-logloss:0.477708\n",
      "[18350]\ttraining-logloss:0.240742\tvalidation-logloss:0.47755\n",
      "[18400]\ttraining-logloss:0.241097\tvalidation-logloss:0.478659\n",
      "[18450]\ttraining-logloss:0.240575\tvalidation-logloss:0.478201\n",
      "[18500]\ttraining-logloss:0.240025\tvalidation-logloss:0.477671\n",
      "[18550]\ttraining-logloss:0.239739\tvalidation-logloss:0.477431\n",
      "[18600]\ttraining-logloss:0.239539\tvalidation-logloss:0.47725\n",
      "[18650]\ttraining-logloss:0.242611\tvalidation-logloss:0.482128\n",
      "[18700]\ttraining-logloss:0.240178\tvalidation-logloss:0.479124\n",
      "[18750]\ttraining-logloss:0.239111\tvalidation-logloss:0.477914\n",
      "[18800]\ttraining-logloss:0.238557\tvalidation-logloss:0.477417\n",
      "[18850]\ttraining-logloss:0.238192\tvalidation-logloss:0.477179\n",
      "[18900]\ttraining-logloss:0.23796\tvalidation-logloss:0.477077\n",
      "[18950]\ttraining-logloss:0.237787\tvalidation-logloss:0.477024\n",
      "[19000]\ttraining-logloss:0.237617\tvalidation-logloss:0.476993\n",
      "[19050]\ttraining-logloss:0.237453\tvalidation-logloss:0.476931\n",
      "[19100]\ttraining-logloss:0.237869\tvalidation-logloss:0.477916\n",
      "[19150]\ttraining-logloss:0.237254\tvalidation-logloss:0.477616\n",
      "[19200]\ttraining-logloss:0.236759\tvalidation-logloss:0.477378\n",
      "[19250]\ttraining-logloss:0.236592\tvalidation-logloss:0.477717\n",
      "[19300]\ttraining-logloss:0.236007\tvalidation-logloss:0.477342\n",
      "[19350]\ttraining-logloss:0.235802\tvalidation-logloss:0.477626\n",
      "[19400]\ttraining-logloss:0.235382\tvalidation-logloss:0.477571\n",
      "[19450]\ttraining-logloss:0.234869\tvalidation-logloss:0.47725\n",
      "[19500]\ttraining-logloss:0.234546\tvalidation-logloss:0.477151\n",
      "[19550]\ttraining-logloss:0.234364\tvalidation-logloss:0.477035\n",
      "[19600]\ttraining-logloss:0.234194\tvalidation-logloss:0.477128\n",
      "[19650]\ttraining-logloss:0.233962\tvalidation-logloss:0.477147\n",
      "[19700]\ttraining-logloss:0.23371\tvalidation-logloss:0.477198\n",
      "[19750]\ttraining-logloss:0.233479\tvalidation-logloss:0.477129\n",
      "[19800]\ttraining-logloss:0.2332\tvalidation-logloss:0.47729\n",
      "[19850]\ttraining-logloss:0.2329\tvalidation-logloss:0.477211\n",
      "[19900]\ttraining-logloss:0.232798\tvalidation-logloss:0.477273\n",
      "[19950]\ttraining-logloss:0.232641\tvalidation-logloss:0.47721\n",
      "[20000]\ttraining-logloss:0.232518\tvalidation-logloss:0.477184\n",
      "[20050]\ttraining-logloss:0.23258\tvalidation-logloss:0.477707\n",
      "[20100]\ttraining-logloss:0.232144\tvalidation-logloss:0.477448\n",
      "[20150]\ttraining-logloss:0.231827\tvalidation-logloss:0.477301\n",
      "[20200]\ttraining-logloss:0.231505\tvalidation-logloss:0.47722\n",
      "[20250]\ttraining-logloss:0.231248\tvalidation-logloss:0.477288\n",
      "[20300]\ttraining-logloss:0.230983\tvalidation-logloss:0.477165\n",
      "[20350]\ttraining-logloss:0.230799\tvalidation-logloss:0.477097\n",
      "[20400]\ttraining-logloss:0.230668\tvalidation-logloss:0.477063\n",
      "[20450]\ttraining-logloss:0.230566\tvalidation-logloss:0.477041\n",
      "[20500]\ttraining-logloss:0.23047\tvalidation-logloss:0.477031\n",
      "[20550]\ttraining-logloss:0.230332\tvalidation-logloss:0.477015\n",
      "[20600]\ttraining-logloss:0.230235\tvalidation-logloss:0.477006\n",
      "[20650]\ttraining-logloss:0.230158\tvalidation-logloss:0.477026\n",
      "[20700]\ttraining-logloss:0.230068\tvalidation-logloss:0.477001\n",
      "[20750]\ttraining-logloss:0.229957\tvalidation-logloss:0.47699\n",
      "[20800]\ttraining-logloss:0.229795\tvalidation-logloss:0.476951\n",
      "[20850]\ttraining-logloss:0.229655\tvalidation-logloss:0.477019\n",
      "[20900]\ttraining-logloss:0.229477\tvalidation-logloss:0.477104\n",
      "[20950]\ttraining-logloss:0.229257\tvalidation-logloss:0.477066\n",
      "[21000]\ttraining-logloss:0.229062\tvalidation-logloss:0.477063\n",
      "[21050]\ttraining-logloss:0.228935\tvalidation-logloss:0.477004\n",
      "[21100]\ttraining-logloss:0.228752\tvalidation-logloss:0.477021\n",
      "[21150]\ttraining-logloss:0.228568\tvalidation-logloss:0.477013\n",
      "[21200]\ttraining-logloss:0.228434\tvalidation-logloss:0.477011\n",
      "[21250]\ttraining-logloss:0.228331\tvalidation-logloss:0.476976\n",
      "[21300]\ttraining-logloss:0.22807\tvalidation-logloss:0.476963\n",
      "[21350]\ttraining-logloss:0.227838\tvalidation-logloss:0.476983\n",
      "[21400]\ttraining-logloss:0.227565\tvalidation-logloss:0.476914\n",
      "[21450]\ttraining-logloss:0.227285\tvalidation-logloss:0.476882\n",
      "[21500]\ttraining-logloss:0.22725\tvalidation-logloss:0.477167\n",
      "[21550]\ttraining-logloss:0.226974\tvalidation-logloss:0.477178\n",
      "[21600]\ttraining-logloss:0.226696\tvalidation-logloss:0.477068\n",
      "[21650]\ttraining-logloss:0.226501\tvalidation-logloss:0.477034\n",
      "[21700]\ttraining-logloss:0.226442\tvalidation-logloss:0.477442\n",
      "[21750]\ttraining-logloss:0.226091\tvalidation-logloss:0.477302\n",
      "[21800]\ttraining-logloss:0.22579\tvalidation-logloss:0.477091\n",
      "[21850]\ttraining-logloss:0.225541\tvalidation-logloss:0.477034\n",
      "[21900]\ttraining-logloss:0.225376\tvalidation-logloss:0.476929\n",
      "[21950]\ttraining-logloss:0.225295\tvalidation-logloss:0.477055\n",
      "[22000]\ttraining-logloss:0.226437\tvalidation-logloss:0.4794\n",
      "[22050]\ttraining-logloss:0.225298\tvalidation-logloss:0.478006\n",
      "[22100]\ttraining-logloss:0.224836\tvalidation-logloss:0.477492\n",
      "[22150]\ttraining-logloss:0.22435\tvalidation-logloss:0.477174\n",
      "[22200]\ttraining-logloss:0.224078\tvalidation-logloss:0.477075\n",
      "[22250]\ttraining-logloss:0.223878\tvalidation-logloss:0.477012\n",
      "[22300]\ttraining-logloss:0.223681\tvalidation-logloss:0.476963\n",
      "[22350]\ttraining-logloss:0.223592\tvalidation-logloss:0.477271\n",
      "[22400]\ttraining-logloss:0.22341\tvalidation-logloss:0.477131\n",
      "[22450]\ttraining-logloss:0.223309\tvalidation-logloss:0.47707\n",
      "[22500]\ttraining-logloss:0.223179\tvalidation-logloss:0.477062\n",
      "[22550]\ttraining-logloss:0.223063\tvalidation-logloss:0.477053\n",
      "[22600]\ttraining-logloss:0.222908\tvalidation-logloss:0.477062\n",
      "[22650]\ttraining-logloss:0.222621\tvalidation-logloss:0.477037\n",
      "[22700]\ttraining-logloss:0.222458\tvalidation-logloss:0.477028\n",
      "[22750]\ttraining-logloss:0.222341\tvalidation-logloss:0.47703\n",
      "[22800]\ttraining-logloss:0.222253\tvalidation-logloss:0.477028\n",
      "[22850]\ttraining-logloss:0.222164\tvalidation-logloss:0.477026\n",
      "[22900]\ttraining-logloss:0.222087\tvalidation-logloss:0.477023\n",
      "[22950]\ttraining-logloss:0.222019\tvalidation-logloss:0.477049\n",
      "[23000]\ttraining-logloss:0.221947\tvalidation-logloss:0.477052\n",
      "[23050]\ttraining-logloss:0.221882\tvalidation-logloss:0.477041\n",
      "[23100]\ttraining-logloss:0.221778\tvalidation-logloss:0.477034\n",
      "[23150]\ttraining-logloss:0.221652\tvalidation-logloss:0.477046\n",
      "[23200]\ttraining-logloss:0.221582\tvalidation-logloss:0.477058\n",
      "[23250]\ttraining-logloss:0.221511\tvalidation-logloss:0.477066\n",
      "[23300]\ttraining-logloss:0.221423\tvalidation-logloss:0.477093\n",
      "[23350]\ttraining-logloss:0.221333\tvalidation-logloss:0.477234\n",
      "[23400]\ttraining-logloss:0.221096\tvalidation-logloss:0.477156\n",
      "[23450]\ttraining-logloss:0.220824\tvalidation-logloss:0.477116\n",
      "[23500]\ttraining-logloss:0.220674\tvalidation-logloss:0.477114\n",
      "[23550]\ttraining-logloss:0.2206\tvalidation-logloss:0.477148\n",
      "[23600]\ttraining-logloss:0.220287\tvalidation-logloss:0.477062\n",
      "[23650]\ttraining-logloss:0.219931\tvalidation-logloss:0.477019\n",
      "[23700]\ttraining-logloss:0.219685\tvalidation-logloss:0.476966\n",
      "[23750]\ttraining-logloss:0.219508\tvalidation-logloss:0.476946\n",
      "[23800]\ttraining-logloss:0.219325\tvalidation-logloss:0.476927\n",
      "[23850]\ttraining-logloss:0.219141\tvalidation-logloss:0.476891\n",
      "[23900]\ttraining-logloss:0.218957\tvalidation-logloss:0.476885\n",
      "[23950]\ttraining-logloss:0.218788\tvalidation-logloss:0.476868\n",
      "[24000]\ttraining-logloss:0.218612\tvalidation-logloss:0.476848\n",
      "[24050]\ttraining-logloss:0.218632\tvalidation-logloss:0.477266\n",
      "[24100]\ttraining-logloss:0.218704\tvalidation-logloss:0.477601\n",
      "[24150]\ttraining-logloss:0.218158\tvalidation-logloss:0.477331\n",
      "[24200]\ttraining-logloss:0.21782\tvalidation-logloss:0.477153\n",
      "[24250]\ttraining-logloss:0.217574\tvalidation-logloss:0.477112\n",
      "[24300]\ttraining-logloss:0.217335\tvalidation-logloss:0.477051\n",
      "[24350]\ttraining-logloss:0.217277\tvalidation-logloss:0.477001\n",
      "[24400]\ttraining-logloss:0.217144\tvalidation-logloss:0.476966\n",
      "[24450]\ttraining-logloss:0.217039\tvalidation-logloss:0.476988\n",
      "[24500]\ttraining-logloss:0.216919\tvalidation-logloss:0.477009\n",
      "[24550]\ttraining-logloss:0.216824\tvalidation-logloss:0.477039\n",
      "[24600]\ttraining-logloss:0.21669\tvalidation-logloss:0.477107\n",
      "[24650]\ttraining-logloss:0.216659\tvalidation-logloss:0.477474\n",
      "[24700]\ttraining-logloss:0.216371\tvalidation-logloss:0.477256\n",
      "[24750]\ttraining-logloss:0.216347\tvalidation-logloss:0.47764\n",
      "[24800]\ttraining-logloss:0.216058\tvalidation-logloss:0.477564\n",
      "[24850]\ttraining-logloss:0.215713\tvalidation-logloss:0.47736\n",
      "[24900]\ttraining-logloss:0.215482\tvalidation-logloss:0.477333\n",
      "[24950]\ttraining-logloss:0.215691\tvalidation-logloss:0.47802\n",
      "[25000]\ttraining-logloss:0.215111\tvalidation-logloss:0.477466\n",
      "[25050]\ttraining-logloss:0.214795\tvalidation-logloss:0.47725\n",
      "[25100]\ttraining-logloss:0.214599\tvalidation-logloss:0.477135\n",
      "[25150]\ttraining-logloss:0.214413\tvalidation-logloss:0.47712\n",
      "[25200]\ttraining-logloss:0.214264\tvalidation-logloss:0.477094\n",
      "[25250]\ttraining-logloss:0.214098\tvalidation-logloss:0.477068\n",
      "[25300]\ttraining-logloss:0.21397\tvalidation-logloss:0.477069\n",
      "[25350]\ttraining-logloss:0.213869\tvalidation-logloss:0.477265\n",
      "[25400]\ttraining-logloss:0.213759\tvalidation-logloss:0.477195\n",
      "[25450]\ttraining-logloss:0.213648\tvalidation-logloss:0.47738\n",
      "[25500]\ttraining-logloss:0.213444\tvalidation-logloss:0.477323\n",
      "[25550]\ttraining-logloss:0.213241\tvalidation-logloss:0.477479\n",
      "[25600]\ttraining-logloss:0.213068\tvalidation-logloss:0.477338\n",
      "[25650]\ttraining-logloss:0.212909\tvalidation-logloss:0.477282\n",
      "[25700]\ttraining-logloss:0.212764\tvalidation-logloss:0.477325\n",
      "[25750]\ttraining-logloss:0.212657\tvalidation-logloss:0.477598\n",
      "[25800]\ttraining-logloss:0.212535\tvalidation-logloss:0.477895\n",
      "[25850]\ttraining-logloss:0.212334\tvalidation-logloss:0.477861\n",
      "[25900]\ttraining-logloss:0.215736\tvalidation-logloss:0.481836\n",
      "[25950]\ttraining-logloss:0.213356\tvalidation-logloss:0.479628\n",
      "[26000]\ttraining-logloss:0.211939\tvalidation-logloss:0.478386\n",
      "[26050]\ttraining-logloss:0.211231\tvalidation-logloss:0.47784\n",
      "[26100]\ttraining-logloss:0.210837\tvalidation-logloss:0.477672\n",
      "[26150]\ttraining-logloss:0.21524\tvalidation-logloss:0.484498\n",
      "[26200]\ttraining-logloss:0.212793\tvalidation-logloss:0.481784\n",
      "[26250]\ttraining-logloss:0.210747\tvalidation-logloss:0.479416\n",
      "[26300]\ttraining-logloss:0.209763\tvalidation-logloss:0.478471\n",
      "[26350]\ttraining-logloss:0.20922\tvalidation-logloss:0.478052\n",
      "[26400]\ttraining-logloss:0.208884\tvalidation-logloss:0.477902\n",
      "[26450]\ttraining-logloss:0.208547\tvalidation-logloss:0.477815\n",
      "[26500]\ttraining-logloss:0.208442\tvalidation-logloss:0.477916\n",
      "[26550]\ttraining-logloss:0.208095\tvalidation-logloss:0.477744\n",
      "[26600]\ttraining-logloss:0.207838\tvalidation-logloss:0.477812\n",
      "[26650]\ttraining-logloss:0.207656\tvalidation-logloss:0.477829\n",
      "[26700]\ttraining-logloss:0.207459\tvalidation-logloss:0.477796\n",
      "[26750]\ttraining-logloss:0.207398\tvalidation-logloss:0.477764\n",
      "[26800]\ttraining-logloss:0.207328\tvalidation-logloss:0.477751\n",
      "[26850]\ttraining-logloss:0.207246\tvalidation-logloss:0.477975\n",
      "[26900]\ttraining-logloss:0.206884\tvalidation-logloss:0.477832\n",
      "[26950]\ttraining-logloss:0.206623\tvalidation-logloss:0.47786\n",
      "[27000]\ttraining-logloss:0.206368\tvalidation-logloss:0.477862\n",
      "[27050]\ttraining-logloss:0.206213\tvalidation-logloss:0.477845\n",
      "[27100]\ttraining-logloss:0.206094\tvalidation-logloss:0.477823\n",
      "[27150]\ttraining-logloss:0.206041\tvalidation-logloss:0.477823\n",
      "[27200]\ttraining-logloss:0.205804\tvalidation-logloss:0.478021\n",
      "[27250]\ttraining-logloss:0.205393\tvalidation-logloss:0.477956\n",
      "[27300]\ttraining-logloss:0.20537\tvalidation-logloss:0.478543\n",
      "[27350]\ttraining-logloss:0.205026\tvalidation-logloss:0.478181\n",
      "[27400]\ttraining-logloss:0.204886\tvalidation-logloss:0.478149\n",
      "[27450]\ttraining-logloss:0.204712\tvalidation-logloss:0.47802\n",
      "[27500]\ttraining-logloss:0.204702\tvalidation-logloss:0.478338\n",
      "[27550]\ttraining-logloss:0.204216\tvalidation-logloss:0.478044\n",
      "[27600]\ttraining-logloss:0.204013\tvalidation-logloss:0.478153\n",
      "[27650]\ttraining-logloss:0.203593\tvalidation-logloss:0.477962\n",
      "[27700]\ttraining-logloss:0.203337\tvalidation-logloss:0.477934\n",
      "[27750]\ttraining-logloss:0.203127\tvalidation-logloss:0.477905\n",
      "[27800]\ttraining-logloss:0.202942\tvalidation-logloss:0.477909\n",
      "[27850]\ttraining-logloss:0.202775\tvalidation-logloss:0.477931\n",
      "[27900]\ttraining-logloss:0.20284\tvalidation-logloss:0.478379\n",
      "[27950]\ttraining-logloss:0.202578\tvalidation-logloss:0.478146\n",
      "[28000]\ttraining-logloss:0.202368\tvalidation-logloss:0.478066\n",
      "[28050]\ttraining-logloss:0.20219\tvalidation-logloss:0.478061\n",
      "[28100]\ttraining-logloss:0.202162\tvalidation-logloss:0.478289\n",
      "[28150]\ttraining-logloss:0.201895\tvalidation-logloss:0.478136\n",
      "[28200]\ttraining-logloss:0.201704\tvalidation-logloss:0.478078\n",
      "[28250]\ttraining-logloss:0.201542\tvalidation-logloss:0.478055\n",
      "[28300]\ttraining-logloss:0.201443\tvalidation-logloss:0.478032\n",
      "[28350]\ttraining-logloss:0.201361\tvalidation-logloss:0.478031\n",
      "[28400]\ttraining-logloss:0.201283\tvalidation-logloss:0.478023\n",
      "[28450]\ttraining-logloss:0.201172\tvalidation-logloss:0.478021\n",
      "[28500]\ttraining-logloss:0.201124\tvalidation-logloss:0.478024\n",
      "[28550]\ttraining-logloss:0.200994\tvalidation-logloss:0.478033\n",
      "[28600]\ttraining-logloss:0.201361\tvalidation-logloss:0.479314\n",
      "[28650]\ttraining-logloss:0.200851\tvalidation-logloss:0.478749\n",
      "[28700]\ttraining-logloss:0.200542\tvalidation-logloss:0.47848\n",
      "[28750]\ttraining-logloss:0.200706\tvalidation-logloss:0.478823\n",
      "[28800]\ttraining-logloss:0.200262\tvalidation-logloss:0.478435\n",
      "[28850]\ttraining-logloss:0.200016\tvalidation-logloss:0.478281\n",
      "[28900]\ttraining-logloss:0.1998\tvalidation-logloss:0.478189\n",
      "[28950]\ttraining-logloss:0.199622\tvalidation-logloss:0.478178\n",
      "[29000]\ttraining-logloss:0.199448\tvalidation-logloss:0.478165\n",
      "[29050]\ttraining-logloss:0.199361\tvalidation-logloss:0.478142\n",
      "[29100]\ttraining-logloss:0.199258\tvalidation-logloss:0.478129\n",
      "[29150]\ttraining-logloss:0.199139\tvalidation-logloss:0.478115\n",
      "[29200]\ttraining-logloss:0.199032\tvalidation-logloss:0.478102\n",
      "[29250]\ttraining-logloss:0.198925\tvalidation-logloss:0.478149\n",
      "[29300]\ttraining-logloss:0.19887\tvalidation-logloss:0.478426\n",
      "[29350]\ttraining-logloss:0.198689\tvalidation-logloss:0.478696\n",
      "[29400]\ttraining-logloss:0.199446\tvalidation-logloss:0.479844\n",
      "[29450]\ttraining-logloss:0.198617\tvalidation-logloss:0.479119\n",
      "[29500]\ttraining-logloss:0.198181\tvalidation-logloss:0.478715\n",
      "[29550]\ttraining-logloss:0.198416\tvalidation-logloss:0.479518\n",
      "[29600]\ttraining-logloss:0.197715\tvalidation-logloss:0.478835\n",
      "[29650]\ttraining-logloss:0.197312\tvalidation-logloss:0.47851\n",
      "[29700]\ttraining-logloss:0.197025\tvalidation-logloss:0.47875\n",
      "[29750]\ttraining-logloss:0.196834\tvalidation-logloss:0.479145\n",
      "[29800]\ttraining-logloss:0.196647\tvalidation-logloss:0.479075\n",
      "[29850]\ttraining-logloss:0.196253\tvalidation-logloss:0.478828\n",
      "[29900]\ttraining-logloss:0.196006\tvalidation-logloss:0.478745\n",
      "[29950]\ttraining-logloss:0.196068\tvalidation-logloss:0.479085\n",
      "[30000]\ttraining-logloss:0.195897\tvalidation-logloss:0.479103\n",
      "[30050]\ttraining-logloss:0.195662\tvalidation-logloss:0.479098\n",
      "[30100]\ttraining-logloss:0.195445\tvalidation-logloss:0.479066\n",
      "[30150]\ttraining-logloss:0.195231\tvalidation-logloss:0.479191\n",
      "[30200]\ttraining-logloss:0.194785\tvalidation-logloss:0.478884\n",
      "[30250]\ttraining-logloss:0.196851\tvalidation-logloss:0.48297\n",
      "[30300]\ttraining-logloss:0.19502\tvalidation-logloss:0.480588\n",
      "[30350]\ttraining-logloss:0.194283\tvalidation-logloss:0.479511\n",
      "[30400]\ttraining-logloss:0.194708\tvalidation-logloss:0.480116\n",
      "[30450]\ttraining-logloss:0.193945\tvalidation-logloss:0.479186\n",
      "[30500]\ttraining-logloss:0.193569\tvalidation-logloss:0.4788\n",
      "[30550]\ttraining-logloss:0.193371\tvalidation-logloss:0.478629\n",
      "[30600]\ttraining-logloss:0.193256\tvalidation-logloss:0.478553\n",
      "[30650]\ttraining-logloss:0.193114\tvalidation-logloss:0.478507\n",
      "[30700]\ttraining-logloss:0.192982\tvalidation-logloss:0.478544\n",
      "[30750]\ttraining-logloss:0.192778\tvalidation-logloss:0.478562\n",
      "[30800]\ttraining-logloss:0.192661\tvalidation-logloss:0.478611\n",
      "[30850]\ttraining-logloss:0.19258\tvalidation-logloss:0.478572\n",
      "[30900]\ttraining-logloss:0.192512\tvalidation-logloss:0.47859\n",
      "[30950]\ttraining-logloss:0.192407\tvalidation-logloss:0.478568\n",
      "[31000]\ttraining-logloss:0.192299\tvalidation-logloss:0.478554\n",
      "[31050]\ttraining-logloss:0.192217\tvalidation-logloss:0.478543\n",
      "[31100]\ttraining-logloss:0.192217\tvalidation-logloss:0.478617\n",
      "[31150]\ttraining-logloss:0.192075\tvalidation-logloss:0.478603\n",
      "[31200]\ttraining-logloss:0.191962\tvalidation-logloss:0.478588\n",
      "[31250]\ttraining-logloss:0.191891\tvalidation-logloss:0.478629\n",
      "[31300]\ttraining-logloss:0.191795\tvalidation-logloss:0.478648\n",
      "[31350]\ttraining-logloss:0.1917\tvalidation-logloss:0.478631\n",
      "[31400]\ttraining-logloss:0.191588\tvalidation-logloss:0.478629\n",
      "[31450]\ttraining-logloss:0.191492\tvalidation-logloss:0.478657\n",
      "[31500]\ttraining-logloss:0.191387\tvalidation-logloss:0.478683\n",
      "[31550]\ttraining-logloss:0.191293\tvalidation-logloss:0.478697\n",
      "[31600]\ttraining-logloss:0.191158\tvalidation-logloss:0.478697\n",
      "[31650]\ttraining-logloss:0.191024\tvalidation-logloss:0.478716\n",
      "[31700]\ttraining-logloss:0.190878\tvalidation-logloss:0.478729\n",
      "[31750]\ttraining-logloss:0.190777\tvalidation-logloss:0.478727\n",
      "[31800]\ttraining-logloss:0.190661\tvalidation-logloss:0.478746\n",
      "[31850]\ttraining-logloss:0.190533\tvalidation-logloss:0.478764\n",
      "[31900]\ttraining-logloss:0.190387\tvalidation-logloss:0.478797\n",
      "[31950]\ttraining-logloss:0.190291\tvalidation-logloss:0.478801\n",
      "[32000]\ttraining-logloss:0.190231\tvalidation-logloss:0.478805\n",
      "[32050]\ttraining-logloss:0.190156\tvalidation-logloss:0.478823\n",
      "[32100]\ttraining-logloss:0.19009\tvalidation-logloss:0.47883\n",
      "[32150]\ttraining-logloss:0.190008\tvalidation-logloss:0.478849\n",
      "[32200]\ttraining-logloss:0.189946\tvalidation-logloss:0.478873\n",
      "[32250]\ttraining-logloss:0.189892\tvalidation-logloss:0.478896\n",
      "[32300]\ttraining-logloss:0.189825\tvalidation-logloss:0.478914\n",
      "[32350]\ttraining-logloss:0.18974\tvalidation-logloss:0.478904\n",
      "[32400]\ttraining-logloss:0.189648\tvalidation-logloss:0.478927\n",
      "[32450]\ttraining-logloss:0.189562\tvalidation-logloss:0.47895\n",
      "[32500]\ttraining-logloss:0.189469\tvalidation-logloss:0.478944\n",
      "[32550]\ttraining-logloss:0.189388\tvalidation-logloss:0.478937\n",
      "[32600]\ttraining-logloss:0.189334\tvalidation-logloss:0.478945\n",
      "[32650]\ttraining-logloss:0.189284\tvalidation-logloss:0.478966\n",
      "[32700]\ttraining-logloss:0.189209\tvalidation-logloss:0.478971\n",
      "[32750]\ttraining-logloss:0.189128\tvalidation-logloss:0.478983\n",
      "[32800]\ttraining-logloss:0.189069\tvalidation-logloss:0.479003\n",
      "[32850]\ttraining-logloss:0.189468\tvalidation-logloss:0.47945\n",
      "[32900]\ttraining-logloss:0.189017\tvalidation-logloss:0.479401\n",
      "[32950]\ttraining-logloss:0.188568\tvalidation-logloss:0.479434\n",
      "[33000]\ttraining-logloss:0.188216\tvalidation-logloss:0.479297\n",
      "[33050]\ttraining-logloss:0.187994\tvalidation-logloss:0.479336\n",
      "[33100]\ttraining-logloss:0.187779\tvalidation-logloss:0.47924\n",
      "[33150]\ttraining-logloss:0.187603\tvalidation-logloss:0.479188\n",
      "[33200]\ttraining-logloss:0.187524\tvalidation-logloss:0.479172\n",
      "[33250]\ttraining-logloss:0.187406\tvalidation-logloss:0.479187\n",
      "[33300]\ttraining-logloss:0.187343\tvalidation-logloss:0.479199\n",
      "[33350]\ttraining-logloss:0.187253\tvalidation-logloss:0.479228\n",
      "[33400]\ttraining-logloss:0.187172\tvalidation-logloss:0.479221\n",
      "[33450]\ttraining-logloss:0.187086\tvalidation-logloss:0.479224\n",
      "[33500]\ttraining-logloss:0.18699\tvalidation-logloss:0.479223\n",
      "[33550]\ttraining-logloss:0.186893\tvalidation-logloss:0.479247\n",
      "[33600]\ttraining-logloss:0.18681\tvalidation-logloss:0.479281\n",
      "[33650]\ttraining-logloss:0.186752\tvalidation-logloss:0.479285\n",
      "[33700]\ttraining-logloss:0.186691\tvalidation-logloss:0.47931\n",
      "[33750]\ttraining-logloss:0.186619\tvalidation-logloss:0.479367\n",
      "[33800]\ttraining-logloss:0.18656\tvalidation-logloss:0.479373\n",
      "[33850]\ttraining-logloss:0.186509\tvalidation-logloss:0.479374\n",
      "[33900]\ttraining-logloss:0.186458\tvalidation-logloss:0.479339\n",
      "[33950]\ttraining-logloss:0.186416\tvalidation-logloss:0.479386\n",
      "[34000]\ttraining-logloss:0.186346\tvalidation-logloss:0.479386\n",
      "Stopping. Best iteration:\n",
      "[24029]\ttraining-logloss:0.218536\tvalidation-logloss:0.476842\n",
      "\n"
     ]
    }
   ],
   "source": [
    "gpu_params = {\n",
    "    'objective': 'binary:logistic',\n",
    "    'eval_metric': 'logloss',\n",
    "    'eta': 0.01,\n",
    "    'max_depth': 9,\n",
    "    'min_child_weight': 1,\n",
    "    'updater': 'grow_gpu',\n",
    "    'n_estimators': 1000,\n",
    "    'scale_pos_weight': 1\n",
    "}\n",
    "\n",
    "D_training = xgb.DMatrix(X_training_pruned, label=y_training)\n",
    "D_validation = xgb.DMatrix(X_validation_pruned, label=y_validation)\n",
    "watchlist = [(D_training, 'training'), (D_validation, 'validation')]\n",
    "\n",
    "bst = xgb.train(gpu_params, D_training, 50000, watchlist, early_stopping_rounds=10000, verbose_eval=50)"
   ]
  },
  {
   "cell_type": "markdown",
   "metadata": {},
   "source": [
    "#### Test Set Prep & Predictions"
   ]
  },
  {
   "cell_type": "code",
   "execution_count": null,
   "metadata": {
    "collapsed": false
   },
   "outputs": [],
   "source": [
    "# Combine preprocessed text into a stacked dataframe\n",
    "df['pid'] = TEST.test_id.append(TEST.test_id)\n",
    "df['qid'] = pd.Series(np.arange(len(TEST) * 2))\n",
    "df['base'] = pd.read_pickle('./pickles.gi/TEST_tokenized.pkl')\n",
    "df['filtered'] = pd.read_pickle('./pickles.gi/TEST_filtered.pkl')\n",
    "df['stemmed'] = pd.read_pickle('./pickles.gi/TEST_stemmed.pkl')\n",
    "df['stemmed_filtered'] = pd.read_pickle('./pickles.gi/TEST_stemmed_filtered.pkl')\n",
    "df['lemmatized'] = pd.read_pickle('./pickles.gi/TEST_lemmatized.pkl')\n",
    "df['lemmatized_filtered'] = pd.read_pickle('./pickles.gi/TEST_lemmatized_filtered.pkl')\n",
    "df.to_pickle('./pickles.gi/TEST_preprocessed_stacked.pkl')\n",
    "\n",
    "# Create unstacked version of preprocessed dataframe\n",
    "df = pd.read_pickle('./pickles.gi/TEST_preprocessed_stacked.pkl')\n",
    "df = df.merge(df, how='inner', on='pid', suffixes=('_1','_2'))\n",
    "df = df[(df['qid_1'] != df['qid_2']) & (df['qid_1'] < df['qid_1'])]\n",
    "df.reset_index(drop=True, inplace=True)\n",
    "df.to_pickle('./pickles.gi/TEST_preprocessed_unstacked.pkl')\n",
    "\n",
    "# Tagging for Doc2Vec processing\n",
    "preprocessed_stacked = pd.read_pickle('./pickles.gi/TEST_preprocessed_unstacked.pkl')\n",
    "df = pd.DataFrame()\n",
    "df['pid'] = preprocessed_stacked.pid\n",
    "df['qid'] = preprocessed_stacked.qid\n",
    "df['base'] = preprocessed_stacked.apply(lambda x: d2v.TaggedDocument(x['base'], [x['qid']]), axis=1)\n",
    "df['filtered'] = preprocessed_stacked.apply(lambda x: d2v.TaggedDocument(x['filtered'], [x['qid']]), axis=1)\n",
    "df['stemmed'] = preprocessed_stacked.apply(lambda x: d2v.TaggedDocument(x['stemmed'], [x['qid']]), axis=1)\n",
    "df['stemmed_filtered'] = preprocessed_stacked.apply(lambda x: d2v.TaggedDocument(x['stemmed_filtered'], [x['qid']]), axis=1)\n",
    "df['lemmatized'] = preprocessed_stacked.apply(lambda x: d2v.TaggedDocument(x['lemmatized'], [x['qid']]), axis=1)\n",
    "df['lemmatized_filtered'] = preprocessed_stacked.apply(lambda x: d2v.TaggedDocument(x['lemmatized_filtered'], [x['qid']]), axis=1)\n",
    "df.reset_index(drop=True, inplace=True)\n",
    "df.to_pickle('./pickles.gi/TEST_tagged.pkl')"
   ]
  },
  {
   "cell_type": "code",
   "execution_count": null,
   "metadata": {
    "collapsed": true
   },
   "outputs": [],
   "source": [
    "# Word share\n",
    "TEST_word_share_base = TEST_preprocessed.apply(lambda x: calculate_word_share(x['base_1'], x['base_2']), axis=1, raw=True)\n",
    "TEST_word_share_filtered = TEST_preprocessed.apply(lambda x: calculate_word_share(x['filtered_1'], x['filtered_2']), axis=1, raw=True)\n",
    "TEST_word_share_stemmed = TEST_preprocessed.apply(lambda x: calculate_word_share(x['stemmed_1'], x['stemmed_2']), axis=1, raw=True)\n",
    "TEST_word_share_stemmed_filtered = TEST_preprocessed.apply(lambda x: calculate_word_share(x['stemmed_filtered_1'], x['stemmed_filtered_2']), axis=1, raw=True)\n",
    "TEST_word_share_lemmatized = TEST_preprocessed.apply(lambda x: calculate_word_share(x['lemmatized_1'], x['lemmatized_2']), axis=1, raw=True)\n",
    "TEST_word_share_lemmatized_filtered = TEST_preprocessed.apply(lambda x: calculate_word_share(x['lemmatized_filtered_1'], x['lemmatized_filtered_2']), axis=1, raw=True)\n",
    "\n",
    "# Combine word share metrics into single dataframe\n",
    "df = pd.DataFrame()\n",
    "df['pid'] = TEST_preprocessed.pid\n",
    "df['base'] = pd.read_pickle('./pickles.gi/TEST_word_share_base.pkl')\n",
    "df['filtered'] = pd.read_pickle('./pickles.gi/TEST_word_share_filtered.pkl')\n",
    "df['stemmed'] = pd.read_pickle('./pickles.gi/TEST_word_share_stemmed.pkl')\n",
    "df['stemmed_filtered'] = pd.read_pickle('./pickles.gi/TEST_word_share_stemmed_filtered.pkl')\n",
    "df['lemmatized'] = pd.read_pickle('./pickles.gi/TEST_word_share_lemmatized.pkl')\n",
    "df['lemmatized_filtered'] = pd.read_pickle('./pickles.gi/TEST_word_share_lemmatized_filtered.pkl')\n",
    "df.to_pickle('./pickles.gi/TEST_word_share.pkl')"
   ]
  },
  {
   "cell_type": "code",
   "execution_count": null,
   "metadata": {
    "collapsed": true
   },
   "outputs": [],
   "source": [
    "# TF-IDF\n",
    "TEST_preprocessed_stacked = pd.read_pickle('./pickles.gi/TEST_preprocessed_stacked.pkl')\n",
    "vectorizer = TfidfVectorizer()\n",
    "\n",
    "# Base\n",
    "TDX = vectorizer.fit_transform(TEST_preprocessed_stacked.base.fillna('').apply(lambda x: ' '.join(x)))\n",
    "weights = dict(zip(vectorizer.get_feature_names(), vectorizer.idf_))\n",
    "pickle.dump(weights, open('./pickles.gi/TEST_tfidf_weights_base.pkl', 'wb'))\n",
    "\n",
    "# Filtered\n",
    "TDX = vectorizer.fit_transform(TEST_preprocessed_stacked.filtered.fillna('').apply(lambda x: ' '.join(x)))\n",
    "weights = dict(zip(vectorizer.get_feature_names(), vectorizer.idf_))\n",
    "pickle.dump(weights, open('./pickles.gi/TEST_tfidf_weights_filtered.pkl', 'wb'))\n",
    "\n",
    "# Stemmed\n",
    "TDX = vectorizer.fit_transform(TEST_preprocessed_stacked.stemmed.fillna('').apply(lambda x: ' '.join(x)))\n",
    "weights = dict(zip(vectorizer.get_feature_names(), vectorizer.idf_))\n",
    "pickle.dump(weights, open('./pickles.gi/TEST_tfidf_weights_stemmed.pkl', 'wb'))\n",
    "\n",
    "# Stemmed & Filtered\n",
    "TDX = vectorizer.fit_transform(TEST_preprocessed_stacked.stemmed_filtered.fillna('').apply(lambda x: ' '.join(x)))\n",
    "weights = dict(zip(vectorizer.get_feature_names(), vectorizer.idf_))\n",
    "pickle.dump(weights, open('./pickles.gi/TEST_tfidf_weights_stemmed_filtered.pkl', 'wb'))\n",
    "\n",
    "# Lemmatized\n",
    "TDX = vectorizer.fit_transform(TEST_preprocessed_stacked.lemmatized.fillna('').apply(lambda x: ' '.join(x)))\n",
    "weights = dict(zip(vectorizer.get_feature_names(), vectorizer.idf_))\n",
    "pickle.dump(weights, open('./pickles.gi/TEST_tfidf_weights_lemmatized.pkl', 'wb'))\n",
    "\n",
    "# Lemmatized & Filtered\n",
    "TDX = vectorizer.fit_transform(TEST_preprocessed_stacked.lemmatized_filtered.fillna('').apply(lambda x: ' '.join(x)))\n",
    "weights = dict(zip(vectorizer.get_feature_names(), vectorizer.idf_))\n",
    "pickle.dump(weights, open('./pickles.gi/TEST_tfidf_weights_lemmatized_filtered.pkl', 'wb'))"
   ]
  },
  {
   "cell_type": "code",
   "execution_count": null,
   "metadata": {
    "collapsed": true
   },
   "outputs": [],
   "source": [
    "#Doc2Vec\n",
    "dmm_model = d2v.Doc2Vec.load('./models.gi/dmm_model_lemmatized_filtered_word2vec_size300_iter10')\n",
    "TEST_preprocessed_unstacked = pd.read_pickle('./pickles.gi/TEST_preprocessed_unstacked.pkl')\n",
    "\n",
    "df = pd.DataFrame()\n",
    "df['vect_1'] = [dmm_model.infer_vector(x) for x in TEST_preprocessed_unstacked.lemmatized_filtered_1]\n",
    "df['vect_2'] = [dmm_model.infer_vector(x) for x in TEST_preprocessed_unstacked.lemmatized_filtered_2]\n",
    "\n",
    "TEST_d2v_cos_sim = pd.DataFrame()\n",
    "TEST_d2v_cos_sim['lemmatized_filtered'] = df.apply(lambda x: 1 - cosine(x.vect_1, x.vect_2), axis=1)\n",
    "TEST_d2v_cos_sim.to_pickle('./pickles.gi/TEST_d2v_cos_sim.pkl')"
   ]
  },
  {
   "cell_type": "code",
   "execution_count": null,
   "metadata": {
    "collapsed": true
   },
   "outputs": [],
   "source": [
    "# Train Test Split\n",
    "X_test = pd.DataFrame()\n",
    "X_test['word_share_base'] = TRAIN_word_share.base\n",
    "X_test['word_share_filtered'] = TRAIN_word_share.filtered\n",
    "X_test['word_share_stemmed'] = TRAIN_word_share.stemmed\n",
    "X_test['word_share_stemmed_filtered'] = TRAIN_word_share.stemmed_filtered\n",
    "X_test['word_share_lemmatized'] = TRAIN_word_share.lemmatized\n",
    "X_test['word_share_lemmatized_filtered'] = TRAIN_word_share.lemmatized\n",
    "X_test['tfidf_word_share_base'] = TRAIN_tfidf_word_share.base\n",
    "X_test['tfidf_word_share_filtered'] = TRAIN_tfidf_word_share.filtered\n",
    "X_test['tfidf_word_share_stemmed'] = TRAIN_tfidf_word_share.stemmed\n",
    "X_test['tfidf_word_share_stemmed_filtered'] = TRAIN_tfidf_word_share.stemmed_filtered\n",
    "X_test['tfidf_word_share_lemmatized'] = TRAIN_tfidf_word_share.lemmatized\n",
    "X_test['tfidf_word_share_lemmatized_filtered'] = TRAIN_tfidf_word_share.lemmatized_filtered\n",
    "X_test['d2v_cos_sim_lemmatized_filtered'] = TRAIN_d2v_cos_sim.lemmatized_filtered\n",
    "\n",
    "# Predict\n",
    "d_test = xgb.DMatrix(pd.DataFrame(X_test).drop(pd.DataFrame(X_test).columns[[3, 4]], axis=1))\n",
    "p_test = bst.predict(d_test)\n",
    "\n",
    "# Submission File\n",
    "sub = pd.DataFrame()\n",
    "sub['test_id'] = TEST['test_id']\n",
    "sub['is_duplicate'] = p_test\n",
    "sub.to_csv('./submission_final.csv', index=False)"
   ]
  }
 ],
 "metadata": {
  "kernelspec": {
   "display_name": "Python 3",
   "language": "python",
   "name": "python3"
  },
  "language_info": {
   "codemirror_mode": {
    "name": "ipython",
    "version": 3
   },
   "file_extension": ".py",
   "mimetype": "text/x-python",
   "name": "python",
   "nbconvert_exporter": "python",
   "pygments_lexer": "ipython3",
   "version": "3.6.0"
  }
 },
 "nbformat": 4,
 "nbformat_minor": 2
}
