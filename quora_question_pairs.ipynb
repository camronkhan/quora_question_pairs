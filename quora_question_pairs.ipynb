{
 "cells": [
  {
   "cell_type": "markdown",
   "metadata": {},
   "source": [
    "# Quora Quesiton Pairs"
   ]
  },
  {
   "cell_type": "markdown",
   "metadata": {},
   "source": [
    "[Competition Homepage](https://www.kaggle.com/c/quora-question-pairs)\n",
    "\n",
    "Currently, Quora uses a Random Forest model to identify duplicate questions. In this competition, Kagglers are challenged to tackle this natural language processing problem by applying advanced techniques to classify whether question pairs are duplicates or not. Doing so will make it easier to find high quality answers to questions resulting in an improved experience for Quora writers, seekers, and readers.\n",
    "\n",
    "For each ID in the test set, Kagglers must predict the probability that the questions are duplicates (a number between 0 and 1).  Submissions are evaluated on the log loss between the predicted values and the ground truth."
   ]
  },
  {
   "cell_type": "markdown",
   "metadata": {},
   "source": [
    "## Imports"
   ]
  },
  {
   "cell_type": "code",
   "execution_count": 1,
   "metadata": {
    "collapsed": false
   },
   "outputs": [],
   "source": [
    "import numpy as np\n",
    "import pandas as pd\n",
    "import multiprocessing as mp\n",
    "import datetime as dt\n",
    "import math\n",
    "import os\n",
    "import gc\n",
    "#import seaborn as sns\n",
    "from sklearn.feature_extraction.text import TfidfVectorizer\n",
    "from sklearn.metrics import log_loss\n",
    "from sklearn.metrics import roc_auc_score\n",
    "from sklearn.model_selection import train_test_split\n",
    "import matplotlib.pyplot as plt\n",
    "%matplotlib inline\n",
    "\n",
    "\n",
    "from nltk.tokenize import RegexpTokenizer\n",
    "from nltk.stem import SnowballStemmer\n",
    "from nltk.stem import WordNetLemmatizer\n",
    "from nltk.corpus import stopwords"
   ]
  },
  {
   "cell_type": "markdown",
   "metadata": {},
   "source": [
    "## EDA"
   ]
  },
  {
   "cell_type": "markdown",
   "metadata": {},
   "source": [
    "### Raw Data Analysis"
   ]
  },
  {
   "cell_type": "code",
   "execution_count": 2,
   "metadata": {
    "collapsed": false
   },
   "outputs": [
    {
     "name": "stdout",
     "output_type": "stream",
     "text": [
      ".ipynb_checkpoints            0.0 MB\n",
      "test.csv                      314.02 MB\n",
      "train.csv                     63.4 MB\n"
     ]
    }
   ],
   "source": [
    "for f in os.listdir('./data.gi'):\n",
    "    if 'zip' not in f:\n",
    "        print(f.ljust(30) + str(round(os.path.getsize('./data.gi/' + f) / 1000000, 2)) + ' MB')"
   ]
  },
  {
   "cell_type": "markdown",
   "metadata": {},
   "source": [
    "The competition provides 3 .csv files - training set, testing set, and sample submission.  It is interesting to note that the testing set is approximately 5x the size of the training set.  The [Data](https://www.kaggle.com/c/quora-question-pairs/data) section of the competition homepage states the following: \n",
    "\n",
    "*\"As an anti-cheating measure, Kaggle has supplemented the test set with computer-generated question pairs. Those rows do not come from Quora, and are not counted in the scoring. All of the questions in the training set are genuine examples from Quora.\"*\n",
    "\n",
    "The sample submission file can be ignored as it is just an example for Kagglers to follow when preparing their .csv files for submission."
   ]
  },
  {
   "cell_type": "markdown",
   "metadata": {},
   "source": [
    "### Training Set Analysis"
   ]
  },
  {
   "cell_type": "markdown",
   "metadata": {},
   "source": [
    "**Train Columns:**\n",
    "- **id:** (int) question pair identifier\n",
    "- **qid1:** (int) single question identifer (first in pair)\n",
    "- **qid2:** (int) single question identfier (second in pair)\n",
    "- **question1:** (string) first question text\n",
    "- **question2:** (string) second question text\n",
    "- **is_duplicate:** (int) binary duplicate indicator - this is our label for supervised training"
   ]
  },
  {
   "cell_type": "code",
   "execution_count": 3,
   "metadata": {
    "collapsed": false
   },
   "outputs": [
    {
     "data": {
      "text/html": [
       "<div>\n",
       "<table border=\"1\" class=\"dataframe\">\n",
       "  <thead>\n",
       "    <tr style=\"text-align: right;\">\n",
       "      <th></th>\n",
       "      <th>id</th>\n",
       "      <th>qid1</th>\n",
       "      <th>qid2</th>\n",
       "      <th>question1</th>\n",
       "      <th>question2</th>\n",
       "      <th>is_duplicate</th>\n",
       "    </tr>\n",
       "  </thead>\n",
       "  <tbody>\n",
       "    <tr>\n",
       "      <th>0</th>\n",
       "      <td>0</td>\n",
       "      <td>1</td>\n",
       "      <td>2</td>\n",
       "      <td>What is the step by step guide to invest in sh...</td>\n",
       "      <td>What is the step by step guide to invest in sh...</td>\n",
       "      <td>0</td>\n",
       "    </tr>\n",
       "    <tr>\n",
       "      <th>1</th>\n",
       "      <td>1</td>\n",
       "      <td>3</td>\n",
       "      <td>4</td>\n",
       "      <td>What is the story of Kohinoor (Koh-i-Noor) Dia...</td>\n",
       "      <td>What would happen if the Indian government sto...</td>\n",
       "      <td>0</td>\n",
       "    </tr>\n",
       "    <tr>\n",
       "      <th>2</th>\n",
       "      <td>2</td>\n",
       "      <td>5</td>\n",
       "      <td>6</td>\n",
       "      <td>How can I increase the speed of my internet co...</td>\n",
       "      <td>How can Internet speed be increased by hacking...</td>\n",
       "      <td>0</td>\n",
       "    </tr>\n",
       "    <tr>\n",
       "      <th>3</th>\n",
       "      <td>3</td>\n",
       "      <td>7</td>\n",
       "      <td>8</td>\n",
       "      <td>Why am I mentally very lonely? How can I solve...</td>\n",
       "      <td>Find the remainder when [math]23^{24}[/math] i...</td>\n",
       "      <td>0</td>\n",
       "    </tr>\n",
       "    <tr>\n",
       "      <th>4</th>\n",
       "      <td>4</td>\n",
       "      <td>9</td>\n",
       "      <td>10</td>\n",
       "      <td>Which one dissolve in water quikly sugar, salt...</td>\n",
       "      <td>Which fish would survive in salt water?</td>\n",
       "      <td>0</td>\n",
       "    </tr>\n",
       "  </tbody>\n",
       "</table>\n",
       "</div>"
      ],
      "text/plain": [
       "   id  qid1  qid2                                          question1  \\\n",
       "0   0     1     2  What is the step by step guide to invest in sh...   \n",
       "1   1     3     4  What is the story of Kohinoor (Koh-i-Noor) Dia...   \n",
       "2   2     5     6  How can I increase the speed of my internet co...   \n",
       "3   3     7     8  Why am I mentally very lonely? How can I solve...   \n",
       "4   4     9    10  Which one dissolve in water quikly sugar, salt...   \n",
       "\n",
       "                                           question2  is_duplicate  \n",
       "0  What is the step by step guide to invest in sh...             0  \n",
       "1  What would happen if the Indian government sto...             0  \n",
       "2  How can Internet speed be increased by hacking...             0  \n",
       "3  Find the remainder when [math]23^{24}[/math] i...             0  \n",
       "4            Which fish would survive in salt water?             0  "
      ]
     },
     "execution_count": 3,
     "metadata": {},
     "output_type": "execute_result"
    }
   ],
   "source": [
    "TRAIN = pd.read_csv('./data.gi/train.csv')\n",
    "TRAIN.head()"
   ]
  },
  {
   "cell_type": "code",
   "execution_count": 4,
   "metadata": {
    "collapsed": false
   },
   "outputs": [
    {
     "data": {
      "text/html": [
       "<div>\n",
       "<table border=\"1\" class=\"dataframe\">\n",
       "  <thead>\n",
       "    <tr style=\"text-align: right;\">\n",
       "      <th></th>\n",
       "      <th>id</th>\n",
       "      <th>qid1</th>\n",
       "      <th>qid2</th>\n",
       "      <th>question1</th>\n",
       "      <th>question2</th>\n",
       "      <th>is_duplicate</th>\n",
       "    </tr>\n",
       "  </thead>\n",
       "  <tbody>\n",
       "    <tr>\n",
       "      <th>404285</th>\n",
       "      <td>404285</td>\n",
       "      <td>433578</td>\n",
       "      <td>379845</td>\n",
       "      <td>How many keywords are there in the Racket prog...</td>\n",
       "      <td>How many keywords are there in PERL Programmin...</td>\n",
       "      <td>0</td>\n",
       "    </tr>\n",
       "    <tr>\n",
       "      <th>404286</th>\n",
       "      <td>404286</td>\n",
       "      <td>18840</td>\n",
       "      <td>155606</td>\n",
       "      <td>Do you believe there is life after death?</td>\n",
       "      <td>Is it true that there is life after death?</td>\n",
       "      <td>1</td>\n",
       "    </tr>\n",
       "    <tr>\n",
       "      <th>404287</th>\n",
       "      <td>404287</td>\n",
       "      <td>537928</td>\n",
       "      <td>537929</td>\n",
       "      <td>What is one coin?</td>\n",
       "      <td>What's this coin?</td>\n",
       "      <td>0</td>\n",
       "    </tr>\n",
       "    <tr>\n",
       "      <th>404288</th>\n",
       "      <td>404288</td>\n",
       "      <td>537930</td>\n",
       "      <td>537931</td>\n",
       "      <td>What is the approx annual cost of living while...</td>\n",
       "      <td>I am having little hairfall problem but I want...</td>\n",
       "      <td>0</td>\n",
       "    </tr>\n",
       "    <tr>\n",
       "      <th>404289</th>\n",
       "      <td>404289</td>\n",
       "      <td>537932</td>\n",
       "      <td>537933</td>\n",
       "      <td>What is like to have sex with cousin?</td>\n",
       "      <td>What is it like to have sex with your cousin?</td>\n",
       "      <td>0</td>\n",
       "    </tr>\n",
       "  </tbody>\n",
       "</table>\n",
       "</div>"
      ],
      "text/plain": [
       "            id    qid1    qid2  \\\n",
       "404285  404285  433578  379845   \n",
       "404286  404286   18840  155606   \n",
       "404287  404287  537928  537929   \n",
       "404288  404288  537930  537931   \n",
       "404289  404289  537932  537933   \n",
       "\n",
       "                                                question1  \\\n",
       "404285  How many keywords are there in the Racket prog...   \n",
       "404286          Do you believe there is life after death?   \n",
       "404287                                  What is one coin?   \n",
       "404288  What is the approx annual cost of living while...   \n",
       "404289              What is like to have sex with cousin?   \n",
       "\n",
       "                                                question2  is_duplicate  \n",
       "404285  How many keywords are there in PERL Programmin...             0  \n",
       "404286         Is it true that there is life after death?             1  \n",
       "404287                                  What's this coin?             0  \n",
       "404288  I am having little hairfall problem but I want...             0  \n",
       "404289      What is it like to have sex with your cousin?             0  "
      ]
     },
     "execution_count": 4,
     "metadata": {},
     "output_type": "execute_result"
    }
   ],
   "source": [
    "TRAIN.tail()"
   ]
  },
  {
   "cell_type": "markdown",
   "metadata": {},
   "source": [
    "The last value in the *id* column matches the last row index value, indicating there are no jumps in ID.  The individual question IDs, however, do not appear to increase consistently.  Otherwise, we would expect *qid2* in row 404289 to be 808578.  Therefore, we will need to determine if the same questions are being used across pairs."
   ]
  },
  {
   "cell_type": "markdown",
   "metadata": {},
   "source": [
    "#### Duplicate Questions Across Pairs"
   ]
  },
  {
   "cell_type": "code",
   "execution_count": 5,
   "metadata": {
    "collapsed": false
   },
   "outputs": [
    {
     "name": "stdout",
     "output_type": "stream",
     "text": [
      "Number of total questions:    537933\n",
      "Number of unique questions:   426153\n",
      "Number of repeated questions: 111780\n",
      "\n",
      "Percent unique: 0.79%\n"
     ]
    },
    {
     "data": {
      "image/png": "[encoded data removed]",
      "text/plain": [
       "<matplotlib.figure.Figure at 0x103d8cc0>"
      ]
     },
     "metadata": {},
     "output_type": "display_data"
    }
   ],
   "source": [
    "qid = TRAIN.qid1.tolist() + TRAIN.qid2.tolist()\n",
    "qid_dict = dict.fromkeys(qid, 0)\n",
    "\n",
    "for x in qid:\n",
    "    qid_dict[x] += 1\n",
    "\n",
    "unique = 0\n",
    "for x in qid_dict:\n",
    "    if qid_dict[x] == 1:\n",
    "        unique += 1\n",
    "\n",
    "total = len(qid_dict)\n",
    "non_unique = total - unique\n",
    "\n",
    "print('Number of total questions: '.ljust(30) + str(total))\n",
    "print('Number of unique questions: '.ljust(30) + str(unique))\n",
    "print('Number of repeated questions: '.ljust(30) + str(non_unique))\n",
    "print('\\nPercent unique: ' + '{0:.2f}%'.format(unique / total))\n",
    "\n",
    "plt.figure(figsize=(12, 6))\n",
    "plt.hist(pd.Series(qid).value_counts(), bins=40, log=True, color='lightcoral', label='train')\n",
    "plt.xlabel('Number of Uses')\n",
    "plt.ylabel('Number of Questions')\n",
    "plt.title('Log of Number of Question Uses')\n",
    "plt.show()\n",
    "\n",
    "del qid, qid_dict, unique, total, non_unique"
   ]
  },
  {
   "cell_type": "markdown",
   "metadata": {},
   "source": [
    "About 80% of questions are used only once, however, there are a number of quetions that are used many times.  There are also a few cases of outliers that are used 100+ times."
   ]
  },
  {
   "cell_type": "markdown",
   "metadata": {},
   "source": [
    "#### Class Imbalance of Pairs Labeled as Duplicate"
   ]
  },
  {
   "cell_type": "code",
   "execution_count": 6,
   "metadata": {
    "collapsed": false
   },
   "outputs": [
    {
     "name": "stdout",
     "output_type": "stream",
     "text": [
      "Number of question pairs:     404290\n",
      "Number of duplicates:         149263\n",
      "Number of non-duplicates:     255027\n"
     ]
    },
    {
     "data": {
      "image/png": "[encoded data removed]",
      "text/plain": [
       "<matplotlib.figure.Figure at 0x1211f128>"
      ]
     },
     "metadata": {},
     "output_type": "display_data"
    }
   ],
   "source": [
    "print('Number of question pairs: '.ljust(30) + str(len(TRAIN)))\n",
    "print('Number of duplicates: '.ljust(30) + str(len(TRAIN[TRAIN.is_duplicate == 1])))\n",
    "print('Number of non-duplicates: '.ljust(30) + str(len(TRAIN[TRAIN.is_duplicate == 0])))\n",
    "\n",
    "plt.figure(figsize=(4, 4))\n",
    "plt.pie(TRAIN.is_duplicate.value_counts(), explode=(0.1, 0), labels=('Non-duplicate', 'Duplicate'), colors=('yellowgreen', 'lightskyblue'), autopct='%1.2f%%', shadow=True, startangle=140)\n",
    "plt.axis('equal')\n",
    "plt.show()"
   ]
  },
  {
   "cell_type": "markdown",
   "metadata": {},
   "source": [
    "There is about a 2:1 class imbalance in favor of non-duplicate question pairs.  As a result, it will make sense to evaluate models on roc auc along with the log loss metric."
   ]
  },
  {
   "cell_type": "markdown",
   "metadata": {},
   "source": [
    "### Test Set Analysis"
   ]
  },
  {
   "cell_type": "markdown",
   "metadata": {},
   "source": [
    "**Test Columns:**\n",
    "- **test_id:** (int) question pair identifier\n",
    "- **question1:** (string) first question text\n",
    "- **question2:** (string) second question text"
   ]
  },
  {
   "cell_type": "code",
   "execution_count": 7,
   "metadata": {
    "collapsed": false
   },
   "outputs": [
    {
     "data": {
      "text/html": [
       "<div>\n",
       "<table border=\"1\" class=\"dataframe\">\n",
       "  <thead>\n",
       "    <tr style=\"text-align: right;\">\n",
       "      <th></th>\n",
       "      <th>test_id</th>\n",
       "      <th>question1</th>\n",
       "      <th>question2</th>\n",
       "    </tr>\n",
       "  </thead>\n",
       "  <tbody>\n",
       "    <tr>\n",
       "      <th>0</th>\n",
       "      <td>0</td>\n",
       "      <td>How does the Surface Pro himself 4 compare wit...</td>\n",
       "      <td>Why did Microsoft choose core m3 and not core ...</td>\n",
       "    </tr>\n",
       "    <tr>\n",
       "      <th>1</th>\n",
       "      <td>1</td>\n",
       "      <td>Should I have a hair transplant at age 24? How...</td>\n",
       "      <td>How much cost does hair transplant require?</td>\n",
       "    </tr>\n",
       "    <tr>\n",
       "      <th>2</th>\n",
       "      <td>2</td>\n",
       "      <td>What but is the best way to send money from Ch...</td>\n",
       "      <td>What you send money to China?</td>\n",
       "    </tr>\n",
       "    <tr>\n",
       "      <th>3</th>\n",
       "      <td>3</td>\n",
       "      <td>Which food not emulsifiers?</td>\n",
       "      <td>What foods fibre?</td>\n",
       "    </tr>\n",
       "    <tr>\n",
       "      <th>4</th>\n",
       "      <td>4</td>\n",
       "      <td>How \"aberystwyth\" start reading?</td>\n",
       "      <td>How their can I start reading?</td>\n",
       "    </tr>\n",
       "  </tbody>\n",
       "</table>\n",
       "</div>"
      ],
      "text/plain": [
       "   test_id                                          question1  \\\n",
       "0        0  How does the Surface Pro himself 4 compare wit...   \n",
       "1        1  Should I have a hair transplant at age 24? How...   \n",
       "2        2  What but is the best way to send money from Ch...   \n",
       "3        3                        Which food not emulsifiers?   \n",
       "4        4                   How \"aberystwyth\" start reading?   \n",
       "\n",
       "                                           question2  \n",
       "0  Why did Microsoft choose core m3 and not core ...  \n",
       "1        How much cost does hair transplant require?  \n",
       "2                      What you send money to China?  \n",
       "3                                  What foods fibre?  \n",
       "4                     How their can I start reading?  "
      ]
     },
     "execution_count": 7,
     "metadata": {},
     "output_type": "execute_result"
    }
   ],
   "source": [
    "TEST = pd.read_csv('./data.gi/test.csv')\n",
    "TEST.head()"
   ]
  },
  {
   "cell_type": "code",
   "execution_count": 8,
   "metadata": {
    "collapsed": false
   },
   "outputs": [
    {
     "data": {
      "text/html": [
       "<div>\n",
       "<table border=\"1\" class=\"dataframe\">\n",
       "  <thead>\n",
       "    <tr style=\"text-align: right;\">\n",
       "      <th></th>\n",
       "      <th>test_id</th>\n",
       "      <th>question1</th>\n",
       "      <th>question2</th>\n",
       "    </tr>\n",
       "  </thead>\n",
       "  <tbody>\n",
       "    <tr>\n",
       "      <th>2345791</th>\n",
       "      <td>2345791</td>\n",
       "      <td>How do Peaks (TV series): Why did Leland kill ...</td>\n",
       "      <td>What is the most study scene in twin peaks?</td>\n",
       "    </tr>\n",
       "    <tr>\n",
       "      <th>2345792</th>\n",
       "      <td>2345792</td>\n",
       "      <td>What does be \"in transit\" mean on FedEx tracking?</td>\n",
       "      <td>How question FedEx packages delivered?</td>\n",
       "    </tr>\n",
       "    <tr>\n",
       "      <th>2345793</th>\n",
       "      <td>2345793</td>\n",
       "      <td>What are some famous Romanian drinks (alcoholi...</td>\n",
       "      <td>Can a non-alcoholic restaurant be a huge success?</td>\n",
       "    </tr>\n",
       "    <tr>\n",
       "      <th>2345794</th>\n",
       "      <td>2345794</td>\n",
       "      <td>What were the best and worst things about publ...</td>\n",
       "      <td>What are the best and worst things examination...</td>\n",
       "    </tr>\n",
       "    <tr>\n",
       "      <th>2345795</th>\n",
       "      <td>2345795</td>\n",
       "      <td>What is the best medication equation erectile ...</td>\n",
       "      <td>How do I out get rid of Erectile Dysfunction?</td>\n",
       "    </tr>\n",
       "  </tbody>\n",
       "</table>\n",
       "</div>"
      ],
      "text/plain": [
       "         test_id                                          question1  \\\n",
       "2345791  2345791  How do Peaks (TV series): Why did Leland kill ...   \n",
       "2345792  2345792  What does be \"in transit\" mean on FedEx tracking?   \n",
       "2345793  2345793  What are some famous Romanian drinks (alcoholi...   \n",
       "2345794  2345794  What were the best and worst things about publ...   \n",
       "2345795  2345795  What is the best medication equation erectile ...   \n",
       "\n",
       "                                                 question2  \n",
       "2345791        What is the most study scene in twin peaks?  \n",
       "2345792             How question FedEx packages delivered?  \n",
       "2345793  Can a non-alcoholic restaurant be a huge success?  \n",
       "2345794  What are the best and worst things examination...  \n",
       "2345795      How do I out get rid of Erectile Dysfunction?  "
      ]
     },
     "execution_count": 8,
     "metadata": {},
     "output_type": "execute_result"
    }
   ],
   "source": [
    "TEST.tail()"
   ]
  },
  {
   "cell_type": "markdown",
   "metadata": {},
   "source": [
    "There are no apparent incongruities in the *test_id* column as its final value matches the final index value.  Regarding computer-generated question pairs, test_id[4] appears to be an example with the two questions:\n",
    "1. How \"aberystwyth\" start reading?\n",
    "2. How their can I start reading?\n",
    "\n",
    "It is also worthwhile pointing out that there is no straightforward way to determine if any questions are reused in the test set."
   ]
  },
  {
   "cell_type": "markdown",
   "metadata": {
    "collapsed": true
   },
   "source": [
    "### Question Analysis"
   ]
  },
  {
   "cell_type": "code",
   "execution_count": 9,
   "metadata": {
    "collapsed": false
   },
   "outputs": [],
   "source": [
    "train_questions = TRAIN.question1.tolist() + TRAIN.question2.tolist()\n",
    "test_questions = TEST.question1.tolist() + TEST.question2.tolist()"
   ]
  },
  {
   "cell_type": "markdown",
   "metadata": {},
   "source": [
    "#### Missing Values"
   ]
  },
  {
   "cell_type": "code",
   "execution_count": 10,
   "metadata": {
    "collapsed": false
   },
   "outputs": [
    {
     "name": "stdout",
     "output_type": "stream",
     "text": [
      "Train\n",
      "-----\n",
      "Question 1:                   0\n",
      "Question 2:                   2\n",
      "\n",
      "Test\n",
      "----\n",
      "Question 1:                   2\n",
      "Question 2:                   4\n"
     ]
    }
   ],
   "source": [
    "print('Train')\n",
    "print('-----')\n",
    "print('Question 1:'.ljust(30) + str(TRAIN.question1.isnull().sum()))\n",
    "print('Question 2:'.ljust(30) + str(TRAIN.question2.isnull().sum()))\n",
    "print('\\nTest')\n",
    "print('----')\n",
    "print('Question 1:'.ljust(30) + str(TEST.question1.isnull().sum()))\n",
    "print('Question 2:'.ljust(30) + str(TEST.question2.isnull().sum()))"
   ]
  },
  {
   "cell_type": "markdown",
   "metadata": {},
   "source": [
    "#### Word Count"
   ]
  },
  {
   "cell_type": "code",
   "execution_count": 11,
   "metadata": {
    "collapsed": false
   },
   "outputs": [
    {
     "name": "stdout",
     "output_type": "stream",
     "text": [
      "\n",
      "Train Statistics\n",
      "----------------\n",
      "count    808580.000000\n",
      "mean         11.064856\n",
      "std           5.889168\n",
      "min           1.000000\n",
      "25%           7.000000\n",
      "50%          10.000000\n",
      "75%          13.000000\n",
      "max         237.000000\n",
      "dtype: float64\n",
      "\n",
      "Test Statistics\n",
      "---------------\n",
      "count    4.691592e+06\n",
      "mean     1.102431e+01\n",
      "std      5.839925e+00\n",
      "min      1.000000e+00\n",
      "25%      7.000000e+00\n",
      "50%      1.000000e+01\n",
      "75%      1.300000e+01\n",
      "max      2.380000e+02\n",
      "dtype: float64\n"
     ]
    },
    {
     "data": {
      "image/png": "[encoded data removed]",
      "text/plain": [
       "<matplotlib.figure.Figure at 0x3f20d7b8>"
      ]
     },
     "metadata": {},
     "output_type": "display_data"
    },
    {
     "data": {
      "image/png": "[encoded data removed]",
      "text/plain": [
       "<matplotlib.figure.Figure at 0x3e37ab38>"
      ]
     },
     "metadata": {},
     "output_type": "display_data"
    }
   ],
   "source": [
    "train_word_counts = pd.Series([len(str(x).split(' ')) for x in train_questions])\n",
    "test_word_counts = pd.Series([len(str(x).split(' ')) for x in test_questions])\n",
    "\n",
    "print('\\nTrain Statistics')\n",
    "print('----------------')\n",
    "print(train_word_counts.describe())\n",
    "print('\\nTest Statistics')\n",
    "print('---------------')\n",
    "print(test_word_counts.describe())\n",
    "\n",
    "plt.figure(figsize=(12,6))\n",
    "plt.hist(train_word_counts, bins=50, range=[0, 50], color=('deeppink'), normed=True, alpha=0.6, label='Train')\n",
    "plt.hist(test_word_counts, bins=50, range=[0, 50], color=('mediumturquoise'), normed=True, alpha=0.6, label='Test')\n",
    "plt.xlabel('Word Count')\n",
    "plt.ylabel('Probability')\n",
    "plt.title('Historgram of Normalized Word Count Per Question')\n",
    "plt.legend()\n",
    "plt.show()\n",
    "\n",
    "plt.figure(figsize=(15, 5))\n",
    "plt.boxplot([train_word_counts, test_word_counts], True, 'bD', vert=False, labels=('Train', 'Test'))\n",
    "plt.xlabel('Word Count')\n",
    "plt.ylabel('Data Set')\n",
    "plt.title('Boxplots of Word Count Per Data Set')\n",
    "plt.show()"
   ]
  },
  {
   "cell_type": "markdown",
   "metadata": {},
   "source": [
    "#### Character Count"
   ]
  },
  {
   "cell_type": "code",
   "execution_count": 12,
   "metadata": {
    "collapsed": false
   },
   "outputs": [
    {
     "name": "stdout",
     "output_type": "stream",
     "text": [
      "\n",
      "TRAIN Statistics:\n",
      "-----------------\n",
      "count    808580.000000\n",
      "mean         59.822548\n",
      "std          31.963751\n",
      "min           1.000000\n",
      "25%          39.000000\n",
      "50%          51.000000\n",
      "75%          72.000000\n",
      "max        1169.000000\n",
      "dtype: float64\n",
      "\n",
      "TEST Statistics:\n",
      "----------------\n",
      "count    4.691592e+06\n",
      "mean     6.007010e+01\n",
      "std      3.162463e+01\n",
      "min      1.000000e+00\n",
      "25%      4.000000e+01\n",
      "50%      5.300000e+01\n",
      "75%      7.200000e+01\n",
      "max      1.176000e+03\n",
      "dtype: float64\n"
     ]
    },
    {
     "data": {
      "image/png": "[encoded data removed]",
      "text/plain": [
       "<matplotlib.figure.Figure at 0x113d6f60>"
      ]
     },
     "metadata": {},
     "output_type": "display_data"
    },
    {
     "data": {
      "image/png": "[encoded data removed]",
      "text/plain": [
       "<matplotlib.figure.Figure at 0xe8b90f0>"
      ]
     },
     "metadata": {},
     "output_type": "display_data"
    }
   ],
   "source": [
    "train_char_counts = pd.Series([len(str(x))for x in train_questions])\n",
    "test_char_counts = pd.Series([len(str(x)) for x in test_questions])\n",
    "\n",
    "print('\\nTRAIN Statistics:')\n",
    "print('-----------------')\n",
    "print(train_char_counts.describe())\n",
    "print('\\nTEST Statistics:')\n",
    "print('----------------')\n",
    "print(test_char_counts.describe())\n",
    "\n",
    "plt.figure(figsize=(12,6))\n",
    "plt.hist(train_char_counts, bins=200, range=[0, 200], color=('royalblue'), normed=True, alpha=0.6, label='Train')\n",
    "plt.hist(test_char_counts, bins=200, range=[0, 200], color=('gold'), normed=True, alpha=0.6, label='Test')\n",
    "plt.xlabel('Character Count')\n",
    "plt.ylabel('Probability')\n",
    "plt.title('Historgram of Normalized Character Count Per Question')\n",
    "plt.legend()\n",
    "plt.show()\n",
    "\n",
    "plt.figure(figsize=(15, 5))\n",
    "plt.boxplot([train_char_counts, test_char_counts], True, 'gD', vert=False, labels=('Train', 'Test'))\n",
    "plt.xlabel('Character Count')\n",
    "plt.ylabel('Data Set')\n",
    "plt.title('Boxplots of Character Count Per Data Set')\n",
    "plt.show()"
   ]
  },
  {
   "cell_type": "code",
   "execution_count": 13,
   "metadata": {
    "collapsed": false
   },
   "outputs": [
    {
     "data": {
      "text/plain": [
       "64529"
      ]
     },
     "execution_count": 13,
     "metadata": {},
     "output_type": "execute_result"
    }
   ],
   "source": [
    "del train_questions, test_questions, train_word_counts, test_word_counts, train_char_counts, test_char_counts\n",
    "gc.collect()"
   ]
  },
  {
   "cell_type": "markdown",
   "metadata": {},
   "source": [
    "### Feature Analysis"
   ]
  },
  {
   "cell_type": "markdown",
   "metadata": {},
   "source": [
    "#### Text Preprocessing"
   ]
  },
  {
   "cell_type": "code",
   "execution_count": 14,
   "metadata": {
    "collapsed": false
   },
   "outputs": [],
   "source": [
    "def tokenize(q):\n",
    "    tokenizer = RegexpTokenizer(r'\\w+')\n",
    "    return tokenizer.tokenize(q.lower())"
   ]
  },
  {
   "cell_type": "markdown",
   "metadata": {},
   "source": [
    "#### Word Share"
   ]
  },
  {
   "cell_type": "code",
   "execution_count": 50,
   "metadata": {
    "collapsed": false
   },
   "outputs": [],
   "source": [
    "def calculate_word_share(p, stopset=[], stem=False, tfidf_weights={}):\n",
    "    # tokenize\n",
    "    q1_words = tokenize(p['question1']) if not pd.isnull(p['question1']) else []\n",
    "    q2_words = tokenize(p['question2']) if not pd.isnull(p['question2']) else []\n",
    "    # filter stopwords\n",
    "    q1_filtered = [x for x in q1_words if x not in stopset]\n",
    "    q2_filtered = [x for x in q2_words if x not in stopset]\n",
    "    # stem\n",
    "    if stem:\n",
    "        stemmer = SnowballStemmer('english')\n",
    "        q1_filtered = [stemmer.stem(x) for x in q1_filtered]\n",
    "        q2_filtered = [stemmer.stem(x) for x in q2_filtered]\n",
    "    # calculate word share\n",
    "    if tfidf_weights:\n",
    "        q1_shared = np.sum([tfidf_weights.get(x, 0) for x in q1_filtered if x in q2_filtered])\n",
    "        q2_shared = np.sum([tfidf_weights.get(x, 0) for x in q2_filtered if x in q1_filtered])\n",
    "        total = np.sum([tfidf_weights.get(x, 0) for x in q1_words]) + np.sum([tfidf_weights.get(x, 0) for x in q2_words])\n",
    "    else:\n",
    "        q1_shared = len([x for x in q1_filtered if x in q2_filtered])\n",
    "        q2_shared = len([x for x in q2_filtered if x in q1_filtered])\n",
    "        total = len(q1_filtered) + len(q2_filtered)\n",
    "    if total == 0:\n",
    "        return 0\n",
    "    else:\n",
    "        return (q1_shared + q2_shared) / total"
   ]
  },
  {
   "cell_type": "code",
   "execution_count": 16,
   "metadata": {
    "collapsed": false
   },
   "outputs": [
    {
     "data": {
      "image/png": "[encoded data removed]",
      "text/plain": [
       "<matplotlib.figure.Figure at 0xe852710>"
      ]
     },
     "metadata": {},
     "output_type": "display_data"
    }
   ],
   "source": [
    "# Complete sentence\n",
    "train_word_share = TRAIN.apply(calculate_word_share, axis=1, raw=True)\n",
    "\n",
    "plt.figure(figsize=(15, 5))\n",
    "plt.hist(train_word_share[TRAIN.is_duplicate == 1], bins=20, color=('forestgreen'), normed=True, alpha=0.6, label='Duplicate')\n",
    "plt.hist(train_word_share[TRAIN.is_duplicate == 0], bins=20, color=('violet'), normed=True, alpha=0.6, label='Non-Duplicate')\n",
    "plt.xlabel('Word Share')\n",
    "plt.ylabel('Number of Question Pairs')\n",
    "plt.title('Distribution of Question Pair Word Share')\n",
    "plt.legend()\n",
    "plt.show()"
   ]
  },
  {
   "cell_type": "code",
   "execution_count": 17,
   "metadata": {
    "collapsed": false
   },
   "outputs": [
    {
     "data": {
      "image/png": "[encoded data removed]",
      "text/plain": [
       "<matplotlib.figure.Figure at 0x10ce66a0>"
      ]
     },
     "metadata": {},
     "output_type": "display_data"
    }
   ],
   "source": [
    "# Stopword filtering\n",
    "train_word_share_no_stopwords = TRAIN.apply(lambda x: calculate_word_share(x, stopwords.words('english')), axis=1, raw=True)\n",
    "\n",
    "plt.figure(figsize=(15, 5))\n",
    "plt.hist(train_word_share_no_stopwords[TRAIN.is_duplicate == 1], bins=20, color=('teal'), normed=True, alpha=0.6, label='Duplicate')\n",
    "plt.hist(train_word_share_no_stopwords[TRAIN.is_duplicate == 0], bins=20, color=('orange'), normed=True, alpha=0.6, label='Non-Duplicate')\n",
    "plt.xlabel('Word Share')\n",
    "plt.ylabel('Number of Question Pairs')\n",
    "plt.title('Distribution of Question Pair Word Share With Stopwords Excluded')\n",
    "plt.legend()\n",
    "plt.show()"
   ]
  },
  {
   "cell_type": "code",
   "execution_count": 18,
   "metadata": {
    "collapsed": false
   },
   "outputs": [
    {
     "data": {
      "image/png": "[encoded data removed]",
      "text/plain": [
       "<matplotlib.figure.Figure at 0xdf884e0>"
      ]
     },
     "metadata": {},
     "output_type": "display_data"
    }
   ],
   "source": [
    "# Stemming\n",
    "train_word_share_stemmed = TRAIN.apply(lambda x: calculate_word_share(x, stem=True), axis=1, raw=True)\n",
    "\n",
    "plt.figure(figsize=(15, 5))\n",
    "plt.hist(train_word_share_stemmed[TRAIN.is_duplicate == 1], bins=20, color=('teal'), normed=True, alpha=0.6, label='Duplicate')\n",
    "plt.hist(train_word_share_stemmed[TRAIN.is_duplicate == 0], bins=20, color=('orange'), normed=True, alpha=0.6, label='Non-Duplicate')\n",
    "plt.xlabel('Word Share')\n",
    "plt.ylabel('Number of Question Pairs')\n",
    "plt.title('Distribution of Question Pair Word Share with Stemming')\n",
    "plt.legend()\n",
    "plt.show()"
   ]
  },
  {
   "cell_type": "code",
   "execution_count": 19,
   "metadata": {
    "collapsed": false
   },
   "outputs": [
    {
     "data": {
      "image/png": "[encoded data removed]",
      "text/plain": [
       "<matplotlib.figure.Figure at 0xdf9f780>"
      ]
     },
     "metadata": {},
     "output_type": "display_data"
    }
   ],
   "source": [
    "# Stopword filtering and stemming\n",
    "train_word_share_no_stopwords_stemmed = TRAIN.apply(lambda x: calculate_word_share(x, stopwords.words('english'), True), axis=1, raw=True)\n",
    "\n",
    "plt.figure(figsize=(15, 5))\n",
    "plt.hist(train_word_share_no_stopwords_stemmed[TRAIN.is_duplicate == 1], bins=20, color=('teal'), normed=True, alpha=0.6, label='Duplicate')\n",
    "plt.hist(train_word_share_no_stopwords_stemmed[TRAIN.is_duplicate == 0], bins=20, color=('orange'), normed=True, alpha=0.6, label='Non-Duplicate')\n",
    "plt.xlabel('Word Share')\n",
    "plt.ylabel('Number of Question Pairs')\n",
    "plt.title('Distribution of Question Pair Word Share with Stopwords Excluded and Stemming')\n",
    "plt.legend()\n",
    "plt.show()"
   ]
  },
  {
   "cell_type": "markdown",
   "metadata": {},
   "source": [
    "#### TF-IDF"
   ]
  },
  {
   "cell_type": "code",
   "execution_count": 20,
   "metadata": {
    "collapsed": false
   },
   "outputs": [],
   "source": [
    "vectorizer = TfidfVectorizer()\n",
    "TDX = vectorizer.fit_transform(TRAIN.question1.append(TRAIN.question2).fillna(''))"
   ]
  },
  {
   "cell_type": "code",
   "execution_count": 40,
   "metadata": {
    "collapsed": false,
    "scrolled": false
   },
   "outputs": [
    {
     "name": "stdout",
     "output_type": "stream",
     "text": [
      "10 Most Frequent Terms\n",
      "----------------------\n",
      "[('what', 1.9399247964366455), ('the', 1.973746879295827), ('is', 2.149759724116616), ('how', 2.3162548532419418), ('to', 2.4976571376623244), ('in', 2.5052337935139097), ('do', 2.6520944807815461), ('of', 2.7251828782551408), ('are', 2.7516333056811715), ('and', 2.8923916025656324), ('can', 2.9445481955417416), ('for', 3.1081728163580009), ('why', 3.2905758345698364), ('you', 3.3221814542537937), ('best', 3.445415128456141), ('it', 3.507871059741908), ('my', 3.5673564640423874), ('on', 3.6336144596961653), ('does', 3.6847527833986935), ('which', 3.9261817903123295)]\n",
      "\n",
      "10 Least Frequent Terms\n",
      "-----------------------\n",
      "[('鸡精', 13.909888957949875), ('黄雀在后', 13.909888957949875), ('黎权锋', 13.909888957949875), ('齐家', 13.909888957949875), ('니콜라스에게', 13.909888957949875), ('될까요', 13.909888957949875), ('북쪽앟관자키', 13.909888957949875), ('분위기', 13.909888957949875), ('불타오르네', 13.909888957949875), ('친구해도', 13.909888957949875)]\n"
     ]
    }
   ],
   "source": [
    "weights_dict = dict(zip(vectorizer.get_feature_names(), vectorizer.idf_))\n",
    "weights_tuplst = list(zip(vectorizer.get_feature_names(), vectorizer.idf_))\n",
    "weights_tuplst.sort(key=lambda x: x[1])\n",
    "\n",
    "print('10 Most Frequent Terms')\n",
    "print('----------------------')\n",
    "print(weights_tuplst[:20])\n",
    "print('\\n10 Least Frequent Terms')\n",
    "print('-----------------------')\n",
    "print(weights_tuplst[len(weights_tuplst)-10:])"
   ]
  },
  {
   "cell_type": "code",
   "execution_count": 42,
   "metadata": {
    "collapsed": true
   },
   "outputs": [],
   "source": [
    "def tfidf_word_match_share(row):\n",
    "    q1words = {}\n",
    "    q2words = {}\n",
    "    for word in str(row['question1']).lower().split():\n",
    "        q1words[word] = 1\n",
    "    for word in str(row['question2']).lower().split():\n",
    "        q2words[word] = 1\n",
    "    if len(q1words) == 0 or len(q2words) == 0:\n",
    "        # The computer-generated chaff includes a few questions that are nothing but stopwords\n",
    "        return 0\n",
    "    \n",
    "    shared_weights = [weights_dict.get(w, 0) for w in q1words.keys() if w in q2words] + [weights_dict.get(w, 0) for w in q2words.keys() if w in q1words]\n",
    "    total_weights = [weights_dict.get(w, 0) for w in q1words] + [weights_dict.get(w, 0) for w in q2words]\n",
    "    \n",
    "    R = np.sum(shared_weights) / np.sum(total_weights)\n",
    "    return R"
   ]
  },
  {
   "cell_type": "code",
   "execution_count": 51,
   "metadata": {
    "collapsed": false
   },
   "outputs": [
    {
     "name": "stdout",
     "output_type": "stream",
     "text": [
      "Start:  2017-05-08 13:12:01.608081\n"
     ]
    },
    {
     "data": {
      "image/png": "[encoded data removed]",
      "text/plain": [
       "<matplotlib.figure.Figure at 0xdfe6128>"
      ]
     },
     "metadata": {},
     "output_type": "display_data"
    },
    {
     "name": "stdout",
     "output_type": "stream",
     "text": [
      "End:  2017-05-08 13:13:08.002720\n"
     ]
    }
   ],
   "source": [
    "print('Start: ', str(dt.datetime.now()))\n",
    "\n",
    "tfidf_train_word_share = TRAIN.apply(lambda x: calculate_word_share(x, tfidf_weights=weights_dict), axis=1, raw=True)\n",
    "\n",
    "plt.figure(figsize=(15, 5))\n",
    "plt.hist(tfidf_train_word_share[TRAIN.is_duplicate == 1], bins=20, color=('teal'), normed=True, alpha=0.6, label='Duplicate')\n",
    "plt.hist(tfidf_train_word_share[TRAIN.is_duplicate == 0], bins=20, color=('orange'), normed=True, alpha=0.6, label='Non-Duplicate')\n",
    "plt.xlabel('Word Share (TF-IDF)')\n",
    "plt.ylabel('Number of Question Pairs')\n",
    "plt.title('Distribution of Question Pair Word Share (TF-IDF)')\n",
    "plt.legend()\n",
    "plt.show()\n",
    "\n",
    "print('End: ', str(dt.datetime.now()))"
   ]
  },
  {
   "cell_type": "markdown",
   "metadata": {},
   "source": [
    "#### ROC AUC Comparison"
   ]
  },
  {
   "cell_type": "code",
   "execution_count": 59,
   "metadata": {
    "collapsed": false
   },
   "outputs": [
    {
     "name": "stdout",
     "output_type": "stream",
     "text": [
      "Word Share Proportion\n",
      "---------------------\n",
      "Base:                          0.717529896461\n",
      "Filtered:                      0.743939809911\n",
      "Stemmed:                       0.713523771993\n",
      "Filtered & Stemmed:            0.737908827868\n",
      "\n",
      "TF-IDF Weighting\n",
      "----------------\n",
      "Base:                          0.740072083458\n"
     ]
    }
   ],
   "source": [
    "print('Word Share Proportion')\n",
    "print('---------------------')\n",
    "print('Base:'.ljust(30), roc_auc_score(TRAIN.is_duplicate, train_word_share))\n",
    "print('Filtered:'.ljust(30), roc_auc_score(TRAIN.is_duplicate, train_word_share_no_stopwords))\n",
    "print('Stemmed:'.ljust(30), roc_auc_score(TRAIN.is_duplicate, train_word_share_stemmed))\n",
    "print('Filtered & Stemmed:'.ljust(30), roc_auc_score(TRAIN.is_duplicate, train_word_share_no_stopwords_stemmed))\n",
    "print('\\nTF-IDF Weighting')\n",
    "print('----------------')\n",
    "print('Base:'.ljust(30), roc_auc_score(TRAIN.is_duplicate, tfidf_train_word_share))"
   ]
  }
 ],
 "metadata": {
  "kernelspec": {
   "display_name": "Python 3",
   "language": "python",
   "name": "python3"
  },
  "language_info": {
   "codemirror_mode": {
    "name": "ipython",
    "version": 3
   },
   "file_extension": ".py",
   "mimetype": "text/x-python",
   "name": "python",
   "nbconvert_exporter": "python",
   "pygments_lexer": "ipython3",
   "version": "3.6.0"
  }
 },
 "nbformat": 4,
 "nbformat_minor": 2
}
