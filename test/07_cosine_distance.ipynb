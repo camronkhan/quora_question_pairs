{
 "cells": [
  {
   "cell_type": "code",
   "execution_count": 6,
   "metadata": {
    "collapsed": false
   },
   "outputs": [],
   "source": [
    "import pandas as pd\n",
    "import numpy as np\n",
    "import scipy as sp\n",
    "import gensim.models.doc2vec as d2v\n",
    "import multiprocessing as mp\n",
    "import datetime as dt\n",
    "from sklearn.linear_model import LogisticRegression\n",
    "from sklearn import model_selection\n",
    "from sklearn.metrics import log_loss\n",
    "import math\n",
    "from scipy.spatial.distance import cosine"
   ]
  },
  {
   "cell_type": "markdown",
   "metadata": {},
   "source": [
    "### Import Data"
   ]
  },
  {
   "cell_type": "code",
   "execution_count": 3,
   "metadata": {
    "collapsed": true
   },
   "outputs": [],
   "source": [
    "documents = pd.read_pickle('./pickles.gi/documents_with_vectors.pkl')\n",
    "outcomes_train = pd.read_pickle('./pickles.gi/train_lookup_df.pkl')"
   ]
  },
  {
   "cell_type": "code",
   "execution_count": 4,
   "metadata": {
    "collapsed": false
   },
   "outputs": [
    {
     "data": {
      "text/plain": [
       "(5500172, 6)"
      ]
     },
     "execution_count": 4,
     "metadata": {},
     "output_type": "execute_result"
    }
   ],
   "source": [
    "documents.shape"
   ]
  },
  {
   "cell_type": "code",
   "execution_count": 5,
   "metadata": {
    "collapsed": false
   },
   "outputs": [
    {
     "data": {
      "text/html": [
       "<div>\n",
       "<table border=\"1\" class=\"dataframe\">\n",
       "  <thead>\n",
       "    <tr style=\"text-align: right;\">\n",
       "      <th></th>\n",
       "      <th>id</th>\n",
       "      <th>qid1</th>\n",
       "      <th>qid2</th>\n",
       "      <th>is_duplicate</th>\n",
       "    </tr>\n",
       "  </thead>\n",
       "  <tbody>\n",
       "    <tr>\n",
       "      <th>0</th>\n",
       "      <td>0</td>\n",
       "      <td>1</td>\n",
       "      <td>2</td>\n",
       "      <td>0</td>\n",
       "    </tr>\n",
       "    <tr>\n",
       "      <th>1</th>\n",
       "      <td>1</td>\n",
       "      <td>3</td>\n",
       "      <td>4</td>\n",
       "      <td>0</td>\n",
       "    </tr>\n",
       "    <tr>\n",
       "      <th>2</th>\n",
       "      <td>2</td>\n",
       "      <td>5</td>\n",
       "      <td>6</td>\n",
       "      <td>0</td>\n",
       "    </tr>\n",
       "    <tr>\n",
       "      <th>3</th>\n",
       "      <td>3</td>\n",
       "      <td>7</td>\n",
       "      <td>8</td>\n",
       "      <td>0</td>\n",
       "    </tr>\n",
       "    <tr>\n",
       "      <th>4</th>\n",
       "      <td>4</td>\n",
       "      <td>9</td>\n",
       "      <td>10</td>\n",
       "      <td>0</td>\n",
       "    </tr>\n",
       "  </tbody>\n",
       "</table>\n",
       "</div>"
      ],
      "text/plain": [
       "   id  qid1  qid2  is_duplicate\n",
       "0   0     1     2             0\n",
       "1   1     3     4             0\n",
       "2   2     5     6             0\n",
       "3   3     7     8             0\n",
       "4   4     9    10             0"
      ]
     },
     "execution_count": 5,
     "metadata": {},
     "output_type": "execute_result"
    }
   ],
   "source": [
    "outcomes_train.head()"
   ]
  },
  {
   "cell_type": "markdown",
   "metadata": {},
   "source": [
    "### Calculate Cosine Similarity"
   ]
  },
  {
   "cell_type": "code",
   "execution_count": 8,
   "metadata": {
    "collapsed": false
   },
   "outputs": [],
   "source": [
    "documents_train = documents[documents['test'] == 0]\n",
    "documents_train = documents_train.merge(documents_train, on='pid', how='inner')\n",
    "documents_train = documents_train[(documents_train['qid_x'] != documents_train['qid_y']) & (documents_train['qid_x'] < documents_train['qid_y'])]\n",
    "documents_train = documents_train[['pid', 'vectors_x', 'vectors_y']]\n",
    "documents_train = documents_train.reset_index(drop=True)\n",
    "documents_train = documents_train.merge(outcomes_train, left_on='pid', right_on='id')\n",
    "documents_train = documents_train[['pid', 'vectors_x', 'vectors_y', 'is_duplicate']]\n",
    "documents_train['cosine_similarity'] = documents_train.apply(lambda x: (1 - cosine(x['vectors_x'], x['vectors_y'])), axis=1)\n",
    "documents_train.to_pickle('./pickles.gi/documents_train_cosine_similarity')"
   ]
  },
  {
   "cell_type": "code",
   "execution_count": 9,
   "metadata": {
    "collapsed": false
   },
   "outputs": [
    {
     "data": {
      "text/html": [
       "<div>\n",
       "<table border=\"1\" class=\"dataframe\">\n",
       "  <thead>\n",
       "    <tr style=\"text-align: right;\">\n",
       "      <th></th>\n",
       "      <th>pid</th>\n",
       "      <th>vectors_x</th>\n",
       "      <th>vectors_y</th>\n",
       "      <th>is_duplicate</th>\n",
       "      <th>cosine_similarity</th>\n",
       "    </tr>\n",
       "  </thead>\n",
       "  <tbody>\n",
       "    <tr>\n",
       "      <th>0</th>\n",
       "      <td>0</td>\n",
       "      <td>[0.103571, -0.324362, -0.0369732, 0.491305, 0....</td>\n",
       "      <td>[-1.00418, -0.011127, 0.357603, -0.945217, 0.1...</td>\n",
       "      <td>0</td>\n",
       "      <td>0.334541</td>\n",
       "    </tr>\n",
       "    <tr>\n",
       "      <th>1</th>\n",
       "      <td>1</td>\n",
       "      <td>[0.780759, 0.254167, -0.438259, -1.03809, -0.3...</td>\n",
       "      <td>[-0.0608294, 0.256059, 0.275494, 0.383385, -0....</td>\n",
       "      <td>0</td>\n",
       "      <td>0.042259</td>\n",
       "    </tr>\n",
       "    <tr>\n",
       "      <th>2</th>\n",
       "      <td>2</td>\n",
       "      <td>[0.287551, 0.815586, 0.169537, -0.247909, -0.5...</td>\n",
       "      <td>[0.951204, 0.87587, 0.314868, 1.09143, 0.59101...</td>\n",
       "      <td>0</td>\n",
       "      <td>0.235947</td>\n",
       "    </tr>\n",
       "    <tr>\n",
       "      <th>3</th>\n",
       "      <td>3</td>\n",
       "      <td>[-0.346908, 0.120057, 0.203118, 0.048314, -0.1...</td>\n",
       "      <td>[1.62754, 0.0183279, -0.494569, 0.321272, 0.12...</td>\n",
       "      <td>0</td>\n",
       "      <td>0.003515</td>\n",
       "    </tr>\n",
       "    <tr>\n",
       "      <th>4</th>\n",
       "      <td>4</td>\n",
       "      <td>[-0.479951, 0.235628, 0.16198, -0.689058, -0.5...</td>\n",
       "      <td>[-0.889178, -0.321585, 0.44331, -0.327662, -1....</td>\n",
       "      <td>0</td>\n",
       "      <td>0.105817</td>\n",
       "    </tr>\n",
       "  </tbody>\n",
       "</table>\n",
       "</div>"
      ],
      "text/plain": [
       "   pid                                          vectors_x  \\\n",
       "0    0  [0.103571, -0.324362, -0.0369732, 0.491305, 0....   \n",
       "1    1  [0.780759, 0.254167, -0.438259, -1.03809, -0.3...   \n",
       "2    2  [0.287551, 0.815586, 0.169537, -0.247909, -0.5...   \n",
       "3    3  [-0.346908, 0.120057, 0.203118, 0.048314, -0.1...   \n",
       "4    4  [-0.479951, 0.235628, 0.16198, -0.689058, -0.5...   \n",
       "\n",
       "                                           vectors_y  is_duplicate  \\\n",
       "0  [-1.00418, -0.011127, 0.357603, -0.945217, 0.1...             0   \n",
       "1  [-0.0608294, 0.256059, 0.275494, 0.383385, -0....             0   \n",
       "2  [0.951204, 0.87587, 0.314868, 1.09143, 0.59101...             0   \n",
       "3  [1.62754, 0.0183279, -0.494569, 0.321272, 0.12...             0   \n",
       "4  [-0.889178, -0.321585, 0.44331, -0.327662, -1....             0   \n",
       "\n",
       "   cosine_similarity  \n",
       "0           0.334541  \n",
       "1           0.042259  \n",
       "2           0.235947  \n",
       "3           0.003515  \n",
       "4           0.105817  "
      ]
     },
     "execution_count": 9,
     "metadata": {},
     "output_type": "execute_result"
    }
   ],
   "source": [
    "documents_train.head()"
   ]
  },
  {
   "cell_type": "code",
   "execution_count": 10,
   "metadata": {
    "collapsed": false
   },
   "outputs": [],
   "source": [
    "documents_test = documents[documents['test'] == 1]\n",
    "documents_test = documents_test.merge(documents_test, on='pid', how='inner')\n",
    "documents_test = documents_test[(documents_test['qid_x'] != documents_test['qid_y']) & (documents_test['qid_x'] < documents_test['qid_y'])]\n",
    "documents_test = documents_test[['pid', 'vectors_x', 'vectors_y']]\n",
    "documents_test = documents_test.reset_index(drop=True)\n",
    "documents_test['cosine_similarity'] = documents_test.apply(lambda x: (1 - cosine(x['vectors_x'], x['vectors_y'])), axis=1)\n",
    "documents_test.to_pickle('./pickles.gi/documents_test_cosine_similarity')"
   ]
  },
  {
   "cell_type": "code",
   "execution_count": 11,
   "metadata": {
    "collapsed": false,
    "scrolled": true
   },
   "outputs": [
    {
     "data": {
      "text/html": [
       "<div>\n",
       "<table border=\"1\" class=\"dataframe\">\n",
       "  <thead>\n",
       "    <tr style=\"text-align: right;\">\n",
       "      <th></th>\n",
       "      <th>pid</th>\n",
       "      <th>vectors_x</th>\n",
       "      <th>vectors_y</th>\n",
       "      <th>cosine_similarity</th>\n",
       "    </tr>\n",
       "  </thead>\n",
       "  <tbody>\n",
       "    <tr>\n",
       "      <th>0</th>\n",
       "      <td>0</td>\n",
       "      <td>[-0.214728, -0.21874, 0.386611, 0.369, 0.07617...</td>\n",
       "      <td>[-0.662917, -0.25785, 0.199841, -0.454418, 0.5...</td>\n",
       "      <td>-0.052104</td>\n",
       "    </tr>\n",
       "    <tr>\n",
       "      <th>1</th>\n",
       "      <td>1</td>\n",
       "      <td>[-0.205587, 1.22863, -0.00696208, 0.0571063, -...</td>\n",
       "      <td>[0.174078, 0.257381, 0.646523, 0.381952, -0.49...</td>\n",
       "      <td>0.262038</td>\n",
       "    </tr>\n",
       "    <tr>\n",
       "      <th>2</th>\n",
       "      <td>2</td>\n",
       "      <td>[0.0120485, -0.649001, 0.621607, 0.261708, 0.3...</td>\n",
       "      <td>[0.731086, -1.45327, 0.494948, 0.412926, -0.23...</td>\n",
       "      <td>0.427748</td>\n",
       "    </tr>\n",
       "    <tr>\n",
       "      <th>3</th>\n",
       "      <td>3</td>\n",
       "      <td>[0.251726, 0.81067, 0.212609, 0.0255506, -0.31...</td>\n",
       "      <td>[0.113517, 0.0238135, -0.167942, -0.193619, -0...</td>\n",
       "      <td>-0.058153</td>\n",
       "    </tr>\n",
       "    <tr>\n",
       "      <th>4</th>\n",
       "      <td>4</td>\n",
       "      <td>[-0.36815, -0.468827, 0.00867531, 0.0692847, 0...</td>\n",
       "      <td>[0.475766, -0.177542, 0.00298492, -0.25851, -0...</td>\n",
       "      <td>0.061502</td>\n",
       "    </tr>\n",
       "  </tbody>\n",
       "</table>\n",
       "</div>"
      ],
      "text/plain": [
       "   pid                                          vectors_x  \\\n",
       "0    0  [-0.214728, -0.21874, 0.386611, 0.369, 0.07617...   \n",
       "1    1  [-0.205587, 1.22863, -0.00696208, 0.0571063, -...   \n",
       "2    2  [0.0120485, -0.649001, 0.621607, 0.261708, 0.3...   \n",
       "3    3  [0.251726, 0.81067, 0.212609, 0.0255506, -0.31...   \n",
       "4    4  [-0.36815, -0.468827, 0.00867531, 0.0692847, 0...   \n",
       "\n",
       "                                           vectors_y  cosine_similarity  \n",
       "0  [-0.662917, -0.25785, 0.199841, -0.454418, 0.5...          -0.052104  \n",
       "1  [0.174078, 0.257381, 0.646523, 0.381952, -0.49...           0.262038  \n",
       "2  [0.731086, -1.45327, 0.494948, 0.412926, -0.23...           0.427748  \n",
       "3  [0.113517, 0.0238135, -0.167942, -0.193619, -0...          -0.058153  \n",
       "4  [0.475766, -0.177542, 0.00298492, -0.25851, -0...           0.061502  "
      ]
     },
     "execution_count": 11,
     "metadata": {},
     "output_type": "execute_result"
    }
   ],
   "source": [
    "documents_test.head()"
   ]
  },
  {
   "cell_type": "markdown",
   "metadata": {},
   "source": [
    "### Evaluation Metrics"
   ]
  },
  {
   "cell_type": "code",
   "execution_count": 12,
   "metadata": {
    "collapsed": false,
    "scrolled": false
   },
   "outputs": [],
   "source": [
    "def kfoldScore(results):\n",
    "    mean_score = results.mean()\n",
    "    std_dev = results.std()\n",
    "    std_error = results.std() / math.sqrt(results.shape[0])\n",
    "    ci =  2.262 * std_error\n",
    "    lower_bound = mean_score - ci\n",
    "    upper_bound = mean_score + ci\n",
    "    print (\"Score is %f +/-  %f\" % (mean_score, ci))\n",
    "    print ('95 percent probability that if this experiment were repeated over and over the average score would be between %f and %f' % (lower_bound, upper_bound))"
   ]
  },
  {
   "cell_type": "markdown",
   "metadata": {},
   "source": [
    "### Model Parameters"
   ]
  },
  {
   "cell_type": "code",
   "execution_count": 15,
   "metadata": {
    "collapsed": true
   },
   "outputs": [],
   "source": [
    "seed = 7\n",
    "kfold = model_selection.KFold(n_splits=10, random_state=seed)\n",
    "model = LogisticRegression()\n",
    "scoring = 'neg_log_loss'\n",
    "model = LogisticRegression()"
   ]
  },
  {
   "cell_type": "markdown",
   "metadata": {},
   "source": [
    "### Cosine Similarity Model"
   ]
  },
  {
   "cell_type": "code",
   "execution_count": 16,
   "metadata": {
    "collapsed": false
   },
   "outputs": [],
   "source": [
    "# Train-Test Split\n",
    "X_train_cs = documents_train['cosine_similarity'].values.reshape(-1,1)\n",
    "y_train_cs = documents_train['is_duplicate']\n",
    "X_test_cs = documents_test['cosine_similarity'].values.reshape(-1,1)"
   ]
  },
  {
   "cell_type": "code",
   "execution_count": 18,
   "metadata": {
    "collapsed": false
   },
   "outputs": [
    {
     "name": "stdout",
     "output_type": "stream",
     "text": [
      "Score is -0.652610 +/-  0.002665\n",
      "95 percent probability that if this experiment were repeated over and over the average score would be between -0.655275 and -0.649944\n",
      "0.652609860006\n"
     ]
    }
   ],
   "source": [
    "# Kfold Cross Validation\n",
    "cross_val_scores_cs = model_selection.cross_val_score(model, X_train_cs, y_train_cs, cv=kfold, scoring=scoring)\n",
    "kfoldScore(cross_val_scores_cs)"
   ]
  },
  {
   "cell_type": "code",
   "execution_count": 19,
   "metadata": {
    "collapsed": false
   },
   "outputs": [],
   "source": [
    "# Predict Outcome Probabilities\n",
    "model.fit(X_train_cs, y_train_cs)\n",
    "y_pred_test_cs = model.predict_proba(X_test_cs)"
   ]
  },
  {
   "cell_type": "code",
   "execution_count": 36,
   "metadata": {
    "collapsed": false
   },
   "outputs": [],
   "source": [
    "# Create CSV\n",
    "submission_cs = documents_test['pid'].to_frame()\n",
    "submission_cs['is_duplicate'] =  pd.Series([row[1] for row in y_pred_test_cs])\n",
    "submission_cs.columns = ['test_id', 'is_duplicate']\n",
    "submission_cs.to_csv('./submission_cs.csv', index=False)"
   ]
  },
  {
   "cell_type": "markdown",
   "metadata": {},
   "source": [
    "### Calculate Vector Differences"
   ]
  },
  {
   "cell_type": "code",
   "execution_count": 38,
   "metadata": {
    "collapsed": false
   },
   "outputs": [],
   "source": [
    "# Get Train Diffs As Array, Then Expand Into Dataframe\n",
    "documents_train['vector_diff'] = np.subtract(documents_train['vectors_x'], documents_train['vectors_y'])\n",
    "vector_diffs_train = documents_train['vector_diff'].apply(pd.Series)\n",
    "vector_diffs_train = vector_diffs_train.rename(columns = lambda x : 'val_' + str(x))"
   ]
  },
  {
   "cell_type": "code",
   "execution_count": 39,
   "metadata": {
    "collapsed": false
   },
   "outputs": [
    {
     "data": {
      "text/html": [
       "<div>\n",
       "<table border=\"1\" class=\"dataframe\">\n",
       "  <thead>\n",
       "    <tr style=\"text-align: right;\">\n",
       "      <th></th>\n",
       "      <th>val_0</th>\n",
       "      <th>val_1</th>\n",
       "      <th>val_2</th>\n",
       "      <th>val_3</th>\n",
       "      <th>val_4</th>\n",
       "      <th>val_5</th>\n",
       "      <th>val_6</th>\n",
       "      <th>val_7</th>\n",
       "      <th>val_8</th>\n",
       "      <th>val_9</th>\n",
       "      <th>...</th>\n",
       "      <th>val_90</th>\n",
       "      <th>val_91</th>\n",
       "      <th>val_92</th>\n",
       "      <th>val_93</th>\n",
       "      <th>val_94</th>\n",
       "      <th>val_95</th>\n",
       "      <th>val_96</th>\n",
       "      <th>val_97</th>\n",
       "      <th>val_98</th>\n",
       "      <th>val_99</th>\n",
       "    </tr>\n",
       "  </thead>\n",
       "  <tbody>\n",
       "    <tr>\n",
       "      <th>0</th>\n",
       "      <td>1.107752</td>\n",
       "      <td>-0.313235</td>\n",
       "      <td>-0.394576</td>\n",
       "      <td>1.436522</td>\n",
       "      <td>0.239561</td>\n",
       "      <td>0.347694</td>\n",
       "      <td>0.380208</td>\n",
       "      <td>-0.264182</td>\n",
       "      <td>-0.271405</td>\n",
       "      <td>-0.948074</td>\n",
       "      <td>...</td>\n",
       "      <td>0.112876</td>\n",
       "      <td>-0.371856</td>\n",
       "      <td>0.011935</td>\n",
       "      <td>0.013963</td>\n",
       "      <td>-0.865030</td>\n",
       "      <td>0.021910</td>\n",
       "      <td>0.269779</td>\n",
       "      <td>-0.395462</td>\n",
       "      <td>1.013008</td>\n",
       "      <td>1.712046</td>\n",
       "    </tr>\n",
       "    <tr>\n",
       "      <th>1</th>\n",
       "      <td>0.841588</td>\n",
       "      <td>-0.001892</td>\n",
       "      <td>-0.713754</td>\n",
       "      <td>-1.421479</td>\n",
       "      <td>-0.005607</td>\n",
       "      <td>-0.807846</td>\n",
       "      <td>0.090561</td>\n",
       "      <td>0.537039</td>\n",
       "      <td>-0.105543</td>\n",
       "      <td>0.803184</td>\n",
       "      <td>...</td>\n",
       "      <td>-0.402758</td>\n",
       "      <td>-0.871411</td>\n",
       "      <td>-1.006908</td>\n",
       "      <td>0.041368</td>\n",
       "      <td>0.928657</td>\n",
       "      <td>-1.476838</td>\n",
       "      <td>-0.021899</td>\n",
       "      <td>0.451373</td>\n",
       "      <td>-0.181559</td>\n",
       "      <td>0.816910</td>\n",
       "    </tr>\n",
       "    <tr>\n",
       "      <th>2</th>\n",
       "      <td>-0.663653</td>\n",
       "      <td>-0.060284</td>\n",
       "      <td>-0.145331</td>\n",
       "      <td>-1.339342</td>\n",
       "      <td>-1.093719</td>\n",
       "      <td>-1.117436</td>\n",
       "      <td>1.072385</td>\n",
       "      <td>1.041608</td>\n",
       "      <td>1.412804</td>\n",
       "      <td>-0.392849</td>\n",
       "      <td>...</td>\n",
       "      <td>0.476503</td>\n",
       "      <td>0.041992</td>\n",
       "      <td>-0.326097</td>\n",
       "      <td>1.314960</td>\n",
       "      <td>0.493841</td>\n",
       "      <td>-0.064051</td>\n",
       "      <td>0.789275</td>\n",
       "      <td>-0.593265</td>\n",
       "      <td>-0.151976</td>\n",
       "      <td>1.118786</td>\n",
       "    </tr>\n",
       "    <tr>\n",
       "      <th>3</th>\n",
       "      <td>-1.974446</td>\n",
       "      <td>0.101729</td>\n",
       "      <td>0.697687</td>\n",
       "      <td>-0.272958</td>\n",
       "      <td>-0.307428</td>\n",
       "      <td>2.082574</td>\n",
       "      <td>0.267690</td>\n",
       "      <td>0.484197</td>\n",
       "      <td>0.132945</td>\n",
       "      <td>0.965306</td>\n",
       "      <td>...</td>\n",
       "      <td>0.344746</td>\n",
       "      <td>0.390783</td>\n",
       "      <td>-1.115674</td>\n",
       "      <td>1.117954</td>\n",
       "      <td>-0.266042</td>\n",
       "      <td>-0.033769</td>\n",
       "      <td>-0.736970</td>\n",
       "      <td>0.461864</td>\n",
       "      <td>0.215652</td>\n",
       "      <td>0.231992</td>\n",
       "    </tr>\n",
       "    <tr>\n",
       "      <th>4</th>\n",
       "      <td>0.409227</td>\n",
       "      <td>0.557212</td>\n",
       "      <td>-0.281329</td>\n",
       "      <td>-0.361395</td>\n",
       "      <td>0.646847</td>\n",
       "      <td>0.343811</td>\n",
       "      <td>1.139830</td>\n",
       "      <td>-0.886630</td>\n",
       "      <td>0.120703</td>\n",
       "      <td>-0.635926</td>\n",
       "      <td>...</td>\n",
       "      <td>0.129824</td>\n",
       "      <td>0.335401</td>\n",
       "      <td>-1.246236</td>\n",
       "      <td>0.068261</td>\n",
       "      <td>0.105812</td>\n",
       "      <td>-1.395813</td>\n",
       "      <td>0.684883</td>\n",
       "      <td>0.691859</td>\n",
       "      <td>0.192519</td>\n",
       "      <td>0.123829</td>\n",
       "    </tr>\n",
       "  </tbody>\n",
       "</table>\n",
       "<p>5 rows × 100 columns</p>\n",
       "</div>"
      ],
      "text/plain": [
       "      val_0     val_1     val_2     val_3     val_4     val_5     val_6  \\\n",
       "0  1.107752 -0.313235 -0.394576  1.436522  0.239561  0.347694  0.380208   \n",
       "1  0.841588 -0.001892 -0.713754 -1.421479 -0.005607 -0.807846  0.090561   \n",
       "2 -0.663653 -0.060284 -0.145331 -1.339342 -1.093719 -1.117436  1.072385   \n",
       "3 -1.974446  0.101729  0.697687 -0.272958 -0.307428  2.082574  0.267690   \n",
       "4  0.409227  0.557212 -0.281329 -0.361395  0.646847  0.343811  1.139830   \n",
       "\n",
       "      val_7     val_8     val_9    ...       val_90    val_91    val_92  \\\n",
       "0 -0.264182 -0.271405 -0.948074    ...     0.112876 -0.371856  0.011935   \n",
       "1  0.537039 -0.105543  0.803184    ...    -0.402758 -0.871411 -1.006908   \n",
       "2  1.041608  1.412804 -0.392849    ...     0.476503  0.041992 -0.326097   \n",
       "3  0.484197  0.132945  0.965306    ...     0.344746  0.390783 -1.115674   \n",
       "4 -0.886630  0.120703 -0.635926    ...     0.129824  0.335401 -1.246236   \n",
       "\n",
       "     val_93    val_94    val_95    val_96    val_97    val_98    val_99  \n",
       "0  0.013963 -0.865030  0.021910  0.269779 -0.395462  1.013008  1.712046  \n",
       "1  0.041368  0.928657 -1.476838 -0.021899  0.451373 -0.181559  0.816910  \n",
       "2  1.314960  0.493841 -0.064051  0.789275 -0.593265 -0.151976  1.118786  \n",
       "3  1.117954 -0.266042 -0.033769 -0.736970  0.461864  0.215652  0.231992  \n",
       "4  0.068261  0.105812 -1.395813  0.684883  0.691859  0.192519  0.123829  \n",
       "\n",
       "[5 rows x 100 columns]"
      ]
     },
     "execution_count": 39,
     "metadata": {},
     "output_type": "execute_result"
    }
   ],
   "source": [
    "vector_diffs_train.head()"
   ]
  },
  {
   "cell_type": "markdown",
   "metadata": {},
   "source": [
    "### Vector Difference Model"
   ]
  },
  {
   "cell_type": "code",
   "execution_count": 44,
   "metadata": {
    "collapsed": true
   },
   "outputs": [],
   "source": [
    "# Train-Test Split\n",
    "X_train_vd = vector_diffs_train\n",
    "y_train_vd = y_train_cs"
   ]
  },
  {
   "cell_type": "code",
   "execution_count": 45,
   "metadata": {
    "collapsed": false
   },
   "outputs": [
    {
     "name": "stdout",
     "output_type": "stream",
     "text": [
      "Score is -0.652517 +/-  0.002654\n",
      "95 percent probability that if this experiment were repeated over and over the average score would be between -0.655171 and -0.649863\n"
     ]
    }
   ],
   "source": [
    "# Kfold Cross Validation\n",
    "cross_val_scores_vd = model_selection.cross_val_score(model, X_train_vd, y_train_vd, cv=kfold, scoring=scoring)\n",
    "kfoldScore(cross_val_scores_vd)"
   ]
  },
  {
   "cell_type": "markdown",
   "metadata": {},
   "source": [
    "### Vector Difference w/ Cosine Similarity Model"
   ]
  },
  {
   "cell_type": "code",
   "execution_count": 46,
   "metadata": {
    "collapsed": true
   },
   "outputs": [],
   "source": [
    "# Train-Test Split\n",
    "X_train_vdcs = vector_diffs_train\n",
    "X_train_vdcs['cosine_similarity'] = X_train_cs\n",
    "y_train_vdcs = y_train_cs"
   ]
  },
  {
   "cell_type": "code",
   "execution_count": 47,
   "metadata": {
    "collapsed": false
   },
   "outputs": [
    {
     "name": "stdout",
     "output_type": "stream",
     "text": [
      "Score is -0.652517 +/-  0.002654\n",
      "95 percent probability that if this experiment were repeated over and over the average score would be between -0.655171 and -0.649863\n"
     ]
    }
   ],
   "source": [
    "# Kfold Cross Validation\n",
    "cross_val_scores_vdcs = model_selection.cross_val_score(model, X_train_vdcs, y_train_vdcs, cv=kfold, scoring=scoring)\n",
    "kfoldScore(cross_val_scores_vdcs)"
   ]
  },
  {
   "cell_type": "code",
   "execution_count": null,
   "metadata": {
    "collapsed": true
   },
   "outputs": [],
   "source": []
  },
  {
   "cell_type": "code",
   "execution_count": null,
   "metadata": {
    "collapsed": true
   },
   "outputs": [],
   "source": []
  },
  {
   "cell_type": "code",
   "execution_count": null,
   "metadata": {
    "collapsed": true
   },
   "outputs": [],
   "source": []
  },
  {
   "cell_type": "markdown",
   "metadata": {},
   "source": [
    "<hr>"
   ]
  },
  {
   "cell_type": "code",
   "execution_count": 239,
   "metadata": {
    "collapsed": false
   },
   "outputs": [
    {
     "data": {
      "text/html": [
       "<div>\n",
       "<table border=\"1\" class=\"dataframe\">\n",
       "  <thead>\n",
       "    <tr style=\"text-align: right;\">\n",
       "      <th></th>\n",
       "      <th>vec_diff_0</th>\n",
       "      <th>vec_diff_1</th>\n",
       "      <th>vec_diff_2</th>\n",
       "      <th>vec_diff_3</th>\n",
       "      <th>vec_diff_4</th>\n",
       "      <th>vec_diff_5</th>\n",
       "      <th>vec_diff_6</th>\n",
       "      <th>vec_diff_7</th>\n",
       "      <th>vec_diff_8</th>\n",
       "      <th>vec_diff_9</th>\n",
       "      <th>...</th>\n",
       "      <th>vec_diff_93</th>\n",
       "      <th>vec_diff_94</th>\n",
       "      <th>vec_diff_95</th>\n",
       "      <th>vec_diff_96</th>\n",
       "      <th>vec_diff_97</th>\n",
       "      <th>vec_diff_98</th>\n",
       "      <th>vec_diff_99</th>\n",
       "      <th>cosine_similarity</th>\n",
       "      <th>pid</th>\n",
       "      <th>is_duplicate</th>\n",
       "    </tr>\n",
       "  </thead>\n",
       "  <tbody>\n",
       "    <tr>\n",
       "      <th>0</th>\n",
       "      <td>1.107752</td>\n",
       "      <td>-0.313235</td>\n",
       "      <td>-0.394576</td>\n",
       "      <td>1.436522</td>\n",
       "      <td>0.239561</td>\n",
       "      <td>0.347694</td>\n",
       "      <td>0.380208</td>\n",
       "      <td>-0.264182</td>\n",
       "      <td>-0.271405</td>\n",
       "      <td>-0.948074</td>\n",
       "      <td>...</td>\n",
       "      <td>0.013963</td>\n",
       "      <td>-0.865030</td>\n",
       "      <td>0.021910</td>\n",
       "      <td>0.269779</td>\n",
       "      <td>-0.395462</td>\n",
       "      <td>1.013008</td>\n",
       "      <td>1.712046</td>\n",
       "      <td>0.334541</td>\n",
       "      <td>0</td>\n",
       "      <td>0</td>\n",
       "    </tr>\n",
       "    <tr>\n",
       "      <th>1</th>\n",
       "      <td>0.841588</td>\n",
       "      <td>-0.001892</td>\n",
       "      <td>-0.713754</td>\n",
       "      <td>-1.421479</td>\n",
       "      <td>-0.005607</td>\n",
       "      <td>-0.807846</td>\n",
       "      <td>0.090561</td>\n",
       "      <td>0.537039</td>\n",
       "      <td>-0.105543</td>\n",
       "      <td>0.803184</td>\n",
       "      <td>...</td>\n",
       "      <td>0.041368</td>\n",
       "      <td>0.928657</td>\n",
       "      <td>-1.476838</td>\n",
       "      <td>-0.021899</td>\n",
       "      <td>0.451373</td>\n",
       "      <td>-0.181559</td>\n",
       "      <td>0.816910</td>\n",
       "      <td>0.042259</td>\n",
       "      <td>1</td>\n",
       "      <td>0</td>\n",
       "    </tr>\n",
       "    <tr>\n",
       "      <th>2</th>\n",
       "      <td>-0.663653</td>\n",
       "      <td>-0.060284</td>\n",
       "      <td>-0.145331</td>\n",
       "      <td>-1.339342</td>\n",
       "      <td>-1.093719</td>\n",
       "      <td>-1.117436</td>\n",
       "      <td>1.072385</td>\n",
       "      <td>1.041608</td>\n",
       "      <td>1.412804</td>\n",
       "      <td>-0.392849</td>\n",
       "      <td>...</td>\n",
       "      <td>1.314960</td>\n",
       "      <td>0.493841</td>\n",
       "      <td>-0.064051</td>\n",
       "      <td>0.789275</td>\n",
       "      <td>-0.593265</td>\n",
       "      <td>-0.151976</td>\n",
       "      <td>1.118786</td>\n",
       "      <td>0.235947</td>\n",
       "      <td>2</td>\n",
       "      <td>0</td>\n",
       "    </tr>\n",
       "    <tr>\n",
       "      <th>3</th>\n",
       "      <td>-1.974446</td>\n",
       "      <td>0.101729</td>\n",
       "      <td>0.697687</td>\n",
       "      <td>-0.272958</td>\n",
       "      <td>-0.307428</td>\n",
       "      <td>2.082574</td>\n",
       "      <td>0.267690</td>\n",
       "      <td>0.484197</td>\n",
       "      <td>0.132945</td>\n",
       "      <td>0.965306</td>\n",
       "      <td>...</td>\n",
       "      <td>1.117954</td>\n",
       "      <td>-0.266042</td>\n",
       "      <td>-0.033769</td>\n",
       "      <td>-0.736970</td>\n",
       "      <td>0.461864</td>\n",
       "      <td>0.215652</td>\n",
       "      <td>0.231992</td>\n",
       "      <td>0.003515</td>\n",
       "      <td>3</td>\n",
       "      <td>0</td>\n",
       "    </tr>\n",
       "    <tr>\n",
       "      <th>4</th>\n",
       "      <td>0.409227</td>\n",
       "      <td>0.557212</td>\n",
       "      <td>-0.281329</td>\n",
       "      <td>-0.361395</td>\n",
       "      <td>0.646847</td>\n",
       "      <td>0.343811</td>\n",
       "      <td>1.139830</td>\n",
       "      <td>-0.886630</td>\n",
       "      <td>0.120703</td>\n",
       "      <td>-0.635926</td>\n",
       "      <td>...</td>\n",
       "      <td>0.068261</td>\n",
       "      <td>0.105812</td>\n",
       "      <td>-1.395813</td>\n",
       "      <td>0.684883</td>\n",
       "      <td>0.691859</td>\n",
       "      <td>0.192519</td>\n",
       "      <td>0.123829</td>\n",
       "      <td>0.105817</td>\n",
       "      <td>4</td>\n",
       "      <td>0</td>\n",
       "    </tr>\n",
       "  </tbody>\n",
       "</table>\n",
       "<p>5 rows × 103 columns</p>\n",
       "</div>"
      ],
      "text/plain": [
       "   vec_diff_0  vec_diff_1  vec_diff_2  vec_diff_3  vec_diff_4  vec_diff_5  \\\n",
       "0    1.107752   -0.313235   -0.394576    1.436522    0.239561    0.347694   \n",
       "1    0.841588   -0.001892   -0.713754   -1.421479   -0.005607   -0.807846   \n",
       "2   -0.663653   -0.060284   -0.145331   -1.339342   -1.093719   -1.117436   \n",
       "3   -1.974446    0.101729    0.697687   -0.272958   -0.307428    2.082574   \n",
       "4    0.409227    0.557212   -0.281329   -0.361395    0.646847    0.343811   \n",
       "\n",
       "   vec_diff_6  vec_diff_7  vec_diff_8  vec_diff_9      ...       vec_diff_93  \\\n",
       "0    0.380208   -0.264182   -0.271405   -0.948074      ...          0.013963   \n",
       "1    0.090561    0.537039   -0.105543    0.803184      ...          0.041368   \n",
       "2    1.072385    1.041608    1.412804   -0.392849      ...          1.314960   \n",
       "3    0.267690    0.484197    0.132945    0.965306      ...          1.117954   \n",
       "4    1.139830   -0.886630    0.120703   -0.635926      ...          0.068261   \n",
       "\n",
       "   vec_diff_94  vec_diff_95  vec_diff_96  vec_diff_97  vec_diff_98  \\\n",
       "0    -0.865030     0.021910     0.269779    -0.395462     1.013008   \n",
       "1     0.928657    -1.476838    -0.021899     0.451373    -0.181559   \n",
       "2     0.493841    -0.064051     0.789275    -0.593265    -0.151976   \n",
       "3    -0.266042    -0.033769    -0.736970     0.461864     0.215652   \n",
       "4     0.105812    -1.395813     0.684883     0.691859     0.192519   \n",
       "\n",
       "   vec_diff_99  cosine_similarity  pid  is_duplicate  \n",
       "0     1.712046           0.334541    0             0  \n",
       "1     0.816910           0.042259    1             0  \n",
       "2     1.118786           0.235947    2             0  \n",
       "3     0.231992           0.003515    3             0  \n",
       "4     0.123829           0.105817    4             0  \n",
       "\n",
       "[5 rows x 103 columns]"
      ]
     },
     "execution_count": 239,
     "metadata": {},
     "output_type": "execute_result"
    }
   ],
   "source": [
    "X_train_vd = vector_diffs_train\n",
    "X_train_vd['cosine_similarity'] = documents_train['cosine_similarity']\n",
    "y_train_vdcs = documents_train['is_duplicate']\n",
    "X_train_vdcs.head()"
   ]
  },
  {
   "cell_type": "code",
   "execution_count": 240,
   "metadata": {
    "collapsed": false,
    "scrolled": true
   },
   "outputs": [
    {
     "data": {
      "text/html": [
       "<div>\n",
       "<table border=\"1\" class=\"dataframe\">\n",
       "  <thead>\n",
       "    <tr style=\"text-align: right;\">\n",
       "      <th></th>\n",
       "      <th>vec_diff_0</th>\n",
       "      <th>vec_diff_1</th>\n",
       "      <th>vec_diff_2</th>\n",
       "      <th>vec_diff_3</th>\n",
       "      <th>vec_diff_4</th>\n",
       "      <th>vec_diff_5</th>\n",
       "      <th>vec_diff_6</th>\n",
       "      <th>vec_diff_7</th>\n",
       "      <th>vec_diff_8</th>\n",
       "      <th>vec_diff_9</th>\n",
       "      <th>...</th>\n",
       "      <th>vec_diff_92</th>\n",
       "      <th>vec_diff_93</th>\n",
       "      <th>vec_diff_94</th>\n",
       "      <th>vec_diff_95</th>\n",
       "      <th>vec_diff_96</th>\n",
       "      <th>vec_diff_97</th>\n",
       "      <th>vec_diff_98</th>\n",
       "      <th>vec_diff_99</th>\n",
       "      <th>cosine_similarity</th>\n",
       "      <th>is_duplicate</th>\n",
       "    </tr>\n",
       "  </thead>\n",
       "  <tbody>\n",
       "    <tr>\n",
       "      <th>0</th>\n",
       "      <td>1.107752</td>\n",
       "      <td>-0.313235</td>\n",
       "      <td>-0.394576</td>\n",
       "      <td>1.436522</td>\n",
       "      <td>0.239561</td>\n",
       "      <td>0.347694</td>\n",
       "      <td>0.380208</td>\n",
       "      <td>-0.264182</td>\n",
       "      <td>-0.271405</td>\n",
       "      <td>-0.948074</td>\n",
       "      <td>...</td>\n",
       "      <td>0.011935</td>\n",
       "      <td>0.013963</td>\n",
       "      <td>-0.865030</td>\n",
       "      <td>0.021910</td>\n",
       "      <td>0.269779</td>\n",
       "      <td>-0.395462</td>\n",
       "      <td>1.013008</td>\n",
       "      <td>1.712046</td>\n",
       "      <td>0.334541</td>\n",
       "      <td>0</td>\n",
       "    </tr>\n",
       "    <tr>\n",
       "      <th>1</th>\n",
       "      <td>0.841588</td>\n",
       "      <td>-0.001892</td>\n",
       "      <td>-0.713754</td>\n",
       "      <td>-1.421479</td>\n",
       "      <td>-0.005607</td>\n",
       "      <td>-0.807846</td>\n",
       "      <td>0.090561</td>\n",
       "      <td>0.537039</td>\n",
       "      <td>-0.105543</td>\n",
       "      <td>0.803184</td>\n",
       "      <td>...</td>\n",
       "      <td>-1.006908</td>\n",
       "      <td>0.041368</td>\n",
       "      <td>0.928657</td>\n",
       "      <td>-1.476838</td>\n",
       "      <td>-0.021899</td>\n",
       "      <td>0.451373</td>\n",
       "      <td>-0.181559</td>\n",
       "      <td>0.816910</td>\n",
       "      <td>0.042259</td>\n",
       "      <td>0</td>\n",
       "    </tr>\n",
       "    <tr>\n",
       "      <th>2</th>\n",
       "      <td>-0.663653</td>\n",
       "      <td>-0.060284</td>\n",
       "      <td>-0.145331</td>\n",
       "      <td>-1.339342</td>\n",
       "      <td>-1.093719</td>\n",
       "      <td>-1.117436</td>\n",
       "      <td>1.072385</td>\n",
       "      <td>1.041608</td>\n",
       "      <td>1.412804</td>\n",
       "      <td>-0.392849</td>\n",
       "      <td>...</td>\n",
       "      <td>-0.326097</td>\n",
       "      <td>1.314960</td>\n",
       "      <td>0.493841</td>\n",
       "      <td>-0.064051</td>\n",
       "      <td>0.789275</td>\n",
       "      <td>-0.593265</td>\n",
       "      <td>-0.151976</td>\n",
       "      <td>1.118786</td>\n",
       "      <td>0.235947</td>\n",
       "      <td>0</td>\n",
       "    </tr>\n",
       "    <tr>\n",
       "      <th>3</th>\n",
       "      <td>-1.974446</td>\n",
       "      <td>0.101729</td>\n",
       "      <td>0.697687</td>\n",
       "      <td>-0.272958</td>\n",
       "      <td>-0.307428</td>\n",
       "      <td>2.082574</td>\n",
       "      <td>0.267690</td>\n",
       "      <td>0.484197</td>\n",
       "      <td>0.132945</td>\n",
       "      <td>0.965306</td>\n",
       "      <td>...</td>\n",
       "      <td>-1.115674</td>\n",
       "      <td>1.117954</td>\n",
       "      <td>-0.266042</td>\n",
       "      <td>-0.033769</td>\n",
       "      <td>-0.736970</td>\n",
       "      <td>0.461864</td>\n",
       "      <td>0.215652</td>\n",
       "      <td>0.231992</td>\n",
       "      <td>0.003515</td>\n",
       "      <td>0</td>\n",
       "    </tr>\n",
       "    <tr>\n",
       "      <th>4</th>\n",
       "      <td>0.409227</td>\n",
       "      <td>0.557212</td>\n",
       "      <td>-0.281329</td>\n",
       "      <td>-0.361395</td>\n",
       "      <td>0.646847</td>\n",
       "      <td>0.343811</td>\n",
       "      <td>1.139830</td>\n",
       "      <td>-0.886630</td>\n",
       "      <td>0.120703</td>\n",
       "      <td>-0.635926</td>\n",
       "      <td>...</td>\n",
       "      <td>-1.246236</td>\n",
       "      <td>0.068261</td>\n",
       "      <td>0.105812</td>\n",
       "      <td>-1.395813</td>\n",
       "      <td>0.684883</td>\n",
       "      <td>0.691859</td>\n",
       "      <td>0.192519</td>\n",
       "      <td>0.123829</td>\n",
       "      <td>0.105817</td>\n",
       "      <td>0</td>\n",
       "    </tr>\n",
       "  </tbody>\n",
       "</table>\n",
       "<p>5 rows × 102 columns</p>\n",
       "</div>"
      ],
      "text/plain": [
       "   vec_diff_0  vec_diff_1  vec_diff_2  vec_diff_3  vec_diff_4  vec_diff_5  \\\n",
       "0    1.107752   -0.313235   -0.394576    1.436522    0.239561    0.347694   \n",
       "1    0.841588   -0.001892   -0.713754   -1.421479   -0.005607   -0.807846   \n",
       "2   -0.663653   -0.060284   -0.145331   -1.339342   -1.093719   -1.117436   \n",
       "3   -1.974446    0.101729    0.697687   -0.272958   -0.307428    2.082574   \n",
       "4    0.409227    0.557212   -0.281329   -0.361395    0.646847    0.343811   \n",
       "\n",
       "   vec_diff_6  vec_diff_7  vec_diff_8  vec_diff_9      ...       vec_diff_92  \\\n",
       "0    0.380208   -0.264182   -0.271405   -0.948074      ...          0.011935   \n",
       "1    0.090561    0.537039   -0.105543    0.803184      ...         -1.006908   \n",
       "2    1.072385    1.041608    1.412804   -0.392849      ...         -0.326097   \n",
       "3    0.267690    0.484197    0.132945    0.965306      ...         -1.115674   \n",
       "4    1.139830   -0.886630    0.120703   -0.635926      ...         -1.246236   \n",
       "\n",
       "   vec_diff_93  vec_diff_94  vec_diff_95  vec_diff_96  vec_diff_97  \\\n",
       "0     0.013963    -0.865030     0.021910     0.269779    -0.395462   \n",
       "1     0.041368     0.928657    -1.476838    -0.021899     0.451373   \n",
       "2     1.314960     0.493841    -0.064051     0.789275    -0.593265   \n",
       "3     1.117954    -0.266042    -0.033769    -0.736970     0.461864   \n",
       "4     0.068261     0.105812    -1.395813     0.684883     0.691859   \n",
       "\n",
       "   vec_diff_98  vec_diff_99  cosine_similarity  is_duplicate  \n",
       "0     1.013008     1.712046           0.334541             0  \n",
       "1    -0.181559     0.816910           0.042259             0  \n",
       "2    -0.151976     1.118786           0.235947             0  \n",
       "3     0.215652     0.231992           0.003515             0  \n",
       "4     0.192519     0.123829           0.105817             0  \n",
       "\n",
       "[5 rows x 102 columns]"
      ]
     },
     "execution_count": 240,
     "metadata": {},
     "output_type": "execute_result"
    }
   ],
   "source": [
    "X_train_vdcs = X_train_vdcs.drop('pid', 1)\n",
    "X_train_vdcs.head()"
   ]
  },
  {
   "cell_type": "code",
   "execution_count": 242,
   "metadata": {
    "collapsed": false
   },
   "outputs": [
    {
     "data": {
      "text/plain": [
       "0    0\n",
       "1    0\n",
       "2    0\n",
       "3    0\n",
       "4    0\n",
       "Name: is_duplicate, dtype: int64"
      ]
     },
     "execution_count": 242,
     "metadata": {},
     "output_type": "execute_result"
    }
   ],
   "source": [
    "y_train_vdcs.head()"
   ]
  },
  {
   "cell_type": "code",
   "execution_count": 243,
   "metadata": {
    "collapsed": true
   },
   "outputs": [],
   "source": [
    "results_vdcs = model_selection.cross_val_score(model, X_train_vdcs, y_train_vdcs, cv=kfold, scoring=scoring)"
   ]
  },
  {
   "cell_type": "code",
   "execution_count": 244,
   "metadata": {
    "collapsed": false
   },
   "outputs": [
    {
     "name": "stdout",
     "output_type": "stream",
     "text": [
      "Score is -0.000130 +/-  0.000000\n",
      "95 percent probability that if this experiment were repeated over and over the average score would be between -0.000130 and -0.000130\n"
     ]
    }
   ],
   "source": [
    "mean_score = results_vdcs.mean()\n",
    "std_dev = results_vdcs.std()\n",
    "std_error = results_vdcs.std() / math.sqrt(results_vdcs.shape[0])\n",
    "ci =  2.262 * std_error\n",
    "lower_bound = mean_score - ci\n",
    "upper_bound = mean_score + ci\n",
    "\n",
    "print (\"Score is %f +/-  %f\" % (mean_score, ci))\n",
    "print ('95 percent probability that if this experiment were repeated over and over the average score would be between %f and %f' % (lower_bound, upper_bound))"
   ]
  },
  {
   "cell_type": "code",
   "execution_count": 245,
   "metadata": {
    "collapsed": false
   },
   "outputs": [
    {
     "data": {
      "text/plain": [
       "array([[  9.99901917e-01,   9.80829717e-05],\n",
       "       [  9.99874015e-01,   1.25985374e-04],\n",
       "       [  9.99890534e-01,   1.09465545e-04],\n",
       "       ..., \n",
       "       [  9.99889265e-01,   1.10735001e-04],\n",
       "       [  9.99867918e-01,   1.32081535e-04],\n",
       "       [  9.99873007e-01,   1.26992602e-04]])"
      ]
     },
     "execution_count": 245,
     "metadata": {},
     "output_type": "execute_result"
    }
   ],
   "source": [
    "model.fit(X_train_vdcs, y_train_vdcs)\n",
    "y_pred_vdcs = model.predict_proba(X_train_vdcs)\n",
    "y_pred_vdcs"
   ]
  },
  {
   "cell_type": "code",
   "execution_count": 246,
   "metadata": {
    "collapsed": true
   },
   "outputs": [],
   "source": [
    "logloss_vdcs = log_loss(y_pred=y_pred_vdcs, y_true=y_train_vdcs)"
   ]
  },
  {
   "cell_type": "code",
   "execution_count": 247,
   "metadata": {
    "collapsed": false
   },
   "outputs": [
    {
     "data": {
      "text/plain": [
       "0.00012028165367434853"
      ]
     },
     "execution_count": 247,
     "metadata": {},
     "output_type": "execute_result"
    }
   ],
   "source": [
    "logloss_vdcs"
   ]
  },
  {
   "cell_type": "markdown",
   "metadata": {},
   "source": [
    "### VDCS TEST"
   ]
  },
  {
   "cell_type": "code",
   "execution_count": 248,
   "metadata": {
    "collapsed": true
   },
   "outputs": [],
   "source": [
    "documents_test['vector_diff'] = np.subtract(documents_test['vectors_x'], documents_test['vectors_y'])"
   ]
  },
  {
   "cell_type": "code",
   "execution_count": 251,
   "metadata": {
    "collapsed": false
   },
   "outputs": [
    {
     "data": {
      "text/html": [
       "<div>\n",
       "<table border=\"1\" class=\"dataframe\">\n",
       "  <thead>\n",
       "    <tr style=\"text-align: right;\">\n",
       "      <th></th>\n",
       "      <th>pid</th>\n",
       "      <th>vectors_x</th>\n",
       "      <th>vectors_y</th>\n",
       "      <th>cosine_similarity</th>\n",
       "      <th>is_duplicate</th>\n",
       "      <th>vector_diff</th>\n",
       "    </tr>\n",
       "  </thead>\n",
       "  <tbody>\n",
       "    <tr>\n",
       "      <th>0</th>\n",
       "      <td>0</td>\n",
       "      <td>[-0.214728, -0.21874, 0.386611, 0.369, 0.07617...</td>\n",
       "      <td>[-0.662917, -0.25785, 0.199841, -0.454418, 0.5...</td>\n",
       "      <td>-0.052104</td>\n",
       "      <td>0.277446</td>\n",
       "      <td>[0.44819, 0.0391104, 0.18677, 0.823418, -0.451...</td>\n",
       "    </tr>\n",
       "    <tr>\n",
       "      <th>1</th>\n",
       "      <td>1</td>\n",
       "      <td>[-0.205587, 1.22863, -0.00696208, 0.0571063, -...</td>\n",
       "      <td>[0.174078, 0.257381, 0.646523, 0.381952, -0.49...</td>\n",
       "      <td>0.262038</td>\n",
       "      <td>0.412398</td>\n",
       "      <td>[-0.379665, 0.971253, -0.653485, -0.324845, -0...</td>\n",
       "    </tr>\n",
       "    <tr>\n",
       "      <th>2</th>\n",
       "      <td>2</td>\n",
       "      <td>[0.0120485, -0.649001, 0.621607, 0.261708, 0.3...</td>\n",
       "      <td>[0.731086, -1.45327, 0.494948, 0.412926, -0.23...</td>\n",
       "      <td>0.427748</td>\n",
       "      <td>0.491020</td>\n",
       "      <td>[-0.719038, 0.80427, 0.126659, -0.151218, 0.61...</td>\n",
       "    </tr>\n",
       "    <tr>\n",
       "      <th>3</th>\n",
       "      <td>3</td>\n",
       "      <td>[0.251726, 0.81067, 0.212609, 0.0255506, -0.31...</td>\n",
       "      <td>[0.113517, 0.0238135, -0.167942, -0.193619, -0...</td>\n",
       "      <td>-0.058153</td>\n",
       "      <td>0.275124</td>\n",
       "      <td>[0.138209, 0.786857, 0.38055, 0.219169, -0.241...</td>\n",
       "    </tr>\n",
       "    <tr>\n",
       "      <th>4</th>\n",
       "      <td>4</td>\n",
       "      <td>[-0.36815, -0.468827, 0.00867531, 0.0692847, 0...</td>\n",
       "      <td>[0.475766, -0.177542, 0.00298492, -0.25851, -0...</td>\n",
       "      <td>0.061502</td>\n",
       "      <td>0.323210</td>\n",
       "      <td>[-0.843916, -0.291284, 0.00569039, 0.327795, 0...</td>\n",
       "    </tr>\n",
       "  </tbody>\n",
       "</table>\n",
       "</div>"
      ],
      "text/plain": [
       "   pid                                          vectors_x  \\\n",
       "0    0  [-0.214728, -0.21874, 0.386611, 0.369, 0.07617...   \n",
       "1    1  [-0.205587, 1.22863, -0.00696208, 0.0571063, -...   \n",
       "2    2  [0.0120485, -0.649001, 0.621607, 0.261708, 0.3...   \n",
       "3    3  [0.251726, 0.81067, 0.212609, 0.0255506, -0.31...   \n",
       "4    4  [-0.36815, -0.468827, 0.00867531, 0.0692847, 0...   \n",
       "\n",
       "                                           vectors_y  cosine_similarity  \\\n",
       "0  [-0.662917, -0.25785, 0.199841, -0.454418, 0.5...          -0.052104   \n",
       "1  [0.174078, 0.257381, 0.646523, 0.381952, -0.49...           0.262038   \n",
       "2  [0.731086, -1.45327, 0.494948, 0.412926, -0.23...           0.427748   \n",
       "3  [0.113517, 0.0238135, -0.167942, -0.193619, -0...          -0.058153   \n",
       "4  [0.475766, -0.177542, 0.00298492, -0.25851, -0...           0.061502   \n",
       "\n",
       "   is_duplicate                                        vector_diff  \n",
       "0      0.277446  [0.44819, 0.0391104, 0.18677, 0.823418, -0.451...  \n",
       "1      0.412398  [-0.379665, 0.971253, -0.653485, -0.324845, -0...  \n",
       "2      0.491020  [-0.719038, 0.80427, 0.126659, -0.151218, 0.61...  \n",
       "3      0.275124  [0.138209, 0.786857, 0.38055, 0.219169, -0.241...  \n",
       "4      0.323210  [-0.843916, -0.291284, 0.00569039, 0.327795, 0...  "
      ]
     },
     "execution_count": 251,
     "metadata": {},
     "output_type": "execute_result"
    }
   ],
   "source": [
    "documents_test.head()"
   ]
  },
  {
   "cell_type": "code",
   "execution_count": null,
   "metadata": {
    "collapsed": false
   },
   "outputs": [],
   "source": [
    "# expand vector_diffs into its own dataframe\n",
    "vector_diffs_test = documents_test['vector_diff'].apply(pd.Series)\n",
    "\n",
    "# rename each variable is vector_diffs\n",
    "vector_diffs_test = vector_diffs_test.rename(columns = lambda x : 'vec_diff_' + str(x))\n",
    "\n",
    "# view the vector_diffs dataframe\n",
    "vector_diffs_test.head()"
   ]
  },
  {
   "cell_type": "code",
   "execution_count": null,
   "metadata": {
    "collapsed": true
   },
   "outputs": [],
   "source": [
    "X_test_vdcs = vector_diffs_test\n",
    "X_test_vdcs['cosine_similarity'] = documents_test['cosine_similarity']\n",
    "X_test_vdcs.head()"
   ]
  },
  {
   "cell_type": "code",
   "execution_count": null,
   "metadata": {
    "collapsed": true
   },
   "outputs": [],
   "source": [
    "y_pred_test_vdcs = model.predict_proba(X_test_vdcs)"
   ]
  },
  {
   "cell_type": "code",
   "execution_count": null,
   "metadata": {
    "collapsed": true
   },
   "outputs": [],
   "source": [
    "submission02 = documents_test['pid']\n",
    "submission02['is_duplicate'] = [row[1] for row in y_pred_test_vdcs]\n",
    "submission02.columns = ['test_id', 'is_duplicate']\n",
    "submission02.head()\n",
    "submission02.to_csv('./submission02.csv', index=False)"
   ]
  },
  {
   "cell_type": "code",
   "execution_count": 1,
   "metadata": {
    "collapsed": false
   },
   "outputs": [
    {
     "ename": "NameError",
     "evalue": "name 'documents_test' is not defined",
     "output_type": "error",
     "traceback": [
      "\u001b[0;31m---------------------------------------------------------------------------\u001b[0m",
      "\u001b[0;31mNameError\u001b[0m                                 Traceback (most recent call last)",
      "\u001b[0;32m<ipython-input-1-f44b4cc8981a>\u001b[0m in \u001b[0;36m<module>\u001b[0;34m()\u001b[0m\n\u001b[0;32m----> 1\u001b[0;31m \u001b[0mdocuments_test\u001b[0m\u001b[1;33m.\u001b[0m\u001b[0mshape\u001b[0m\u001b[1;33m\u001b[0m\u001b[0m\n\u001b[0m",
      "\u001b[0;31mNameError\u001b[0m: name 'documents_test' is not defined"
     ]
    }
   ],
   "source": [
    "documents_test.shape"
   ]
  },
  {
   "cell_type": "code",
   "execution_count": null,
   "metadata": {
    "collapsed": true
   },
   "outputs": [],
   "source": []
  }
 ],
 "metadata": {
  "kernelspec": {
   "display_name": "Python 3",
   "language": "python",
   "name": "python3"
  },
  "language_info": {
   "codemirror_mode": {
    "name": "ipython",
    "version": 3
   },
   "file_extension": ".py",
   "mimetype": "text/x-python",
   "name": "python",
   "nbconvert_exporter": "python",
   "pygments_lexer": "ipython3",
   "version": "3.6.0"
  }
 },
 "nbformat": 4,
 "nbformat_minor": 2
}
