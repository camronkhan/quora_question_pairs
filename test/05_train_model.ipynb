{
 "cells": [
  {
   "cell_type": "code",
   "execution_count": 9,
   "metadata": {
    "collapsed": false
   },
   "outputs": [],
   "source": [
    "import nltk\n",
    "import gensim\n",
    "import pandas as pd\n",
    "from nltk.tokenize import RegexpTokenizer\n",
    "from nltk.stem import SnowballStemmer\n",
    "from gensim.models.doc2vec import TaggedDocument"
   ]
  },
  {
   "cell_type": "code",
   "execution_count": 10,
   "metadata": {
    "collapsed": false,
    "scrolled": true
   },
   "outputs": [
    {
     "data": {
      "text/html": [
       "<div>\n",
       "<table border=\"1\" class=\"dataframe\">\n",
       "  <thead>\n",
       "    <tr style=\"text-align: right;\">\n",
       "      <th></th>\n",
       "      <th>id</th>\n",
       "      <th>qid1</th>\n",
       "      <th>qid2</th>\n",
       "      <th>question1</th>\n",
       "      <th>question2</th>\n",
       "      <th>is_duplicate</th>\n",
       "    </tr>\n",
       "  </thead>\n",
       "  <tbody>\n",
       "    <tr>\n",
       "      <th>0</th>\n",
       "      <td>0</td>\n",
       "      <td>1</td>\n",
       "      <td>2</td>\n",
       "      <td>What is the step by step guide to invest in sh...</td>\n",
       "      <td>What is the step by step guide to invest in sh...</td>\n",
       "      <td>0</td>\n",
       "    </tr>\n",
       "    <tr>\n",
       "      <th>1</th>\n",
       "      <td>1</td>\n",
       "      <td>3</td>\n",
       "      <td>4</td>\n",
       "      <td>What is the story of Kohinoor (Koh-i-Noor) Dia...</td>\n",
       "      <td>What would happen if the Indian government sto...</td>\n",
       "      <td>0</td>\n",
       "    </tr>\n",
       "    <tr>\n",
       "      <th>2</th>\n",
       "      <td>2</td>\n",
       "      <td>5</td>\n",
       "      <td>6</td>\n",
       "      <td>How can I increase the speed of my internet co...</td>\n",
       "      <td>How can Internet speed be increased by hacking...</td>\n",
       "      <td>0</td>\n",
       "    </tr>\n",
       "    <tr>\n",
       "      <th>3</th>\n",
       "      <td>3</td>\n",
       "      <td>7</td>\n",
       "      <td>8</td>\n",
       "      <td>Why am I mentally very lonely? How can I solve...</td>\n",
       "      <td>Find the remainder when [math]23^{24}[/math] i...</td>\n",
       "      <td>0</td>\n",
       "    </tr>\n",
       "    <tr>\n",
       "      <th>4</th>\n",
       "      <td>4</td>\n",
       "      <td>9</td>\n",
       "      <td>10</td>\n",
       "      <td>Which one dissolve in water quikly sugar, salt...</td>\n",
       "      <td>Which fish would survive in salt water?</td>\n",
       "      <td>0</td>\n",
       "    </tr>\n",
       "  </tbody>\n",
       "</table>\n",
       "</div>"
      ],
      "text/plain": [
       "   id  qid1  qid2                                          question1  \\\n",
       "0   0     1     2  What is the step by step guide to invest in sh...   \n",
       "1   1     3     4  What is the story of Kohinoor (Koh-i-Noor) Dia...   \n",
       "2   2     5     6  How can I increase the speed of my internet co...   \n",
       "3   3     7     8  Why am I mentally very lonely? How can I solve...   \n",
       "4   4     9    10  Which one dissolve in water quikly sugar, salt...   \n",
       "\n",
       "                                           question2  is_duplicate  \n",
       "0  What is the step by step guide to invest in sh...             0  \n",
       "1  What would happen if the Indian government sto...             0  \n",
       "2  How can Internet speed be increased by hacking...             0  \n",
       "3  Find the remainder when [math]23^{24}[/math] i...             0  \n",
       "4            Which fish would survive in salt water?             0  "
      ]
     },
     "execution_count": 10,
     "metadata": {},
     "output_type": "execute_result"
    }
   ],
   "source": [
    "# Import training data into dataframe\n",
    "TRAIN = pd.read_csv('../data.gi/train.csv')\n",
    "TRAIN.head()"
   ]
  },
  {
   "cell_type": "code",
   "execution_count": 11,
   "metadata": {
    "collapsed": false
   },
   "outputs": [],
   "source": [
    "# Create lookup table\n",
    "lookup_df = TRAIN[['id', 'qid1', 'qid2', 'is_duplicate']]"
   ]
  },
  {
   "cell_type": "code",
   "execution_count": 12,
   "metadata": {
    "collapsed": false,
    "scrolled": true
   },
   "outputs": [
    {
     "data": {
      "text/html": [
       "<div>\n",
       "<table border=\"1\" class=\"dataframe\">\n",
       "  <thead>\n",
       "    <tr style=\"text-align: right;\">\n",
       "      <th></th>\n",
       "      <th>pid</th>\n",
       "      <th>qid</th>\n",
       "      <th>question</th>\n",
       "    </tr>\n",
       "  </thead>\n",
       "  <tbody>\n",
       "    <tr>\n",
       "      <th>0</th>\n",
       "      <td>0</td>\n",
       "      <td>1</td>\n",
       "      <td>What is the step by step guide to invest in sh...</td>\n",
       "    </tr>\n",
       "    <tr>\n",
       "      <th>1</th>\n",
       "      <td>0</td>\n",
       "      <td>2</td>\n",
       "      <td>What is the step by step guide to invest in sh...</td>\n",
       "    </tr>\n",
       "    <tr>\n",
       "      <th>2</th>\n",
       "      <td>1</td>\n",
       "      <td>3</td>\n",
       "      <td>What is the story of Kohinoor (Koh-i-Noor) Dia...</td>\n",
       "    </tr>\n",
       "    <tr>\n",
       "      <th>3</th>\n",
       "      <td>1</td>\n",
       "      <td>4</td>\n",
       "      <td>What would happen if the Indian government sto...</td>\n",
       "    </tr>\n",
       "    <tr>\n",
       "      <th>4</th>\n",
       "      <td>2</td>\n",
       "      <td>5</td>\n",
       "      <td>How can I increase the speed of my internet co...</td>\n",
       "    </tr>\n",
       "  </tbody>\n",
       "</table>\n",
       "</div>"
      ],
      "text/plain": [
       "   pid  qid                                           question\n",
       "0    0    1  What is the step by step guide to invest in sh...\n",
       "1    0    2  What is the step by step guide to invest in sh...\n",
       "2    1    3  What is the story of Kohinoor (Koh-i-Noor) Dia...\n",
       "3    1    4  What would happen if the Indian government sto...\n",
       "4    2    5  How can I increase the speed of my internet co..."
      ]
     },
     "execution_count": 12,
     "metadata": {},
     "output_type": "execute_result"
    }
   ],
   "source": [
    "# Separate q1 and q2 into respective dataframes\n",
    "# Then stack, sort, and reindex new dataframe\n",
    "q1_df = TRAIN[['id', 'qid1', 'question1']]\n",
    "q1_df.columns = ['pid', 'qid', 'question']\n",
    "q2_df = TRAIN[['id', 'qid2', 'question2']]\n",
    "q2_df.columns = ['pid', 'qid', 'question']\n",
    "questions_df = pd.concat([q1_df, q2_df], ignore_index=True).sort_values(by=['pid', 'qid']).reset_index(drop=True)\n",
    "questions_df.head()"
   ]
  },
  {
   "cell_type": "code",
   "execution_count": 13,
   "metadata": {
    "collapsed": false,
    "scrolled": true
   },
   "outputs": [
    {
     "data": {
      "text/html": [
       "<div>\n",
       "<table border=\"1\" class=\"dataframe\">\n",
       "  <thead>\n",
       "    <tr style=\"text-align: right;\">\n",
       "      <th></th>\n",
       "      <th>pid</th>\n",
       "      <th>qid</th>\n",
       "      <th>question</th>\n",
       "      <th>tokens</th>\n",
       "    </tr>\n",
       "  </thead>\n",
       "  <tbody>\n",
       "    <tr>\n",
       "      <th>0</th>\n",
       "      <td>0</td>\n",
       "      <td>1</td>\n",
       "      <td>What is the step by step guide to invest in sh...</td>\n",
       "      <td>[what, is, step, by, step, guid, invest, share...</td>\n",
       "    </tr>\n",
       "    <tr>\n",
       "      <th>1</th>\n",
       "      <td>0</td>\n",
       "      <td>2</td>\n",
       "      <td>What is the step by step guide to invest in sh...</td>\n",
       "      <td>[what, is, step, by, step, guid, invest, share...</td>\n",
       "    </tr>\n",
       "    <tr>\n",
       "      <th>2</th>\n",
       "      <td>1</td>\n",
       "      <td>3</td>\n",
       "      <td>What is the story of Kohinoor (Koh-i-Noor) Dia...</td>\n",
       "      <td>[what, is, stori, kohinoor, koh, i, noor, diam...</td>\n",
       "    </tr>\n",
       "    <tr>\n",
       "      <th>3</th>\n",
       "      <td>1</td>\n",
       "      <td>4</td>\n",
       "      <td>What would happen if the Indian government sto...</td>\n",
       "      <td>[what, would, happen, if, indian, govern, stol...</td>\n",
       "    </tr>\n",
       "    <tr>\n",
       "      <th>4</th>\n",
       "      <td>2</td>\n",
       "      <td>5</td>\n",
       "      <td>How can I increase the speed of my internet co...</td>\n",
       "      <td>[how, can, i, increas, speed, my, internet, co...</td>\n",
       "    </tr>\n",
       "  </tbody>\n",
       "</table>\n",
       "</div>"
      ],
      "text/plain": [
       "   pid  qid                                           question  \\\n",
       "0    0    1  What is the step by step guide to invest in sh...   \n",
       "1    0    2  What is the step by step guide to invest in sh...   \n",
       "2    1    3  What is the story of Kohinoor (Koh-i-Noor) Dia...   \n",
       "3    1    4  What would happen if the Indian government sto...   \n",
       "4    2    5  How can I increase the speed of my internet co...   \n",
       "\n",
       "                                              tokens  \n",
       "0  [what, is, step, by, step, guid, invest, share...  \n",
       "1  [what, is, step, by, step, guid, invest, share...  \n",
       "2  [what, is, stori, kohinoor, koh, i, noor, diam...  \n",
       "3  [what, would, happen, if, indian, govern, stol...  \n",
       "4  [how, can, i, increas, speed, my, internet, co...  "
      ]
     },
     "execution_count": 13,
     "metadata": {},
     "output_type": "execute_result"
    }
   ],
   "source": [
    "# Parse to string, force lowercasing, tokenize, filter out stopwords, and stem\n",
    "def preprocessText(questions):\n",
    "    tokenizer = RegexpTokenizer(r'\\w+')\n",
    "    stemmer = SnowballStemmer('english')\n",
    "    stopwords = set('for a of the and to in'.split(' '))\n",
    "    cleaned = [str(question).lower() for question in questions]\n",
    "    tokenized = [tokenizer.tokenize(question) for question in cleaned]\n",
    "    filtered = [[token for token in tokens if token not in stopwords] for tokens in tokenized]\n",
    "    stemmed = [[stemmer.stem(token) for token in tokens if token not in stopwords] for tokens in filtered]\n",
    "    return stemmed\n",
    "\n",
    "questions_df['tokens'] = preprocessText(questions_df['question'])\n",
    "questions_df.head()"
   ]
  },
  {
   "cell_type": "code",
   "execution_count": 14,
   "metadata": {
    "collapsed": false
   },
   "outputs": [],
   "source": [
    "# Get list of tagged documents\n",
    "taggedDocs = [TaggedDocument(row[4], str(row[2])) for row in questions_df.itertuples()]"
   ]
  },
  {
   "cell_type": "code",
   "execution_count": 15,
   "metadata": {
    "collapsed": false
   },
   "outputs": [],
   "source": [
    "# Build model\n",
    "model = gensim.models.Doc2Vec(taggedDocs, workers=7, size= 50, alpha=0.025, min_alpha=0.025)"
   ]
  },
  {
   "cell_type": "code",
   "execution_count": 20,
   "metadata": {
    "collapsed": false
   },
   "outputs": [
    {
     "name": "stdout",
     "output_type": "stream",
     "text": [
      "Training epoch 0\n",
      "Training epoch 1\n",
      "Training epoch 2\n",
      "Training epoch 3\n",
      "Training epoch 4\n",
      "Training epoch 5\n",
      "Training epoch 6\n",
      "Training epoch 7\n",
      "Training epoch 8\n",
      "Training epoch 9\n",
      "Training epoch 10\n",
      "Training epoch 11\n",
      "Training epoch 12\n",
      "Training epoch 13\n",
      "Training epoch 14\n",
      "Training epoch 15\n",
      "Training epoch 16\n",
      "Training epoch 17\n",
      "Training epoch 18\n",
      "Training epoch 19\n",
      "Training epoch 20\n",
      "Training epoch 21\n",
      "Training epoch 22\n",
      "Training epoch 23\n",
      "Training epoch 24\n",
      "Training epoch 25\n",
      "Training epoch 26\n",
      "Training epoch 27\n",
      "Training epoch 28\n",
      "Training epoch 29\n",
      "Training epoch 30\n",
      "Training epoch 31\n",
      "Training epoch 32\n",
      "Training epoch 33\n",
      "Training epoch 34\n",
      "Training epoch 35\n",
      "Training epoch 36\n",
      "Training epoch 37\n",
      "Training epoch 38\n",
      "Training epoch 39\n",
      "Training epoch 40\n",
      "Training epoch 41\n",
      "Training epoch 42\n",
      "Training epoch 43\n",
      "Training epoch 44\n",
      "Training epoch 45\n",
      "Training epoch 46\n",
      "Training epoch 47\n",
      "Training epoch 48\n",
      "Training epoch 49\n"
     ]
    }
   ],
   "source": [
    "# Train model\n",
    "for epoch in range(50):\n",
    "    print ('Training epoch %s' % epoch)\n",
    "    model.train(taggedDocs)\n",
    "    model.alpha -= 0.002  # decrease the learning rate\n",
    "    model.min_alpha = model.alpha  # fix the learning rate, no decay"
   ]
  },
  {
   "cell_type": "code",
   "execution_count": 21,
   "metadata": {
    "collapsed": false
   },
   "outputs": [
    {
     "name": "stdout",
     "output_type": "stream",
     "text": [
      "[('reduc', 0.8069440722465515), ('decreas', 0.7137227058410645), ('chang', 0.7093374729156494), ('boost', 0.7023246884346008), ('improv', 0.6826469302177429), ('lower', 0.6556110382080078), ('regain', 0.6458404064178467), ('gain', 0.6406462788581848), ('measur', 0.636250376701355), ('determin', 0.6260837316513062)]\n",
      "[-2.05986357  0.03243658 -1.37755215  2.52617979 -1.02827513  1.18709183\n",
      "  4.62784719  3.66332197  1.95711815 -2.63808966  2.0665307   1.81047201\n",
      " -1.60181689 -2.94268322  1.22515988 -2.61498785 -2.25240827 -1.57505798\n",
      " -1.3084954   2.00848222  1.78252947  0.75253165  0.45351121  4.0585537\n",
      "  1.36573446 -0.85397917 -3.45068216 -0.211909   -1.41552711 -1.31944919\n",
      " -1.56268156  3.32461619 -3.5697279   7.84070349 -1.56449115 -2.83459806\n",
      " -0.45440879 -2.97191691  0.05383747 -3.25249934  1.54816508  2.80941129\n",
      " -0.19263583 -1.83397758 -1.17932796  2.04775095  3.00896835 -2.60724998\n",
      " -1.22312009 -3.1659565 ]\n",
      "[('4', 0.9981161952018738), ('0', 0.9981117248535156), ('5', 0.9979891777038574), ('1', 0.9976744651794434), ('6', 0.9974882006645203), ('3', 0.997133731842041), ('7', 0.9969432353973389), ('8', 0.9960660934448242), ('9', 0.9936189651489258)]\n"
     ]
    }
   ],
   "source": [
    "# shows the similar words\n",
    "print (model.most_similar('increas'))\n",
    " \n",
    "# shows the learnt embedding\n",
    "print (model['increas'])\n",
    " \n",
    "# shows the similar docs with id = 2\n",
    "print (model.docvecs.most_similar(str(2)))"
   ]
  },
  {
   "cell_type": "code",
   "execution_count": 22,
   "metadata": {
    "collapsed": false
   },
   "outputs": [],
   "source": [
    "model.save('./doc2vec_models/doc2vec_model_03')"
   ]
  },
  {
   "cell_type": "code",
   "execution_count": null,
   "metadata": {
    "collapsed": true
   },
   "outputs": [],
   "source": []
  }
 ],
 "metadata": {
  "kernelspec": {
   "display_name": "Python 3",
   "language": "python",
   "name": "python3"
  },
  "language_info": {
   "codemirror_mode": {
    "name": "ipython",
    "version": 3
   },
   "file_extension": ".py",
   "mimetype": "text/x-python",
   "name": "python",
   "nbconvert_exporter": "python",
   "pygments_lexer": "ipython3",
   "version": "3.6.0"
  }
 },
 "nbformat": 4,
 "nbformat_minor": 2
}
