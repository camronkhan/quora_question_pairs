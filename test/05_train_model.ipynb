{
 "cells": [
  {
   "cell_type": "markdown",
   "metadata": {},
   "source": [
    "# Quora Question Pairs"
   ]
  },
  {
   "cell_type": "markdown",
   "metadata": {},
   "source": [
    "## Imports"
   ]
  },
  {
   "cell_type": "code",
   "execution_count": 1,
   "metadata": {
    "collapsed": false
   },
   "outputs": [
    {
     "name": "stderr",
     "output_type": "stream",
     "text": [
      "C:\\Users\\CKhan\\AppData\\Local\\Continuum\\Anaconda3\\lib\\site-packages\\gensim\\utils.py:855: UserWarning: detected Windows; aliasing chunkize to chunkize_serial\n",
      "  warnings.warn(\"detected Windows; aliasing chunkize to chunkize_serial\")\n"
     ]
    }
   ],
   "source": [
    "import nltk\n",
    "import pandas as pd\n",
    "import numpy as np\n",
    "from nltk.tokenize import RegexpTokenizer\n",
    "from nltk.stem import SnowballStemmer\n",
    "from gensim.models.doc2vec import TaggedDocument\n",
    "from gensim.models import Doc2Vec\n",
    "import gensim.models.doc2vec\n",
    "from collections import OrderedDict\n",
    "import multiprocessing\n",
    "from random import shuffle\n",
    "import datetime"
   ]
  },
  {
   "cell_type": "code",
   "execution_count": 2,
   "metadata": {
    "collapsed": false,
    "scrolled": true
   },
   "outputs": [],
   "source": [
    "# Import training data into dataframe\n",
    "TRAIN = pd.read_csv('../data.gi/train.csv')\n",
    "TEST = pd.read_csv('../data.gi/test.csv')"
   ]
  },
  {
   "cell_type": "markdown",
   "metadata": {},
   "source": [
    "<hr>"
   ]
  },
  {
   "cell_type": "markdown",
   "metadata": {},
   "source": [
    "## EDA"
   ]
  },
  {
   "cell_type": "markdown",
   "metadata": {},
   "source": [
    "### Train Data"
   ]
  },
  {
   "cell_type": "code",
   "execution_count": 3,
   "metadata": {
    "collapsed": false
   },
   "outputs": [
    {
     "data": {
      "text/plain": [
       "(404290, 6)"
      ]
     },
     "execution_count": 3,
     "metadata": {},
     "output_type": "execute_result"
    }
   ],
   "source": [
    "TRAIN.shape"
   ]
  },
  {
   "cell_type": "code",
   "execution_count": 4,
   "metadata": {
    "collapsed": false,
    "scrolled": false
   },
   "outputs": [
    {
     "data": {
      "text/html": [
       "<div>\n",
       "<table border=\"1\" class=\"dataframe\">\n",
       "  <thead>\n",
       "    <tr style=\"text-align: right;\">\n",
       "      <th></th>\n",
       "      <th>id</th>\n",
       "      <th>qid1</th>\n",
       "      <th>qid2</th>\n",
       "      <th>question1</th>\n",
       "      <th>question2</th>\n",
       "      <th>is_duplicate</th>\n",
       "    </tr>\n",
       "  </thead>\n",
       "  <tbody>\n",
       "    <tr>\n",
       "      <th>0</th>\n",
       "      <td>0</td>\n",
       "      <td>1</td>\n",
       "      <td>2</td>\n",
       "      <td>What is the step by step guide to invest in sh...</td>\n",
       "      <td>What is the step by step guide to invest in sh...</td>\n",
       "      <td>0</td>\n",
       "    </tr>\n",
       "    <tr>\n",
       "      <th>1</th>\n",
       "      <td>1</td>\n",
       "      <td>3</td>\n",
       "      <td>4</td>\n",
       "      <td>What is the story of Kohinoor (Koh-i-Noor) Dia...</td>\n",
       "      <td>What would happen if the Indian government sto...</td>\n",
       "      <td>0</td>\n",
       "    </tr>\n",
       "    <tr>\n",
       "      <th>2</th>\n",
       "      <td>2</td>\n",
       "      <td>5</td>\n",
       "      <td>6</td>\n",
       "      <td>How can I increase the speed of my internet co...</td>\n",
       "      <td>How can Internet speed be increased by hacking...</td>\n",
       "      <td>0</td>\n",
       "    </tr>\n",
       "    <tr>\n",
       "      <th>3</th>\n",
       "      <td>3</td>\n",
       "      <td>7</td>\n",
       "      <td>8</td>\n",
       "      <td>Why am I mentally very lonely? How can I solve...</td>\n",
       "      <td>Find the remainder when [math]23^{24}[/math] i...</td>\n",
       "      <td>0</td>\n",
       "    </tr>\n",
       "    <tr>\n",
       "      <th>4</th>\n",
       "      <td>4</td>\n",
       "      <td>9</td>\n",
       "      <td>10</td>\n",
       "      <td>Which one dissolve in water quikly sugar, salt...</td>\n",
       "      <td>Which fish would survive in salt water?</td>\n",
       "      <td>0</td>\n",
       "    </tr>\n",
       "  </tbody>\n",
       "</table>\n",
       "</div>"
      ],
      "text/plain": [
       "   id  qid1  qid2                                          question1  \\\n",
       "0   0     1     2  What is the step by step guide to invest in sh...   \n",
       "1   1     3     4  What is the story of Kohinoor (Koh-i-Noor) Dia...   \n",
       "2   2     5     6  How can I increase the speed of my internet co...   \n",
       "3   3     7     8  Why am I mentally very lonely? How can I solve...   \n",
       "4   4     9    10  Which one dissolve in water quikly sugar, salt...   \n",
       "\n",
       "                                           question2  is_duplicate  \n",
       "0  What is the step by step guide to invest in sh...             0  \n",
       "1  What would happen if the Indian government sto...             0  \n",
       "2  How can Internet speed be increased by hacking...             0  \n",
       "3  Find the remainder when [math]23^{24}[/math] i...             0  \n",
       "4            Which fish would survive in salt water?             0  "
      ]
     },
     "execution_count": 4,
     "metadata": {},
     "output_type": "execute_result"
    }
   ],
   "source": [
    "TRAIN.head()"
   ]
  },
  {
   "cell_type": "code",
   "execution_count": 5,
   "metadata": {
    "collapsed": false,
    "scrolled": true
   },
   "outputs": [
    {
     "data": {
      "text/html": [
       "<div>\n",
       "<table border=\"1\" class=\"dataframe\">\n",
       "  <thead>\n",
       "    <tr style=\"text-align: right;\">\n",
       "      <th></th>\n",
       "      <th>id</th>\n",
       "      <th>qid1</th>\n",
       "      <th>qid2</th>\n",
       "      <th>question1</th>\n",
       "      <th>question2</th>\n",
       "      <th>is_duplicate</th>\n",
       "    </tr>\n",
       "  </thead>\n",
       "  <tbody>\n",
       "    <tr>\n",
       "      <th>404285</th>\n",
       "      <td>404285</td>\n",
       "      <td>433578</td>\n",
       "      <td>379845</td>\n",
       "      <td>How many keywords are there in the Racket prog...</td>\n",
       "      <td>How many keywords are there in PERL Programmin...</td>\n",
       "      <td>0</td>\n",
       "    </tr>\n",
       "    <tr>\n",
       "      <th>404286</th>\n",
       "      <td>404286</td>\n",
       "      <td>18840</td>\n",
       "      <td>155606</td>\n",
       "      <td>Do you believe there is life after death?</td>\n",
       "      <td>Is it true that there is life after death?</td>\n",
       "      <td>1</td>\n",
       "    </tr>\n",
       "    <tr>\n",
       "      <th>404287</th>\n",
       "      <td>404287</td>\n",
       "      <td>537928</td>\n",
       "      <td>537929</td>\n",
       "      <td>What is one coin?</td>\n",
       "      <td>What's this coin?</td>\n",
       "      <td>0</td>\n",
       "    </tr>\n",
       "    <tr>\n",
       "      <th>404288</th>\n",
       "      <td>404288</td>\n",
       "      <td>537930</td>\n",
       "      <td>537931</td>\n",
       "      <td>What is the approx annual cost of living while...</td>\n",
       "      <td>I am having little hairfall problem but I want...</td>\n",
       "      <td>0</td>\n",
       "    </tr>\n",
       "    <tr>\n",
       "      <th>404289</th>\n",
       "      <td>404289</td>\n",
       "      <td>537932</td>\n",
       "      <td>537933</td>\n",
       "      <td>What is like to have sex with cousin?</td>\n",
       "      <td>What is it like to have sex with your cousin?</td>\n",
       "      <td>0</td>\n",
       "    </tr>\n",
       "  </tbody>\n",
       "</table>\n",
       "</div>"
      ],
      "text/plain": [
       "            id    qid1    qid2  \\\n",
       "404285  404285  433578  379845   \n",
       "404286  404286   18840  155606   \n",
       "404287  404287  537928  537929   \n",
       "404288  404288  537930  537931   \n",
       "404289  404289  537932  537933   \n",
       "\n",
       "                                                question1  \\\n",
       "404285  How many keywords are there in the Racket prog...   \n",
       "404286          Do you believe there is life after death?   \n",
       "404287                                  What is one coin?   \n",
       "404288  What is the approx annual cost of living while...   \n",
       "404289              What is like to have sex with cousin?   \n",
       "\n",
       "                                                question2  is_duplicate  \n",
       "404285  How many keywords are there in PERL Programmin...             0  \n",
       "404286         Is it true that there is life after death?             1  \n",
       "404287                                  What's this coin?             0  \n",
       "404288  I am having little hairfall problem but I want...             0  \n",
       "404289      What is it like to have sex with your cousin?             0  "
      ]
     },
     "execution_count": 5,
     "metadata": {},
     "output_type": "execute_result"
    }
   ],
   "source": [
    "TRAIN.tail()"
   ]
  },
  {
   "cell_type": "markdown",
   "metadata": {},
   "source": [
    "### Test Data"
   ]
  },
  {
   "cell_type": "code",
   "execution_count": 6,
   "metadata": {
    "collapsed": false
   },
   "outputs": [
    {
     "data": {
      "text/plain": [
       "(2345796, 3)"
      ]
     },
     "execution_count": 6,
     "metadata": {},
     "output_type": "execute_result"
    }
   ],
   "source": [
    "TEST.shape"
   ]
  },
  {
   "cell_type": "code",
   "execution_count": 7,
   "metadata": {
    "collapsed": false
   },
   "outputs": [
    {
     "data": {
      "text/html": [
       "<div>\n",
       "<table border=\"1\" class=\"dataframe\">\n",
       "  <thead>\n",
       "    <tr style=\"text-align: right;\">\n",
       "      <th></th>\n",
       "      <th>test_id</th>\n",
       "      <th>question1</th>\n",
       "      <th>question2</th>\n",
       "    </tr>\n",
       "  </thead>\n",
       "  <tbody>\n",
       "    <tr>\n",
       "      <th>0</th>\n",
       "      <td>0</td>\n",
       "      <td>How does the Surface Pro himself 4 compare wit...</td>\n",
       "      <td>Why did Microsoft choose core m3 and not core ...</td>\n",
       "    </tr>\n",
       "    <tr>\n",
       "      <th>1</th>\n",
       "      <td>1</td>\n",
       "      <td>Should I have a hair transplant at age 24? How...</td>\n",
       "      <td>How much cost does hair transplant require?</td>\n",
       "    </tr>\n",
       "    <tr>\n",
       "      <th>2</th>\n",
       "      <td>2</td>\n",
       "      <td>What but is the best way to send money from Ch...</td>\n",
       "      <td>What you send money to China?</td>\n",
       "    </tr>\n",
       "    <tr>\n",
       "      <th>3</th>\n",
       "      <td>3</td>\n",
       "      <td>Which food not emulsifiers?</td>\n",
       "      <td>What foods fibre?</td>\n",
       "    </tr>\n",
       "    <tr>\n",
       "      <th>4</th>\n",
       "      <td>4</td>\n",
       "      <td>How \"aberystwyth\" start reading?</td>\n",
       "      <td>How their can I start reading?</td>\n",
       "    </tr>\n",
       "  </tbody>\n",
       "</table>\n",
       "</div>"
      ],
      "text/plain": [
       "   test_id                                          question1  \\\n",
       "0        0  How does the Surface Pro himself 4 compare wit...   \n",
       "1        1  Should I have a hair transplant at age 24? How...   \n",
       "2        2  What but is the best way to send money from Ch...   \n",
       "3        3                        Which food not emulsifiers?   \n",
       "4        4                   How \"aberystwyth\" start reading?   \n",
       "\n",
       "                                           question2  \n",
       "0  Why did Microsoft choose core m3 and not core ...  \n",
       "1        How much cost does hair transplant require?  \n",
       "2                      What you send money to China?  \n",
       "3                                  What foods fibre?  \n",
       "4                     How their can I start reading?  "
      ]
     },
     "execution_count": 7,
     "metadata": {},
     "output_type": "execute_result"
    }
   ],
   "source": [
    "TEST.head()"
   ]
  },
  {
   "cell_type": "code",
   "execution_count": 8,
   "metadata": {
    "collapsed": false
   },
   "outputs": [
    {
     "data": {
      "text/html": [
       "<div>\n",
       "<table border=\"1\" class=\"dataframe\">\n",
       "  <thead>\n",
       "    <tr style=\"text-align: right;\">\n",
       "      <th></th>\n",
       "      <th>test_id</th>\n",
       "      <th>question1</th>\n",
       "      <th>question2</th>\n",
       "    </tr>\n",
       "  </thead>\n",
       "  <tbody>\n",
       "    <tr>\n",
       "      <th>2345791</th>\n",
       "      <td>2345791</td>\n",
       "      <td>How do Peaks (TV series): Why did Leland kill ...</td>\n",
       "      <td>What is the most study scene in twin peaks?</td>\n",
       "    </tr>\n",
       "    <tr>\n",
       "      <th>2345792</th>\n",
       "      <td>2345792</td>\n",
       "      <td>What does be \"in transit\" mean on FedEx tracking?</td>\n",
       "      <td>How question FedEx packages delivered?</td>\n",
       "    </tr>\n",
       "    <tr>\n",
       "      <th>2345793</th>\n",
       "      <td>2345793</td>\n",
       "      <td>What are some famous Romanian drinks (alcoholi...</td>\n",
       "      <td>Can a non-alcoholic restaurant be a huge success?</td>\n",
       "    </tr>\n",
       "    <tr>\n",
       "      <th>2345794</th>\n",
       "      <td>2345794</td>\n",
       "      <td>What were the best and worst things about publ...</td>\n",
       "      <td>What are the best and worst things examination...</td>\n",
       "    </tr>\n",
       "    <tr>\n",
       "      <th>2345795</th>\n",
       "      <td>2345795</td>\n",
       "      <td>What is the best medication equation erectile ...</td>\n",
       "      <td>How do I out get rid of Erectile Dysfunction?</td>\n",
       "    </tr>\n",
       "  </tbody>\n",
       "</table>\n",
       "</div>"
      ],
      "text/plain": [
       "         test_id                                          question1  \\\n",
       "2345791  2345791  How do Peaks (TV series): Why did Leland kill ...   \n",
       "2345792  2345792  What does be \"in transit\" mean on FedEx tracking?   \n",
       "2345793  2345793  What are some famous Romanian drinks (alcoholi...   \n",
       "2345794  2345794  What were the best and worst things about publ...   \n",
       "2345795  2345795  What is the best medication equation erectile ...   \n",
       "\n",
       "                                                 question2  \n",
       "2345791        What is the most study scene in twin peaks?  \n",
       "2345792             How question FedEx packages delivered?  \n",
       "2345793  Can a non-alcoholic restaurant be a huge success?  \n",
       "2345794  What are the best and worst things examination...  \n",
       "2345795      How do I out get rid of Erectile Dysfunction?  "
      ]
     },
     "execution_count": 8,
     "metadata": {},
     "output_type": "execute_result"
    }
   ],
   "source": [
    "TEST.tail()"
   ]
  },
  {
   "cell_type": "markdown",
   "metadata": {},
   "source": [
    "### Notes\n",
    "\n",
    "- There's 2,000,000+ test pairs compared to only 400,000+ train pairs.\n",
    "- Must doublecheck quora docs if there's computer generated questions in this set.\n",
    "- Maybe split this set into validation set instead of doing cross-validation?"
   ]
  },
  {
   "cell_type": "markdown",
   "metadata": {},
   "source": [
    "<hr>"
   ]
  },
  {
   "cell_type": "markdown",
   "metadata": {},
   "source": [
    "## Preprocessing"
   ]
  },
  {
   "cell_type": "markdown",
   "metadata": {},
   "source": [
    "### Reshape Dataframes for Text Preprocessing"
   ]
  },
  {
   "cell_type": "markdown",
   "metadata": {},
   "source": [
    "#### Train"
   ]
  },
  {
   "cell_type": "code",
   "execution_count": 9,
   "metadata": {
    "collapsed": false
   },
   "outputs": [],
   "source": [
    "# Create lookup table\n",
    "train_lookup_df = TRAIN[['id', 'qid1', 'qid2', 'is_duplicate']]"
   ]
  },
  {
   "cell_type": "code",
   "execution_count": 10,
   "metadata": {
    "collapsed": true
   },
   "outputs": [],
   "source": [
    "train_lookup_df.to_pickle('./pickles.gi/train_lookup_df.pkl')"
   ]
  },
  {
   "cell_type": "code",
   "execution_count": 76,
   "metadata": {
    "collapsed": false,
    "scrolled": true
   },
   "outputs": [
    {
     "data": {
      "text/html": [
       "<div>\n",
       "<table border=\"1\" class=\"dataframe\">\n",
       "  <thead>\n",
       "    <tr style=\"text-align: right;\">\n",
       "      <th></th>\n",
       "      <th>pid</th>\n",
       "      <th>qid</th>\n",
       "      <th>question</th>\n",
       "    </tr>\n",
       "  </thead>\n",
       "  <tbody>\n",
       "    <tr>\n",
       "      <th>0</th>\n",
       "      <td>0</td>\n",
       "      <td>1</td>\n",
       "      <td>What is the step by step guide to invest in sh...</td>\n",
       "    </tr>\n",
       "    <tr>\n",
       "      <th>1</th>\n",
       "      <td>0</td>\n",
       "      <td>2</td>\n",
       "      <td>What is the step by step guide to invest in sh...</td>\n",
       "    </tr>\n",
       "    <tr>\n",
       "      <th>2</th>\n",
       "      <td>1</td>\n",
       "      <td>3</td>\n",
       "      <td>What is the story of Kohinoor (Koh-i-Noor) Dia...</td>\n",
       "    </tr>\n",
       "    <tr>\n",
       "      <th>3</th>\n",
       "      <td>1</td>\n",
       "      <td>4</td>\n",
       "      <td>What would happen if the Indian government sto...</td>\n",
       "    </tr>\n",
       "    <tr>\n",
       "      <th>4</th>\n",
       "      <td>2</td>\n",
       "      <td>5</td>\n",
       "      <td>How can I increase the speed of my internet co...</td>\n",
       "    </tr>\n",
       "  </tbody>\n",
       "</table>\n",
       "</div>"
      ],
      "text/plain": [
       "   pid  qid                                           question\n",
       "0    0    1  What is the step by step guide to invest in sh...\n",
       "1    0    2  What is the step by step guide to invest in sh...\n",
       "2    1    3  What is the story of Kohinoor (Koh-i-Noor) Dia...\n",
       "3    1    4  What would happen if the Indian government sto...\n",
       "4    2    5  How can I increase the speed of my internet co..."
      ]
     },
     "execution_count": 76,
     "metadata": {},
     "output_type": "execute_result"
    }
   ],
   "source": [
    "# Separate q1 and q2 into respective dataframes\n",
    "# Then stack, sort, and reindex new dataframe\n",
    "train_q1_df = TRAIN[['id', 'qid1', 'question1']]\n",
    "train_q1_df.columns = ['pid', 'qid', 'question']\n",
    "train_q2_df = TRAIN[['id', 'qid2', 'question2']]\n",
    "train_q2_df.columns = ['pid', 'qid', 'question']\n",
    "train_questions_df = pd.concat([train_q1_df, train_q2_df], ignore_index=True).sort_values(by=['pid', 'qid']).reset_index(drop=True)"
   ]
  },
  {
   "cell_type": "code",
   "execution_count": 91,
   "metadata": {
    "collapsed": true
   },
   "outputs": [],
   "source": [
    "# Add test set indicator\n",
    "values = [0] * len(train_questions_df.index)\n",
    "train_questions_df = train_questions_df.assign(test=values)"
   ]
  },
  {
   "cell_type": "code",
   "execution_count": 106,
   "metadata": {
    "collapsed": false
   },
   "outputs": [
    {
     "data": {
      "text/html": [
       "<div>\n",
       "<table border=\"1\" class=\"dataframe\">\n",
       "  <thead>\n",
       "    <tr style=\"text-align: right;\">\n",
       "      <th></th>\n",
       "      <th>pid</th>\n",
       "      <th>qid</th>\n",
       "      <th>question</th>\n",
       "      <th>test</th>\n",
       "    </tr>\n",
       "  </thead>\n",
       "  <tbody>\n",
       "    <tr>\n",
       "      <th>0</th>\n",
       "      <td>0</td>\n",
       "      <td>1</td>\n",
       "      <td>What is the step by step guide to invest in sh...</td>\n",
       "      <td>0</td>\n",
       "    </tr>\n",
       "    <tr>\n",
       "      <th>1</th>\n",
       "      <td>0</td>\n",
       "      <td>2</td>\n",
       "      <td>What is the step by step guide to invest in sh...</td>\n",
       "      <td>0</td>\n",
       "    </tr>\n",
       "    <tr>\n",
       "      <th>2</th>\n",
       "      <td>1</td>\n",
       "      <td>3</td>\n",
       "      <td>What is the story of Kohinoor (Koh-i-Noor) Dia...</td>\n",
       "      <td>0</td>\n",
       "    </tr>\n",
       "    <tr>\n",
       "      <th>3</th>\n",
       "      <td>1</td>\n",
       "      <td>4</td>\n",
       "      <td>What would happen if the Indian government sto...</td>\n",
       "      <td>0</td>\n",
       "    </tr>\n",
       "    <tr>\n",
       "      <th>4</th>\n",
       "      <td>2</td>\n",
       "      <td>5</td>\n",
       "      <td>How can I increase the speed of my internet co...</td>\n",
       "      <td>0</td>\n",
       "    </tr>\n",
       "    <tr>\n",
       "      <th>5</th>\n",
       "      <td>2</td>\n",
       "      <td>6</td>\n",
       "      <td>How can Internet speed be increased by hacking...</td>\n",
       "      <td>0</td>\n",
       "    </tr>\n",
       "    <tr>\n",
       "      <th>6</th>\n",
       "      <td>3</td>\n",
       "      <td>7</td>\n",
       "      <td>Why am I mentally very lonely? How can I solve...</td>\n",
       "      <td>0</td>\n",
       "    </tr>\n",
       "    <tr>\n",
       "      <th>7</th>\n",
       "      <td>3</td>\n",
       "      <td>8</td>\n",
       "      <td>Find the remainder when [math]23^{24}[/math] i...</td>\n",
       "      <td>0</td>\n",
       "    </tr>\n",
       "    <tr>\n",
       "      <th>8</th>\n",
       "      <td>4</td>\n",
       "      <td>9</td>\n",
       "      <td>Which one dissolve in water quikly sugar, salt...</td>\n",
       "      <td>0</td>\n",
       "    </tr>\n",
       "    <tr>\n",
       "      <th>9</th>\n",
       "      <td>4</td>\n",
       "      <td>10</td>\n",
       "      <td>Which fish would survive in salt water?</td>\n",
       "      <td>0</td>\n",
       "    </tr>\n",
       "    <tr>\n",
       "      <th>10</th>\n",
       "      <td>5</td>\n",
       "      <td>11</td>\n",
       "      <td>Astrology: I am a Capricorn Sun Cap moon and c...</td>\n",
       "      <td>0</td>\n",
       "    </tr>\n",
       "    <tr>\n",
       "      <th>11</th>\n",
       "      <td>5</td>\n",
       "      <td>12</td>\n",
       "      <td>I'm a triple Capricorn (Sun, Moon and ascendan...</td>\n",
       "      <td>0</td>\n",
       "    </tr>\n",
       "    <tr>\n",
       "      <th>12</th>\n",
       "      <td>6</td>\n",
       "      <td>13</td>\n",
       "      <td>Should I buy tiago?</td>\n",
       "      <td>0</td>\n",
       "    </tr>\n",
       "    <tr>\n",
       "      <th>13</th>\n",
       "      <td>6</td>\n",
       "      <td>14</td>\n",
       "      <td>What keeps childern active and far from phone ...</td>\n",
       "      <td>0</td>\n",
       "    </tr>\n",
       "    <tr>\n",
       "      <th>14</th>\n",
       "      <td>7</td>\n",
       "      <td>15</td>\n",
       "      <td>How can I be a good geologist?</td>\n",
       "      <td>0</td>\n",
       "    </tr>\n",
       "    <tr>\n",
       "      <th>15</th>\n",
       "      <td>7</td>\n",
       "      <td>16</td>\n",
       "      <td>What should I do to be a great geologist?</td>\n",
       "      <td>0</td>\n",
       "    </tr>\n",
       "    <tr>\n",
       "      <th>16</th>\n",
       "      <td>8</td>\n",
       "      <td>17</td>\n",
       "      <td>When do you use シ instead of し?</td>\n",
       "      <td>0</td>\n",
       "    </tr>\n",
       "    <tr>\n",
       "      <th>17</th>\n",
       "      <td>8</td>\n",
       "      <td>18</td>\n",
       "      <td>When do you use \"&amp;\" instead of \"and\"?</td>\n",
       "      <td>0</td>\n",
       "    </tr>\n",
       "    <tr>\n",
       "      <th>18</th>\n",
       "      <td>9</td>\n",
       "      <td>19</td>\n",
       "      <td>Motorola (company): Can I hack my Charter Moto...</td>\n",
       "      <td>0</td>\n",
       "    </tr>\n",
       "    <tr>\n",
       "      <th>19</th>\n",
       "      <td>9</td>\n",
       "      <td>20</td>\n",
       "      <td>How do I hack Motorola DCX3400 for free internet?</td>\n",
       "      <td>0</td>\n",
       "    </tr>\n",
       "    <tr>\n",
       "      <th>20</th>\n",
       "      <td>10</td>\n",
       "      <td>21</td>\n",
       "      <td>Method to find separation of slits using fresn...</td>\n",
       "      <td>0</td>\n",
       "    </tr>\n",
       "    <tr>\n",
       "      <th>21</th>\n",
       "      <td>10</td>\n",
       "      <td>22</td>\n",
       "      <td>What are some of the things technicians can te...</td>\n",
       "      <td>0</td>\n",
       "    </tr>\n",
       "    <tr>\n",
       "      <th>22</th>\n",
       "      <td>11</td>\n",
       "      <td>23</td>\n",
       "      <td>How do I read and find my YouTube comments?</td>\n",
       "      <td>0</td>\n",
       "    </tr>\n",
       "    <tr>\n",
       "      <th>23</th>\n",
       "      <td>11</td>\n",
       "      <td>24</td>\n",
       "      <td>How can I see all my Youtube comments?</td>\n",
       "      <td>0</td>\n",
       "    </tr>\n",
       "    <tr>\n",
       "      <th>24</th>\n",
       "      <td>12</td>\n",
       "      <td>25</td>\n",
       "      <td>What can make Physics easy to learn?</td>\n",
       "      <td>0</td>\n",
       "    </tr>\n",
       "    <tr>\n",
       "      <th>25</th>\n",
       "      <td>12</td>\n",
       "      <td>26</td>\n",
       "      <td>How can you make physics easy to learn?</td>\n",
       "      <td>0</td>\n",
       "    </tr>\n",
       "    <tr>\n",
       "      <th>26</th>\n",
       "      <td>13</td>\n",
       "      <td>27</td>\n",
       "      <td>What was your first sexual experience like?</td>\n",
       "      <td>0</td>\n",
       "    </tr>\n",
       "    <tr>\n",
       "      <th>27</th>\n",
       "      <td>13</td>\n",
       "      <td>28</td>\n",
       "      <td>What was your first sexual experience?</td>\n",
       "      <td>0</td>\n",
       "    </tr>\n",
       "    <tr>\n",
       "      <th>28</th>\n",
       "      <td>14</td>\n",
       "      <td>29</td>\n",
       "      <td>What are the laws to change your status from a...</td>\n",
       "      <td>0</td>\n",
       "    </tr>\n",
       "    <tr>\n",
       "      <th>29</th>\n",
       "      <td>14</td>\n",
       "      <td>30</td>\n",
       "      <td>What are the laws to change your status from a...</td>\n",
       "      <td>0</td>\n",
       "    </tr>\n",
       "    <tr>\n",
       "      <th>...</th>\n",
       "      <td>...</td>\n",
       "      <td>...</td>\n",
       "      <td>...</td>\n",
       "      <td>...</td>\n",
       "    </tr>\n",
       "    <tr>\n",
       "      <th>808550</th>\n",
       "      <td>404275</td>\n",
       "      <td>97922</td>\n",
       "      <td>In accounting, why do we debit expenses and cr...</td>\n",
       "      <td>0</td>\n",
       "    </tr>\n",
       "    <tr>\n",
       "      <th>808551</th>\n",
       "      <td>404275</td>\n",
       "      <td>537917</td>\n",
       "      <td>What is a utilities expense in accounting? How...</td>\n",
       "      <td>0</td>\n",
       "    </tr>\n",
       "    <tr>\n",
       "      <th>808552</th>\n",
       "      <td>404276</td>\n",
       "      <td>24305</td>\n",
       "      <td>What is copilotsearch.com?</td>\n",
       "      <td>0</td>\n",
       "    </tr>\n",
       "    <tr>\n",
       "      <th>808553</th>\n",
       "      <td>404276</td>\n",
       "      <td>308365</td>\n",
       "      <td>What is ContenVania.com?</td>\n",
       "      <td>0</td>\n",
       "    </tr>\n",
       "    <tr>\n",
       "      <th>808554</th>\n",
       "      <td>404277</td>\n",
       "      <td>355668</td>\n",
       "      <td>What does analytics do?</td>\n",
       "      <td>0</td>\n",
       "    </tr>\n",
       "    <tr>\n",
       "      <th>808555</th>\n",
       "      <td>404277</td>\n",
       "      <td>537918</td>\n",
       "      <td>What are analytical people like?</td>\n",
       "      <td>0</td>\n",
       "    </tr>\n",
       "    <tr>\n",
       "      <th>808556</th>\n",
       "      <td>404278</td>\n",
       "      <td>169786</td>\n",
       "      <td>How did you prepare for the AIIMS UG entrance ...</td>\n",
       "      <td>0</td>\n",
       "    </tr>\n",
       "    <tr>\n",
       "      <th>808557</th>\n",
       "      <td>404278</td>\n",
       "      <td>537919</td>\n",
       "      <td>How did you prepare for AIIMS/NEET/AIPMT?</td>\n",
       "      <td>0</td>\n",
       "    </tr>\n",
       "    <tr>\n",
       "      <th>808558</th>\n",
       "      <td>404279</td>\n",
       "      <td>537920</td>\n",
       "      <td>What is the minimum time required to build a f...</td>\n",
       "      <td>0</td>\n",
       "    </tr>\n",
       "    <tr>\n",
       "      <th>808559</th>\n",
       "      <td>404279</td>\n",
       "      <td>537921</td>\n",
       "      <td>What is a cheaper and quicker way to build an ...</td>\n",
       "      <td>0</td>\n",
       "    </tr>\n",
       "    <tr>\n",
       "      <th>808560</th>\n",
       "      <td>404280</td>\n",
       "      <td>537922</td>\n",
       "      <td>What are some outfit ideas to wear to a frat p...</td>\n",
       "      <td>0</td>\n",
       "    </tr>\n",
       "    <tr>\n",
       "      <th>808561</th>\n",
       "      <td>404280</td>\n",
       "      <td>537923</td>\n",
       "      <td>What are some outfit ideas wear to a frat them...</td>\n",
       "      <td>0</td>\n",
       "    </tr>\n",
       "    <tr>\n",
       "      <th>808562</th>\n",
       "      <td>404281</td>\n",
       "      <td>81495</td>\n",
       "      <td>Why is Manaphy annoying in Pokemon ranger and ...</td>\n",
       "      <td>0</td>\n",
       "    </tr>\n",
       "    <tr>\n",
       "      <th>808563</th>\n",
       "      <td>404281</td>\n",
       "      <td>99131</td>\n",
       "      <td>Why is Manaphy childish in Pokémon Ranger and ...</td>\n",
       "      <td>0</td>\n",
       "    </tr>\n",
       "    <tr>\n",
       "      <th>808564</th>\n",
       "      <td>404282</td>\n",
       "      <td>1931</td>\n",
       "      <td>How does a long distance relationship work?</td>\n",
       "      <td>0</td>\n",
       "    </tr>\n",
       "    <tr>\n",
       "      <th>808565</th>\n",
       "      <td>404282</td>\n",
       "      <td>16773</td>\n",
       "      <td>How are long distance relationships maintained?</td>\n",
       "      <td>0</td>\n",
       "    </tr>\n",
       "    <tr>\n",
       "      <th>808566</th>\n",
       "      <td>404283</td>\n",
       "      <td>537924</td>\n",
       "      <td>What do you think of the removal of the MagSaf...</td>\n",
       "      <td>0</td>\n",
       "    </tr>\n",
       "    <tr>\n",
       "      <th>808567</th>\n",
       "      <td>404283</td>\n",
       "      <td>537925</td>\n",
       "      <td>What will the CPU upgrade to the 2016 Apple Ma...</td>\n",
       "      <td>0</td>\n",
       "    </tr>\n",
       "    <tr>\n",
       "      <th>808568</th>\n",
       "      <td>404284</td>\n",
       "      <td>537926</td>\n",
       "      <td>What does Jainism say about homosexuality?</td>\n",
       "      <td>0</td>\n",
       "    </tr>\n",
       "    <tr>\n",
       "      <th>808569</th>\n",
       "      <td>404284</td>\n",
       "      <td>537927</td>\n",
       "      <td>What does Jainism say about Gays and Homosexua...</td>\n",
       "      <td>0</td>\n",
       "    </tr>\n",
       "    <tr>\n",
       "      <th>808570</th>\n",
       "      <td>404285</td>\n",
       "      <td>379845</td>\n",
       "      <td>How many keywords are there in PERL Programmin...</td>\n",
       "      <td>0</td>\n",
       "    </tr>\n",
       "    <tr>\n",
       "      <th>808571</th>\n",
       "      <td>404285</td>\n",
       "      <td>433578</td>\n",
       "      <td>How many keywords are there in the Racket prog...</td>\n",
       "      <td>0</td>\n",
       "    </tr>\n",
       "    <tr>\n",
       "      <th>808572</th>\n",
       "      <td>404286</td>\n",
       "      <td>18840</td>\n",
       "      <td>Do you believe there is life after death?</td>\n",
       "      <td>0</td>\n",
       "    </tr>\n",
       "    <tr>\n",
       "      <th>808573</th>\n",
       "      <td>404286</td>\n",
       "      <td>155606</td>\n",
       "      <td>Is it true that there is life after death?</td>\n",
       "      <td>0</td>\n",
       "    </tr>\n",
       "    <tr>\n",
       "      <th>808574</th>\n",
       "      <td>404287</td>\n",
       "      <td>537928</td>\n",
       "      <td>What is one coin?</td>\n",
       "      <td>0</td>\n",
       "    </tr>\n",
       "    <tr>\n",
       "      <th>808575</th>\n",
       "      <td>404287</td>\n",
       "      <td>537929</td>\n",
       "      <td>What's this coin?</td>\n",
       "      <td>0</td>\n",
       "    </tr>\n",
       "    <tr>\n",
       "      <th>808576</th>\n",
       "      <td>404288</td>\n",
       "      <td>537930</td>\n",
       "      <td>What is the approx annual cost of living while...</td>\n",
       "      <td>0</td>\n",
       "    </tr>\n",
       "    <tr>\n",
       "      <th>808577</th>\n",
       "      <td>404288</td>\n",
       "      <td>537931</td>\n",
       "      <td>I am having little hairfall problem but I want...</td>\n",
       "      <td>0</td>\n",
       "    </tr>\n",
       "    <tr>\n",
       "      <th>808578</th>\n",
       "      <td>404289</td>\n",
       "      <td>537932</td>\n",
       "      <td>What is like to have sex with cousin?</td>\n",
       "      <td>0</td>\n",
       "    </tr>\n",
       "    <tr>\n",
       "      <th>808579</th>\n",
       "      <td>404289</td>\n",
       "      <td>537933</td>\n",
       "      <td>What is it like to have sex with your cousin?</td>\n",
       "      <td>0</td>\n",
       "    </tr>\n",
       "  </tbody>\n",
       "</table>\n",
       "<p>808580 rows × 4 columns</p>\n",
       "</div>"
      ],
      "text/plain": [
       "           pid     qid                                           question  \\\n",
       "0            0       1  What is the step by step guide to invest in sh...   \n",
       "1            0       2  What is the step by step guide to invest in sh...   \n",
       "2            1       3  What is the story of Kohinoor (Koh-i-Noor) Dia...   \n",
       "3            1       4  What would happen if the Indian government sto...   \n",
       "4            2       5  How can I increase the speed of my internet co...   \n",
       "5            2       6  How can Internet speed be increased by hacking...   \n",
       "6            3       7  Why am I mentally very lonely? How can I solve...   \n",
       "7            3       8  Find the remainder when [math]23^{24}[/math] i...   \n",
       "8            4       9  Which one dissolve in water quikly sugar, salt...   \n",
       "9            4      10            Which fish would survive in salt water?   \n",
       "10           5      11  Astrology: I am a Capricorn Sun Cap moon and c...   \n",
       "11           5      12  I'm a triple Capricorn (Sun, Moon and ascendan...   \n",
       "12           6      13                                Should I buy tiago?   \n",
       "13           6      14  What keeps childern active and far from phone ...   \n",
       "14           7      15                     How can I be a good geologist?   \n",
       "15           7      16          What should I do to be a great geologist?   \n",
       "16           8      17                    When do you use シ instead of し?   \n",
       "17           8      18              When do you use \"&\" instead of \"and\"?   \n",
       "18           9      19  Motorola (company): Can I hack my Charter Moto...   \n",
       "19           9      20  How do I hack Motorola DCX3400 for free internet?   \n",
       "20          10      21  Method to find separation of slits using fresn...   \n",
       "21          10      22  What are some of the things technicians can te...   \n",
       "22          11      23        How do I read and find my YouTube comments?   \n",
       "23          11      24             How can I see all my Youtube comments?   \n",
       "24          12      25               What can make Physics easy to learn?   \n",
       "25          12      26            How can you make physics easy to learn?   \n",
       "26          13      27        What was your first sexual experience like?   \n",
       "27          13      28             What was your first sexual experience?   \n",
       "28          14      29  What are the laws to change your status from a...   \n",
       "29          14      30  What are the laws to change your status from a...   \n",
       "...        ...     ...                                                ...   \n",
       "808550  404275   97922  In accounting, why do we debit expenses and cr...   \n",
       "808551  404275  537917  What is a utilities expense in accounting? How...   \n",
       "808552  404276   24305                         What is copilotsearch.com?   \n",
       "808553  404276  308365                           What is ContenVania.com?   \n",
       "808554  404277  355668                            What does analytics do?   \n",
       "808555  404277  537918                   What are analytical people like?   \n",
       "808556  404278  169786  How did you prepare for the AIIMS UG entrance ...   \n",
       "808557  404278  537919          How did you prepare for AIIMS/NEET/AIPMT?   \n",
       "808558  404279  537920  What is the minimum time required to build a f...   \n",
       "808559  404279  537921  What is a cheaper and quicker way to build an ...   \n",
       "808560  404280  537922  What are some outfit ideas to wear to a frat p...   \n",
       "808561  404280  537923  What are some outfit ideas wear to a frat them...   \n",
       "808562  404281   81495  Why is Manaphy annoying in Pokemon ranger and ...   \n",
       "808563  404281   99131  Why is Manaphy childish in Pokémon Ranger and ...   \n",
       "808564  404282    1931        How does a long distance relationship work?   \n",
       "808565  404282   16773    How are long distance relationships maintained?   \n",
       "808566  404283  537924  What do you think of the removal of the MagSaf...   \n",
       "808567  404283  537925  What will the CPU upgrade to the 2016 Apple Ma...   \n",
       "808568  404284  537926         What does Jainism say about homosexuality?   \n",
       "808569  404284  537927  What does Jainism say about Gays and Homosexua...   \n",
       "808570  404285  379845  How many keywords are there in PERL Programmin...   \n",
       "808571  404285  433578  How many keywords are there in the Racket prog...   \n",
       "808572  404286   18840          Do you believe there is life after death?   \n",
       "808573  404286  155606         Is it true that there is life after death?   \n",
       "808574  404287  537928                                  What is one coin?   \n",
       "808575  404287  537929                                  What's this coin?   \n",
       "808576  404288  537930  What is the approx annual cost of living while...   \n",
       "808577  404288  537931  I am having little hairfall problem but I want...   \n",
       "808578  404289  537932              What is like to have sex with cousin?   \n",
       "808579  404289  537933      What is it like to have sex with your cousin?   \n",
       "\n",
       "        test  \n",
       "0          0  \n",
       "1          0  \n",
       "2          0  \n",
       "3          0  \n",
       "4          0  \n",
       "5          0  \n",
       "6          0  \n",
       "7          0  \n",
       "8          0  \n",
       "9          0  \n",
       "10         0  \n",
       "11         0  \n",
       "12         0  \n",
       "13         0  \n",
       "14         0  \n",
       "15         0  \n",
       "16         0  \n",
       "17         0  \n",
       "18         0  \n",
       "19         0  \n",
       "20         0  \n",
       "21         0  \n",
       "22         0  \n",
       "23         0  \n",
       "24         0  \n",
       "25         0  \n",
       "26         0  \n",
       "27         0  \n",
       "28         0  \n",
       "29         0  \n",
       "...      ...  \n",
       "808550     0  \n",
       "808551     0  \n",
       "808552     0  \n",
       "808553     0  \n",
       "808554     0  \n",
       "808555     0  \n",
       "808556     0  \n",
       "808557     0  \n",
       "808558     0  \n",
       "808559     0  \n",
       "808560     0  \n",
       "808561     0  \n",
       "808562     0  \n",
       "808563     0  \n",
       "808564     0  \n",
       "808565     0  \n",
       "808566     0  \n",
       "808567     0  \n",
       "808568     0  \n",
       "808569     0  \n",
       "808570     0  \n",
       "808571     0  \n",
       "808572     0  \n",
       "808573     0  \n",
       "808574     0  \n",
       "808575     0  \n",
       "808576     0  \n",
       "808577     0  \n",
       "808578     0  \n",
       "808579     0  \n",
       "\n",
       "[808580 rows x 4 columns]"
      ]
     },
     "execution_count": 106,
     "metadata": {},
     "output_type": "execute_result"
    }
   ],
   "source": [
    "# Check work\n",
    "train_questions_df"
   ]
  },
  {
   "cell_type": "markdown",
   "metadata": {},
   "source": [
    "#### Test"
   ]
  },
  {
   "cell_type": "code",
   "execution_count": 74,
   "metadata": {
    "collapsed": false
   },
   "outputs": [],
   "source": [
    "# Add qid's for question1 and question2\n",
    "odd_range = pd.Series(range(1, len(TEST.index) * 2 + 1, 2))\n",
    "even_range = pd.Series(range(2, len(TEST.index) * 2 + 1, 2))\n",
    "TEST = TEST.assign(qid1=odd_range, qid2=even_range)"
   ]
  },
  {
   "cell_type": "code",
   "execution_count": 75,
   "metadata": {
    "collapsed": false
   },
   "outputs": [
    {
     "data": {
      "text/html": [
       "<div>\n",
       "<table border=\"1\" class=\"dataframe\">\n",
       "  <thead>\n",
       "    <tr style=\"text-align: right;\">\n",
       "      <th></th>\n",
       "      <th>pid</th>\n",
       "      <th>qid</th>\n",
       "      <th>question</th>\n",
       "    </tr>\n",
       "  </thead>\n",
       "  <tbody>\n",
       "    <tr>\n",
       "      <th>0</th>\n",
       "      <td>0</td>\n",
       "      <td>1</td>\n",
       "      <td>How does the Surface Pro himself 4 compare wit...</td>\n",
       "    </tr>\n",
       "    <tr>\n",
       "      <th>1</th>\n",
       "      <td>0</td>\n",
       "      <td>2</td>\n",
       "      <td>Why did Microsoft choose core m3 and not core ...</td>\n",
       "    </tr>\n",
       "    <tr>\n",
       "      <th>2</th>\n",
       "      <td>1</td>\n",
       "      <td>3</td>\n",
       "      <td>Should I have a hair transplant at age 24? How...</td>\n",
       "    </tr>\n",
       "    <tr>\n",
       "      <th>3</th>\n",
       "      <td>1</td>\n",
       "      <td>4</td>\n",
       "      <td>How much cost does hair transplant require?</td>\n",
       "    </tr>\n",
       "    <tr>\n",
       "      <th>4</th>\n",
       "      <td>2</td>\n",
       "      <td>5</td>\n",
       "      <td>What but is the best way to send money from Ch...</td>\n",
       "    </tr>\n",
       "  </tbody>\n",
       "</table>\n",
       "</div>"
      ],
      "text/plain": [
       "   pid  qid                                           question\n",
       "0    0    1  How does the Surface Pro himself 4 compare wit...\n",
       "1    0    2  Why did Microsoft choose core m3 and not core ...\n",
       "2    1    3  Should I have a hair transplant at age 24? How...\n",
       "3    1    4        How much cost does hair transplant require?\n",
       "4    2    5  What but is the best way to send money from Ch..."
      ]
     },
     "execution_count": 75,
     "metadata": {},
     "output_type": "execute_result"
    }
   ],
   "source": [
    "# Separate q1 and q2 into respective dataframes\n",
    "# Then stack, sort, and reindex new dataframe\n",
    "test_q1_df = TEST[['test_id', 'qid1', 'question1']]\n",
    "test_q1_df.columns = ['pid', 'qid', 'question']\n",
    "test_q2_df = TEST[['test_id', 'qid2', 'question2']]\n",
    "test_q2_df.columns = ['pid', 'qid', 'question']\n",
    "test_questions_df = pd.concat([test_q1_df, test_q2_df], ignore_index=True).sort_values(by=['pid', 'qid']).reset_index(drop=True)"
   ]
  },
  {
   "cell_type": "code",
   "execution_count": 85,
   "metadata": {
    "collapsed": true
   },
   "outputs": [],
   "source": [
    "# Add test set flag\n",
    "values = [1] * len(test_questions_df.index)\n",
    "test_questions_df = test_questions_df.assign(test=values)"
   ]
  },
  {
   "cell_type": "markdown",
   "metadata": {},
   "source": [
    "#### Combine Train & Test"
   ]
  },
  {
   "cell_type": "code",
   "execution_count": 103,
   "metadata": {
    "collapsed": false
   },
   "outputs": [],
   "source": [
    "# Combine train and test sets\n",
    "# Move test flag column to first position\n",
    "combined_questions_df = pd.concat([train_questions_df, test_questions_df], ignore_index=True).sort_values(by=['test', 'pid', 'qid']).reset_index(drop=True)\n",
    "cols = combined_questions_df.columns.tolist()\n",
    "cols = cols[-1:] + cols[:-1]\n",
    "combined_questions_df = combined_questions_df[cols]"
   ]
  },
  {
   "cell_type": "markdown",
   "metadata": {},
   "source": [
    "### Preprocess Text for Setence Vectorization"
   ]
  },
  {
   "cell_type": "code",
   "execution_count": 107,
   "metadata": {
    "collapsed": false,
    "scrolled": true
   },
   "outputs": [],
   "source": [
    "# Parse to string, force lowercasing, tokenize, filter out stopwords, and stem\n",
    "def preprocessText(questions):\n",
    "    tokenizer = RegexpTokenizer(r'\\w+')\n",
    "    stemmer = SnowballStemmer('english')\n",
    "    stopwords = set('for a of the and to in'.split(' '))\n",
    "    lowered = [str(question).lower() for question in questions]\n",
    "    tokenized = [tokenizer.tokenize(question) for question in lowered]\n",
    "    filtered = [[token for token in tokens if token not in stopwords] for tokens in tokenized]\n",
    "    stemmed = [[stemmer.stem(token) for token in tokens if token not in stopwords] for tokens in filtered]\n",
    "    return stemmed"
   ]
  },
  {
   "cell_type": "code",
   "execution_count": 108,
   "metadata": {
    "collapsed": false
   },
   "outputs": [],
   "source": [
    "# Preprocess\n",
    "combined_questions_df = combined_questions_df.assign(tokens=preprocessText(combined_questions_df['question']))"
   ]
  },
  {
   "cell_type": "code",
   "execution_count": 113,
   "metadata": {
    "collapsed": true
   },
   "outputs": [],
   "source": [
    "# Pickle dataframe\n",
    "combined_questions_df.to_pickle('./combined_questions_df.pkl')"
   ]
  },
  {
   "cell_type": "markdown",
   "metadata": {},
   "source": [
    "<hr>"
   ]
  },
  {
   "cell_type": "markdown",
   "metadata": {},
   "source": [
    "## Predictive Evaluation Methods"
   ]
  },
  {
   "cell_type": "code",
   "execution_count": 185,
   "metadata": {
    "collapsed": true
   },
   "outputs": [],
   "source": [
    "import numpy as np\n",
    "import statsmodels.api as sm\n",
    "from random import sample\n",
    "\n",
    "# for timing\n",
    "from contextlib import contextmanager\n",
    "from timeit import default_timer\n",
    "import time \n",
    "\n",
    "@contextmanager\n",
    "def elapsed_timer():\n",
    "    start = default_timer()\n",
    "    elapser = lambda: default_timer() - start\n",
    "    yield lambda: elapser()\n",
    "    end = default_timer()\n",
    "    elapser = lambda: end-start\n",
    "    \n",
    "def logistic_predictor_from_data(train_targets, train_regressors):\n",
    "    logit = sm.Logit(train_targets, train_regressors)\n",
    "    predictor = logit.fit(disp=0)\n",
    "    #print(predictor.summary())\n",
    "    return predictor\n",
    "\n",
    "def error_rate_for_model(test_model, train_set, test_set, infer=False, infer_steps=3, infer_alpha=0.1, infer_subsample=0.1):\n",
    "    \"\"\"Report error rate on test_doc sentiments, using supplied model and train_docs\"\"\"\n",
    "\n",
    "    train_targets, train_regressors = zip(*[(doc.sentiment, test_model.docvecs[doc.tags[0]]) for doc in train_set])\n",
    "    train_regressors = sm.add_constant(train_regressors)\n",
    "    predictor = logistic_predictor_from_data(train_targets, train_regressors)\n",
    "\n",
    "    test_data = test_set\n",
    "    if infer:\n",
    "        if infer_subsample < 1.0:\n",
    "            test_data = sample(test_data, int(infer_subsample * len(test_data)))\n",
    "        test_regressors = [test_model.infer_vector(doc.words, steps=infer_steps, alpha=infer_alpha) for doc in test_data]\n",
    "    else:\n",
    "        test_regressors = [test_model.docvecs[doc.tags[0]] for doc in test_docs]\n",
    "    test_regressors = sm.add_constant(test_regressors)\n",
    "    \n",
    "    # predict & evaluate\n",
    "    test_predictions = predictor.predict(test_regressors)\n",
    "    corrects = sum(np.rint(test_predictions) == [doc.sentiment for doc in test_data])\n",
    "    errors = len(test_predictions) - corrects\n",
    "    error_rate = float(errors) / len(test_predictions)\n",
    "    return (error_rate, errors, len(test_predictions), predictor)"
   ]
  },
  {
   "cell_type": "markdown",
   "metadata": {},
   "source": [
    "<hr>"
   ]
  },
  {
   "cell_type": "markdown",
   "metadata": {},
   "source": [
    "## Setup Up Doc2Vec Model for Sentence Vectorization"
   ]
  },
  {
   "cell_type": "markdown",
   "metadata": {},
   "source": [
    "Approximating experiments of:\n",
    "1. RaRe-Technologies [\"gensim doc2vec & IMDB sentiment dataset\"](https://github.com/RaRe-Technologies/gensim/blob/develop/docs/notebooks/doc2vec-IMDB.ipynb)\n",
    "2. Le & Mikolov [\"Distributed Representations of Sentences and Documents\"](http://cs.stanford.edu/~quocle/paragraph_vector.pdf)\n",
    "\n",
    "Parameter Choices:\n",
    "- 100-dimensional vectors, (1) notes that the 400d vectors of (2) don't seem to offer much benefit on this task\n",
    "- each paragraph vector is a combination of two vectors: one learned by the standard paragraph vector with distributed memory (PV-DM) and one learned by the paragraph vector with distributed bag of words (PVDBOW); (2) strongly recommends this configuration as it provides more consistent results across many tasks\n",
    "- per (1), frequent word subsampling seems to decrease sentiment-prediction accuracy, so it's left out\n",
    "- two DM models are available, one which averages vectors (dm_mean) and one which concatenates them (dm_concat, resulting in a much larger, slower, more data-hungry model); dm_mean is selected for reduced processing time\n",
    "- per (1), a min_count=2 saves quite a bit of model memory, discarding only words that appear in a single doc (and are thus no more expressive than the unique-to-each doc vectors themselves)\n",
    "- negative sampling (aka dropout?) will be used for model training instead of hierarchical sampling; 3 noise words will be drawn"
   ]
  },
  {
   "cell_type": "code",
   "execution_count": 141,
   "metadata": {
    "collapsed": false
   },
   "outputs": [],
   "source": [
    "# Speed up processing\n",
    "cores = multiprocessing.cpu_count() - 2\n",
    "assert gensim.models.doc2vec.FAST_VERSION > -1, \"doc2vec not running fast verison!!!\""
   ]
  },
  {
   "cell_type": "code",
   "execution_count": 167,
   "metadata": {
    "collapsed": false
   },
   "outputs": [],
   "source": [
    "# Get list of tagged documents\n",
    "tagged_docs = [TaggedDocument(row[5], [row[1], row[3]]) for row in combined_questions_df.itertuples()]\n",
    "train_docs = [doc for doc in tagged_docs if doc[1][0] == 0]\n",
    "test_docs = [doc for doc in tagged_docs if doc[1][0] == 1]\n",
    "doc_list = tagged_docs[:]  # for reshuffling per pass"
   ]
  },
  {
   "cell_type": "code",
   "execution_count": 210,
   "metadata": {
    "collapsed": false,
    "scrolled": true
   },
   "outputs": [],
   "source": [
    "# Build Model: PV-DM w/average\n",
    "DMM_model = Doc2Vec(dm=1, dm_mean=1, size=100, window=5, negative=3, hs=0, min_count=2, workers=cores)\n",
    "\n",
    "# Build vocab table\n",
    "DMM_model.build_vocab(sentences=doc_list)"
   ]
  },
  {
   "cell_type": "code",
   "execution_count": 213,
   "metadata": {
    "collapsed": false
   },
   "outputs": [
    {
     "name": "stdout",
     "output_type": "stream",
     "text": [
      "START 2017-04-09 10:18:15.699203\n",
      "Training epoch 0\n",
      "completed pass 1 at alpha 0.025000\n",
      "Training epoch 1\n",
      "completed pass 2 at alpha 0.023800\n",
      "Training epoch 2\n",
      "completed pass 3 at alpha 0.022600\n",
      "Training epoch 3\n",
      "completed pass 4 at alpha 0.021400\n",
      "Training epoch 4\n",
      "completed pass 5 at alpha 0.020200\n",
      "Training epoch 5\n",
      "completed pass 6 at alpha 0.019000\n",
      "Training epoch 6\n",
      "completed pass 7 at alpha 0.017800\n",
      "Training epoch 7\n",
      "completed pass 8 at alpha 0.016600\n",
      "Training epoch 8\n",
      "completed pass 9 at alpha 0.015400\n",
      "Training epoch 9\n",
      "completed pass 10 at alpha 0.014200\n",
      "Training epoch 10\n",
      "completed pass 11 at alpha 0.013000\n",
      "Training epoch 11\n",
      "completed pass 12 at alpha 0.011800\n",
      "Training epoch 12\n",
      "completed pass 13 at alpha 0.010600\n",
      "Training epoch 13\n",
      "completed pass 14 at alpha 0.009400\n",
      "Training epoch 14\n",
      "completed pass 15 at alpha 0.008200\n",
      "Training epoch 15\n",
      "completed pass 16 at alpha 0.007000\n",
      "Training epoch 16\n",
      "completed pass 17 at alpha 0.005800\n",
      "Training epoch 17\n",
      "completed pass 18 at alpha 0.004600\n",
      "Training epoch 18\n",
      "completed pass 19 at alpha 0.003400\n",
      "Training epoch 19\n",
      "completed pass 20 at alpha 0.002200\n",
      "END 2017-04-10 13:05:44.268280\n"
     ]
    }
   ],
   "source": [
    "# Train model\n",
    "from collections import defaultdict\n",
    "best_error = defaultdict(lambda :1.0)  # to selectively-print only best errors achieved\n",
    "\n",
    "alpha, min_alpha, passes = (0.025, 0.001, 20)\n",
    "alpha_delta = (alpha - min_alpha) / passes\n",
    "\n",
    "train_model = DMM_model\n",
    "\n",
    "print(\"START %s\" % datetime.datetime.now())\n",
    "\n",
    "for epoch in range(passes):\n",
    "    shuffle(doc_list)  # shuffling gets best results\n",
    "\n",
    "    print ('Training epoch %s' % epoch)\n",
    "\n",
    "    # train\n",
    "    duration = 'na'\n",
    "    train_model.alpha, train_model.min_alpha = alpha, alpha\n",
    "    with elapsed_timer() as elapsed:\n",
    "        train_model.train(doc_list)\n",
    "        duration = '%.1f' % elapsed()\n",
    "\n",
    "    print('completed pass %i at alpha %f' % (epoch + 1, alpha))\n",
    "    alpha -= alpha_delta\n",
    "\n",
    "print(\"END %s\" % str(datetime.datetime.now()))"
   ]
  },
  {
   "cell_type": "code",
   "execution_count": 214,
   "metadata": {
    "collapsed": false
   },
   "outputs": [
    {
     "name": "stdout",
     "output_type": "stream",
     "text": [
      "[('improv', 0.8758364915847778), ('boost', 0.8625863790512085), ('chang', 0.8399116396903992), ('exceed', 0.8137489557266235), ('maxim', 0.807131290435791), ('quit', 0.8061968088150024), ('lower', 0.8037192225456238), ('rais', 0.8002794981002808), ('littl', 0.7969976663589478), ('extend', 0.795707106590271)]\n",
      "[-1.12470818 -0.35494083 -0.49132398 -0.20920444 -0.06262583  0.2598519\n",
      " -0.17185074 -0.01804389 -0.97175509  0.0635014   0.16748099  0.55220932\n",
      "  0.47858143 -0.63086516 -0.1153461   0.12526655  0.23380475 -1.02953315\n",
      "  0.78604954 -0.19079041 -0.09251432  0.4803766  -0.33760706  0.07566075\n",
      "  0.54467356 -0.04292172  0.31571522  0.61457348 -0.9424876  -0.20818026\n",
      " -0.58001941  0.36140078 -0.06931017 -0.13500226 -0.02686614  0.73060274\n",
      "  0.52834183 -0.84551752  0.42851517 -0.23981416  0.31625879  0.48092607\n",
      "  1.17890859  0.68487334  0.07830159 -0.61633956  1.07624519 -0.78344667\n",
      " -0.99361235 -1.72483933 -0.40009087  0.3125715   0.47662818  0.23762196\n",
      " -0.04787419  0.10361657 -0.12714225  1.08239841 -0.50129569  0.38355613\n",
      " -0.83481234 -0.30827078  0.42345384 -0.26022524  0.15153775  0.31696919\n",
      " -0.00231787 -0.10711341 -0.42864329  0.05858281 -0.39941821 -0.01086482\n",
      "  0.20337453 -0.13972363  0.29898489 -0.34073704 -0.03325905 -0.53277946\n",
      " -0.60452259 -1.02004635  0.07439335 -1.2487129  -0.22462022 -0.46172729\n",
      " -0.16202375  0.45040411 -0.19322073  0.30176058 -0.61922979  0.69292623\n",
      " -0.31739521 -0.30638456 -0.20033646  0.18960837 -0.17592451  0.36536047\n",
      "  1.24886942 -0.69281799 -0.2899715   0.48106599]\n"
     ]
    },
    {
     "ename": "TypeError",
     "evalue": "'<' not supported between instances of 'str' and 'int'",
     "output_type": "error",
     "traceback": [
      "\u001b[0;31m---------------------------------------------------------------------------\u001b[0m",
      "\u001b[0;31mTypeError\u001b[0m                                 Traceback (most recent call last)",
      "\u001b[0;32m<ipython-input-214-9d027dad53dd>\u001b[0m in \u001b[0;36m<module>\u001b[0;34m()\u001b[0m\n\u001b[1;32m      6\u001b[0m \u001b[1;33m\u001b[0m\u001b[0m\n\u001b[1;32m      7\u001b[0m \u001b[1;31m# shows the similar docs with id = 2\u001b[0m\u001b[1;33m\u001b[0m\u001b[1;33m\u001b[0m\u001b[0m\n\u001b[0;32m----> 8\u001b[0;31m \u001b[0mprint\u001b[0m \u001b[1;33m(\u001b[0m\u001b[0mtrain_model\u001b[0m\u001b[1;33m.\u001b[0m\u001b[0mdocvecs\u001b[0m\u001b[1;33m.\u001b[0m\u001b[0mmost_similar\u001b[0m\u001b[1;33m(\u001b[0m\u001b[0mstr\u001b[0m\u001b[1;33m(\u001b[0m\u001b[1;36m2\u001b[0m\u001b[1;33m)\u001b[0m\u001b[1;33m)\u001b[0m\u001b[1;33m)\u001b[0m\u001b[1;33m\u001b[0m\u001b[0m\n\u001b[0m",
      "\u001b[0;32mC:\\Users\\camro\\Anaconda3\\lib\\site-packages\\gensim\\models\\doc2vec.py\u001b[0m in \u001b[0;36mmost_similar\u001b[0;34m(self, positive, negative, topn, clip_start, clip_end, indexer)\u001b[0m\n\u001b[1;32m    458\u001b[0m             \u001b[1;32mif\u001b[0m \u001b[0misinstance\u001b[0m\u001b[1;33m(\u001b[0m\u001b[0mdoc\u001b[0m\u001b[1;33m,\u001b[0m \u001b[0mndarray\u001b[0m\u001b[1;33m)\u001b[0m\u001b[1;33m:\u001b[0m\u001b[1;33m\u001b[0m\u001b[0m\n\u001b[1;32m    459\u001b[0m                 \u001b[0mmean\u001b[0m\u001b[1;33m.\u001b[0m\u001b[0mappend\u001b[0m\u001b[1;33m(\u001b[0m\u001b[0mweight\u001b[0m \u001b[1;33m*\u001b[0m \u001b[0mdoc\u001b[0m\u001b[1;33m)\u001b[0m\u001b[1;33m\u001b[0m\u001b[0m\n\u001b[0;32m--> 460\u001b[0;31m             \u001b[1;32melif\u001b[0m \u001b[0mdoc\u001b[0m \u001b[1;32min\u001b[0m \u001b[0mself\u001b[0m\u001b[1;33m.\u001b[0m\u001b[0mdoctags\u001b[0m \u001b[1;32mor\u001b[0m \u001b[0mdoc\u001b[0m \u001b[1;33m<\u001b[0m \u001b[0mself\u001b[0m\u001b[1;33m.\u001b[0m\u001b[0mcount\u001b[0m\u001b[1;33m:\u001b[0m\u001b[1;33m\u001b[0m\u001b[0m\n\u001b[0m\u001b[1;32m    461\u001b[0m                 \u001b[0mmean\u001b[0m\u001b[1;33m.\u001b[0m\u001b[0mappend\u001b[0m\u001b[1;33m(\u001b[0m\u001b[0mweight\u001b[0m \u001b[1;33m*\u001b[0m \u001b[0mself\u001b[0m\u001b[1;33m.\u001b[0m\u001b[0mdoctag_syn0norm\u001b[0m\u001b[1;33m[\u001b[0m\u001b[0mself\u001b[0m\u001b[1;33m.\u001b[0m\u001b[0m_int_index\u001b[0m\u001b[1;33m(\u001b[0m\u001b[0mdoc\u001b[0m\u001b[1;33m)\u001b[0m\u001b[1;33m]\u001b[0m\u001b[1;33m)\u001b[0m\u001b[1;33m\u001b[0m\u001b[0m\n\u001b[1;32m    462\u001b[0m                 \u001b[0mall_docs\u001b[0m\u001b[1;33m.\u001b[0m\u001b[0madd\u001b[0m\u001b[1;33m(\u001b[0m\u001b[0mself\u001b[0m\u001b[1;33m.\u001b[0m\u001b[0m_int_index\u001b[0m\u001b[1;33m(\u001b[0m\u001b[0mdoc\u001b[0m\u001b[1;33m)\u001b[0m\u001b[1;33m)\u001b[0m\u001b[1;33m\u001b[0m\u001b[0m\n",
      "\u001b[0;31mTypeError\u001b[0m: '<' not supported between instances of 'str' and 'int'"
     ]
    }
   ],
   "source": [
    "# shows the similar words\n",
    "print (train_model.most_similar('increas'))\n",
    " \n",
    "# shows the learnt embedding\n",
    "print (train_model['increas'])\n",
    " \n",
    "# shows the similar docs with id = 2\n",
    "print (train_model.docvecs.most_similar(str(2)))"
   ]
  },
  {
   "cell_type": "code",
   "execution_count": 215,
   "metadata": {
    "collapsed": false
   },
   "outputs": [],
   "source": [
    "train_model.save('./doc2vec_models/DMM_model')"
   ]
  },
  {
   "cell_type": "code",
   "execution_count": 216,
   "metadata": {
    "collapsed": false
   },
   "outputs": [
    {
     "data": {
      "text/plain": [
       "array([-0.49445194,  0.57114244, -0.29900444, -0.48292378, -0.58117747,\n",
       "        0.6194604 , -0.19689982, -0.37719521, -1.08449328, -0.42487201,\n",
       "        0.51859283,  0.21435472,  0.22841647, -0.30224866, -0.17015429,\n",
       "       -0.14194492, -0.37416264, -0.95118243,  1.34621644,  0.10636292,\n",
       "        0.47003758,  0.84099102, -0.38159865,  0.12460876,  0.42012173,\n",
       "        0.0413011 , -0.25113052, -0.14961573, -1.04559064,  0.18868892,\n",
       "        0.01681517,  0.33061174, -0.05980685,  0.02511602, -0.32749659,\n",
       "        0.42036548, -0.21351975, -1.06129146, -0.02310394, -0.19862628,\n",
       "       -0.09790964,  0.63926524,  0.86929059,  0.3215766 , -0.03939769,\n",
       "       -0.55079871,  0.55959737, -0.85833514, -0.96015924, -1.49373126,\n",
       "       -0.71297568,  0.57121527, -0.01732248, -0.26978436, -0.4271037 ,\n",
       "        0.16163146,  0.29986122,  1.66312897, -0.35684928,  0.00293985,\n",
       "       -0.79682332, -0.56326377,  0.26202238, -0.21335189,  0.19462696,\n",
       "       -0.14269695, -0.22159635,  0.23533957,  0.07753155, -0.42110422,\n",
       "       -0.17933157, -0.58721602,  0.31947058, -0.38203424,  0.50890201,\n",
       "       -0.4510664 , -0.81132597,  0.38970011,  0.67065102, -0.61901027,\n",
       "       -0.03872367, -0.81301951,  0.07205078, -0.52930021,  0.53076112,\n",
       "        0.02608934, -0.72958058,  0.05430926, -0.7761752 ,  0.34974101,\n",
       "       -0.03065018,  0.44278273,  0.07550132, -0.06256328,  0.22357412,\n",
       "        0.21870674,  0.19697867, -0.76273119, -0.67280549, -0.16735083], dtype=float32)"
      ]
     },
     "execution_count": 216,
     "metadata": {},
     "output_type": "execute_result"
    }
   ],
   "source": [
    "train_model['1']"
   ]
  },
  {
   "cell_type": "markdown",
   "metadata": {},
   "source": [
    "<hr>"
   ]
  },
  {
   "cell_type": "code",
   "execution_count": null,
   "metadata": {
    "collapsed": true
   },
   "outputs": [],
   "source": []
  }
 ],
 "metadata": {
  "kernelspec": {
   "display_name": "Python 3",
   "language": "python",
   "name": "python3"
  },
  "language_info": {
   "codemirror_mode": {
    "name": "ipython",
    "version": 3
   },
   "file_extension": ".py",
   "mimetype": "text/x-python",
   "name": "python",
   "nbconvert_exporter": "python",
   "pygments_lexer": "ipython3",
   "version": "3.6.0"
  }
 },
 "nbformat": 4,
 "nbformat_minor": 2
}
