{
 "cells": [
  {
   "cell_type": "code",
   "execution_count": 2,
   "metadata": {
    "collapsed": false
   },
   "outputs": [
    {
     "name": "stderr",
     "output_type": "stream",
     "text": [
      "C:\\Users\\camro\\Anaconda3\\lib\\site-packages\\gensim\\utils.py:855: UserWarning: detected Windows; aliasing chunkize to chunkize_serial\n",
      "  warnings.warn(\"detected Windows; aliasing chunkize to chunkize_serial\")\n"
     ]
    }
   ],
   "source": [
    "import pandas as pd\n",
    "import datetime as dt\n",
    "import nltk\n",
    "import pickle\n",
    "from nltk.tokenize import RegexpTokenizer\n",
    "from nltk.stem import WordNetLemmatizer\n",
    "from nltk.corpus import stopwords\n",
    "from gensim.models.doc2vec import TaggedDocument"
   ]
  },
  {
   "cell_type": "code",
   "execution_count": 3,
   "metadata": {
    "collapsed": false
   },
   "outputs": [],
   "source": [
    "# Import training and test data\n",
    "TRAIN = pd.read_csv('../data.gi/train.csv')\n",
    "TEST = pd.read_csv('../data.gi/test.csv')"
   ]
  },
  {
   "cell_type": "code",
   "execution_count": 5,
   "metadata": {
    "collapsed": true
   },
   "outputs": [],
   "source": [
    "# Create lookup table\n",
    "train_lookup_df = TRAIN[['id', 'qid1', 'qid2', 'is_duplicate']]\n",
    "train_lookup_df.to_pickle('./pickles.gi/train_lookup_df.pkl')"
   ]
  },
  {
   "cell_type": "code",
   "execution_count": 6,
   "metadata": {
    "collapsed": false
   },
   "outputs": [
    {
     "data": {
      "text/html": [
       "<div>\n",
       "<table border=\"1\" class=\"dataframe\">\n",
       "  <thead>\n",
       "    <tr style=\"text-align: right;\">\n",
       "      <th></th>\n",
       "      <th>pid</th>\n",
       "      <th>qid</th>\n",
       "      <th>question</th>\n",
       "      <th>test</th>\n",
       "    </tr>\n",
       "  </thead>\n",
       "  <tbody>\n",
       "    <tr>\n",
       "      <th>0</th>\n",
       "      <td>0</td>\n",
       "      <td>1</td>\n",
       "      <td>What is the step by step guide to invest in sh...</td>\n",
       "      <td>0</td>\n",
       "    </tr>\n",
       "    <tr>\n",
       "      <th>1</th>\n",
       "      <td>0</td>\n",
       "      <td>2</td>\n",
       "      <td>What is the step by step guide to invest in sh...</td>\n",
       "      <td>0</td>\n",
       "    </tr>\n",
       "    <tr>\n",
       "      <th>2</th>\n",
       "      <td>1</td>\n",
       "      <td>3</td>\n",
       "      <td>What is the story of Kohinoor (Koh-i-Noor) Dia...</td>\n",
       "      <td>0</td>\n",
       "    </tr>\n",
       "    <tr>\n",
       "      <th>3</th>\n",
       "      <td>1</td>\n",
       "      <td>4</td>\n",
       "      <td>What would happen if the Indian government sto...</td>\n",
       "      <td>0</td>\n",
       "    </tr>\n",
       "    <tr>\n",
       "      <th>4</th>\n",
       "      <td>2</td>\n",
       "      <td>5</td>\n",
       "      <td>How can I increase the speed of my internet co...</td>\n",
       "      <td>0</td>\n",
       "    </tr>\n",
       "  </tbody>\n",
       "</table>\n",
       "</div>"
      ],
      "text/plain": [
       "   pid  qid                                           question  test\n",
       "0    0    1  What is the step by step guide to invest in sh...     0\n",
       "1    0    2  What is the step by step guide to invest in sh...     0\n",
       "2    1    3  What is the story of Kohinoor (Koh-i-Noor) Dia...     0\n",
       "3    1    4  What would happen if the Indian government sto...     0\n",
       "4    2    5  How can I increase the speed of my internet co...     0"
      ]
     },
     "execution_count": 6,
     "metadata": {},
     "output_type": "execute_result"
    }
   ],
   "source": [
    "# Separate q1 and q2 into respective dataframes\n",
    "# Then stack, sort, and reindex new dataframe\n",
    "train_q1_df = TRAIN[['id', 'qid1', 'question1']]\n",
    "train_q1_df.columns = ['pid', 'qid', 'question']\n",
    "train_q2_df = TRAIN[['id', 'qid2', 'question2']]\n",
    "train_q2_df.columns = ['pid', 'qid', 'question']\n",
    "train_questions_df = pd.concat([train_q1_df, train_q2_df], ignore_index=True).sort_values(by=['pid', 'qid']).reset_index(drop=True)\n",
    "# Add test set flag\n",
    "values = [0] * len(train_questions_df.index)\n",
    "train_questions_df = train_questions_df.assign(test=values)\n",
    "train_questions_df.head()"
   ]
  },
  {
   "cell_type": "code",
   "execution_count": 7,
   "metadata": {
    "collapsed": false
   },
   "outputs": [
    {
     "data": {
      "text/html": [
       "<div>\n",
       "<table border=\"1\" class=\"dataframe\">\n",
       "  <thead>\n",
       "    <tr style=\"text-align: right;\">\n",
       "      <th></th>\n",
       "      <th>pid</th>\n",
       "      <th>qid</th>\n",
       "      <th>question</th>\n",
       "      <th>test</th>\n",
       "    </tr>\n",
       "  </thead>\n",
       "  <tbody>\n",
       "    <tr>\n",
       "      <th>0</th>\n",
       "      <td>0</td>\n",
       "      <td>1</td>\n",
       "      <td>How does the Surface Pro himself 4 compare wit...</td>\n",
       "      <td>1</td>\n",
       "    </tr>\n",
       "    <tr>\n",
       "      <th>1</th>\n",
       "      <td>0</td>\n",
       "      <td>2</td>\n",
       "      <td>Why did Microsoft choose core m3 and not core ...</td>\n",
       "      <td>1</td>\n",
       "    </tr>\n",
       "    <tr>\n",
       "      <th>2</th>\n",
       "      <td>1</td>\n",
       "      <td>3</td>\n",
       "      <td>Should I have a hair transplant at age 24? How...</td>\n",
       "      <td>1</td>\n",
       "    </tr>\n",
       "    <tr>\n",
       "      <th>3</th>\n",
       "      <td>1</td>\n",
       "      <td>4</td>\n",
       "      <td>How much cost does hair transplant require?</td>\n",
       "      <td>1</td>\n",
       "    </tr>\n",
       "    <tr>\n",
       "      <th>4</th>\n",
       "      <td>2</td>\n",
       "      <td>5</td>\n",
       "      <td>What but is the best way to send money from Ch...</td>\n",
       "      <td>1</td>\n",
       "    </tr>\n",
       "  </tbody>\n",
       "</table>\n",
       "</div>"
      ],
      "text/plain": [
       "   pid  qid                                           question  test\n",
       "0    0    1  How does the Surface Pro himself 4 compare wit...     1\n",
       "1    0    2  Why did Microsoft choose core m3 and not core ...     1\n",
       "2    1    3  Should I have a hair transplant at age 24? How...     1\n",
       "3    1    4        How much cost does hair transplant require?     1\n",
       "4    2    5  What but is the best way to send money from Ch...     1"
      ]
     },
     "execution_count": 7,
     "metadata": {},
     "output_type": "execute_result"
    }
   ],
   "source": [
    "# Add qid's for question1 and question2\n",
    "odd_range = pd.Series(range(1, len(TEST.index) * 2 + 1, 2))\n",
    "even_range = pd.Series(range(2, len(TEST.index) * 2 + 1, 2))\n",
    "TEST = TEST.assign(qid1=odd_range, qid2=even_range)\n",
    "# Separate q1 and q2 into respective dataframes\n",
    "# Then stack, sort, and reindex new dataframe\n",
    "test_q1_df = TEST[['test_id', 'qid1', 'question1']]\n",
    "test_q1_df.columns = ['pid', 'qid', 'question']\n",
    "test_q2_df = TEST[['test_id', 'qid2', 'question2']]\n",
    "test_q2_df.columns = ['pid', 'qid', 'question']\n",
    "test_questions_df = pd.concat([test_q1_df, test_q2_df], ignore_index=True).sort_values(by=['pid', 'qid']).reset_index(drop=True)\n",
    "# Add test set flag\n",
    "values = [1] * len(test_questions_df.index)\n",
    "test_questions_df = test_questions_df.assign(test=values)\n",
    "test_questions_df.head()"
   ]
  },
  {
   "cell_type": "code",
   "execution_count": 10,
   "metadata": {
    "collapsed": false
   },
   "outputs": [
    {
     "data": {
      "text/html": [
       "<div>\n",
       "<table border=\"1\" class=\"dataframe\">\n",
       "  <thead>\n",
       "    <tr style=\"text-align: right;\">\n",
       "      <th></th>\n",
       "      <th>test</th>\n",
       "      <th>pid</th>\n",
       "      <th>qid</th>\n",
       "      <th>question</th>\n",
       "    </tr>\n",
       "  </thead>\n",
       "  <tbody>\n",
       "    <tr>\n",
       "      <th>0</th>\n",
       "      <td>0</td>\n",
       "      <td>0</td>\n",
       "      <td>1</td>\n",
       "      <td>What is the step by step guide to invest in sh...</td>\n",
       "    </tr>\n",
       "    <tr>\n",
       "      <th>1</th>\n",
       "      <td>0</td>\n",
       "      <td>0</td>\n",
       "      <td>2</td>\n",
       "      <td>What is the step by step guide to invest in sh...</td>\n",
       "    </tr>\n",
       "    <tr>\n",
       "      <th>2</th>\n",
       "      <td>0</td>\n",
       "      <td>1</td>\n",
       "      <td>3</td>\n",
       "      <td>What is the story of Kohinoor (Koh-i-Noor) Dia...</td>\n",
       "    </tr>\n",
       "    <tr>\n",
       "      <th>3</th>\n",
       "      <td>0</td>\n",
       "      <td>1</td>\n",
       "      <td>4</td>\n",
       "      <td>What would happen if the Indian government sto...</td>\n",
       "    </tr>\n",
       "    <tr>\n",
       "      <th>4</th>\n",
       "      <td>0</td>\n",
       "      <td>2</td>\n",
       "      <td>5</td>\n",
       "      <td>How can I increase the speed of my internet co...</td>\n",
       "    </tr>\n",
       "  </tbody>\n",
       "</table>\n",
       "</div>"
      ],
      "text/plain": [
       "   test  pid  qid                                           question\n",
       "0     0    0    1  What is the step by step guide to invest in sh...\n",
       "1     0    0    2  What is the step by step guide to invest in sh...\n",
       "2     0    1    3  What is the story of Kohinoor (Koh-i-Noor) Dia...\n",
       "3     0    1    4  What would happen if the Indian government sto...\n",
       "4     0    2    5  How can I increase the speed of my internet co..."
      ]
     },
     "execution_count": 10,
     "metadata": {},
     "output_type": "execute_result"
    }
   ],
   "source": [
    "# Combine train and test sets\n",
    "# Move test flag column to first position\n",
    "questions_df = pd.concat([train_questions_df, test_questions_df], ignore_index=True).sort_values(by=['test', 'pid', 'qid']).reset_index(drop=True)\n",
    "cols = questions_df.columns.tolist()\n",
    "cols = cols[-1:] + cols[:-1]\n",
    "questions_df = questions_df[cols]\n",
    "questions_df.to_pickle('./pickles.gi/questions_df.pkl')\n",
    "questions_df.head()"
   ]
  },
  {
   "cell_type": "code",
   "execution_count": 24,
   "metadata": {
    "collapsed": true
   },
   "outputs": [],
   "source": [
    "def preprocessText(questions):\n",
    "    print(\"Preprocessing Started @ %s\" % dt.datetime.now())\n",
    "    print(\"----------------------------------------------------------\")\n",
    "    lowercased = [str(question).lower() for question in questions]\n",
    "    print(\"Lowercasing Completed @ %s\" % dt.datetime.now())\n",
    "    tokenizer = RegexpTokenizer(r'\\w+')\n",
    "    tokenized = [tokenizer.tokenize(question) for question in lowercased]\n",
    "    print(\"Tokenizing Completed @ %s\" % dt.datetime.now())\n",
    "    stopset = set(stopwords.words('english'))\n",
    "    filtered = [[token for token in tokens if token not in stopset] for tokens in tokenized]\n",
    "    print(\"Stopword Filtering Completed @ %s\" % dt.datetime.now())\n",
    "    lemmatizer = WordNetLemmatizer()\n",
    "    lemmatized = [[lemmatizer.lemmatize(token) for token in tokens] for tokens in filtered]\n",
    "    print(\"Lemmatizing Completed @ %s\" % dt.datetime.now())\n",
    "    print(\"----------------------------------------------------------\")\n",
    "    print(\"Preprocessing Ended @ %s\" % dt.datetime.now())\n",
    "    return lemmatized"
   ]
  },
  {
   "cell_type": "code",
   "execution_count": 25,
   "metadata": {
    "collapsed": false
   },
   "outputs": [
    {
     "name": "stdout",
     "output_type": "stream",
     "text": [
      "Preprocessing Started @ 2017-05-01 12:49:48.688175\n",
      "----------------------------------------------------------\n",
      "Lowercasing Completed @ 2017-05-01 12:49:56.983005\n",
      "Tokenizing Completed @ 2017-05-01 12:50:39.149221\n",
      "Stopword Filtering Completed @ 2017-05-01 12:51:21.952501\n",
      "Lemmatizing Completed @ 2017-05-01 12:57:00.707373\n",
      "----------------------------------------------------------\n",
      "Preprocessing Ended @ 2017-05-01 12:57:00.719374\n"
     ]
    },
    {
     "data": {
      "text/html": [
       "<div>\n",
       "<table border=\"1\" class=\"dataframe\">\n",
       "  <thead>\n",
       "    <tr style=\"text-align: right;\">\n",
       "      <th></th>\n",
       "      <th>test</th>\n",
       "      <th>pid</th>\n",
       "      <th>qid</th>\n",
       "      <th>question</th>\n",
       "      <th>token_list</th>\n",
       "    </tr>\n",
       "  </thead>\n",
       "  <tbody>\n",
       "    <tr>\n",
       "      <th>0</th>\n",
       "      <td>0</td>\n",
       "      <td>0</td>\n",
       "      <td>1</td>\n",
       "      <td>What is the step by step guide to invest in sh...</td>\n",
       "      <td>[step, step, guide, invest, share, market, india]</td>\n",
       "    </tr>\n",
       "    <tr>\n",
       "      <th>1</th>\n",
       "      <td>0</td>\n",
       "      <td>0</td>\n",
       "      <td>2</td>\n",
       "      <td>What is the step by step guide to invest in sh...</td>\n",
       "      <td>[step, step, guide, invest, share, market]</td>\n",
       "    </tr>\n",
       "    <tr>\n",
       "      <th>2</th>\n",
       "      <td>0</td>\n",
       "      <td>1</td>\n",
       "      <td>3</td>\n",
       "      <td>What is the story of Kohinoor (Koh-i-Noor) Dia...</td>\n",
       "      <td>[story, kohinoor, koh, noor, diamond]</td>\n",
       "    </tr>\n",
       "    <tr>\n",
       "      <th>3</th>\n",
       "      <td>0</td>\n",
       "      <td>1</td>\n",
       "      <td>4</td>\n",
       "      <td>What would happen if the Indian government sto...</td>\n",
       "      <td>[would, happen, indian, government, stole, koh...</td>\n",
       "    </tr>\n",
       "    <tr>\n",
       "      <th>4</th>\n",
       "      <td>0</td>\n",
       "      <td>2</td>\n",
       "      <td>5</td>\n",
       "      <td>How can I increase the speed of my internet co...</td>\n",
       "      <td>[increase, speed, internet, connection, using,...</td>\n",
       "    </tr>\n",
       "  </tbody>\n",
       "</table>\n",
       "</div>"
      ],
      "text/plain": [
       "   test  pid  qid                                           question  \\\n",
       "0     0    0    1  What is the step by step guide to invest in sh...   \n",
       "1     0    0    2  What is the step by step guide to invest in sh...   \n",
       "2     0    1    3  What is the story of Kohinoor (Koh-i-Noor) Dia...   \n",
       "3     0    1    4  What would happen if the Indian government sto...   \n",
       "4     0    2    5  How can I increase the speed of my internet co...   \n",
       "\n",
       "                                          token_list  \n",
       "0  [step, step, guide, invest, share, market, india]  \n",
       "1         [step, step, guide, invest, share, market]  \n",
       "2              [story, kohinoor, koh, noor, diamond]  \n",
       "3  [would, happen, indian, government, stole, koh...  \n",
       "4  [increase, speed, internet, connection, using,...  "
      ]
     },
     "execution_count": 25,
     "metadata": {},
     "output_type": "execute_result"
    }
   ],
   "source": [
    "# Preprocess text for tagging and vectorization\n",
    "questions_df['token_list'] = preprocessText(questions_df['question'])\n",
    "questions_df.to_pickle('./pickles.gi/questions_with_tokens_df.pkl')\n",
    "questions_df.head()"
   ]
  },
  {
   "cell_type": "code",
   "execution_count": 50,
   "metadata": {
    "collapsed": false
   },
   "outputs": [
    {
     "data": {
      "text/plain": [
       "[TaggedDocument(words=['step', 'step', 'guide', 'invest', 'share', 'market', 'india'], tags='pid0'),\n",
       " TaggedDocument(words=['step', 'step', 'guide', 'invest', 'share', 'market'], tags='pid0'),\n",
       " TaggedDocument(words=['story', 'kohinoor', 'koh', 'noor', 'diamond'], tags='pid1'),\n",
       " TaggedDocument(words=['would', 'happen', 'indian', 'government', 'stole', 'kohinoor', 'koh', 'noor', 'diamond', 'back'], tags='pid1'),\n",
       " TaggedDocument(words=['increase', 'speed', 'internet', 'connection', 'using', 'vpn'], tags='pid2')]"
      ]
     },
     "execution_count": 50,
     "metadata": {},
     "output_type": "execute_result"
    }
   ],
   "source": [
    "# Get list of tagged documents\n",
    "train_tagged_doclist = [TaggedDocument(row[5], 'pid_' + str(row[2])) for row in questions_df.itertuples() if row[1] == 0]\n",
    "test_tagged_doclist = [TaggedDocument(row[5], 'pid_' + str(row[2])) for row in questions_df.itertuples() if row[1] == 1]\n",
    "tagged_doclist = train_tagged_docs + test_tagged_docs\n",
    "pd.to_pickle(obj=tagged_doclist, path='./pickles.gi/tagged_doclist.pkl')\n",
    "shuffled_tagged_doclist = tagged_doclist[:]  # for reshuffling per training pass\n",
    "shuffled_tagged_doclist[:5]"
   ]
  },
  {
   "cell_type": "code",
   "execution_count": null,
   "metadata": {
    "collapsed": false
   },
   "outputs": [],
   "source": []
  },
  {
   "cell_type": "code",
   "execution_count": null,
   "metadata": {
    "collapsed": true
   },
   "outputs": [],
   "source": []
  }
 ],
 "metadata": {
  "kernelspec": {
   "display_name": "Python 3",
   "language": "python",
   "name": "python3"
  },
  "language_info": {
   "codemirror_mode": {
    "name": "ipython",
    "version": 3
   },
   "file_extension": ".py",
   "mimetype": "text/x-python",
   "name": "python",
   "nbconvert_exporter": "python",
   "pygments_lexer": "ipython3",
   "version": "3.6.0"
  }
 },
 "nbformat": 4,
 "nbformat_minor": 2
}
