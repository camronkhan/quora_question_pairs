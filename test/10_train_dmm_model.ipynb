{
 "cells": [
  {
   "cell_type": "code",
   "execution_count": 24,
   "metadata": {
    "collapsed": false
   },
   "outputs": [],
   "source": [
    "import math\n",
    "import pandas as pd\n",
    "import numpy as np\n",
    "import scipy as sp\n",
    "import gensim.models.doc2vec as d2v\n",
    "import multiprocessing as mp\n",
    "import datetime as dt\n",
    "\n",
    "from scipy.spatial.distance import cosine\n",
    "from collections import OrderedDict\n",
    "from random import shuffle\n",
    "from nltk.tokenize import RegexpTokenizer\n",
    "from nltk.stem import SnowballStemmer\n",
    "from sklearn.linear_model import LogisticRegression\n",
    "from sklearn import model_selection\n",
    "from sklearn.metrics import log_loss"
   ]
  },
  {
   "cell_type": "markdown",
   "metadata": {},
   "source": [
    "### Parallelization"
   ]
  },
  {
   "cell_type": "code",
   "execution_count": 2,
   "metadata": {
    "collapsed": false
   },
   "outputs": [],
   "source": [
    "cores = mp.cpu_count() - 1\n",
    "assert d2v.FAST_VERSION > -1, \"Doc2Vec will run painfully slow otherwise\""
   ]
  },
  {
   "cell_type": "markdown",
   "metadata": {},
   "source": [
    "### Import Data"
   ]
  },
  {
   "cell_type": "code",
   "execution_count": 4,
   "metadata": {
    "collapsed": false
   },
   "outputs": [],
   "source": [
    "# Import training data into dataframe\n",
    "all_questions_df = pd.read_pickle('./pickles.gi/all_questions_df.pkl')"
   ]
  },
  {
   "cell_type": "code",
   "execution_count": 22,
   "metadata": {
    "collapsed": true
   },
   "outputs": [],
   "source": [
    "train_outcomes_df = pd.read_pickle('./pickles.gi/train_lookup_df.pkl')"
   ]
  },
  {
   "cell_type": "markdown",
   "metadata": {
    "collapsed": true
   },
   "source": [
    "### Preprocess Data"
   ]
  },
  {
   "cell_type": "code",
   "execution_count": 6,
   "metadata": {
    "collapsed": false
   },
   "outputs": [],
   "source": [
    "# Get tagged documents\n",
    "tagged_docs = [d2v.TaggedDocument(row[5], [row[1], row[3]]) for row in all_questions_df.itertuples()]\n",
    "train_docs = [doc for doc in tagged_docs if doc[1][0] == 0]\n",
    "test_docs = [doc for doc in tagged_docs if doc[1][0] == 1]\n",
    "doc_list = tagged_docs[:]  # for reshuffling per pass"
   ]
  },
  {
   "cell_type": "markdown",
   "metadata": {
    "collapsed": false
   },
   "source": [
    "### Import DMM Model"
   ]
  },
  {
   "cell_type": "code",
   "execution_count": 8,
   "metadata": {
    "collapsed": false
   },
   "outputs": [],
   "source": [
    "dmm_model = d2v.Doc2Vec.load('./models.gi/dmm_model.build_vocab')"
   ]
  },
  {
   "cell_type": "markdown",
   "metadata": {},
   "source": [
    "### Train Model"
   ]
  },
  {
   "cell_type": "code",
   "execution_count": 9,
   "metadata": {
    "collapsed": false
   },
   "outputs": [
    {
     "name": "stdout",
     "output_type": "stream",
     "text": [
      "START 2017-04-25 20:32:01.161559\n",
      "Training epoch 0\n",
      "completed pass 1 at alpha 0.025000\n",
      "2017-04-25 21:42:24.616931\n",
      "Training epoch 1\n",
      "completed pass 2 at alpha 0.022600\n",
      "2017-04-25 22:49:53.580664\n",
      "Training epoch 2\n",
      "completed pass 3 at alpha 0.020200\n",
      "2017-04-25 23:56:48.398570\n",
      "Training epoch 3\n",
      "completed pass 4 at alpha 0.017800\n",
      "2017-04-26 01:03:45.691996\n",
      "Training epoch 4\n",
      "completed pass 5 at alpha 0.015400\n",
      "2017-04-26 02:10:40.141003\n",
      "Training epoch 5\n",
      "completed pass 6 at alpha 0.013000\n",
      "2017-04-26 03:17:32.455762\n",
      "Training epoch 6\n",
      "completed pass 7 at alpha 0.010600\n",
      "2017-04-26 04:23:51.984528\n",
      "Training epoch 7\n",
      "completed pass 8 at alpha 0.008200\n",
      "2017-04-26 05:30:34.487696\n",
      "Training epoch 8\n",
      "completed pass 9 at alpha 0.005800\n",
      "2017-04-26 06:37:18.928758\n",
      "Training epoch 9\n",
      "completed pass 10 at alpha 0.003400\n",
      "2017-04-26 07:43:56.880602\n",
      "END 2017-04-26 07:45:48.292163\n"
     ]
    }
   ],
   "source": [
    "# Train model\n",
    "alpha, min_alpha, passes = (0.025, 0.001, 10)\n",
    "alpha_delta = (alpha - min_alpha) / passes\n",
    "\n",
    "train_model = dmm_model\n",
    "\n",
    "print(\"START %s\" % dt.datetime.now())\n",
    "\n",
    "for epoch in range(passes):\n",
    "    # shuffling gets best results\n",
    "    shuffle(doc_list)\n",
    "\n",
    "    print ('Training epoch %s' % epoch)\n",
    "\n",
    "    # train\n",
    "    train_model.alpha, train_model.min_alpha = alpha, alpha\n",
    "    train_model.train(doc_list)\n",
    "\n",
    "    print('completed pass %i at alpha %f' % (epoch + 1, alpha))\n",
    "    print(str(dt.datetime.now()))\n",
    "    \n",
    "    alpha -= alpha_delta\n",
    "\n",
    "train_model.save('./models.gi/dmm_model.trained')\n",
    "\n",
    "print(\"END %s\" % str(dt.datetime.now()))"
   ]
  },
  {
   "cell_type": "code",
   "execution_count": 16,
   "metadata": {
    "collapsed": false
   },
   "outputs": [],
   "source": [
    "# Get document vectors for each question\n",
    "all_questions_df['vector'] = [dmm_model.infer_vector(row) for row in all_questions_df['tokens']]"
   ]
  },
  {
   "cell_type": "code",
   "execution_count": 19,
   "metadata": {
    "collapsed": false
   },
   "outputs": [
    {
     "data": {
      "text/html": [
       "<div>\n",
       "<table border=\"1\" class=\"dataframe\">\n",
       "  <thead>\n",
       "    <tr style=\"text-align: right;\">\n",
       "      <th></th>\n",
       "      <th>test</th>\n",
       "      <th>pid</th>\n",
       "      <th>qid</th>\n",
       "      <th>question</th>\n",
       "      <th>tokens</th>\n",
       "      <th>vector</th>\n",
       "    </tr>\n",
       "  </thead>\n",
       "  <tbody>\n",
       "    <tr>\n",
       "      <th>0</th>\n",
       "      <td>0</td>\n",
       "      <td>0</td>\n",
       "      <td>1</td>\n",
       "      <td>What is the step by step guide to invest in sh...</td>\n",
       "      <td>[what, is, step, by, step, guid, invest, share...</td>\n",
       "      <td>[0.0146032, -0.956191, -0.708046, 0.0977121, 0...</td>\n",
       "    </tr>\n",
       "    <tr>\n",
       "      <th>1</th>\n",
       "      <td>0</td>\n",
       "      <td>0</td>\n",
       "      <td>2</td>\n",
       "      <td>What is the step by step guide to invest in sh...</td>\n",
       "      <td>[what, is, step, by, step, guid, invest, share...</td>\n",
       "      <td>[-0.230472, 0.581748, 0.237926, -0.976853, 0.0...</td>\n",
       "    </tr>\n",
       "    <tr>\n",
       "      <th>2</th>\n",
       "      <td>0</td>\n",
       "      <td>1</td>\n",
       "      <td>3</td>\n",
       "      <td>What is the story of Kohinoor (Koh-i-Noor) Dia...</td>\n",
       "      <td>[what, is, stori, kohinoor, koh, i, noor, diam...</td>\n",
       "      <td>[-0.523243, -0.246485, -0.602073, -0.667664, 0...</td>\n",
       "    </tr>\n",
       "    <tr>\n",
       "      <th>3</th>\n",
       "      <td>0</td>\n",
       "      <td>1</td>\n",
       "      <td>4</td>\n",
       "      <td>What would happen if the Indian government sto...</td>\n",
       "      <td>[what, would, happen, if, indian, govern, stol...</td>\n",
       "      <td>[0.261746, -0.106042, 0.397741, 0.128407, 0.11...</td>\n",
       "    </tr>\n",
       "    <tr>\n",
       "      <th>4</th>\n",
       "      <td>0</td>\n",
       "      <td>2</td>\n",
       "      <td>5</td>\n",
       "      <td>How can I increase the speed of my internet co...</td>\n",
       "      <td>[how, can, i, increas, speed, my, internet, co...</td>\n",
       "      <td>[-0.154436, 0.027261, 0.507302, -0.230165, 0.1...</td>\n",
       "    </tr>\n",
       "  </tbody>\n",
       "</table>\n",
       "</div>"
      ],
      "text/plain": [
       "   test  pid  qid                                           question  \\\n",
       "0     0    0    1  What is the step by step guide to invest in sh...   \n",
       "1     0    0    2  What is the step by step guide to invest in sh...   \n",
       "2     0    1    3  What is the story of Kohinoor (Koh-i-Noor) Dia...   \n",
       "3     0    1    4  What would happen if the Indian government sto...   \n",
       "4     0    2    5  How can I increase the speed of my internet co...   \n",
       "\n",
       "                                              tokens  \\\n",
       "0  [what, is, step, by, step, guid, invest, share...   \n",
       "1  [what, is, step, by, step, guid, invest, share...   \n",
       "2  [what, is, stori, kohinoor, koh, i, noor, diam...   \n",
       "3  [what, would, happen, if, indian, govern, stol...   \n",
       "4  [how, can, i, increas, speed, my, internet, co...   \n",
       "\n",
       "                                              vector  \n",
       "0  [0.0146032, -0.956191, -0.708046, 0.0977121, 0...  \n",
       "1  [-0.230472, 0.581748, 0.237926, -0.976853, 0.0...  \n",
       "2  [-0.523243, -0.246485, -0.602073, -0.667664, 0...  \n",
       "3  [0.261746, -0.106042, 0.397741, 0.128407, 0.11...  \n",
       "4  [-0.154436, 0.027261, 0.507302, -0.230165, 0.1...  "
      ]
     },
     "execution_count": 19,
     "metadata": {},
     "output_type": "execute_result"
    }
   ],
   "source": [
    "all_questions_df.head()"
   ]
  },
  {
   "cell_type": "markdown",
   "metadata": {},
   "source": [
    "### Calculate Cosine Similarity"
   ]
  },
  {
   "cell_type": "code",
   "execution_count": 25,
   "metadata": {
    "collapsed": false
   },
   "outputs": [],
   "source": [
    "# Train\n",
    "documents_train = all_questions_df[all_questions_df['test'] == 0]\n",
    "documents_train = documents_train.merge(documents_train, on='pid', how='inner')\n",
    "documents_train = documents_train[(documents_train['qid_x'] != documents_train['qid_y']) & (documents_train['qid_x'] < documents_train['qid_y'])]\n",
    "documents_train = documents_train[['pid', 'vector_x', 'vector_y']]\n",
    "documents_train = documents_train.reset_index(drop=True)\n",
    "documents_train = documents_train.merge(train_outcomes_df, left_on='pid', right_on='id')\n",
    "documents_train = documents_train[['pid', 'vector_x', 'vector_y', 'is_duplicate']]\n",
    "documents_train['cosine_similarity'] = documents_train.apply(lambda x: (1 - cosine(x['vector_x'], x['vector_y'])), axis=1)\n",
    "documents_train.to_pickle('./pickles.gi/dmm_vectors_cosine_similarity')"
   ]
  },
  {
   "cell_type": "code",
   "execution_count": 26,
   "metadata": {
    "collapsed": false
   },
   "outputs": [
    {
     "data": {
      "text/html": [
       "<div>\n",
       "<table border=\"1\" class=\"dataframe\">\n",
       "  <thead>\n",
       "    <tr style=\"text-align: right;\">\n",
       "      <th></th>\n",
       "      <th>pid</th>\n",
       "      <th>vector_x</th>\n",
       "      <th>vector_y</th>\n",
       "      <th>is_duplicate</th>\n",
       "      <th>cosine_similarity</th>\n",
       "    </tr>\n",
       "  </thead>\n",
       "  <tbody>\n",
       "    <tr>\n",
       "      <th>0</th>\n",
       "      <td>0</td>\n",
       "      <td>[0.0146032, -0.956191, -0.708046, 0.0977121, 0...</td>\n",
       "      <td>[-0.230472, 0.581748, 0.237926, -0.976853, 0.0...</td>\n",
       "      <td>0</td>\n",
       "      <td>0.262513</td>\n",
       "    </tr>\n",
       "    <tr>\n",
       "      <th>1</th>\n",
       "      <td>1</td>\n",
       "      <td>[-0.523243, -0.246485, -0.602073, -0.667664, 0...</td>\n",
       "      <td>[0.261746, -0.106042, 0.397741, 0.128407, 0.11...</td>\n",
       "      <td>0</td>\n",
       "      <td>0.091059</td>\n",
       "    </tr>\n",
       "    <tr>\n",
       "      <th>2</th>\n",
       "      <td>2</td>\n",
       "      <td>[-0.154436, 0.027261, 0.507302, -0.230165, 0.1...</td>\n",
       "      <td>[0.534726, 0.132381, 0.611858, 0.222932, -0.16...</td>\n",
       "      <td>0</td>\n",
       "      <td>0.262287</td>\n",
       "    </tr>\n",
       "    <tr>\n",
       "      <th>3</th>\n",
       "      <td>3</td>\n",
       "      <td>[0.26084, -0.0442004, 0.233576, -0.278878, 0.2...</td>\n",
       "      <td>[0.199144, -0.635316, 0.396587, -0.338456, 1.2...</td>\n",
       "      <td>0</td>\n",
       "      <td>0.136919</td>\n",
       "    </tr>\n",
       "    <tr>\n",
       "      <th>4</th>\n",
       "      <td>4</td>\n",
       "      <td>[-0.15542, -1.19199, -0.590674, -0.834643, 0.5...</td>\n",
       "      <td>[0.717642, -0.693195, -0.319493, -0.693959, 0....</td>\n",
       "      <td>0</td>\n",
       "      <td>0.124205</td>\n",
       "    </tr>\n",
       "  </tbody>\n",
       "</table>\n",
       "</div>"
      ],
      "text/plain": [
       "   pid                                           vector_x  \\\n",
       "0    0  [0.0146032, -0.956191, -0.708046, 0.0977121, 0...   \n",
       "1    1  [-0.523243, -0.246485, -0.602073, -0.667664, 0...   \n",
       "2    2  [-0.154436, 0.027261, 0.507302, -0.230165, 0.1...   \n",
       "3    3  [0.26084, -0.0442004, 0.233576, -0.278878, 0.2...   \n",
       "4    4  [-0.15542, -1.19199, -0.590674, -0.834643, 0.5...   \n",
       "\n",
       "                                            vector_y  is_duplicate  \\\n",
       "0  [-0.230472, 0.581748, 0.237926, -0.976853, 0.0...             0   \n",
       "1  [0.261746, -0.106042, 0.397741, 0.128407, 0.11...             0   \n",
       "2  [0.534726, 0.132381, 0.611858, 0.222932, -0.16...             0   \n",
       "3  [0.199144, -0.635316, 0.396587, -0.338456, 1.2...             0   \n",
       "4  [0.717642, -0.693195, -0.319493, -0.693959, 0....             0   \n",
       "\n",
       "   cosine_similarity  \n",
       "0           0.262513  \n",
       "1           0.091059  \n",
       "2           0.262287  \n",
       "3           0.136919  \n",
       "4           0.124205  "
      ]
     },
     "execution_count": 26,
     "metadata": {},
     "output_type": "execute_result"
    }
   ],
   "source": [
    "documents_train.head()"
   ]
  },
  {
   "cell_type": "code",
   "execution_count": 27,
   "metadata": {
    "collapsed": true
   },
   "outputs": [],
   "source": [
    "# Test\n",
    "documents_test = all_questions_df[all_questions_df['test'] == 1]\n",
    "documents_test = documents_test.merge(documents_test, on='pid', how='inner')\n",
    "documents_test = documents_test[(documents_test['qid_x'] != documents_test['qid_y']) & (documents_test['qid_x'] < documents_test['qid_y'])]\n",
    "documents_test = documents_test[['pid', 'vector_x', 'vector_y']]\n",
    "documents_test = documents_test.reset_index(drop=True)\n",
    "documents_test['cosine_similarity'] = documents_test.apply(lambda x: (1 - cosine(x['vector_x'], x['vector_y'])), axis=1)\n",
    "documents_test.to_pickle('./pickles.gi/dmm_vectors_cosine_similarity_test')"
   ]
  },
  {
   "cell_type": "code",
   "execution_count": 28,
   "metadata": {
    "collapsed": false
   },
   "outputs": [
    {
     "data": {
      "text/html": [
       "<div>\n",
       "<table border=\"1\" class=\"dataframe\">\n",
       "  <thead>\n",
       "    <tr style=\"text-align: right;\">\n",
       "      <th></th>\n",
       "      <th>pid</th>\n",
       "      <th>vector_x</th>\n",
       "      <th>vector_y</th>\n",
       "      <th>cosine_similarity</th>\n",
       "    </tr>\n",
       "  </thead>\n",
       "  <tbody>\n",
       "    <tr>\n",
       "      <th>0</th>\n",
       "      <td>0</td>\n",
       "      <td>[0.486248, -0.338634, 1.66882, -0.680684, 0.02...</td>\n",
       "      <td>[-0.684407, 0.187148, 0.573343, -0.341806, 0.0...</td>\n",
       "      <td>0.260499</td>\n",
       "    </tr>\n",
       "    <tr>\n",
       "      <th>1</th>\n",
       "      <td>1</td>\n",
       "      <td>[-0.168766, -0.588327, 0.171794, -0.18299, 0.2...</td>\n",
       "      <td>[-0.212234, 0.00949307, 0.626844, 0.607864, -0...</td>\n",
       "      <td>0.244934</td>\n",
       "    </tr>\n",
       "    <tr>\n",
       "      <th>2</th>\n",
       "      <td>2</td>\n",
       "      <td>[0.878145, 0.734945, 0.852028, -0.772522, -0.6...</td>\n",
       "      <td>[0.651759, -0.787332, 0.735912, -0.112427, 0.0...</td>\n",
       "      <td>0.191064</td>\n",
       "    </tr>\n",
       "    <tr>\n",
       "      <th>3</th>\n",
       "      <td>3</td>\n",
       "      <td>[0.131549, -1.01717, 0.353361, -0.292697, 0.60...</td>\n",
       "      <td>[0.362579, 0.218021, 0.437419, -0.0652552, 0.0...</td>\n",
       "      <td>0.138348</td>\n",
       "    </tr>\n",
       "    <tr>\n",
       "      <th>4</th>\n",
       "      <td>4</td>\n",
       "      <td>[-0.320172, -0.105362, 0.50626, 0.470953, 0.45...</td>\n",
       "      <td>[-0.710141, -0.148397, -0.370671, -0.256379, -...</td>\n",
       "      <td>0.038799</td>\n",
       "    </tr>\n",
       "  </tbody>\n",
       "</table>\n",
       "</div>"
      ],
      "text/plain": [
       "   pid                                           vector_x  \\\n",
       "0    0  [0.486248, -0.338634, 1.66882, -0.680684, 0.02...   \n",
       "1    1  [-0.168766, -0.588327, 0.171794, -0.18299, 0.2...   \n",
       "2    2  [0.878145, 0.734945, 0.852028, -0.772522, -0.6...   \n",
       "3    3  [0.131549, -1.01717, 0.353361, -0.292697, 0.60...   \n",
       "4    4  [-0.320172, -0.105362, 0.50626, 0.470953, 0.45...   \n",
       "\n",
       "                                            vector_y  cosine_similarity  \n",
       "0  [-0.684407, 0.187148, 0.573343, -0.341806, 0.0...           0.260499  \n",
       "1  [-0.212234, 0.00949307, 0.626844, 0.607864, -0...           0.244934  \n",
       "2  [0.651759, -0.787332, 0.735912, -0.112427, 0.0...           0.191064  \n",
       "3  [0.362579, 0.218021, 0.437419, -0.0652552, 0.0...           0.138348  \n",
       "4  [-0.710141, -0.148397, -0.370671, -0.256379, -...           0.038799  "
      ]
     },
     "execution_count": 28,
     "metadata": {},
     "output_type": "execute_result"
    }
   ],
   "source": [
    "documents_test.head()"
   ]
  },
  {
   "cell_type": "markdown",
   "metadata": {},
   "source": [
    "### Evaluation Metrics"
   ]
  },
  {
   "cell_type": "code",
   "execution_count": 29,
   "metadata": {
    "collapsed": true
   },
   "outputs": [],
   "source": [
    "def kfoldScore(results):\n",
    "    mean_score = results.mean()\n",
    "    std_dev = results.std()\n",
    "    std_error = results.std() / math.sqrt(results.shape[0])\n",
    "    ci =  2.262 * std_error\n",
    "    lower_bound = mean_score - ci\n",
    "    upper_bound = mean_score + ci\n",
    "    print (\"Score is %f +/-  %f\" % (mean_score, ci))\n",
    "    print ('95 percent probability that if this experiment were repeated over and over the average score would be between %f and %f' % (lower_bound, upper_bound))"
   ]
  },
  {
   "cell_type": "markdown",
   "metadata": {},
   "source": [
    "### Model Parameters"
   ]
  },
  {
   "cell_type": "code",
   "execution_count": 30,
   "metadata": {
    "collapsed": true
   },
   "outputs": [],
   "source": [
    "seed = 7\n",
    "kfold = model_selection.KFold(n_splits=10, random_state=seed)\n",
    "model = LogisticRegression()\n",
    "scoring = 'neg_log_loss'\n",
    "model = LogisticRegression()"
   ]
  },
  {
   "cell_type": "markdown",
   "metadata": {},
   "source": [
    "### Cosine Similarity Model"
   ]
  },
  {
   "cell_type": "code",
   "execution_count": 31,
   "metadata": {
    "collapsed": false
   },
   "outputs": [
    {
     "name": "stdout",
     "output_type": "stream",
     "text": [
      "Score is -0.647815 +/-  0.002564\n",
      "95 percent probability that if this experiment were repeated over and over the average score would be between -0.650380 and -0.645251\n"
     ]
    }
   ],
   "source": [
    "# Train-Test Split\n",
    "X_train_cs = documents_train['cosine_similarity'].values.reshape(-1,1)\n",
    "y_train_cs = documents_train['is_duplicate']\n",
    "X_test_cs = documents_test['cosine_similarity'].values.reshape(-1,1)\n",
    "\n",
    "# Kfold Cross Validation\n",
    "cross_val_scores_cs = model_selection.cross_val_score(model, X_train_cs, y_train_cs, cv=kfold, scoring=scoring)\n",
    "kfoldScore(cross_val_scores_cs)\n",
    "\n",
    "# Predict Outcome Probabilities\n",
    "model.fit(X_train_cs, y_train_cs)\n",
    "y_pred_test_cs = model.predict_proba(X_test_cs)\n",
    "\n",
    "# Create CSV\n",
    "submission_cs = documents_test['pid'].to_frame()\n",
    "submission_cs['is_duplicate'] =  pd.Series([row[1] for row in y_pred_test_cs])\n",
    "submission_cs.columns = ['test_id', 'is_duplicate']\n",
    "submission_cs.to_csv('./dmm_model_cosine_similarity.csv', index=False)"
   ]
  },
  {
   "cell_type": "code",
   "execution_count": null,
   "metadata": {
    "collapsed": true
   },
   "outputs": [],
   "source": []
  }
 ],
 "metadata": {
  "kernelspec": {
   "display_name": "Python 3",
   "language": "python",
   "name": "python3"
  },
  "language_info": {
   "codemirror_mode": {
    "name": "ipython",
    "version": 3
   },
   "file_extension": ".py",
   "mimetype": "text/x-python",
   "name": "python",
   "nbconvert_exporter": "python",
   "pygments_lexer": "ipython3",
   "version": "3.6.0"
  }
 },
 "nbformat": 4,
 "nbformat_minor": 2
}
