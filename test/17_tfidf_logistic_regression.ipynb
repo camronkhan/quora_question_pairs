{
 "cells": [
  {
   "cell_type": "code",
   "execution_count": 1,
   "metadata": {
    "collapsed": false
   },
   "outputs": [
    {
     "name": "stderr",
     "output_type": "stream",
     "text": [
      "C:\\Users\\CKhan\\AppData\\Local\\Continuum\\Anaconda3\\lib\\site-packages\\gensim\\utils.py:855: UserWarning: detected Windows; aliasing chunkize to chunkize_serial\n",
      "  warnings.warn(\"detected Windows; aliasing chunkize to chunkize_serial\")\n",
      "C:\\Users\\CKhan\\AppData\\Local\\Continuum\\Anaconda3\\lib\\site-packages\\sklearn\\cross_validation.py:44: DeprecationWarning: This module was deprecated in version 0.18 in favor of the model_selection module into which all the refactored classes and functions are moved. Also note that the interface of the new CV iterators are different from that of this module. This module will be removed in 0.20.\n",
      "  \"This module will be removed in 0.20.\", DeprecationWarning)\n"
     ]
    }
   ],
   "source": [
    "# Import libraries\n",
    "import gc\n",
    "import math\n",
    "import pandas as pd\n",
    "import numpy as np\n",
    "import gensim.models as gsm\n",
    "import multiprocessing as mp\n",
    "import datetime as dt\n",
    "\n",
    "from scipy.spatial.distance import cosine\n",
    "\n",
    "from sklearn.feature_extraction.text import TfidfVectorizer\n",
    "from sklearn.cross_validation import train_test_split\n",
    "from sklearn import naive_bayes\n",
    "from sklearn.metrics import roc_auc_score\n",
    "\n",
    "from sklearn.linear_model import LogisticRegression\n",
    "from sklearn.naive_bayes import MultinomialNB\n",
    "from sklearn import model_selection\n",
    "from sklearn.metrics import log_loss\n",
    "from sklearn.metrics import roc_auc_score"
   ]
  },
  {
   "cell_type": "code",
   "execution_count": 2,
   "metadata": {
    "collapsed": false
   },
   "outputs": [
    {
     "name": "stdout",
     "output_type": "stream",
     "text": [
      "Once deleted, variables cannot be recovered. Proceed (y/[n])? y\n",
      "Flushing output cache (0 entries)\n"
     ]
    },
    {
     "data": {
      "text/plain": [
       "0"
      ]
     },
     "execution_count": 2,
     "metadata": {},
     "output_type": "execute_result"
    }
   ],
   "source": [
    "%reset Out\n",
    "gc.collect()"
   ]
  },
  {
   "cell_type": "markdown",
   "metadata": {},
   "source": [
    "### Train-Test Split"
   ]
  },
  {
   "cell_type": "code",
   "execution_count": 3,
   "metadata": {
    "collapsed": false
   },
   "outputs": [],
   "source": [
    "X_train = pd.read_pickle('./pickles.gi/X_train_tfidf_doc2vec_cossim.pkl')\n",
    "X_test = pd.read_pickle('./pickles.gi/X_test_tfidf_doc2vec_cossim.pkl')"
   ]
  },
  {
   "cell_type": "code",
   "execution_count": 19,
   "metadata": {
    "collapsed": true
   },
   "outputs": [],
   "source": [
    "train_lookup_df = pd.read_pickle('./pickles.gi/train_lookup_df.pkl')\n",
    "y_train = train_lookup_df.is_duplicate"
   ]
  },
  {
   "cell_type": "code",
   "execution_count": null,
   "metadata": {
    "collapsed": true
   },
   "outputs": [],
   "source": [
    "%reset_selective train_lookup_df\n",
    "gc.collect()"
   ]
  },
  {
   "cell_type": "markdown",
   "metadata": {},
   "source": [
    "### Evaluation Metrics"
   ]
  },
  {
   "cell_type": "code",
   "execution_count": 9,
   "metadata": {
    "collapsed": true
   },
   "outputs": [],
   "source": [
    "def kfoldScore(results):\n",
    "    mean_score = results.mean()\n",
    "    std_dev = results.std()\n",
    "    std_error = results.std() / math.sqrt(results.shape[0])\n",
    "    ci =  2.262 * std_error\n",
    "    lower_bound = mean_score - ci\n",
    "    upper_bound = mean_score + ci\n",
    "    print (\"Score is %f +/-  %f\" % (mean_score, ci))\n",
    "    print ('95 percent probability that if this experiment were repeated over and over the average score would be between %f and %f' % (lower_bound, upper_bound))"
   ]
  },
  {
   "cell_type": "markdown",
   "metadata": {},
   "source": [
    "### Common Setup"
   ]
  },
  {
   "cell_type": "code",
   "execution_count": 10,
   "metadata": {
    "collapsed": false
   },
   "outputs": [],
   "source": [
    "seed = 1\n",
    "kfold = model_selection.KFold(n_splits=10, random_state=seed)\n",
    "neg_log_loss = 'neg_log_loss'\n",
    "roc_auc = 'roc_auc'"
   ]
  },
  {
   "cell_type": "markdown",
   "metadata": {},
   "source": [
    "### Logistic Regression"
   ]
  },
  {
   "cell_type": "code",
   "execution_count": 11,
   "metadata": {
    "collapsed": true
   },
   "outputs": [],
   "source": [
    "# Baseline logistic regression model\n",
    "logreg_model_base = LogisticRegression()"
   ]
  },
  {
   "cell_type": "code",
   "execution_count": 14,
   "metadata": {
    "collapsed": false
   },
   "outputs": [
    {
     "name": "stdout",
     "output_type": "stream",
     "text": [
      "ROC AUC\n",
      "Score is 0.500780 +/-  0.003018\n",
      "95 percent probability that if this experiment were repeated over and over the average score would be between 0.497762 and 0.503798\n"
     ]
    }
   ],
   "source": [
    "# Kfold Cross Validation: ROC AUC\n",
    "logreg_model_base_rocauc = model_selection.cross_val_score(logreg_model_base, X_train, y_train, cv=kfold, scoring=roc_auc)\n",
    "print('ROC AUC')\n",
    "kfoldScore(logreg_model_base_rocauc)"
   ]
  },
  {
   "cell_type": "code",
   "execution_count": 15,
   "metadata": {
    "collapsed": false
   },
   "outputs": [
    {
     "name": "stdout",
     "output_type": "stream",
     "text": [
      "NEG LOG LOSS\n",
      "Score is 0.500780 +/-  0.003018\n",
      "95 percent probability that if this experiment were repeated over and over the average score would be between 0.497762 and 0.503798\n"
     ]
    }
   ],
   "source": [
    "# Kfold Cross Validation: NEG LOG LOSS\n",
    "logreg_model_base_logloss = model_selection.cross_val_score(logreg_model_base, X_train, y_train, cv=kfold, scoring=neg_log_loss)\n",
    "print('NEG LOG LOSS')\n",
    "kfoldScore(logreg_model_base_rocauc)"
   ]
  },
  {
   "cell_type": "code",
   "execution_count": 16,
   "metadata": {
    "collapsed": true
   },
   "outputs": [],
   "source": [
    "# Predict Outcome Probabilities\n",
    "logreg_model_base.fit(X_train, y_train)\n",
    "y_pred_logreg_model_base = logreg_model_base.predict_proba(X_test)"
   ]
  },
  {
   "cell_type": "code",
   "execution_count": 24,
   "metadata": {
    "collapsed": false
   },
   "outputs": [],
   "source": [
    "# Create submission CSV\n",
    "submission = X_test.pid.to_frame()\n",
    "submission['is_duplicate'] =  pd.Series([row[1] for row in y_pred_logreg_model_base])\n",
    "submission.columns = ['test_id', 'is_duplicate']\n",
    "submission.to_csv('./submissions.gi/submission02.csv', index=False)"
   ]
  },
  {
   "cell_type": "code",
   "execution_count": null,
   "metadata": {
    "collapsed": false
   },
   "outputs": [],
   "source": []
  },
  {
   "cell_type": "code",
   "execution_count": null,
   "metadata": {
    "collapsed": true
   },
   "outputs": [],
   "source": []
  }
 ],
 "metadata": {
  "kernelspec": {
   "display_name": "Python 3",
   "language": "python",
   "name": "python3"
  },
  "language_info": {
   "codemirror_mode": {
    "name": "ipython",
    "version": 3
   },
   "file_extension": ".py",
   "mimetype": "text/x-python",
   "name": "python",
   "nbconvert_exporter": "python",
   "pygments_lexer": "ipython3",
   "version": "3.6.0"
  }
 },
 "nbformat": 4,
 "nbformat_minor": 2
}
