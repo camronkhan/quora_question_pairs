{
 "cells": [
  {
   "cell_type": "code",
   "execution_count": 3,
   "metadata": {
    "collapsed": false,
    "scrolled": true
   },
   "outputs": [],
   "source": [
    "# Import libraries\n",
    "import gc\n",
    "import math\n",
    "import pandas as pd\n",
    "import numpy as np\n",
    "import gensim.models as gsm\n",
    "import multiprocessing as mp\n",
    "import datetime as dt\n",
    "\n",
    "from scipy.spatial.distance import cosine\n",
    "\n",
    "from sklearn.feature_extraction.text import TfidfVectorizer\n",
    "from sklearn.cross_validation import train_test_split\n",
    "from sklearn import naive_bayes\n",
    "from sklearn.metrics import roc_auc_score\n",
    "\n",
    "from sklearn.linear_model import LogisticRegression\n",
    "from sklearn import model_selection\n",
    "from sklearn.metrics import log_loss"
   ]
  },
  {
   "cell_type": "code",
   "execution_count": 4,
   "metadata": {
    "collapsed": false
   },
   "outputs": [
    {
     "data": {
      "text/plain": [
       "7"
      ]
     },
     "execution_count": 4,
     "metadata": {},
     "output_type": "execute_result"
    }
   ],
   "source": [
    "gc.collect()"
   ]
  },
  {
   "cell_type": "code",
   "execution_count": 3,
   "metadata": {
    "collapsed": false
   },
   "outputs": [],
   "source": [
    "# Import data\n",
    "train_lookup_df = pd.read_pickle('./pickles.gi/train_lookup_df.pkl')\n",
    "questions_df = pd.read_pickle('./pickles.gi/questions_with_tokens_df.pkl')"
   ]
  },
  {
   "cell_type": "code",
   "execution_count": 4,
   "metadata": {
    "collapsed": false
   },
   "outputs": [],
   "source": [
    "# Get initial number of rows for processing validation\n",
    "num_rows_questions_df_1 = questions_df.shape[0]"
   ]
  },
  {
   "cell_type": "code",
   "execution_count": 5,
   "metadata": {
    "collapsed": false
   },
   "outputs": [],
   "source": [
    "# Get sentences for vectorization\n",
    "questions_df['preproc_question'] = [' '.join(token_list) for token_list in questions_df.token_list]"
   ]
  },
  {
   "cell_type": "code",
   "execution_count": 6,
   "metadata": {
    "collapsed": false
   },
   "outputs": [],
   "source": [
    "# Get a term vector for each question\n",
    "vectorizer = TfidfVectorizer()\n",
    "tfidf_vector = vectorizer.fit_transform(questions_df.preproc_question)\n",
    "questions_df['tfidf_vector'] = list(tfidf_vector)"
   ]
  },
  {
   "cell_type": "code",
   "execution_count": 17,
   "metadata": {
    "collapsed": false
   },
   "outputs": [],
   "source": [
    "# Reshape dataframe from stacked to wide format (pivot on pair ID)\n",
    "questions_df = questions_df.merge(questions_df, on=['test', 'pid'], how='inner', suffixes=('_1', '_2'))\n",
    "questions_df = questions_df[(questions_df['qid_1'] != questions_df['qid_2']) & (questions_df['qid_1'] < questions_df['qid_2'])]\n",
    "questions_df.reset_index(drop=True, inplace=True)\n",
    "questions_df.sort_values(by=['test', 'pid'], inplace=True)"
   ]
  },
  {
   "cell_type": "code",
   "execution_count": 18,
   "metadata": {
    "collapsed": false
   },
   "outputs": [],
   "source": [
    "# Validate that the number of rows * 2 in current DF is equal to imported DF\n",
    "num_rows_questions_df_2 = questions_df.shape[0]\n",
    "assert num_rows_questions_df_1 == num_rows_questions_df_2 * 2, \"Number of rows in questions_df is not consistent with original import\""
   ]
  },
  {
   "cell_type": "code",
   "execution_count": 25,
   "metadata": {
    "collapsed": false
   },
   "outputs": [
    {
     "name": "stderr",
     "output_type": "stream",
     "text": [
      "C:\\Users\\camro\\Anaconda3\\lib\\site-packages\\scipy\\spatial\\distance.py:326: RuntimeWarning: invalid value encountered in double_scalars\n",
      "  dist = 1.0 - np.dot(u, v) / (norm(u) * norm(v))\n"
     ]
    }
   ],
   "source": [
    "questions_df['tfidf_cos_sim'] = questions_df.apply(lambda x: (1 - cosine(x['tfidf_vector_1'].toarray(), x['tfidf_vector_2'].toarray())), axis=1)\n",
    "questions_df.to_pickle('./pickles.gi/questions_df_tfidf_cosine_similarity')"
   ]
  },
  {
   "cell_type": "code",
   "execution_count": 26,
   "metadata": {
    "collapsed": false
   },
   "outputs": [
    {
     "data": {
      "text/html": [
       "<div>\n",
       "<table border=\"1\" class=\"dataframe\">\n",
       "  <thead>\n",
       "    <tr style=\"text-align: right;\">\n",
       "      <th></th>\n",
       "      <th>test</th>\n",
       "      <th>pid</th>\n",
       "      <th>qid_1</th>\n",
       "      <th>question_1</th>\n",
       "      <th>token_list_1</th>\n",
       "      <th>preproc_question_1</th>\n",
       "      <th>tfidf_vector_1</th>\n",
       "      <th>qid_2</th>\n",
       "      <th>question_2</th>\n",
       "      <th>token_list_2</th>\n",
       "      <th>preproc_question_2</th>\n",
       "      <th>tfidf_vector_2</th>\n",
       "      <th>tfidf_cos_sim</th>\n",
       "    </tr>\n",
       "  </thead>\n",
       "  <tbody>\n",
       "    <tr>\n",
       "      <th>0</th>\n",
       "      <td>0</td>\n",
       "      <td>0</td>\n",
       "      <td>1</td>\n",
       "      <td>What is the step by step guide to invest in sh...</td>\n",
       "      <td>[step, step, guide, invest, share, market, india]</td>\n",
       "      <td>step step guide invest share market india</td>\n",
       "      <td>(0, 94663)\\t0.686112034821\\n  (0, 45076)\\t0....</td>\n",
       "      <td>2</td>\n",
       "      <td>What is the step by step guide to invest in sh...</td>\n",
       "      <td>[step, step, guide, invest, share, market]</td>\n",
       "      <td>step step guide invest share market</td>\n",
       "      <td>(0, 94663)\\t0.7005065502\\n  (0, 45076)\\t0.41...</td>\n",
       "      <td>0.979451</td>\n",
       "    </tr>\n",
       "    <tr>\n",
       "      <th>1</th>\n",
       "      <td>0</td>\n",
       "      <td>1</td>\n",
       "      <td>3</td>\n",
       "      <td>What is the story of Kohinoor (Koh-i-Noor) Dia...</td>\n",
       "      <td>[story, kohinoor, koh, noor, diamond]</td>\n",
       "      <td>story kohinoor koh noor diamond</td>\n",
       "      <td>(0, 94981)\\t0.28471980451\\n  (0, 57115)\\t0.5...</td>\n",
       "      <td>4</td>\n",
       "      <td>What would happen if the Indian government sto...</td>\n",
       "      <td>[would, happen, indian, government, stole, koh...</td>\n",
       "      <td>would happen indian government stole kohinoor ...</td>\n",
       "      <td>(0, 57115)\\t0.415778246801\\n  (0, 57112)\\t0....</td>\n",
       "      <td>0.761120</td>\n",
       "    </tr>\n",
       "    <tr>\n",
       "      <th>2</th>\n",
       "      <td>0</td>\n",
       "      <td>2</td>\n",
       "      <td>5</td>\n",
       "      <td>How can I increase the speed of my internet co...</td>\n",
       "      <td>[increase, speed, internet, connection, using,...</td>\n",
       "      <td>increase speed internet connection using vpn</td>\n",
       "      <td>(0, 50805)\\t0.364988290024\\n  (0, 93488)\\t0....</td>\n",
       "      <td>6</td>\n",
       "      <td>How can Internet speed be increased by hacking...</td>\n",
       "      <td>[internet, speed, increased, hacking, dns]</td>\n",
       "      <td>internet speed increased hacking dns</td>\n",
       "      <td>(0, 93488)\\t0.365133417374\\n  (0, 52186)\\t0....</td>\n",
       "      <td>0.274354</td>\n",
       "    </tr>\n",
       "    <tr>\n",
       "      <th>3</th>\n",
       "      <td>0</td>\n",
       "      <td>3</td>\n",
       "      <td>7</td>\n",
       "      <td>Why am I mentally very lonely? How can I solve...</td>\n",
       "      <td>[mentally, lonely, solve]</td>\n",
       "      <td>mentally lonely solve</td>\n",
       "      <td>(0, 64269)\\t0.617633676496\\n  (0, 60405)\\t0....</td>\n",
       "      <td>8</td>\n",
       "      <td>Find the remainder when [math]23^{24}[/math] i...</td>\n",
       "      <td>[find, remainder, math, 23, 24, math, divided,...</td>\n",
       "      <td>find remainder math 23 24 math divided 24 23</td>\n",
       "      <td>(0, 39537)\\t0.172910152077\\n  (0, 84134)\\t0....</td>\n",
       "      <td>0.000000</td>\n",
       "    </tr>\n",
       "    <tr>\n",
       "      <th>4</th>\n",
       "      <td>0</td>\n",
       "      <td>4</td>\n",
       "      <td>9</td>\n",
       "      <td>Which one dissolve in water quikly sugar, salt...</td>\n",
       "      <td>[one, dissolve, water, quikly, sugar, salt, me...</td>\n",
       "      <td>one dissolve water quikly sugar salt methane c...</td>\n",
       "      <td>(0, 72242)\\t0.154796417483\\n  (0, 32331)\\t0....</td>\n",
       "      <td>10</td>\n",
       "      <td>Which fish would survive in salt water?</td>\n",
       "      <td>[fish, would, survive, salt, water]</td>\n",
       "      <td>fish would survive salt water</td>\n",
       "      <td>(0, 109184)\\t0.283396040472\\n  (0, 107410)\\t...</td>\n",
       "      <td>0.230124</td>\n",
       "    </tr>\n",
       "  </tbody>\n",
       "</table>\n",
       "</div>"
      ],
      "text/plain": [
       "   test  pid  qid_1                                         question_1  \\\n",
       "0     0    0      1  What is the step by step guide to invest in sh...   \n",
       "1     0    1      3  What is the story of Kohinoor (Koh-i-Noor) Dia...   \n",
       "2     0    2      5  How can I increase the speed of my internet co...   \n",
       "3     0    3      7  Why am I mentally very lonely? How can I solve...   \n",
       "4     0    4      9  Which one dissolve in water quikly sugar, salt...   \n",
       "\n",
       "                                        token_list_1  \\\n",
       "0  [step, step, guide, invest, share, market, india]   \n",
       "1              [story, kohinoor, koh, noor, diamond]   \n",
       "2  [increase, speed, internet, connection, using,...   \n",
       "3                          [mentally, lonely, solve]   \n",
       "4  [one, dissolve, water, quikly, sugar, salt, me...   \n",
       "\n",
       "                                  preproc_question_1  \\\n",
       "0          step step guide invest share market india   \n",
       "1                    story kohinoor koh noor diamond   \n",
       "2       increase speed internet connection using vpn   \n",
       "3                              mentally lonely solve   \n",
       "4  one dissolve water quikly sugar salt methane c...   \n",
       "\n",
       "                                      tfidf_vector_1  qid_2  \\\n",
       "0    (0, 94663)\\t0.686112034821\\n  (0, 45076)\\t0....      2   \n",
       "1    (0, 94981)\\t0.28471980451\\n  (0, 57115)\\t0.5...      4   \n",
       "2    (0, 50805)\\t0.364988290024\\n  (0, 93488)\\t0....      6   \n",
       "3    (0, 64269)\\t0.617633676496\\n  (0, 60405)\\t0....      8   \n",
       "4    (0, 72242)\\t0.154796417483\\n  (0, 32331)\\t0....     10   \n",
       "\n",
       "                                          question_2  \\\n",
       "0  What is the step by step guide to invest in sh...   \n",
       "1  What would happen if the Indian government sto...   \n",
       "2  How can Internet speed be increased by hacking...   \n",
       "3  Find the remainder when [math]23^{24}[/math] i...   \n",
       "4            Which fish would survive in salt water?   \n",
       "\n",
       "                                        token_list_2  \\\n",
       "0         [step, step, guide, invest, share, market]   \n",
       "1  [would, happen, indian, government, stole, koh...   \n",
       "2         [internet, speed, increased, hacking, dns]   \n",
       "3  [find, remainder, math, 23, 24, math, divided,...   \n",
       "4                [fish, would, survive, salt, water]   \n",
       "\n",
       "                                  preproc_question_2  \\\n",
       "0                step step guide invest share market   \n",
       "1  would happen indian government stole kohinoor ...   \n",
       "2               internet speed increased hacking dns   \n",
       "3       find remainder math 23 24 math divided 24 23   \n",
       "4                      fish would survive salt water   \n",
       "\n",
       "                                      tfidf_vector_2  tfidf_cos_sim  \n",
       "0    (0, 94663)\\t0.7005065502\\n  (0, 45076)\\t0.41...       0.979451  \n",
       "1    (0, 57115)\\t0.415778246801\\n  (0, 57112)\\t0....       0.761120  \n",
       "2    (0, 93488)\\t0.365133417374\\n  (0, 52186)\\t0....       0.274354  \n",
       "3    (0, 39537)\\t0.172910152077\\n  (0, 84134)\\t0....       0.000000  \n",
       "4    (0, 109184)\\t0.283396040472\\n  (0, 107410)\\t...       0.230124  "
      ]
     },
     "execution_count": 26,
     "metadata": {},
     "output_type": "execute_result"
    }
   ],
   "source": [
    "questions_df.head()"
   ]
  },
  {
   "cell_type": "code",
   "execution_count": 2,
   "metadata": {
    "collapsed": true
   },
   "outputs": [],
   "source": [
    "# IMPORT CONTINUED WORK\n",
    "questions_df = pd.read_pickle('./pickles.gi/questions_df_tfidf_cosine_similarity')"
   ]
  },
  {
   "cell_type": "code",
   "execution_count": null,
   "metadata": {
    "collapsed": true
   },
   "outputs": [],
   "source": []
  }
 ],
 "metadata": {
  "kernelspec": {
   "display_name": "Python 3",
   "language": "python",
   "name": "python3"
  },
  "language_info": {
   "codemirror_mode": {
    "name": "ipython",
    "version": 3
   },
   "file_extension": ".py",
   "mimetype": "text/x-python",
   "name": "python",
   "nbconvert_exporter": "python",
   "pygments_lexer": "ipython3",
   "version": "3.6.0"
  }
 },
 "nbformat": 4,
 "nbformat_minor": 2
}
