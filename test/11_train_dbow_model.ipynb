{
 "cells": [
  {
   "cell_type": "code",
   "execution_count": 4,
   "metadata": {
    "collapsed": false
   },
   "outputs": [],
   "source": [
    "import math\n",
    "import pandas as pd\n",
    "import numpy as np\n",
    "import scipy as sp\n",
    "import gensim.models.doc2vec as d2v\n",
    "import multiprocessing as mp\n",
    "import datetime as dt\n",
    "\n",
    "from scipy.spatial.distance import cosine\n",
    "from collections import OrderedDict\n",
    "from random import shuffle\n",
    "from nltk.tokenize import RegexpTokenizer\n",
    "from nltk.stem import SnowballStemmer\n",
    "from sklearn.linear_model import LogisticRegression\n",
    "from sklearn import model_selection\n",
    "from sklearn.metrics import log_loss"
   ]
  },
  {
   "cell_type": "markdown",
   "metadata": {},
   "source": [
    "### Parallelization"
   ]
  },
  {
   "cell_type": "code",
   "execution_count": 5,
   "metadata": {
    "collapsed": false
   },
   "outputs": [],
   "source": [
    "cores = mp.cpu_count() - 1\n",
    "assert d2v.FAST_VERSION > -1, \"Doc2Vec will run painfully slow otherwise\""
   ]
  },
  {
   "cell_type": "markdown",
   "metadata": {},
   "source": [
    "### Import Data"
   ]
  },
  {
   "cell_type": "code",
   "execution_count": 6,
   "metadata": {
    "collapsed": false
   },
   "outputs": [],
   "source": [
    "# Import training data into dataframe\n",
    "all_questions_df = pd.read_pickle('./pickles.gi/all_questions_df.pkl')"
   ]
  },
  {
   "cell_type": "code",
   "execution_count": 7,
   "metadata": {
    "collapsed": true
   },
   "outputs": [],
   "source": [
    "train_outcomes_df = pd.read_pickle('./pickles.gi/train_lookup_df.pkl')"
   ]
  },
  {
   "cell_type": "markdown",
   "metadata": {
    "collapsed": true
   },
   "source": [
    "### Preprocess Data"
   ]
  },
  {
   "cell_type": "code",
   "execution_count": 8,
   "metadata": {
    "collapsed": false
   },
   "outputs": [],
   "source": [
    "# Get tagged documents\n",
    "tagged_docs = [d2v.TaggedDocument(row[5], [row[1], row[3]]) for row in all_questions_df.itertuples()]\n",
    "train_docs = [doc for doc in tagged_docs if doc[1][0] == 0]\n",
    "test_docs = [doc for doc in tagged_docs if doc[1][0] == 1]\n",
    "doc_list = tagged_docs[:]  # for reshuffling per pass"
   ]
  },
  {
   "cell_type": "markdown",
   "metadata": {
    "collapsed": false
   },
   "source": [
    "### Import DMM Model"
   ]
  },
  {
   "cell_type": "code",
   "execution_count": null,
   "metadata": {
    "collapsed": false
   },
   "outputs": [],
   "source": [
    "dbow_model = d2v.Doc2Vec.load('./models.gi/dbow_model.build_vocab')"
   ]
  },
  {
   "cell_type": "markdown",
   "metadata": {},
   "source": [
    "### Train Model"
   ]
  },
  {
   "cell_type": "code",
   "execution_count": null,
   "metadata": {
    "collapsed": false
   },
   "outputs": [],
   "source": [
    "# Train model\n",
    "alpha, min_alpha, passes = (0.025, 0.001, 10)\n",
    "alpha_delta = (alpha - min_alpha) / passes\n",
    "\n",
    "train_model = dbow_model\n",
    "\n",
    "print(\"START %s\" % dt.datetime.now())\n",
    "\n",
    "for epoch in range(passes):\n",
    "    # shuffling gets best results\n",
    "    shuffle(doc_list)\n",
    "\n",
    "    print ('Training epoch %s' % epoch)\n",
    "\n",
    "    # train\n",
    "    train_model.alpha, train_model.min_alpha = alpha, alpha\n",
    "    train_model.train(doc_list)\n",
    "\n",
    "    print('completed pass %i at alpha %f' % (epoch + 1, alpha))\n",
    "    print(str(dt.datetime.now()))\n",
    "    \n",
    "    alpha -= alpha_delta\n",
    "\n",
    "train_model.save('./models.gi/dbow_model.trained')\n",
    "\n",
    "print(\"END %s\" % str(dt.datetime.now()))"
   ]
  },
  {
   "cell_type": "code",
   "execution_count": 11,
   "metadata": {
    "collapsed": true
   },
   "outputs": [],
   "source": [
    "dbow_model = d2v.Doc2Vec.load('./models.gi/dbow_model.trained')"
   ]
  },
  {
   "cell_type": "code",
   "execution_count": 12,
   "metadata": {
    "collapsed": false
   },
   "outputs": [],
   "source": [
    "# Get document vectors for each question\n",
    "all_questions_df['vector'] = [dbow_model.infer_vector(row) for row in all_questions_df['tokens']]"
   ]
  },
  {
   "cell_type": "code",
   "execution_count": 13,
   "metadata": {
    "collapsed": false
   },
   "outputs": [
    {
     "data": {
      "text/html": [
       "<div>\n",
       "<table border=\"1\" class=\"dataframe\">\n",
       "  <thead>\n",
       "    <tr style=\"text-align: right;\">\n",
       "      <th></th>\n",
       "      <th>test</th>\n",
       "      <th>pid</th>\n",
       "      <th>qid</th>\n",
       "      <th>question</th>\n",
       "      <th>tokens</th>\n",
       "      <th>vector</th>\n",
       "    </tr>\n",
       "  </thead>\n",
       "  <tbody>\n",
       "    <tr>\n",
       "      <th>0</th>\n",
       "      <td>0</td>\n",
       "      <td>0</td>\n",
       "      <td>1</td>\n",
       "      <td>What is the step by step guide to invest in sh...</td>\n",
       "      <td>[what, is, step, by, step, guid, invest, share...</td>\n",
       "      <td>[0.267908, -0.0955344, -0.10118, -0.0556185, 0...</td>\n",
       "    </tr>\n",
       "    <tr>\n",
       "      <th>1</th>\n",
       "      <td>0</td>\n",
       "      <td>0</td>\n",
       "      <td>2</td>\n",
       "      <td>What is the step by step guide to invest in sh...</td>\n",
       "      <td>[what, is, step, by, step, guid, invest, share...</td>\n",
       "      <td>[0.191767, 0.0166993, -0.0327661, -0.0625783, ...</td>\n",
       "    </tr>\n",
       "    <tr>\n",
       "      <th>2</th>\n",
       "      <td>0</td>\n",
       "      <td>1</td>\n",
       "      <td>3</td>\n",
       "      <td>What is the story of Kohinoor (Koh-i-Noor) Dia...</td>\n",
       "      <td>[what, is, stori, kohinoor, koh, i, noor, diam...</td>\n",
       "      <td>[0.23633, 0.100282, -0.113752, 0.139624, 0.218...</td>\n",
       "    </tr>\n",
       "    <tr>\n",
       "      <th>3</th>\n",
       "      <td>0</td>\n",
       "      <td>1</td>\n",
       "      <td>4</td>\n",
       "      <td>What would happen if the Indian government sto...</td>\n",
       "      <td>[what, would, happen, if, indian, govern, stol...</td>\n",
       "      <td>[0.142674, -0.192956, -0.0365042, -0.00100532,...</td>\n",
       "    </tr>\n",
       "    <tr>\n",
       "      <th>4</th>\n",
       "      <td>0</td>\n",
       "      <td>2</td>\n",
       "      <td>5</td>\n",
       "      <td>How can I increase the speed of my internet co...</td>\n",
       "      <td>[how, can, i, increas, speed, my, internet, co...</td>\n",
       "      <td>[-0.532338, -0.0369567, -0.130684, 0.183189, 0...</td>\n",
       "    </tr>\n",
       "  </tbody>\n",
       "</table>\n",
       "</div>"
      ],
      "text/plain": [
       "   test  pid  qid                                           question  \\\n",
       "0     0    0    1  What is the step by step guide to invest in sh...   \n",
       "1     0    0    2  What is the step by step guide to invest in sh...   \n",
       "2     0    1    3  What is the story of Kohinoor (Koh-i-Noor) Dia...   \n",
       "3     0    1    4  What would happen if the Indian government sto...   \n",
       "4     0    2    5  How can I increase the speed of my internet co...   \n",
       "\n",
       "                                              tokens  \\\n",
       "0  [what, is, step, by, step, guid, invest, share...   \n",
       "1  [what, is, step, by, step, guid, invest, share...   \n",
       "2  [what, is, stori, kohinoor, koh, i, noor, diam...   \n",
       "3  [what, would, happen, if, indian, govern, stol...   \n",
       "4  [how, can, i, increas, speed, my, internet, co...   \n",
       "\n",
       "                                              vector  \n",
       "0  [0.267908, -0.0955344, -0.10118, -0.0556185, 0...  \n",
       "1  [0.191767, 0.0166993, -0.0327661, -0.0625783, ...  \n",
       "2  [0.23633, 0.100282, -0.113752, 0.139624, 0.218...  \n",
       "3  [0.142674, -0.192956, -0.0365042, -0.00100532,...  \n",
       "4  [-0.532338, -0.0369567, -0.130684, 0.183189, 0...  "
      ]
     },
     "execution_count": 13,
     "metadata": {},
     "output_type": "execute_result"
    }
   ],
   "source": [
    "all_questions_df.head()"
   ]
  },
  {
   "cell_type": "markdown",
   "metadata": {},
   "source": [
    "### Calculate Cosine Similarity"
   ]
  },
  {
   "cell_type": "code",
   "execution_count": 14,
   "metadata": {
    "collapsed": false
   },
   "outputs": [],
   "source": [
    "# Train\n",
    "documents_train = all_questions_df[all_questions_df['test'] == 0]\n",
    "documents_train = documents_train.merge(documents_train, on='pid', how='inner')\n",
    "documents_train = documents_train[(documents_train['qid_x'] != documents_train['qid_y']) & (documents_train['qid_x'] < documents_train['qid_y'])]\n",
    "documents_train = documents_train[['pid', 'vector_x', 'vector_y']]\n",
    "documents_train = documents_train.reset_index(drop=True)\n",
    "documents_train = documents_train.merge(train_outcomes_df, left_on='pid', right_on='id')\n",
    "documents_train = documents_train[['pid', 'vector_x', 'vector_y', 'is_duplicate']]\n",
    "documents_train['cosine_similarity'] = documents_train.apply(lambda x: (1 - cosine(x['vector_x'], x['vector_y'])), axis=1)\n",
    "documents_train.to_pickle('./pickles.gi/dbow_vectors_cosine_similarity_train')"
   ]
  },
  {
   "cell_type": "code",
   "execution_count": 15,
   "metadata": {
    "collapsed": false
   },
   "outputs": [
    {
     "data": {
      "text/html": [
       "<div>\n",
       "<table border=\"1\" class=\"dataframe\">\n",
       "  <thead>\n",
       "    <tr style=\"text-align: right;\">\n",
       "      <th></th>\n",
       "      <th>pid</th>\n",
       "      <th>vector_x</th>\n",
       "      <th>vector_y</th>\n",
       "      <th>is_duplicate</th>\n",
       "      <th>cosine_similarity</th>\n",
       "    </tr>\n",
       "  </thead>\n",
       "  <tbody>\n",
       "    <tr>\n",
       "      <th>0</th>\n",
       "      <td>0</td>\n",
       "      <td>[0.267908, -0.0955344, -0.10118, -0.0556185, 0...</td>\n",
       "      <td>[0.191767, 0.0166993, -0.0327661, -0.0625783, ...</td>\n",
       "      <td>0</td>\n",
       "      <td>0.304468</td>\n",
       "    </tr>\n",
       "    <tr>\n",
       "      <th>1</th>\n",
       "      <td>1</td>\n",
       "      <td>[0.23633, 0.100282, -0.113752, 0.139624, 0.218...</td>\n",
       "      <td>[0.142674, -0.192956, -0.0365042, -0.00100532,...</td>\n",
       "      <td>0</td>\n",
       "      <td>0.549187</td>\n",
       "    </tr>\n",
       "    <tr>\n",
       "      <th>2</th>\n",
       "      <td>2</td>\n",
       "      <td>[-0.532338, -0.0369567, -0.130684, 0.183189, 0...</td>\n",
       "      <td>[-0.216235, -0.027894, -0.0838264, 0.0726645, ...</td>\n",
       "      <td>0</td>\n",
       "      <td>0.375429</td>\n",
       "    </tr>\n",
       "    <tr>\n",
       "      <th>3</th>\n",
       "      <td>3</td>\n",
       "      <td>[-0.0021527, 0.0867196, 0.00909216, 0.0286029,...</td>\n",
       "      <td>[0.0998014, 0.110679, -0.0399092, -0.0471708, ...</td>\n",
       "      <td>0</td>\n",
       "      <td>0.183327</td>\n",
       "    </tr>\n",
       "    <tr>\n",
       "      <th>4</th>\n",
       "      <td>4</td>\n",
       "      <td>[0.690951, 0.148918, 0.0675064, -0.0768607, 0....</td>\n",
       "      <td>[-0.157396, -0.0319132, 0.0558307, 0.0341421, ...</td>\n",
       "      <td>0</td>\n",
       "      <td>0.495322</td>\n",
       "    </tr>\n",
       "  </tbody>\n",
       "</table>\n",
       "</div>"
      ],
      "text/plain": [
       "   pid                                           vector_x  \\\n",
       "0    0  [0.267908, -0.0955344, -0.10118, -0.0556185, 0...   \n",
       "1    1  [0.23633, 0.100282, -0.113752, 0.139624, 0.218...   \n",
       "2    2  [-0.532338, -0.0369567, -0.130684, 0.183189, 0...   \n",
       "3    3  [-0.0021527, 0.0867196, 0.00909216, 0.0286029,...   \n",
       "4    4  [0.690951, 0.148918, 0.0675064, -0.0768607, 0....   \n",
       "\n",
       "                                            vector_y  is_duplicate  \\\n",
       "0  [0.191767, 0.0166993, -0.0327661, -0.0625783, ...             0   \n",
       "1  [0.142674, -0.192956, -0.0365042, -0.00100532,...             0   \n",
       "2  [-0.216235, -0.027894, -0.0838264, 0.0726645, ...             0   \n",
       "3  [0.0998014, 0.110679, -0.0399092, -0.0471708, ...             0   \n",
       "4  [-0.157396, -0.0319132, 0.0558307, 0.0341421, ...             0   \n",
       "\n",
       "   cosine_similarity  \n",
       "0           0.304468  \n",
       "1           0.549187  \n",
       "2           0.375429  \n",
       "3           0.183327  \n",
       "4           0.495322  "
      ]
     },
     "execution_count": 15,
     "metadata": {},
     "output_type": "execute_result"
    }
   ],
   "source": [
    "documents_train.head()"
   ]
  },
  {
   "cell_type": "code",
   "execution_count": 16,
   "metadata": {
    "collapsed": true
   },
   "outputs": [],
   "source": [
    "# Test\n",
    "documents_test = all_questions_df[all_questions_df['test'] == 1]\n",
    "documents_test = documents_test.merge(documents_test, on='pid', how='inner')\n",
    "documents_test = documents_test[(documents_test['qid_x'] != documents_test['qid_y']) & (documents_test['qid_x'] < documents_test['qid_y'])]\n",
    "documents_test = documents_test[['pid', 'vector_x', 'vector_y']]\n",
    "documents_test = documents_test.reset_index(drop=True)\n",
    "documents_test['cosine_similarity'] = documents_test.apply(lambda x: (1 - cosine(x['vector_x'], x['vector_y'])), axis=1)\n",
    "documents_test.to_pickle('./pickles.gi/dbow_vectors_cosine_similarity_test')"
   ]
  },
  {
   "cell_type": "code",
   "execution_count": 17,
   "metadata": {
    "collapsed": false
   },
   "outputs": [
    {
     "data": {
      "text/html": [
       "<div>\n",
       "<table border=\"1\" class=\"dataframe\">\n",
       "  <thead>\n",
       "    <tr style=\"text-align: right;\">\n",
       "      <th></th>\n",
       "      <th>pid</th>\n",
       "      <th>vector_x</th>\n",
       "      <th>vector_y</th>\n",
       "      <th>cosine_similarity</th>\n",
       "    </tr>\n",
       "  </thead>\n",
       "  <tbody>\n",
       "    <tr>\n",
       "      <th>0</th>\n",
       "      <td>0</td>\n",
       "      <td>[0.037997, 0.252992, 0.0104824, -0.0321285, 0....</td>\n",
       "      <td>[0.0416953, -0.192362, 0.05134, -0.318364, 0.1...</td>\n",
       "      <td>0.151364</td>\n",
       "    </tr>\n",
       "    <tr>\n",
       "      <th>1</th>\n",
       "      <td>1</td>\n",
       "      <td>[-0.219072, 0.000400307, 0.021056, -0.324568, ...</td>\n",
       "      <td>[0.0555762, -0.0338761, 0.118223, -0.0916486, ...</td>\n",
       "      <td>0.281057</td>\n",
       "    </tr>\n",
       "    <tr>\n",
       "      <th>2</th>\n",
       "      <td>2</td>\n",
       "      <td>[0.093416, -0.222189, -0.229785, -0.0479537, -...</td>\n",
       "      <td>[0.11058, -0.163763, -0.0781699, -0.158556, 0....</td>\n",
       "      <td>0.261138</td>\n",
       "    </tr>\n",
       "    <tr>\n",
       "      <th>3</th>\n",
       "      <td>3</td>\n",
       "      <td>[-0.189055, 0.098018, -0.322019, -0.229096, -0...</td>\n",
       "      <td>[-0.114543, -0.0186581, -0.149556, 0.0213385, ...</td>\n",
       "      <td>0.461827</td>\n",
       "    </tr>\n",
       "    <tr>\n",
       "      <th>4</th>\n",
       "      <td>4</td>\n",
       "      <td>[0.21405, -0.0372923, -0.0225445, 0.102477, 0....</td>\n",
       "      <td>[-0.0954036, -0.172726, -0.000439818, 0.023264...</td>\n",
       "      <td>0.425137</td>\n",
       "    </tr>\n",
       "  </tbody>\n",
       "</table>\n",
       "</div>"
      ],
      "text/plain": [
       "   pid                                           vector_x  \\\n",
       "0    0  [0.037997, 0.252992, 0.0104824, -0.0321285, 0....   \n",
       "1    1  [-0.219072, 0.000400307, 0.021056, -0.324568, ...   \n",
       "2    2  [0.093416, -0.222189, -0.229785, -0.0479537, -...   \n",
       "3    3  [-0.189055, 0.098018, -0.322019, -0.229096, -0...   \n",
       "4    4  [0.21405, -0.0372923, -0.0225445, 0.102477, 0....   \n",
       "\n",
       "                                            vector_y  cosine_similarity  \n",
       "0  [0.0416953, -0.192362, 0.05134, -0.318364, 0.1...           0.151364  \n",
       "1  [0.0555762, -0.0338761, 0.118223, -0.0916486, ...           0.281057  \n",
       "2  [0.11058, -0.163763, -0.0781699, -0.158556, 0....           0.261138  \n",
       "3  [-0.114543, -0.0186581, -0.149556, 0.0213385, ...           0.461827  \n",
       "4  [-0.0954036, -0.172726, -0.000439818, 0.023264...           0.425137  "
      ]
     },
     "execution_count": 17,
     "metadata": {},
     "output_type": "execute_result"
    }
   ],
   "source": [
    "documents_test.head()"
   ]
  },
  {
   "cell_type": "markdown",
   "metadata": {},
   "source": [
    "### Evaluation Metrics"
   ]
  },
  {
   "cell_type": "code",
   "execution_count": 18,
   "metadata": {
    "collapsed": true
   },
   "outputs": [],
   "source": [
    "def kfoldScore(results):\n",
    "    mean_score = results.mean()\n",
    "    std_dev = results.std()\n",
    "    std_error = results.std() / math.sqrt(results.shape[0])\n",
    "    ci =  2.262 * std_error\n",
    "    lower_bound = mean_score - ci\n",
    "    upper_bound = mean_score + ci\n",
    "    print (\"Score is %f +/-  %f\" % (mean_score, ci))\n",
    "    print ('95 percent probability that if this experiment were repeated over and over the average score would be between %f and %f' % (lower_bound, upper_bound))"
   ]
  },
  {
   "cell_type": "markdown",
   "metadata": {},
   "source": [
    "### Model Parameters"
   ]
  },
  {
   "cell_type": "code",
   "execution_count": 19,
   "metadata": {
    "collapsed": true
   },
   "outputs": [],
   "source": [
    "seed = 7\n",
    "kfold = model_selection.KFold(n_splits=10, random_state=seed)\n",
    "model = LogisticRegression()\n",
    "scoring = 'neg_log_loss'\n",
    "model = LogisticRegression()"
   ]
  },
  {
   "cell_type": "markdown",
   "metadata": {},
   "source": [
    "### Cosine Similarity Model"
   ]
  },
  {
   "cell_type": "code",
   "execution_count": 20,
   "metadata": {
    "collapsed": false
   },
   "outputs": [
    {
     "name": "stdout",
     "output_type": "stream",
     "text": [
      "Score is -0.640641 +/-  0.002441\n",
      "95 percent probability that if this experiment were repeated over and over the average score would be between -0.643083 and -0.638200\n"
     ]
    }
   ],
   "source": [
    "# Train-Test Split\n",
    "X_train_cs = documents_train['cosine_similarity'].values.reshape(-1,1)\n",
    "y_train_cs = documents_train['is_duplicate']\n",
    "X_test_cs = documents_test['cosine_similarity'].values.reshape(-1,1)\n",
    "\n",
    "# Kfold Cross Validation\n",
    "cross_val_scores_cs = model_selection.cross_val_score(model, X_train_cs, y_train_cs, cv=kfold, scoring=scoring)\n",
    "kfoldScore(cross_val_scores_cs)\n",
    "\n",
    "# Predict Outcome Probabilities\n",
    "model.fit(X_train_cs, y_train_cs)\n",
    "y_pred_test_cs = model.predict_proba(X_test_cs)\n",
    "\n",
    "# Create CSV\n",
    "submission_cs = documents_test['pid'].to_frame()\n",
    "submission_cs['is_duplicate'] =  pd.Series([row[1] for row in y_pred_test_cs])\n",
    "submission_cs.columns = ['test_id', 'is_duplicate']\n",
    "submission_cs.to_csv('./submission.gi/dbow_model_cosine_similarity.csv', index=False)"
   ]
  },
  {
   "cell_type": "code",
   "execution_count": null,
   "metadata": {
    "collapsed": true
   },
   "outputs": [],
   "source": []
  },
  {
   "cell_type": "code",
   "execution_count": null,
   "metadata": {
    "collapsed": true
   },
   "outputs": [],
   "source": []
  }
 ],
 "metadata": {
  "kernelspec": {
   "display_name": "Python 3",
   "language": "python",
   "name": "python3"
  },
  "language_info": {
   "codemirror_mode": {
    "name": "ipython",
    "version": 3
   },
   "file_extension": ".py",
   "mimetype": "text/x-python",
   "name": "python",
   "nbconvert_exporter": "python",
   "pygments_lexer": "ipython3",
   "version": "3.6.0"
  }
 },
 "nbformat": 4,
 "nbformat_minor": 2
}
